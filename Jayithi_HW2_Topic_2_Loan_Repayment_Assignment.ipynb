{
  "cells": [
    {
      "cell_type": "markdown",
      "metadata": {
        "id": "vdJ2E_GpWh_A",
        "papermill": {
          "duration": 0.021928,
          "end_time": "2020-09-08T03:15:55.361283",
          "exception": false,
          "start_time": "2020-09-08T03:15:55.339355",
          "status": "completed"
        },
        "tags": []
      },
      "source": [
        "# Predicting Loan Repayment-Jayithi Gavva\n",
        "\n",
        "\n",
        "The dataset for this project is retrieved from kaggle, the home of Data Science.\n",
        "\n",
        "The major aim of this project is to predict whether the customers will have their loan paid or not. Therefore, this is a supervised classification problem to be trained."
      ]
    },
    {
      "cell_type": "markdown",
      "metadata": {
        "id": "IFl_mj9SWh_G",
        "papermill": {
          "duration": 0.02001,
          "end_time": "2020-09-08T03:15:55.401984",
          "exception": false,
          "start_time": "2020-09-08T03:15:55.381974",
          "status": "completed"
        },
        "tags": []
      },
      "source": [
        "### **1- Importing Libraries**"
      ]
    },
    {
      "cell_type": "code",
      "execution_count": 213,
      "metadata": {
        "id": "RJf_vc5mXYOu"
      },
      "outputs": [],
      "source": [
        "# Import the following Libraries\n",
        "#numpy\n",
        "#pandas\n",
        "# matplotlib plotting software\n",
        "# seaborn \n",
        "# Make matplotlib available through all code boxes\n",
        "\n",
        "# From Sklearn you'll have to look up from where here. \n",
        "# Label Encoder, train test split, logisitic regression, confusion_matrix, classification_report,accuracy_score\n",
        "# DecisionTreeClassifier, RandomForestClassifier, KNeighborsClassifier,  SVC, GridSearchCV\n",
        "\n",
        "# Plotly Express\n",
        "\n",
        "import numpy as np\n",
        "import pandas as pd\n",
        "import matplotlib.pyplot as plt\n",
        "import seaborn as sns\n",
        "from sklearn.preprocessing import LabelEncoder\n",
        "from sklearn.model_selection import train_test_split, GridSearchCV\n",
        "from sklearn.linear_model import LogisticRegression\n",
        "from sklearn.tree import DecisionTreeClassifier\n",
        "from sklearn.ensemble import RandomForestClassifier\n",
        "from sklearn.neighbors import KNeighborsClassifier\n",
        "from sklearn.svm import SVC\n",
        "from sklearn.metrics import confusion_matrix, classification_report, accuracy_score\n",
        "import plotly.express as px"
      ]
    },
    {
      "cell_type": "markdown",
      "metadata": {
        "id": "T-E5wmDvWh_J",
        "papermill": {
          "duration": 0.0203,
          "end_time": "2020-09-08T03:15:58.543518",
          "exception": false,
          "start_time": "2020-09-08T03:15:58.523218",
          "status": "completed"
        },
        "tags": []
      },
      "source": [
        "### **2- Getting Data**"
      ]
    },
    {
      "cell_type": "code",
      "execution_count": 214,
      "metadata": {
        "execution": {
          "iopub.execute_input": "2020-09-08T03:15:58.596255Z",
          "iopub.status.busy": "2020-09-08T03:15:58.594912Z",
          "iopub.status.idle": "2020-09-08T03:15:58.615955Z",
          "shell.execute_reply": "2020-09-08T03:15:58.616654Z"
        },
        "id": "GAVriiMfWh_J",
        "papermill": {
          "duration": 0.052871,
          "end_time": "2020-09-08T03:15:58.616870",
          "exception": false,
          "start_time": "2020-09-08T03:15:58.563999",
          "status": "completed"
        },
        "tags": []
      },
      "outputs": [],
      "source": [
        "# read the data from the csv into a dataframe\n",
        "\n",
        "df = pd.read_csv(\"C:\\\\Users\\\\Tanish Reddy\\\\Desktop\\\\gooddatatset.csv\")"
      ]
    },
    {
      "cell_type": "code",
      "execution_count": 215,
      "metadata": {
        "id": "v_MnpyhgYe2D"
      },
      "outputs": [
        {
          "name": "stdout",
          "output_type": "stream",
          "text": [
            "    Loan_ID Gender Married Dependents     Education Self_Employed  \\\n",
            "0  LP001002   Male      No          0      Graduate            No   \n",
            "1  LP001003   Male     Yes          1      Graduate            No   \n",
            "2  LP001005   Male     Yes          0      Graduate           Yes   \n",
            "3  LP001006   Male     Yes          0  Not Graduate            No   \n",
            "\n",
            "   Applicant_Income  CoapplicantIncome  Loan_Amount  Loan_Amount_Term  \\\n",
            "0              5849                0.0          NaN             360.0   \n",
            "1              4583             1508.0        128.0             360.0   \n",
            "2              3000                0.0         66.0             360.0   \n",
            "3              2583             2358.0        120.0             360.0   \n",
            "\n",
            "   Credit_History Property_Area Loan_Status  \n",
            "0             1.0         Urban           Y  \n",
            "1             1.0         Rural           N  \n",
            "2             1.0         Urban           Y  \n",
            "3             1.0         Urban           Y  \n"
          ]
        }
      ],
      "source": [
        "# show the top 4 lines of the dataframe\n",
        "print(df.head(4))"
      ]
    },
    {
      "cell_type": "code",
      "execution_count": 216,
      "metadata": {
        "id": "5n1cMzdWYmZJ"
      },
      "outputs": [
        {
          "name": "stdout",
          "output_type": "stream",
          "text": [
            "Shape of the DataFrame: (614, 13)\n"
          ]
        }
      ],
      "source": [
        "# show the shape of the dataframe\n",
        "print(\"Shape of the DataFrame:\", df.shape)"
      ]
    },
    {
      "cell_type": "markdown",
      "metadata": {
        "id": "5SpbLalUWh_M",
        "papermill": {
          "duration": 0.02076,
          "end_time": "2020-09-08T03:15:58.836898",
          "exception": false,
          "start_time": "2020-09-08T03:15:58.816138",
          "status": "completed"
        },
        "tags": []
      },
      "source": [
        "##### 2-1-Renaming columns"
      ]
    },
    {
      "cell_type": "code",
      "execution_count": 217,
      "metadata": {
        "id": "bwXmuEzNYrie"
      },
      "outputs": [
        {
          "name": "stdout",
          "output_type": "stream",
          "text": [
            "    loan_id gender married dependents     education self_employed  \\\n",
            "0  LP001002   Male      No          0      Graduate            No   \n",
            "1  LP001003   Male     Yes          1      Graduate            No   \n",
            "2  LP001005   Male     Yes          0      Graduate           Yes   \n",
            "3  LP001006   Male     Yes          0  Not Graduate            No   \n",
            "4  LP001008   Male      No          0      Graduate            No   \n",
            "\n",
            "   applicant_income  coapplicantincome  loan_amount  loan_amount_term  \\\n",
            "0              5849                0.0          NaN             360.0   \n",
            "1              4583             1508.0        128.0             360.0   \n",
            "2              3000                0.0         66.0             360.0   \n",
            "3              2583             2358.0        120.0             360.0   \n",
            "4              6000                0.0        141.0             360.0   \n",
            "\n",
            "   credit_history property_area loan_status  \n",
            "0             1.0         Urban           Y  \n",
            "1             1.0         Rural           N  \n",
            "2             1.0         Urban           Y  \n",
            "3             1.0         Urban           Y  \n",
            "4             1.0         Urban           Y  \n"
          ]
        }
      ],
      "source": [
        "# rename all the columns as lowercase strings\n",
        "\n",
        "df.columns = df.columns.str.lower()\n",
        "print(df.head())"
      ]
    },
    {
      "cell_type": "code",
      "execution_count": 218,
      "metadata": {
        "id": "brnUDnNcZc4f"
      },
      "outputs": [
        {
          "name": "stdout",
          "output_type": "stream",
          "text": [
            "    loan_id gender married dependents     education self_employed  \\\n",
            "0  LP001002   Male      No          0      Graduate            No   \n",
            "1  LP001003   Male     Yes          1      Graduate            No   \n",
            "2  LP001005   Male     Yes          0      Graduate           Yes   \n",
            "3  LP001006   Male     Yes          0  Not Graduate            No   \n",
            "4  LP001008   Male      No          0      Graduate            No   \n",
            "\n",
            "   applicant_income  coapplicantincome  loan_amount  loan_amount_term  \\\n",
            "0              5849                0.0          NaN             360.0   \n",
            "1              4583             1508.0        128.0             360.0   \n",
            "2              3000                0.0         66.0             360.0   \n",
            "3              2583             2358.0        120.0             360.0   \n",
            "4              6000                0.0        141.0             360.0   \n",
            "\n",
            "   credit_history property_area loan_status  \n",
            "0             1.0         Urban           Y  \n",
            "1             1.0         Rural           N  \n",
            "2             1.0         Urban           Y  \n",
            "3             1.0         Urban           Y  \n",
            "4             1.0         Urban           Y  \n"
          ]
        }
      ],
      "source": [
        "# rename all the columns so that they all have _ in between any column head with two or more words\n",
        "df.columns = df.columns.str.replace(' ', '_')\n",
        "print(df.head())\n"
      ]
    },
    {
      "cell_type": "markdown",
      "metadata": {
        "id": "ijuPuoFlWh_O",
        "papermill": {
          "duration": 0.0218,
          "end_time": "2020-09-08T03:15:58.989112",
          "exception": false,
          "start_time": "2020-09-08T03:15:58.967312",
          "status": "completed"
        },
        "tags": []
      },
      "source": [
        "##### 2-2-Checking null values"
      ]
    },
    {
      "cell_type": "code",
      "execution_count": 219,
      "metadata": {
        "id": "Fsp_w-9OZmGr"
      },
      "outputs": [
        {
          "name": "stdout",
          "output_type": "stream",
          "text": [
            "loan_id               0\n",
            "gender               13\n",
            "married               3\n",
            "dependents           15\n",
            "education             0\n",
            "self_employed        32\n",
            "applicant_income      0\n",
            "coapplicantincome     0\n",
            "loan_amount          22\n",
            "loan_amount_term     14\n",
            "credit_history       50\n",
            "property_area         0\n",
            "loan_status           0\n",
            "dtype: int64\n"
          ]
        }
      ],
      "source": [
        "# Check all the columns to see if they have null values (NaN) and sum them\n",
        "null_values_sum = df.isnull().sum()\n",
        "print(null_values_sum)"
      ]
    },
    {
      "cell_type": "markdown",
      "metadata": {
        "id": "7xm8-x-FWh_P",
        "papermill": {
          "duration": 0.021552,
          "end_time": "2020-09-08T03:15:59.091701",
          "exception": false,
          "start_time": "2020-09-08T03:15:59.070149",
          "status": "completed"
        },
        "tags": []
      },
      "source": [
        "we take care of missing values in \"loan_amount\" and \"credit_history\".\n",
        "For other null values, we either delete a particular row if it has a null value for a particular feature and a particular column if it has more than 70-75% of missing values. This method is advised only when there are enough samples in the data set. "
      ]
    },
    {
      "cell_type": "code",
      "execution_count": 220,
      "metadata": {
        "id": "EEBm3PquZ8vm"
      },
      "outputs": [
        {
          "name": "stdout",
          "output_type": "stream",
          "text": [
            "    loan_id gender married dependents     education self_employed  \\\n",
            "0  LP001002   Male      No          0      Graduate            No   \n",
            "1  LP001003   Male     Yes          1      Graduate            No   \n",
            "2  LP001005   Male     Yes          0      Graduate           Yes   \n",
            "3  LP001006   Male     Yes          0  Not Graduate            No   \n",
            "4  LP001008   Male      No          0      Graduate            No   \n",
            "\n",
            "   applicant_income  coapplicantincome  loan_amount  loan_amount_term  \\\n",
            "0              5849                0.0   146.412162             360.0   \n",
            "1              4583             1508.0   128.000000             360.0   \n",
            "2              3000                0.0    66.000000             360.0   \n",
            "3              2583             2358.0   120.000000             360.0   \n",
            "4              6000                0.0   141.000000             360.0   \n",
            "\n",
            "   credit_history property_area loan_status  \n",
            "0             1.0         Urban           Y  \n",
            "1             1.0         Rural           N  \n",
            "2             1.0         Urban           Y  \n",
            "3             1.0         Urban           Y  \n",
            "4             1.0         Urban           Y  \n"
          ]
        }
      ],
      "source": [
        "# fill the null values in the loan amount column with the mean of the loan amount  column\n",
        "df['loan_amount']=df['loan_amount'].fillna(df['loan_amount'].mean())   \n",
        "print(df.head())\n"
      ]
    },
    {
      "cell_type": "code",
      "execution_count": 221,
      "metadata": {
        "id": "FIsd_oQ6aHEy"
      },
      "outputs": [
        {
          "name": "stdout",
          "output_type": "stream",
          "text": [
            "    loan_id gender married dependents     education self_employed  \\\n",
            "0  LP001002   Male      No          0      Graduate            No   \n",
            "1  LP001003   Male     Yes          1      Graduate            No   \n",
            "2  LP001005   Male     Yes          0      Graduate           Yes   \n",
            "3  LP001006   Male     Yes          0  Not Graduate            No   \n",
            "4  LP001008   Male      No          0      Graduate            No   \n",
            "\n",
            "   applicant_income  coapplicantincome  loan_amount  loan_amount_term  \\\n",
            "0              5849                0.0   146.412162             360.0   \n",
            "1              4583             1508.0   128.000000             360.0   \n",
            "2              3000                0.0    66.000000             360.0   \n",
            "3              2583             2358.0   120.000000             360.0   \n",
            "4              6000                0.0   141.000000             360.0   \n",
            "\n",
            "   credit_history property_area loan_status  \n",
            "0             1.0         Urban           Y  \n",
            "1             1.0         Rural           N  \n",
            "2             1.0         Urban           Y  \n",
            "3             1.0         Urban           Y  \n",
            "4             1.0         Urban           Y  \n"
          ]
        }
      ],
      "source": [
        "# fill the null values in the  credit history column with the median of the credit history column\n",
        "df['credit_history'] = df['credit_history'].fillna(df['credit_history'].median())\n",
        "print(df.head())"
      ]
    },
    {
      "cell_type": "code",
      "execution_count": 222,
      "metadata": {
        "execution": {
          "iopub.execute_input": "2020-09-08T03:15:59.253265Z",
          "iopub.status.busy": "2020-09-08T03:15:59.252455Z",
          "iopub.status.idle": "2020-09-08T03:15:59.289669Z",
          "shell.execute_reply": "2020-09-08T03:15:59.288991Z"
        },
        "id": "zTDC0GWGWh_Q",
        "papermill": {
          "duration": 0.068028,
          "end_time": "2020-09-08T03:15:59.289838",
          "exception": false,
          "start_time": "2020-09-08T03:15:59.221810",
          "status": "completed"
        },
        "tags": []
      },
      "outputs": [],
      "source": [
        "df.dropna(axis=0, inplace=True)\n",
        "\n",
        "# write down what this code does\n",
        "#This code cleans the DataFrame by removing any rows with missing data, ensuring that only complete rows remain."
      ]
    },
    {
      "cell_type": "markdown",
      "metadata": {
        "id": "LSAnzVlsaY6_"
      },
      "source": []
    },
    {
      "cell_type": "code",
      "execution_count": 223,
      "metadata": {
        "id": "55gRaRUPaiw_"
      },
      "outputs": [
        {
          "name": "stdout",
          "output_type": "stream",
          "text": [
            "loan_id              0\n",
            "gender               0\n",
            "married              0\n",
            "dependents           0\n",
            "education            0\n",
            "self_employed        0\n",
            "applicant_income     0\n",
            "coapplicantincome    0\n",
            "loan_amount          0\n",
            "loan_amount_term     0\n",
            "credit_history       0\n",
            "property_area        0\n",
            "loan_status          0\n",
            "dtype: int64\n"
          ]
        }
      ],
      "source": [
        "# prove there are no more null values in the columns using the same command as above\n",
        "null_values_sum = df.isnull().sum()\n",
        "print(null_values_sum)"
      ]
    },
    {
      "cell_type": "code",
      "execution_count": 224,
      "metadata": {
        "id": "ePeUVyJNaq50"
      },
      "outputs": [
        {
          "name": "stdout",
          "output_type": "stream",
          "text": [
            "    loan_id gender married dependents     education self_employed  \\\n",
            "0  LP001002   Male      No          0      Graduate            No   \n",
            "1  LP001003   Male     Yes          1      Graduate            No   \n",
            "2  LP001005   Male     Yes          0      Graduate           Yes   \n",
            "3  LP001006   Male     Yes          0  Not Graduate            No   \n",
            "\n",
            "   applicant_income  coapplicantincome  loan_amount  loan_amount_term  \\\n",
            "0              5849                0.0   146.412162             360.0   \n",
            "1              4583             1508.0   128.000000             360.0   \n",
            "2              3000                0.0    66.000000             360.0   \n",
            "3              2583             2358.0   120.000000             360.0   \n",
            "\n",
            "   credit_history property_area loan_status  \n",
            "0             1.0         Urban           Y  \n",
            "1             1.0         Rural           N  \n",
            "2             1.0         Urban           Y  \n",
            "3             1.0         Urban           Y  \n"
          ]
        }
      ],
      "source": [
        "# show the top 4 lines of the dataframe\n",
        "print(df.head(4))"
      ]
    },
    {
      "cell_type": "code",
      "execution_count": 225,
      "metadata": {
        "id": "wCkCgRizatCi"
      },
      "outputs": [
        {
          "name": "stdout",
          "output_type": "stream",
          "text": [
            "Shape of the DataFrame: (542, 13)\n"
          ]
        }
      ],
      "source": [
        "# show the new shape of the dataframe\n",
        "print(\"Shape of the DataFrame:\", df.shape)"
      ]
    },
    {
      "cell_type": "code",
      "execution_count": 226,
      "metadata": {
        "id": "5fz-IQ5_azNG"
      },
      "outputs": [
        {
          "name": "stdout",
          "output_type": "stream",
          "text": [
            "<class 'pandas.core.frame.DataFrame'>\n",
            "Index: 542 entries, 0 to 613\n",
            "Data columns (total 13 columns):\n",
            " #   Column             Non-Null Count  Dtype  \n",
            "---  ------             --------------  -----  \n",
            " 0   loan_id            542 non-null    object \n",
            " 1   gender             542 non-null    object \n",
            " 2   married            542 non-null    object \n",
            " 3   dependents         542 non-null    object \n",
            " 4   education          542 non-null    object \n",
            " 5   self_employed      542 non-null    object \n",
            " 6   applicant_income   542 non-null    int64  \n",
            " 7   coapplicantincome  542 non-null    float64\n",
            " 8   loan_amount        542 non-null    float64\n",
            " 9   loan_amount_term   542 non-null    float64\n",
            " 10  credit_history     542 non-null    float64\n",
            " 11  property_area      542 non-null    object \n",
            " 12  loan_status        542 non-null    object \n",
            "dtypes: float64(4), int64(1), object(8)\n",
            "memory usage: 59.3+ KB\n",
            "None\n"
          ]
        }
      ],
      "source": [
        "# show the information/ statistics on this dataframe\n",
        "print(df.info())"
      ]
    },
    {
      "cell_type": "code",
      "execution_count": 227,
      "metadata": {
        "id": "jYaCsmjQa6a2"
      },
      "outputs": [
        {
          "name": "stdout",
          "output_type": "stream",
          "text": [
            "       applicant_income  coapplicantincome  loan_amount  loan_amount_term  \\\n",
            "count        542.000000         542.000000   542.000000        542.000000   \n",
            "mean        5291.911439        1590.699114   145.518139        341.955720   \n",
            "std         5506.461371        2543.801628    81.749385         65.441582   \n",
            "min          150.000000           0.000000     9.000000         12.000000   \n",
            "25%         2843.750000           0.000000   100.000000        360.000000   \n",
            "50%         3848.000000        1149.000000   129.500000        360.000000   \n",
            "75%         5820.500000        2281.000000   167.750000        360.000000   \n",
            "max        81000.000000       33837.000000   650.000000        480.000000   \n",
            "\n",
            "       credit_history  \n",
            "count      542.000000  \n",
            "mean         0.863469  \n",
            "std          0.343669  \n",
            "min          0.000000  \n",
            "25%          1.000000  \n",
            "50%          1.000000  \n",
            "75%          1.000000  \n",
            "max          1.000000  \n"
          ]
        }
      ],
      "source": [
        "# get statiscal information on the data frame like count/mean/standard deviation etc\n",
        "print(df.describe())"
      ]
    },
    {
      "cell_type": "markdown",
      "metadata": {
        "id": "5FcvmxBwWh_T",
        "papermill": {
          "duration": 0.024751,
          "end_time": "2020-09-08T03:15:59.689267",
          "exception": false,
          "start_time": "2020-09-08T03:15:59.664516",
          "status": "completed"
        },
        "tags": []
      },
      "source": [
        "##### 2-3-Label Encoder for Dependents"
      ]
    },
    {
      "cell_type": "code",
      "execution_count": 228,
      "metadata": {
        "execution": {
          "iopub.execute_input": "2020-09-08T03:15:59.742308Z",
          "iopub.status.busy": "2020-09-08T03:15:59.741262Z",
          "iopub.status.idle": "2020-09-08T03:15:59.746797Z",
          "shell.execute_reply": "2020-09-08T03:15:59.746101Z"
        },
        "id": "tm2At81VWh_T",
        "outputId": "639e4deb-48e5-47fc-b0dc-1075f00e19b1",
        "papermill": {
          "duration": 0.034653,
          "end_time": "2020-09-08T03:15:59.746933",
          "exception": false,
          "start_time": "2020-09-08T03:15:59.712280",
          "status": "completed"
        },
        "tags": []
      },
      "outputs": [
        {
          "data": {
            "text/plain": [
              "str"
            ]
          },
          "execution_count": 228,
          "metadata": {},
          "output_type": "execute_result"
        }
      ],
      "source": [
        "type(df['dependents'].iloc[0])"
      ]
    },
    {
      "cell_type": "code",
      "execution_count": 229,
      "metadata": {
        "execution": {
          "iopub.execute_input": "2020-09-08T03:15:59.801541Z",
          "iopub.status.busy": "2020-09-08T03:15:59.800397Z",
          "iopub.status.idle": "2020-09-08T03:15:59.804824Z",
          "shell.execute_reply": "2020-09-08T03:15:59.805505Z"
        },
        "id": "tc7NGzeSWh_T",
        "outputId": "e0be203d-7a92-45a9-cbed-95e4e90ef229",
        "papermill": {
          "duration": 0.035452,
          "end_time": "2020-09-08T03:15:59.805675",
          "exception": false,
          "start_time": "2020-09-08T03:15:59.770223",
          "status": "completed"
        },
        "tags": []
      },
      "outputs": [
        {
          "data": {
            "text/plain": [
              "array(['0', '1', '2', '3+'], dtype=object)"
            ]
          },
          "execution_count": 229,
          "metadata": {},
          "output_type": "execute_result"
        }
      ],
      "source": [
        "df['dependents'].unique()"
      ]
    },
    {
      "cell_type": "code",
      "execution_count": 230,
      "metadata": {
        "execution": {
          "iopub.execute_input": "2020-09-08T03:15:59.859345Z",
          "iopub.status.busy": "2020-09-08T03:15:59.858497Z",
          "iopub.status.idle": "2020-09-08T03:15:59.862150Z",
          "shell.execute_reply": "2020-09-08T03:15:59.861333Z"
        },
        "id": "J2r3pl1QWh_U",
        "papermill": {
          "duration": 0.032559,
          "end_time": "2020-09-08T03:15:59.862281",
          "exception": false,
          "start_time": "2020-09-08T03:15:59.829722",
          "status": "completed"
        },
        "tags": []
      },
      "outputs": [],
      "source": [
        "model6=LabelEncoder()"
      ]
    },
    {
      "cell_type": "code",
      "execution_count": 231,
      "metadata": {
        "execution": {
          "iopub.execute_input": "2020-09-08T03:15:59.915463Z",
          "iopub.status.busy": "2020-09-08T03:15:59.914653Z",
          "iopub.status.idle": "2020-09-08T03:15:59.921627Z",
          "shell.execute_reply": "2020-09-08T03:15:59.922176Z"
        },
        "id": "0wNuPUDxWh_U",
        "outputId": "6c514371-6b51-4cb8-8970-3f197616eb2d",
        "papermill": {
          "duration": 0.036395,
          "end_time": "2020-09-08T03:15:59.922345",
          "exception": false,
          "start_time": "2020-09-08T03:15:59.885950",
          "status": "completed"
        },
        "tags": []
      },
      "outputs": [
        {
          "data": {
            "text/html": [
              "<style>#sk-container-id-33 {color: black;background-color: white;}#sk-container-id-33 pre{padding: 0;}#sk-container-id-33 div.sk-toggleable {background-color: white;}#sk-container-id-33 label.sk-toggleable__label {cursor: pointer;display: block;width: 100%;margin-bottom: 0;padding: 0.3em;box-sizing: border-box;text-align: center;}#sk-container-id-33 label.sk-toggleable__label-arrow:before {content: \"▸\";float: left;margin-right: 0.25em;color: #696969;}#sk-container-id-33 label.sk-toggleable__label-arrow:hover:before {color: black;}#sk-container-id-33 div.sk-estimator:hover label.sk-toggleable__label-arrow:before {color: black;}#sk-container-id-33 div.sk-toggleable__content {max-height: 0;max-width: 0;overflow: hidden;text-align: left;background-color: #f0f8ff;}#sk-container-id-33 div.sk-toggleable__content pre {margin: 0.2em;color: black;border-radius: 0.25em;background-color: #f0f8ff;}#sk-container-id-33 input.sk-toggleable__control:checked~div.sk-toggleable__content {max-height: 200px;max-width: 100%;overflow: auto;}#sk-container-id-33 input.sk-toggleable__control:checked~label.sk-toggleable__label-arrow:before {content: \"▾\";}#sk-container-id-33 div.sk-estimator input.sk-toggleable__control:checked~label.sk-toggleable__label {background-color: #d4ebff;}#sk-container-id-33 div.sk-label input.sk-toggleable__control:checked~label.sk-toggleable__label {background-color: #d4ebff;}#sk-container-id-33 input.sk-hidden--visually {border: 0;clip: rect(1px 1px 1px 1px);clip: rect(1px, 1px, 1px, 1px);height: 1px;margin: -1px;overflow: hidden;padding: 0;position: absolute;width: 1px;}#sk-container-id-33 div.sk-estimator {font-family: monospace;background-color: #f0f8ff;border: 1px dotted black;border-radius: 0.25em;box-sizing: border-box;margin-bottom: 0.5em;}#sk-container-id-33 div.sk-estimator:hover {background-color: #d4ebff;}#sk-container-id-33 div.sk-parallel-item::after {content: \"\";width: 100%;border-bottom: 1px solid gray;flex-grow: 1;}#sk-container-id-33 div.sk-label:hover label.sk-toggleable__label {background-color: #d4ebff;}#sk-container-id-33 div.sk-serial::before {content: \"\";position: absolute;border-left: 1px solid gray;box-sizing: border-box;top: 0;bottom: 0;left: 50%;z-index: 0;}#sk-container-id-33 div.sk-serial {display: flex;flex-direction: column;align-items: center;background-color: white;padding-right: 0.2em;padding-left: 0.2em;position: relative;}#sk-container-id-33 div.sk-item {position: relative;z-index: 1;}#sk-container-id-33 div.sk-parallel {display: flex;align-items: stretch;justify-content: center;background-color: white;position: relative;}#sk-container-id-33 div.sk-item::before, #sk-container-id-33 div.sk-parallel-item::before {content: \"\";position: absolute;border-left: 1px solid gray;box-sizing: border-box;top: 0;bottom: 0;left: 50%;z-index: -1;}#sk-container-id-33 div.sk-parallel-item {display: flex;flex-direction: column;z-index: 1;position: relative;background-color: white;}#sk-container-id-33 div.sk-parallel-item:first-child::after {align-self: flex-end;width: 50%;}#sk-container-id-33 div.sk-parallel-item:last-child::after {align-self: flex-start;width: 50%;}#sk-container-id-33 div.sk-parallel-item:only-child::after {width: 0;}#sk-container-id-33 div.sk-dashed-wrapped {border: 1px dashed gray;margin: 0 0.4em 0.5em 0.4em;box-sizing: border-box;padding-bottom: 0.4em;background-color: white;}#sk-container-id-33 div.sk-label label {font-family: monospace;font-weight: bold;display: inline-block;line-height: 1.2em;}#sk-container-id-33 div.sk-label-container {text-align: center;}#sk-container-id-33 div.sk-container {/* jupyter's `normalize.less` sets `[hidden] { display: none; }` but bootstrap.min.css set `[hidden] { display: none !important; }` so we also need the `!important` here to be able to override the default hidden behavior on the sphinx rendered scikit-learn.org. See: https://github.com/scikit-learn/scikit-learn/issues/21755 */display: inline-block !important;position: relative;}#sk-container-id-33 div.sk-text-repr-fallback {display: none;}</style><div id=\"sk-container-id-33\" class=\"sk-top-container\"><div class=\"sk-text-repr-fallback\"><pre>LabelEncoder()</pre><b>In a Jupyter environment, please rerun this cell to show the HTML representation or trust the notebook. <br />On GitHub, the HTML representation is unable to render, please try loading this page with nbviewer.org.</b></div><div class=\"sk-container\" hidden><div class=\"sk-item\"><div class=\"sk-estimator sk-toggleable\"><input class=\"sk-toggleable__control sk-hidden--visually\" id=\"sk-estimator-id-33\" type=\"checkbox\" checked><label for=\"sk-estimator-id-33\" class=\"sk-toggleable__label sk-toggleable__label-arrow\">LabelEncoder</label><div class=\"sk-toggleable__content\"><pre>LabelEncoder()</pre></div></div></div></div></div>"
            ],
            "text/plain": [
              "LabelEncoder()"
            ]
          },
          "execution_count": 231,
          "metadata": {},
          "output_type": "execute_result"
        }
      ],
      "source": [
        "model6.fit(df['dependents'])"
      ]
    },
    {
      "cell_type": "code",
      "execution_count": 232,
      "metadata": {
        "execution": {
          "iopub.execute_input": "2020-09-08T03:15:59.976684Z",
          "iopub.status.busy": "2020-09-08T03:15:59.975944Z",
          "iopub.status.idle": "2020-09-08T03:15:59.979542Z",
          "shell.execute_reply": "2020-09-08T03:15:59.978814Z"
        },
        "id": "EXwFZ6vWWh_U",
        "papermill": {
          "duration": 0.033869,
          "end_time": "2020-09-08T03:15:59.979667",
          "exception": false,
          "start_time": "2020-09-08T03:15:59.945798",
          "status": "completed"
        },
        "tags": []
      },
      "outputs": [],
      "source": [
        "df['dependents']= model6.transform(df['dependents'])"
      ]
    },
    {
      "cell_type": "markdown",
      "metadata": {
        "id": "-7WrPyM7bJqh"
      },
      "source": [
        "Explain what they are doing in this section\n",
        "\n",
        "1. **`type(df['dependents'].iloc[0])`**: Checks the data type of the first entry in the `'dependents'` column.\n",
        "\n",
        "2. **`df['dependents'].unique()`**: Lists unique values in the `'dependents'` column.\n",
        "\n",
        "3. **`model6 = LabelEncoder()`**: Creates a `LabelEncoder` instance for encoding categorical data.\n",
        "\n",
        "4. **`model6.fit(df['dependents'])`**: Fits the encoder to the unique values in the `'dependents'` column.\n",
        "\n",
        "5. **`df['dependents'] = model6.transform(df['dependents'])`**: Transforms the categorical values in the `'dependents'` column to numerical values."
      ]
    },
    {
      "cell_type": "markdown",
      "metadata": {
        "id": "3_0lq1CVWh_U",
        "papermill": {
          "duration": 0.02391,
          "end_time": "2020-09-08T03:16:00.027992",
          "exception": false,
          "start_time": "2020-09-08T03:16:00.004082",
          "status": "completed"
        },
        "tags": []
      },
      "source": [
        "### 3-Exploratory Data Analysis"
      ]
    },
    {
      "cell_type": "markdown",
      "metadata": {
        "id": "8Hdz0qFFWh_V",
        "papermill": {
          "duration": 0.024019,
          "end_time": "2020-09-08T03:16:00.076251",
          "exception": false,
          "start_time": "2020-09-08T03:16:00.052232",
          "status": "completed"
        },
        "tags": []
      },
      "source": [
        "##### 3-1- Visualization"
      ]
    },
    {
      "cell_type": "code",
      "execution_count": 233,
      "metadata": {
        "id": "IjEeEU5dbVcq"
      },
      "outputs": [
        {
          "name": "stdout",
          "output_type": "stream",
          "text": [
            "Count of 'Y' in 'Loan Status': 376\n"
          ]
        }
      ],
      "source": [
        "# get the counts of Loan statuses with \"Y\" in the column\n",
        "count_y = df['loan_status'].value_counts().get('Y', 0)\n",
        "print(\"Count of 'Y' in 'Loan Status':\", count_y)"
      ]
    },
    {
      "cell_type": "code",
      "execution_count": 234,
      "metadata": {
        "id": "uv7tlCQDbhFZ"
      },
      "outputs": [
        {
          "name": "stdout",
          "output_type": "stream",
          "text": [
            "Count of 'N' in 'loan_status': 166\n"
          ]
        }
      ],
      "source": [
        "# get the counts of Loan statuses with \"N\" in the column\n",
        "count_n = df['loan_status'].value_counts().get('N', 0)\n",
        "print(\"Count of 'N' in 'loan_status':\", count_n)"
      ]
    },
    {
      "cell_type": "code",
      "execution_count": 235,
      "metadata": {
        "id": "j2oxNBWobkJi"
      },
      "outputs": [
        {
          "data": {
            "image/png": "[encoded data removed]",
            "text/plain": [
              "<Figure size 800x600 with 1 Axes>"
            ]
          },
          "metadata": {},
          "output_type": "display_data"
        }
      ],
      "source": [
        "# make a pie plot that shows the distrubution of Y loans and N loans\n",
        "# this plot should have a title, different colors, the percentages inside the sections \n",
        "labels = ['Y', 'N']\n",
        "sizes = [count_y, count_n]\n",
        "colors = ['Blue', 'Red']\n",
        "plt.figure(figsize=(8, 6))\n",
        "plt.pie(sizes, labels=labels, colors=colors, autopct='%1.1f%%', startangle=140)\n",
        "plt.title('Distribution of Loan Statuses')\n",
        "plt.show()"
      ]
    },
    {
      "cell_type": "markdown",
      "metadata": {
        "id": "nIM4cEjkWh_V",
        "papermill": {
          "duration": 0.027202,
          "end_time": "2020-09-08T03:16:00.477382",
          "exception": false,
          "start_time": "2020-09-08T03:16:00.450180",
          "status": "completed"
        },
        "tags": []
      },
      "source": [
        "69.4% of applicants repay the loan and 30.6% do not repay the loan."
      ]
    },
    {
      "cell_type": "code",
      "execution_count": 236,
      "metadata": {
        "id": "FLkEIbdTb9cL"
      },
      "outputs": [
        {
          "data": {
            "image/png": "[encoded data removed]",
            "text/plain": [
              "<Figure size 1500x1000 with 6 Axes>"
            ]
          },
          "metadata": {},
          "output_type": "display_data"
        }
      ],
      "source": [
        "# make six bar charts that create the basica comparisons listed below\n",
        "# each should have legends, and as different colors as possible.\n",
        "# Plots 1 and 4 should have y labels and ticks while the rest of them should not\n",
        "# Data for each plot\n",
        "plot_data = {\n",
        "    'Gender Distribution': df['gender'].value_counts(),\n",
        "    'Married Status Distribution': df['married'].value_counts(),\n",
        "    'Education Level Distribution': df['education'].value_counts(),\n",
        "    'Self Employed Distribution': df['self_employed'].value_counts(),\n",
        "    'Credit History Distribution': df['credit_history'].value_counts(),\n",
        "    'Property Area Distribution': df['property_area'].value_counts()\n",
        "}\n",
        "\n",
        "# Create a figure and subplots\n",
        "plt.figure(figsize=(15, 10))\n",
        "\n",
        "# Plot 1: Gender Distribution\n",
        "plt.subplot(2, 3, 1)\n",
        "plot_data['Gender Distribution'].plot(kind='bar', color=['lightpink', 'lightblue'])\n",
        "plt.title('Gender Distribution')\n",
        "plt.xlabel('Gender')\n",
        "plt.ylabel('Count')\n",
        "plt.xticks(rotation=0)\n",
        "plt.legend(['Male', 'Female'], loc='best')\n",
        "\n",
        "# Plot 2: Married Status Distribution\n",
        "plt.subplot(2, 3, 2)\n",
        "plot_data['Married Status Distribution'].plot(kind='bar', color=['lightgreen', 'peachpuff'])\n",
        "plt.title('Married Status Distribution')\n",
        "plt.xlabel('Marital Status')\n",
        "plt.xticks(rotation=0)\n",
        "plt.legend(['Married', 'Not Married'], loc='best')\n",
        "\n",
        "# Plot 3: Education Level Distribution\n",
        "plt.subplot(2, 3, 3)\n",
        "plot_data['Education Level Distribution'].plot(kind='bar', color=['lightpink', 'lightblue'])\n",
        "plt.title('Education Level Distribution')\n",
        "plt.xlabel('Education Level')\n",
        "plt.xticks(rotation=0)\n",
        "plt.legend(['Graduate', 'Not Graduate'], loc='best')\n",
        "\n",
        "# Plot 4: Self Employed Distribution\n",
        "plt.subplot(2, 3, 4)\n",
        "plot_data['Self Employed Distribution'].plot(kind='bar', color=['lightpink', 'lightblue'])\n",
        "plt.title('Self Employed Distribution')\n",
        "plt.xlabel('Self Employed')\n",
        "plt.ylabel('Count')\n",
        "plt.xticks(rotation=0)\n",
        "plt.legend(['Self Employed', 'Not Self Employed'], loc='best')\n",
        "\n",
        "# Plot 5: Credit History Distribution\n",
        "plt.subplot(2, 3, 5)\n",
        "plot_data['Credit History Distribution'].plot(kind='bar', color=['lightgreen', 'peachpuff'])\n",
        "plt.title('Credit History Distribution')\n",
        "plt.xlabel('Credit History')\n",
        "plt.xticks(rotation=0)\n",
        "plt.legend(['Has Credit History', 'No Credit History'], loc='best')\n",
        "\n",
        "# Plot 6: Property Area Distribution\n",
        "plt.subplot(2, 3, 6)\n",
        "plot_data['Property Area Distribution'].plot(kind='bar', color=['lightpink', 'lightblue', 'lightgreen'])\n",
        "plt.title('Property Area Distribution')\n",
        "plt.xlabel('Property Area')\n",
        "plt.xticks(rotation=0)\n",
        "plt.legend(['Urban', 'Semiurban', 'Rural'], loc='best')\n",
        "\n",
        "# Adjust layout and display\n",
        "plt.tight_layout()\n",
        "plt.show()\n",
        "\n"
      ]
    },
    {
      "cell_type": "markdown",
      "metadata": {
        "id": "jViBM4nKWh_W",
        "papermill": {
          "duration": 0.025504,
          "end_time": "2020-09-08T03:16:01.381656",
          "exception": false,
          "start_time": "2020-09-08T03:16:01.356152",
          "status": "completed"
        },
        "tags": []
      },
      "source": [
        "Comparison between Genders in getting the Loan shows that a Male Individual has more chance of repaying the Loan.\n",
        "\n",
        "Comparison between Married Status in getting the Loan shows that a Married Individual has more chance of repaying the Loan.\n",
        "   \n",
        "Comparison between Education Status of an Individual in getting the Loan shows that a Graduate Individual has more chance of repaying the Loan.\n",
        "    \n",
        "Comparison between Self-Employed or Not in getting the Loan shows that Not Self-Employed has more chance of repaying the Loan.\n",
        "\n",
        "Comparison between Credit History for getting the Loan shows that an individual with a credit history has more chance of repaying the Loan.\n",
        "    \n",
        "Comparison between Property Area for getting the Loan shows that People living in Semi-Urban Area have more chance to repay the Loan."
      ]
    },
    {
      "cell_type": "code",
      "execution_count": 237,
      "metadata": {
        "execution": {
          "iopub.execute_input": "2020-09-08T03:16:01.441150Z",
          "iopub.status.busy": "2020-09-08T03:16:01.440328Z",
          "iopub.status.idle": "2020-09-08T03:16:03.154754Z",
          "shell.execute_reply": "2020-09-08T03:16:03.153921Z"
        },
        "id": "6NdD4okmWh_X",
        "papermill": {
          "duration": 1.7457,
          "end_time": "2020-09-08T03:16:03.154913",
          "exception": false,
          "start_time": "2020-09-08T03:16:01.409213",
          "status": "completed"
        },
        "tags": []
      },
      "outputs": [
        {
          "data": {
            "application/vnd.plotly.v1+json": {
              "config": {
                "plotlyServerURL": "https://plot.ly"
              },
              "data": [
                {
                  "branchvalues": "total",
                  "customdata": [
                    [
                      123.37612612612612
                    ],
                    [
                      160.29856736435684
                    ],
                    [
                      127.77557172557172
                    ],
                    [
                      145.2549752324672
                    ],
                    [
                      126.29412575841147
                    ],
                    [
                      149.76127647918187
                    ]
                  ],
                  "domain": {
                    "x": [
                      0,
                      1
                    ],
                    "y": [
                      0,
                      1
                    ]
                  },
                  "hovertemplate": "labels=%{label}<br>count=%{value}<br>parent=%{parent}<br>id=%{id}<br>loan_amount=%{color}<extra></extra>",
                  "ids": [
                    "Female/N",
                    "Male/N",
                    "Female/Y",
                    "Male/Y",
                    "Female",
                    "Male"
                  ],
                  "insidetextorientation": "horizontal",
                  "labels": [
                    "N",
                    "N",
                    "Y",
                    "Y",
                    "Female",
                    "Male"
                  ],
                  "marker": {
                    "coloraxis": "coloraxis",
                    "colors": [
                      123.37612612612612,
                      160.29856736435684,
                      127.77557172557172,
                      145.2549752324672,
                      126.29412575841147,
                      149.76127647918187
                    ]
                  },
                  "name": "",
                  "parents": [
                    "Female",
                    "Male",
                    "Female",
                    "Male",
                    "",
                    ""
                  ],
                  "textinfo": "label+percent entry",
                  "type": "sunburst",
                  "values": [
                    33,
                    133,
                    65,
                    311,
                    98,
                    444
                  ]
                }
              ],
              "layout": {
                "coloraxis": {
                  "colorbar": {
                    "title": {
                      "text": "loan_amount"
                    }
                  },
                  "colorscale": [
                    [
                      0,
                      "#0d0887"
                    ],
                    [
                      0.1111111111111111,
                      "#46039f"
                    ],
                    [
                      0.2222222222222222,
                      "#7201a8"
                    ],
                    [
                      0.3333333333333333,
                      "#9c179e"
                    ],
                    [
                      0.4444444444444444,
                      "#bd3786"
                    ],
                    [
                      0.5555555555555556,
                      "#d8576b"
                    ],
                    [
                      0.6666666666666666,
                      "#ed7953"
                    ],
                    [
                      0.7777777777777778,
                      "#fb9f3a"
                    ],
                    [
                      0.8888888888888888,
                      "#fdca26"
                    ],
                    [
                      1,
                      "#f0f921"
                    ]
                  ]
                },
                "legend": {
                  "tracegroupgap": 0
                },
                "margin": {
                  "t": 60
                },
                "template": {
                  "data": {
                    "bar": [
                      {
                        "error_x": {
                          "color": "#2a3f5f"
                        },
                        "error_y": {
                          "color": "#2a3f5f"
                        },
                        "marker": {
                          "line": {
                            "color": "#E5ECF6",
                            "width": 0.5
                          },
                          "pattern": {
                            "fillmode": "overlay",
                            "size": 10,
                            "solidity": 0.2
                          }
                        },
                        "type": "bar"
                      }
                    ],
                    "barpolar": [
                      {
                        "marker": {
                          "line": {
                            "color": "#E5ECF6",
                            "width": 0.5
                          },
                          "pattern": {
                            "fillmode": "overlay",
                            "size": 10,
                            "solidity": 0.2
                          }
                        },
                        "type": "barpolar"
                      }
                    ],
                    "carpet": [
                      {
                        "aaxis": {
                          "endlinecolor": "#2a3f5f",
                          "gridcolor": "white",
                          "linecolor": "white",
                          "minorgridcolor": "white",
                          "startlinecolor": "#2a3f5f"
                        },
                        "baxis": {
                          "endlinecolor": "#2a3f5f",
                          "gridcolor": "white",
                          "linecolor": "white",
                          "minorgridcolor": "white",
                          "startlinecolor": "#2a3f5f"
                        },
                        "type": "carpet"
                      }
                    ],
                    "choropleth": [
                      {
                        "colorbar": {
                          "outlinewidth": 0,
                          "ticks": ""
                        },
                        "type": "choropleth"
                      }
                    ],
                    "contour": [
                      {
                        "colorbar": {
                          "outlinewidth": 0,
                          "ticks": ""
                        },
                        "colorscale": [
                          [
                            0,
                            "#0d0887"
                          ],
                          [
                            0.1111111111111111,
                            "#46039f"
                          ],
                          [
                            0.2222222222222222,
                            "#7201a8"
                          ],
                          [
                            0.3333333333333333,
                            "#9c179e"
                          ],
                          [
                            0.4444444444444444,
                            "#bd3786"
                          ],
                          [
                            0.5555555555555556,
                            "#d8576b"
                          ],
                          [
                            0.6666666666666666,
                            "#ed7953"
                          ],
                          [
                            0.7777777777777778,
                            "#fb9f3a"
                          ],
                          [
                            0.8888888888888888,
                            "#fdca26"
                          ],
                          [
                            1,
                            "#f0f921"
                          ]
                        ],
                        "type": "contour"
                      }
                    ],
                    "contourcarpet": [
                      {
                        "colorbar": {
                          "outlinewidth": 0,
                          "ticks": ""
                        },
                        "type": "contourcarpet"
                      }
                    ],
                    "heatmap": [
                      {
                        "colorbar": {
                          "outlinewidth": 0,
                          "ticks": ""
                        },
                        "colorscale": [
                          [
                            0,
                            "#0d0887"
                          ],
                          [
                            0.1111111111111111,
                            "#46039f"
                          ],
                          [
                            0.2222222222222222,
                            "#7201a8"
                          ],
                          [
                            0.3333333333333333,
                            "#9c179e"
                          ],
                          [
                            0.4444444444444444,
                            "#bd3786"
                          ],
                          [
                            0.5555555555555556,
                            "#d8576b"
                          ],
                          [
                            0.6666666666666666,
                            "#ed7953"
                          ],
                          [
                            0.7777777777777778,
                            "#fb9f3a"
                          ],
                          [
                            0.8888888888888888,
                            "#fdca26"
                          ],
                          [
                            1,
                            "#f0f921"
                          ]
                        ],
                        "type": "heatmap"
                      }
                    ],
                    "heatmapgl": [
                      {
                        "colorbar": {
                          "outlinewidth": 0,
                          "ticks": ""
                        },
                        "colorscale": [
                          [
                            0,
                            "#0d0887"
                          ],
                          [
                            0.1111111111111111,
                            "#46039f"
                          ],
                          [
                            0.2222222222222222,
                            "#7201a8"
                          ],
                          [
                            0.3333333333333333,
                            "#9c179e"
                          ],
                          [
                            0.4444444444444444,
                            "#bd3786"
                          ],
                          [
                            0.5555555555555556,
                            "#d8576b"
                          ],
                          [
                            0.6666666666666666,
                            "#ed7953"
                          ],
                          [
                            0.7777777777777778,
                            "#fb9f3a"
                          ],
                          [
                            0.8888888888888888,
                            "#fdca26"
                          ],
                          [
                            1,
                            "#f0f921"
                          ]
                        ],
                        "type": "heatmapgl"
                      }
                    ],
                    "histogram": [
                      {
                        "marker": {
                          "pattern": {
                            "fillmode": "overlay",
                            "size": 10,
                            "solidity": 0.2
                          }
                        },
                        "type": "histogram"
                      }
                    ],
                    "histogram2d": [
                      {
                        "colorbar": {
                          "outlinewidth": 0,
                          "ticks": ""
                        },
                        "colorscale": [
                          [
                            0,
                            "#0d0887"
                          ],
                          [
                            0.1111111111111111,
                            "#46039f"
                          ],
                          [
                            0.2222222222222222,
                            "#7201a8"
                          ],
                          [
                            0.3333333333333333,
                            "#9c179e"
                          ],
                          [
                            0.4444444444444444,
                            "#bd3786"
                          ],
                          [
                            0.5555555555555556,
                            "#d8576b"
                          ],
                          [
                            0.6666666666666666,
                            "#ed7953"
                          ],
                          [
                            0.7777777777777778,
                            "#fb9f3a"
                          ],
                          [
                            0.8888888888888888,
                            "#fdca26"
                          ],
                          [
                            1,
                            "#f0f921"
                          ]
                        ],
                        "type": "histogram2d"
                      }
                    ],
                    "histogram2dcontour": [
                      {
                        "colorbar": {
                          "outlinewidth": 0,
                          "ticks": ""
                        },
                        "colorscale": [
                          [
                            0,
                            "#0d0887"
                          ],
                          [
                            0.1111111111111111,
                            "#46039f"
                          ],
                          [
                            0.2222222222222222,
                            "#7201a8"
                          ],
                          [
                            0.3333333333333333,
                            "#9c179e"
                          ],
                          [
                            0.4444444444444444,
                            "#bd3786"
                          ],
                          [
                            0.5555555555555556,
                            "#d8576b"
                          ],
                          [
                            0.6666666666666666,
                            "#ed7953"
                          ],
                          [
                            0.7777777777777778,
                            "#fb9f3a"
                          ],
                          [
                            0.8888888888888888,
                            "#fdca26"
                          ],
                          [
                            1,
                            "#f0f921"
                          ]
                        ],
                        "type": "histogram2dcontour"
                      }
                    ],
                    "mesh3d": [
                      {
                        "colorbar": {
                          "outlinewidth": 0,
                          "ticks": ""
                        },
                        "type": "mesh3d"
                      }
                    ],
                    "parcoords": [
                      {
                        "line": {
                          "colorbar": {
                            "outlinewidth": 0,
                            "ticks": ""
                          }
                        },
                        "type": "parcoords"
                      }
                    ],
                    "pie": [
                      {
                        "automargin": true,
                        "type": "pie"
                      }
                    ],
                    "scatter": [
                      {
                        "fillpattern": {
                          "fillmode": "overlay",
                          "size": 10,
                          "solidity": 0.2
                        },
                        "type": "scatter"
                      }
                    ],
                    "scatter3d": [
                      {
                        "line": {
                          "colorbar": {
                            "outlinewidth": 0,
                            "ticks": ""
                          }
                        },
                        "marker": {
                          "colorbar": {
                            "outlinewidth": 0,
                            "ticks": ""
                          }
                        },
                        "type": "scatter3d"
                      }
                    ],
                    "scattercarpet": [
                      {
                        "marker": {
                          "colorbar": {
                            "outlinewidth": 0,
                            "ticks": ""
                          }
                        },
                        "type": "scattercarpet"
                      }
                    ],
                    "scattergeo": [
                      {
                        "marker": {
                          "colorbar": {
                            "outlinewidth": 0,
                            "ticks": ""
                          }
                        },
                        "type": "scattergeo"
                      }
                    ],
                    "scattergl": [
                      {
                        "marker": {
                          "colorbar": {
                            "outlinewidth": 0,
                            "ticks": ""
                          }
                        },
                        "type": "scattergl"
                      }
                    ],
                    "scattermapbox": [
                      {
                        "marker": {
                          "colorbar": {
                            "outlinewidth": 0,
                            "ticks": ""
                          }
                        },
                        "type": "scattermapbox"
                      }
                    ],
                    "scatterpolar": [
                      {
                        "marker": {
                          "colorbar": {
                            "outlinewidth": 0,
                            "ticks": ""
                          }
                        },
                        "type": "scatterpolar"
                      }
                    ],
                    "scatterpolargl": [
                      {
                        "marker": {
                          "colorbar": {
                            "outlinewidth": 0,
                            "ticks": ""
                          }
                        },
                        "type": "scatterpolargl"
                      }
                    ],
                    "scatterternary": [
                      {
                        "marker": {
                          "colorbar": {
                            "outlinewidth": 0,
                            "ticks": ""
                          }
                        },
                        "type": "scatterternary"
                      }
                    ],
                    "surface": [
                      {
                        "colorbar": {
                          "outlinewidth": 0,
                          "ticks": ""
                        },
                        "colorscale": [
                          [
                            0,
                            "#0d0887"
                          ],
                          [
                            0.1111111111111111,
                            "#46039f"
                          ],
                          [
                            0.2222222222222222,
                            "#7201a8"
                          ],
                          [
                            0.3333333333333333,
                            "#9c179e"
                          ],
                          [
                            0.4444444444444444,
                            "#bd3786"
                          ],
                          [
                            0.5555555555555556,
                            "#d8576b"
                          ],
                          [
                            0.6666666666666666,
                            "#ed7953"
                          ],
                          [
                            0.7777777777777778,
                            "#fb9f3a"
                          ],
                          [
                            0.8888888888888888,
                            "#fdca26"
                          ],
                          [
                            1,
                            "#f0f921"
                          ]
                        ],
                        "type": "surface"
                      }
                    ],
                    "table": [
                      {
                        "cells": {
                          "fill": {
                            "color": "#EBF0F8"
                          },
                          "line": {
                            "color": "white"
                          }
                        },
                        "header": {
                          "fill": {
                            "color": "#C8D4E3"
                          },
                          "line": {
                            "color": "white"
                          }
                        },
                        "type": "table"
                      }
                    ]
                  },
                  "layout": {
                    "annotationdefaults": {
                      "arrowcolor": "#2a3f5f",
                      "arrowhead": 0,
                      "arrowwidth": 1
                    },
                    "autotypenumbers": "strict",
                    "coloraxis": {
                      "colorbar": {
                        "outlinewidth": 0,
                        "ticks": ""
                      }
                    },
                    "colorscale": {
                      "diverging": [
                        [
                          0,
                          "#8e0152"
                        ],
                        [
                          0.1,
                          "#c51b7d"
                        ],
                        [
                          0.2,
                          "#de77ae"
                        ],
                        [
                          0.3,
                          "#f1b6da"
                        ],
                        [
                          0.4,
                          "#fde0ef"
                        ],
                        [
                          0.5,
                          "#f7f7f7"
                        ],
                        [
                          0.6,
                          "#e6f5d0"
                        ],
                        [
                          0.7,
                          "#b8e186"
                        ],
                        [
                          0.8,
                          "#7fbc41"
                        ],
                        [
                          0.9,
                          "#4d9221"
                        ],
                        [
                          1,
                          "#276419"
                        ]
                      ],
                      "sequential": [
                        [
                          0,
                          "#0d0887"
                        ],
                        [
                          0.1111111111111111,
                          "#46039f"
                        ],
                        [
                          0.2222222222222222,
                          "#7201a8"
                        ],
                        [
                          0.3333333333333333,
                          "#9c179e"
                        ],
                        [
                          0.4444444444444444,
                          "#bd3786"
                        ],
                        [
                          0.5555555555555556,
                          "#d8576b"
                        ],
                        [
                          0.6666666666666666,
                          "#ed7953"
                        ],
                        [
                          0.7777777777777778,
                          "#fb9f3a"
                        ],
                        [
                          0.8888888888888888,
                          "#fdca26"
                        ],
                        [
                          1,
                          "#f0f921"
                        ]
                      ],
                      "sequentialminus": [
                        [
                          0,
                          "#0d0887"
                        ],
                        [
                          0.1111111111111111,
                          "#46039f"
                        ],
                        [
                          0.2222222222222222,
                          "#7201a8"
                        ],
                        [
                          0.3333333333333333,
                          "#9c179e"
                        ],
                        [
                          0.4444444444444444,
                          "#bd3786"
                        ],
                        [
                          0.5555555555555556,
                          "#d8576b"
                        ],
                        [
                          0.6666666666666666,
                          "#ed7953"
                        ],
                        [
                          0.7777777777777778,
                          "#fb9f3a"
                        ],
                        [
                          0.8888888888888888,
                          "#fdca26"
                        ],
                        [
                          1,
                          "#f0f921"
                        ]
                      ]
                    },
                    "colorway": [
                      "#636efa",
                      "#EF553B",
                      "#00cc96",
                      "#ab63fa",
                      "#FFA15A",
                      "#19d3f3",
                      "#FF6692",
                      "#B6E880",
                      "#FF97FF",
                      "#FECB52"
                    ],
                    "font": {
                      "color": "#2a3f5f"
                    },
                    "geo": {
                      "bgcolor": "white",
                      "lakecolor": "white",
                      "landcolor": "#E5ECF6",
                      "showlakes": true,
                      "showland": true,
                      "subunitcolor": "white"
                    },
                    "hoverlabel": {
                      "align": "left"
                    },
                    "hovermode": "closest",
                    "mapbox": {
                      "style": "light"
                    },
                    "paper_bgcolor": "white",
                    "plot_bgcolor": "#E5ECF6",
                    "polar": {
                      "angularaxis": {
                        "gridcolor": "white",
                        "linecolor": "white",
                        "ticks": ""
                      },
                      "bgcolor": "#E5ECF6",
                      "radialaxis": {
                        "gridcolor": "white",
                        "linecolor": "white",
                        "ticks": ""
                      }
                    },
                    "scene": {
                      "xaxis": {
                        "backgroundcolor": "#E5ECF6",
                        "gridcolor": "white",
                        "gridwidth": 2,
                        "linecolor": "white",
                        "showbackground": true,
                        "ticks": "",
                        "zerolinecolor": "white"
                      },
                      "yaxis": {
                        "backgroundcolor": "#E5ECF6",
                        "gridcolor": "white",
                        "gridwidth": 2,
                        "linecolor": "white",
                        "showbackground": true,
                        "ticks": "",
                        "zerolinecolor": "white"
                      },
                      "zaxis": {
                        "backgroundcolor": "#E5ECF6",
                        "gridcolor": "white",
                        "gridwidth": 2,
                        "linecolor": "white",
                        "showbackground": true,
                        "ticks": "",
                        "zerolinecolor": "white"
                      }
                    },
                    "shapedefaults": {
                      "line": {
                        "color": "#2a3f5f"
                      }
                    },
                    "ternary": {
                      "aaxis": {
                        "gridcolor": "white",
                        "linecolor": "white",
                        "ticks": ""
                      },
                      "baxis": {
                        "gridcolor": "white",
                        "linecolor": "white",
                        "ticks": ""
                      },
                      "bgcolor": "#E5ECF6",
                      "caxis": {
                        "gridcolor": "white",
                        "linecolor": "white",
                        "ticks": ""
                      }
                    },
                    "title": {
                      "x": 0.05
                    },
                    "xaxis": {
                      "automargin": true,
                      "gridcolor": "white",
                      "linecolor": "white",
                      "ticks": "",
                      "title": {
                        "standoff": 15
                      },
                      "zerolinecolor": "white",
                      "zerolinewidth": 2
                    },
                    "yaxis": {
                      "automargin": true,
                      "gridcolor": "white",
                      "linecolor": "white",
                      "ticks": "",
                      "title": {
                        "standoff": 15
                      },
                      "zerolinecolor": "white",
                      "zerolinewidth": 2
                    }
                  }
                }
              }
            }
          },
          "metadata": {},
          "output_type": "display_data"
        }
      ],
      "source": [
        "fig = px.sunburst( data_frame=df,path=['gender','loan_status'], color='loan_amount')\n",
        "\n",
        "fig.update_traces(textinfo='label+percent entry', insidetextorientation='horizontal')\n",
        "fig.show()\n",
        "\n",
        "# try this code to see if it works. Can you fix it\n",
        "#I don't see anything wrong with the plot except for the labels, I have fixed that. I also added the percentage display"
      ]
    },
    {
      "cell_type": "code",
      "execution_count": 238,
      "metadata": {
        "id": "T2-bFjThcypG"
      },
      "outputs": [
        {
          "data": {
            "image/png": "[encoded data removed]",
            "text/plain": [
              "<Figure size 1500x1000 with 6 Axes>"
            ]
          },
          "metadata": {},
          "output_type": "display_data"
        }
      ],
      "source": [
        "# create violin plots that have the six features shown above in the x value and loan amount in the y value\n",
        "# Plots 1 and 4 should have y labels and ticks while the rest of them should not\n",
        "\n",
        "# Create a figure and subplots\n",
        "plt.figure(figsize=(15,10))\n",
        "\n",
        "# Features to plot\n",
        "features = ['gender', 'married', 'education', 'self_employed', 'credit_history', 'property_area']\n",
        "\n",
        "# Create the violin plots\n",
        "for i, feature in enumerate(features, 1):\n",
        "    plt.subplot(2, 3, i)\n",
        "    sns.violinplot(x=df[feature], y=df['loan_amount'], palette='Set2')\n",
        "    \n",
        "    plt.title(f'Violin Plot of Loan Amount by {feature.capitalize()}')\n",
        "    \n",
        "    # Set y-label and ticks for Plot 1 and Plot 4\n",
        "    if i in [1, 4]:\n",
        "        plt.ylabel('Loan Amount')\n",
        "        plt.yticks(rotation=45)\n",
        "    else:\n",
        "        plt.ylabel('')\n",
        "        plt.yticks([])\n",
        "\n",
        "    # Set x-label for all plots\n",
        "    plt.xlabel(feature.capitalize())\n",
        "\n",
        "# Adjust layout and display the plots\n",
        "plt.tight_layout()\n",
        "plt.show()"
      ]
    },
    {
      "cell_type": "code",
      "execution_count": 239,
      "metadata": {
        "execution": {
          "iopub.execute_input": "2020-09-08T03:16:04.708238Z",
          "iopub.status.busy": "2020-09-08T03:16:04.703360Z",
          "iopub.status.idle": "2020-09-08T03:16:05.525060Z",
          "shell.execute_reply": "2020-09-08T03:16:05.525759Z"
        },
        "id": "_3G__A3HWh_Y",
        "papermill": {
          "duration": 0.869293,
          "end_time": "2020-09-08T03:16:05.525969",
          "exception": false,
          "start_time": "2020-09-08T03:16:04.656676",
          "status": "completed"
        },
        "tags": []
      },
      "outputs": [
        {
          "data": {
            "text/plain": [
              "<Figure size 1800x500 with 0 Axes>"
            ]
          },
          "metadata": {},
          "output_type": "display_data"
        },
        {
          "data": {
            "image/png": "[encoded data removed]",
            "text/plain": [
              "<Figure size 1800x500 with 3 Axes>"
            ]
          },
          "metadata": {},
          "output_type": "display_data"
        }
      ],
      "source": [
        "plt.figure(figsize=(18,5))\n",
        "\n",
        "# Make three subplots that show frequency distributions of applicant incomes, co-applicant incomes and loan amounts\n",
        "# these should have lines and bars\n",
        "import matplotlib.pyplot as plt\n",
        "\n",
        "# Create a figure and subplots\n",
        "plt.figure(figsize=(18,5))\n",
        "\n",
        "# Define a function to plot histogram and line\n",
        "def plot_histogram(ax, data, color, title, xlabel):\n",
        "    # Plot histogram\n",
        "    ax.hist(data, bins=30, alpha=0.5, color=color, edgecolor='black', label='Histogram')\n",
        "    \n",
        "    # Plot line\n",
        "    counts, bin_edges = np.histogram(data, bins=30)\n",
        "    bin_centers = (bin_edges[:-1] + bin_edges[1:]) / 2\n",
        "    ax.plot(bin_centers, counts, color='r', label='Line')\n",
        "    \n",
        "    # Set title and labels\n",
        "    ax.set_title(title)\n",
        "    ax.set_xlabel(xlabel)\n",
        "    ax.set_ylabel('Frequency')\n",
        "    ax.legend()\n",
        "\n",
        "# Subplots\n",
        "plot_histogram(plt.subplot(1, 3, 1), df['applicant_income'], 'b', 'Applicant Income Distribution', 'Income')\n",
        "plot_histogram(plt.subplot(1, 3, 2), df['coapplicantincome'], 'g', 'Co-Applicant Income Distribution', 'Income')\n",
        "plot_histogram(plt.subplot(1, 3, 3), df['loan_amount'], 'm', 'Loan Amount Distribution', 'Amount')\n",
        "\n",
        "# Adjust layout and display the plots\n",
        "plt.tight_layout()\n",
        "plt.show()\n"
      ]
    },
    {
      "cell_type": "code",
      "execution_count": 240,
      "metadata": {
        "execution": {
          "iopub.execute_input": "2020-09-08T03:16:05.598242Z",
          "iopub.status.busy": "2020-09-08T03:16:05.597077Z",
          "iopub.status.idle": "2020-09-08T03:16:05.764662Z",
          "shell.execute_reply": "2020-09-08T03:16:05.763869Z"
        },
        "id": "9pdDTvIpWh_Y",
        "papermill": {
          "duration": 0.206593,
          "end_time": "2020-09-08T03:16:05.764820",
          "exception": false,
          "start_time": "2020-09-08T03:16:05.558227",
          "status": "completed"
        },
        "tags": []
      },
      "outputs": [
        {
          "data": {
            "application/vnd.plotly.v1+json": {
              "config": {
                "plotlyServerURL": "https://plot.ly"
              },
              "data": [
                {
                  "hovertemplate": "loan_status=Y<br>applicant_income=%{x}<br>coapplicantincome=%{y}<br>loan_amount=%{z}<extra></extra>",
                  "legendgroup": "Y",
                  "marker": {
                    "color": "#636efa",
                    "symbol": "circle"
                  },
                  "mode": "markers",
                  "name": "Y",
                  "scene": "scene",
                  "showlegend": true,
                  "type": "scatter3d",
                  "x": [
                    5849,
                    3000,
                    2583,
                    6000,
                    5417,
                    2333,
                    4006,
                    3200,
                    3073,
                    1299,
                    4950,
                    3596,
                    5955,
                    9560,
                    2799,
                    4226,
                    3500,
                    2275,
                    3667,
                    4166,
                    3748,
                    1800,
                    2400,
                    3941,
                    5649,
                    5821,
                    4000,
                    1928,
                    3086,
                    2708,
                    2132,
                    8080,
                    3357,
                    2500,
                    3029,
                    10750,
                    7100,
                    3208,
                    1875,
                    3500,
                    5266,
                    3333,
                    3846,
                    2395,
                    3988,
                    2366,
                    3333,
                    2500,
                    8566,
                    5695,
                    2958,
                    6250,
                    3273,
                    4133,
                    3620,
                    2484,
                    1977,
                    4188,
                    1759,
                    4288,
                    4843,
                    4652,
                    3052,
                    11417,
                    2071,
                    5316,
                    7451,
                    14583,
                    3167,
                    2214,
                    10408,
                    4166,
                    2137,
                    2957,
                    4300,
                    3692,
                    3865,
                    20166,
                    2014,
                    2718,
                    3459,
                    4895,
                    3316,
                    5417,
                    6950,
                    2698,
                    11757,
                    2330,
                    14866,
                    1538,
                    4860,
                    2577,
                    3254,
                    39999,
                    6000,
                    9538,
                    4583,
                    1863,
                    4167,
                    9323,
                    2439,
                    8000,
                    5708,
                    3497,
                    2045,
                    3750,
                    4600,
                    3625,
                    39147,
                    2383,
                    9328,
                    4885,
                    3858,
                    4191,
                    8333,
                    3416,
                    2600,
                    4923,
                    3500,
                    3917,
                    4408,
                    3244,
                    3975,
                    2479,
                    7787,
                    5703,
                    3173,
                    3850,
                    3727,
                    4283,
                    4009,
                    2971,
                    6250,
                    6250,
                    6400,
                    2491,
                    8333,
                    3155,
                    5500,
                    3463,
                    3812,
                    3315,
                    5819,
                    2965,
                    6250,
                    3406,
                    9703,
                    6608,
                    2882,
                    1809,
                    2583,
                    2661,
                    3083,
                    6083,
                    2060,
                    7200,
                    5166,
                    4095,
                    4708,
                    4333,
                    2876,
                    3237,
                    11146,
                    2833,
                    2620,
                    3900,
                    2750,
                    3993,
                    3103,
                    14583,
                    4100,
                    3927,
                    2301,
                    1811,
                    3158,
                    3704,
                    4124,
                    9508,
                    3075,
                    3153,
                    2383,
                    6875,
                    4666,
                    5000,
                    1625,
                    4000,
                    3762,
                    7667,
                    2917,
                    2927,
                    2507,
                    5746,
                    3399,
                    3717,
                    2058,
                    3541,
                    2400,
                    4342,
                    3601,
                    3166,
                    15000,
                    4917,
                    5818,
                    2500,
                    4384,
                    2935,
                    2500,
                    4160,
                    4554,
                    3173,
                    2499,
                    3083,
                    6333,
                    2625,
                    9083,
                    2666,
                    2423,
                    8333,
                    5167,
                    5000,
                    4750,
                    3013,
                    6822,
                    6325,
                    15759,
                    5185,
                    9323,
                    4817,
                    8750,
                    4310,
                    5391,
                    5941,
                    6000,
                    7167,
                    2346,
                    2333,
                    5488,
                    9167,
                    9504,
                    2583,
                    1993,
                    3100,
                    3276,
                    3033,
                    3902,
                    2500,
                    1963,
                    4547,
                    2167,
                    2213,
                    2253,
                    2995,
                    1025,
                    3246,
                    5829,
                    1820,
                    14880,
                    2666,
                    5935,
                    2920,
                    2717,
                    8624,
                    2425,
                    3750,
                    1926,
                    2213,
                    7142,
                    3660,
                    7901,
                    4707,
                    37719,
                    7333,
                    3466,
                    4652,
                    1958,
                    2483,
                    7085,
                    3859,
                    4301,
                    4354,
                    7740,
                    3015,
                    6000,
                    3450,
                    4691,
                    2500,
                    5532,
                    16525,
                    6700,
                    16667,
                    4350,
                    3095,
                    2083,
                    10833,
                    8333,
                    1958,
                    4583,
                    2699,
                    5333,
                    3691,
                    17263,
                    3326,
                    2600,
                    4625,
                    2895,
                    645,
                    3159,
                    4865,
                    3814,
                    3510,
                    20833,
                    2479,
                    13262,
                    6065,
                    3283,
                    3466,
                    2031,
                    2192,
                    2500,
                    5677,
                    7948,
                    17500,
                    3775,
                    5285,
                    2679,
                    6783,
                    1025,
                    4281,
                    18165,
                    6133,
                    3617,
                    6417,
                    4608,
                    2239,
                    3017,
                    2768,
                    2526,
                    2785,
                    2492,
                    3333,
                    5468,
                    2667,
                    10139,
                    3887,
                    4180,
                    3675,
                    19484,
                    5923,
                    5800,
                    4467,
                    3333,
                    3417,
                    16666,
                    3159,
                    3229,
                    1782,
                    6540,
                    3166,
                    2297,
                    2165,
                    3000,
                    3859,
                    16120,
                    3833,
                    9963,
                    5780,
                    5703,
                    3676,
                    12000,
                    3400,
                    3987,
                    3232,
                    2900,
                    4106,
                    8072,
                    7583
                  ],
                  "y": [
                    0,
                    0,
                    2358,
                    0,
                    4196,
                    1516,
                    1526,
                    700,
                    8106,
                    1086,
                    0,
                    0,
                    5625,
                    0,
                    2253,
                    1040,
                    1667,
                    2067,
                    1459,
                    7210,
                    1668,
                    1213,
                    0,
                    2336,
                    0,
                    0,
                    2275,
                    1644,
                    0,
                    1167,
                    1591,
                    2250,
                    2859,
                    3796,
                    0,
                    0,
                    0,
                    3066,
                    1875,
                    0,
                    1774,
                    2166,
                    0,
                    0,
                    0,
                    2531,
                    2000,
                    2118,
                    0,
                    4167,
                    2900,
                    5654,
                    1820,
                    0,
                    0,
                    2302,
                    997,
                    0,
                    3541,
                    3263,
                    3806,
                    3583,
                    1030,
                    1126,
                    754,
                    0,
                    0,
                    0,
                    2283,
                    1398,
                    0,
                    0,
                    8980,
                    0,
                    2014,
                    0,
                    1640,
                    0,
                    1929,
                    0,
                    0,
                    0,
                    3500,
                    0,
                    0,
                    2034,
                    0,
                    4486,
                    0,
                    1425,
                    830,
                    3750,
                    0,
                    0,
                    0,
                    0,
                    5625,
                    1041,
                    1447,
                    0,
                    3333,
                    0,
                    5625,
                    1964,
                    1619,
                    0,
                    0,
                    0,
                    4750,
                    2138,
                    0,
                    0,
                    0,
                    0,
                    3750,
                    2816,
                    2500,
                    0,
                    1083,
                    0,
                    0,
                    0,
                    2531,
                    0,
                    0,
                    0,
                    3021,
                    983,
                    1775,
                    2383,
                    1717,
                    2791,
                    0,
                    1695,
                    0,
                    2054,
                    0,
                    1779,
                    1260,
                    0,
                    0,
                    0,
                    5000,
                    5701,
                    1300,
                    4417,
                    0,
                    0,
                    1843,
                    1868,
                    2167,
                    7101,
                    0,
                    4250,
                    2209,
                    0,
                    0,
                    3447,
                    1387,
                    1811,
                    1560,
                    0,
                    0,
                    1857,
                    2223,
                    0,
                    1842,
                    3274,
                    1300,
                    0,
                    0,
                    800,
                    985.7999878,
                    1666,
                    3053,
                    2000,
                    0,
                    0,
                    2416,
                    1560,
                    3334,
                    0,
                    0,
                    0,
                    1803,
                    2500,
                    1666,
                    0,
                    0,
                    2405,
                    0,
                    0,
                    1640,
                    0,
                    2134,
                    0,
                    2167,
                    189,
                    1590,
                    2985,
                    0,
                    0,
                    2160,
                    0,
                    1793,
                    0,
                    4600,
                    0,
                    1229,
                    0,
                    2458,
                    2168,
                    4583,
                    6250,
                    0,
                    2083,
                    505,
                    3167,
                    3167,
                    3667,
                    2333,
                    3033,
                    0,
                    0,
                    0,
                    0,
                    7873,
                    923,
                    4996,
                    0,
                    0,
                    4232,
                    0,
                    0,
                    1600,
                    2417,
                    0,
                    0,
                    0,
                    2115,
                    1625,
                    1400,
                    484,
                    1459,
                    1666,
                    20000,
                    0,
                    0,
                    2400,
                    0,
                    2033,
                    0,
                    2773,
                    1417,
                    0,
                    1719,
                    0,
                    4300,
                    0,
                    16.12000084,
                    0,
                    0,
                    2340,
                    0,
                    1851,
                    1125,
                    0,
                    5064,
                    1833,
                    1993,
                    0,
                    8333,
                    1210,
                    0,
                    1456,
                    2466,
                    0,
                    0,
                    0,
                    0,
                    0,
                    2188,
                    0,
                    2079,
                    0,
                    0,
                    4648,
                    1014,
                    1750,
                    2250,
                    0,
                    0,
                    3150,
                    0,
                    0,
                    2436,
                    2083,
                    2785,
                    1131,
                    0,
                    0,
                    913,
                    1700,
                    2857,
                    0,
                    3683,
                    0,
                    5624,
                    1483,
                    4416,
                    6667,
                    3013,
                    0,
                    2004,
                    2035,
                    3428,
                    1632,
                    1742,
                    0,
                    1424,
                    7166,
                    0,
                    0,
                    1430,
                    1302,
                    0,
                    5500,
                    0,
                    0,
                    3906,
                    0,
                    0,
                    2845,
                    2524,
                    663,
                    1950,
                    1783,
                    2016,
                    2375,
                    3250,
                    1032,
                    1625,
                    0,
                    2669,
                    2306,
                    242,
                    0,
                    2054,
                    0,
                    0,
                    0,
                    1750,
                    0,
                    461,
                    2739,
                    2232,
                    0,
                    0,
                    1522,
                    0,
                    3416,
                    3300,
                    0,
                    0,
                    0,
                    0,
                    0,
                    4301,
                    0,
                    2500,
                    1411,
                    1950,
                    0,
                    0,
                    240,
                    0
                  ],
                  "z": [
                    146.41216216216216,
                    66,
                    120,
                    141,
                    267,
                    95,
                    168,
                    70,
                    200,
                    17,
                    125,
                    100,
                    315,
                    191,
                    122,
                    110,
                    114,
                    146.41216216216216,
                    144,
                    184,
                    110,
                    47,
                    75,
                    134,
                    44,
                    144,
                    144,
                    100,
                    120,
                    97,
                    96,
                    180,
                    144,
                    120,
                    99,
                    312,
                    125,
                    172,
                    97,
                    81,
                    187,
                    130,
                    111,
                    146.41216216216216,
                    50,
                    136,
                    99,
                    104,
                    210,
                    175,
                    131,
                    188,
                    81,
                    122,
                    25,
                    137,
                    50,
                    115,
                    131,
                    133,
                    151,
                    146.41216216216216,
                    100,
                    225,
                    94,
                    136,
                    146.41216216216216,
                    185,
                    154,
                    85,
                    259,
                    44,
                    137,
                    81,
                    194,
                    93,
                    146.41216216216216,
                    650,
                    74,
                    70,
                    25,
                    102,
                    88,
                    168,
                    175,
                    122,
                    187,
                    100,
                    70,
                    30,
                    125,
                    152,
                    50,
                    600,
                    160,
                    187,
                    255,
                    98,
                    158,
                    75,
                    129,
                    200,
                    187,
                    116,
                    101,
                    116,
                    73,
                    108,
                    120,
                    58,
                    188,
                    48,
                    76,
                    120,
                    187,
                    113,
                    90,
                    166,
                    135,
                    124,
                    120,
                    80,
                    55,
                    59,
                    240,
                    130,
                    137,
                    100,
                    131,
                    127,
                    116,
                    144,
                    128,
                    210,
                    200,
                    104,
                    280,
                    140,
                    170,
                    122,
                    112,
                    96,
                    120,
                    155,
                    108,
                    123,
                    112,
                    137,
                    123,
                    90,
                    104,
                    279,
                    255,
                    330,
                    134,
                    120,
                    128,
                    151,
                    150,
                    160,
                    90,
                    30,
                    136,
                    126,
                    150,
                    90,
                    115,
                    207,
                    80,
                    436,
                    124,
                    112,
                    78,
                    54,
                    89,
                    120,
                    115,
                    187,
                    139,
                    134,
                    172,
                    200,
                    135,
                    132,
                    96,
                    140,
                    135,
                    185,
                    84,
                    111,
                    56,
                    144,
                    111,
                    120,
                    88,
                    112,
                    115,
                    124,
                    146.41216216216216,
                    132,
                    300,
                    130,
                    184,
                    67,
                    117,
                    98,
                    176,
                    71,
                    158,
                    74,
                    160,
                    126,
                    259,
                    187,
                    228,
                    95,
                    130,
                    165,
                    200,
                    236,
                    130,
                    95,
                    141,
                    175,
                    55,
                    155,
                    380,
                    120,
                    130,
                    130,
                    130,
                    296,
                    156,
                    128,
                    132,
                    136,
                    125,
                    185,
                    275,
                    120,
                    113,
                    113,
                    135,
                    95,
                    109,
                    103,
                    53,
                    115,
                    115,
                    66,
                    110,
                    60,
                    112,
                    138,
                    138,
                    100,
                    96,
                    121,
                    133,
                    87,
                    60,
                    150,
                    143,
                    100,
                    50,
                    146.41216216216216,
                    138,
                    187,
                    180,
                    148,
                    152,
                    175,
                    130,
                    110,
                    60,
                    90,
                    84,
                    96,
                    118,
                    136,
                    128,
                    153,
                    140,
                    162,
                    100,
                    93,
                    162,
                    150,
                    230,
                    86,
                    154,
                    113,
                    128,
                    234,
                    246,
                    131,
                    160,
                    96,
                    186,
                    110,
                    225,
                    105,
                    107,
                    111,
                    95,
                    113,
                    100,
                    208,
                    124,
                    243,
                    480,
                    188,
                    40,
                    250,
                    148,
                    150,
                    113,
                    45,
                    55,
                    100,
                    480,
                    400,
                    110,
                    161,
                    94,
                    130,
                    216,
                    100,
                    125,
                    324,
                    107,
                    157,
                    140,
                    128,
                    102,
                    155,
                    145,
                    110,
                    146.41216216216216,
                    158,
                    26,
                    84,
                    260,
                    162,
                    182,
                    108,
                    600,
                    211,
                    132,
                    120,
                    70,
                    186,
                    275,
                    108,
                    110,
                    107,
                    205,
                    36,
                    104,
                    70,
                    56,
                    142,
                    260,
                    110,
                    180,
                    192,
                    128,
                    172,
                    496,
                    173,
                    157,
                    108,
                    71,
                    40,
                    253,
                    187
                  ]
                },
                {
                  "hovertemplate": "loan_status=N<br>applicant_income=%{x}<br>coapplicantincome=%{y}<br>loan_amount=%{z}<extra></extra>",
                  "legendgroup": "N",
                  "marker": {
                    "color": "#EF553B",
                    "symbol": "circle"
                  },
                  "mode": "markers",
                  "name": "N",
                  "scene": "scene",
                  "showlegend": true,
                  "type": "scatter3d",
                  "x": [
                    4583,
                    3036,
                    12841,
                    1853,
                    3510,
                    4887,
                    7660,
                    2600,
                    1442,
                    3167,
                    4692,
                    12500,
                    3600,
                    2645,
                    4230,
                    4616,
                    11500,
                    3366,
                    2609,
                    4945,
                    4166,
                    5726,
                    3200,
                    4300,
                    3750,
                    3750,
                    1000,
                    3167,
                    1378,
                    6000,
                    3800,
                    5568,
                    10513,
                    6080,
                    4000,
                    4583,
                    14999,
                    4200,
                    5042,
                    10000,
                    6277,
                    9166,
                    2281,
                    7933,
                    3089,
                    4583,
                    2237,
                    3522,
                    4344,
                    5516,
                    2333,
                    6400,
                    1916,
                    33846,
                    2178,
                    12000,
                    6033,
                    3125,
                    11000,
                    3992,
                    3418,
                    10000,
                    3430,
                    150,
                    2221,
                    3250,
                    2510,
                    6050,
                    1668,
                    3427,
                    16250,
                    6045,
                    5250,
                    14683,
                    4931,
                    3481,
                    4053,
                    20667,
                    2600,
                    4400,
                    5000,
                    2014,
                    1800,
                    2000,
                    2400,
                    20233,
                    10000,
                    8666,
                    4333,
                    1830,
                    2647,
                    2378,
                    8750,
                    5500,
                    3875,
                    3000,
                    4723,
                    6216,
                    2500,
                    19730,
                    3062,
                    3069,
                    4566,
                    3010,
                    3180,
                    1500,
                    2889,
                    2755,
                    7441,
                    8300,
                    81000,
                    3867,
                    6096,
                    2149,
                    2600,
                    1600,
                    4606,
                    6500,
                    10416,
                    3340,
                    2769,
                    2309,
                    3948,
                    3708,
                    8334,
                    4166,
                    2947,
                    4333,
                    2653,
                    2947,
                    3547,
                    18333,
                    2435,
                    3597,
                    6283,
                    4050,
                    3598,
                    2130,
                    5815,
                    4683,
                    3400,
                    4680,
                    3588,
                    11250,
                    2917,
                    2138,
                    3358,
                    5000,
                    6633,
                    2454,
                    3593,
                    8799,
                    3400,
                    2378,
                    3166,
                    6125,
                    6406,
                    1836,
                    1880,
                    2787,
                    4283,
                    2726,
                    6000,
                    6383,
                    2400,
                    4583
                  ],
                  "y": [
                    1508,
                    2504,
                    10968,
                    2840,
                    0,
                    0,
                    0,
                    1911,
                    0,
                    0,
                    0,
                    3000,
                    0,
                    3440,
                    0,
                    0,
                    0,
                    2200,
                    3449,
                    0,
                    0,
                    4595,
                    2254,
                    0,
                    0,
                    4750,
                    3022,
                    4000,
                    1881,
                    2250,
                    3600,
                    2142,
                    3850,
                    2569,
                    7750,
                    0,
                    0,
                    1430,
                    2083,
                    1666,
                    0,
                    0,
                    0,
                    0,
                    1280,
                    0,
                    0,
                    0,
                    736,
                    11300,
                    1451,
                    7250,
                    5063,
                    0,
                    0,
                    0,
                    0,
                    2583,
                    0,
                    0,
                    0,
                    0,
                    1250,
                    1800,
                    0,
                    0,
                    1983,
                    4333,
                    3890,
                    0,
                    0,
                    0,
                    0,
                    2100,
                    0,
                    0,
                    2426,
                    0,
                    1717,
                    0,
                    2541,
                    2925,
                    2934,
                    0,
                    1863,
                    0,
                    0,
                    4983,
                    2451,
                    0,
                    1587,
                    0,
                    4167,
                    0,
                    0,
                    1666,
                    0,
                    0,
                    0,
                    5266,
                    1987,
                    0,
                    0,
                    3136,
                    0,
                    1800,
                    0,
                    0,
                    0,
                    0,
                    0,
                    0,
                    0,
                    3237,
                    0,
                    20000,
                    0,
                    0,
                    0,
                    1710,
                    1542,
                    1255,
                    1733,
                    2569,
                    0,
                    0,
                    1664,
                    2451,
                    1500,
                    1603,
                    0,
                    0,
                    0,
                    2157,
                    4416,
                    5302,
                    1287,
                    6666,
                    3666,
                    1915,
                    0,
                    2087,
                    0,
                    0,
                    536,
                    0,
                    0,
                    0,
                    0,
                    2333,
                    4266,
                    0,
                    2500,
                    0,
                    2064,
                    1625,
                    0,
                    33837,
                    0,
                    1917,
                    3000,
                    0,
                    0,
                    1000,
                    3800,
                    0
                  ],
                  "z": [
                    128,
                    158,
                    349,
                    114,
                    76,
                    133,
                    104,
                    116,
                    35,
                    74,
                    106,
                    320,
                    80,
                    120,
                    112,
                    134,
                    286,
                    135,
                    165,
                    146.41216216216216,
                    116,
                    258,
                    126,
                    136,
                    113,
                    176,
                    110,
                    180,
                    167,
                    265,
                    216,
                    175,
                    160,
                    182,
                    290,
                    84,
                    242,
                    129,
                    185,
                    225,
                    118,
                    244,
                    113,
                    275,
                    121,
                    112,
                    63,
                    81,
                    87,
                    495,
                    102,
                    180,
                    67,
                    260,
                    66,
                    164,
                    160,
                    170,
                    83,
                    146.41216216216216,
                    127,
                    214,
                    128,
                    135,
                    60,
                    170,
                    140,
                    120,
                    201,
                    138,
                    192,
                    115,
                    94,
                    304,
                    128,
                    155,
                    158,
                    146.41216216216216,
                    99,
                    127,
                    151,
                    113,
                    93,
                    146.41216216216216,
                    104,
                    480,
                    155,
                    376,
                    110,
                    146.41216216216216,
                    173,
                    46,
                    308,
                    105,
                    67,
                    100,
                    81,
                    133,
                    96,
                    570,
                    111,
                    71,
                    100,
                    146.41216216216216,
                    71,
                    103,
                    45,
                    65,
                    194,
                    152,
                    360,
                    62,
                    218,
                    178,
                    160,
                    239,
                    81,
                    105,
                    187,
                    150,
                    190,
                    125,
                    149,
                    173,
                    160,
                    98,
                    70,
                    110,
                    113,
                    146.41216216216216,
                    80,
                    500,
                    75,
                    119,
                    209,
                    138,
                    100,
                    70,
                    311,
                    185,
                    95,
                    146.41216216216216,
                    110,
                    196,
                    66,
                    99,
                    80,
                    103,
                    146.41216216216216,
                    181,
                    132,
                    258,
                    123,
                    9,
                    104,
                    187,
                    150,
                    90,
                    61,
                    146,
                    172,
                    106,
                    205,
                    187,
                    146.41216216216216,
                    133
                  ]
                }
              ],
              "layout": {
                "legend": {
                  "title": {
                    "text": "loan_status"
                  },
                  "tracegroupgap": 0
                },
                "margin": {
                  "t": 60
                },
                "scene": {
                  "domain": {
                    "x": [
                      0,
                      1
                    ],
                    "y": [
                      0,
                      1
                    ]
                  },
                  "xaxis": {
                    "title": {
                      "text": "applicant_income"
                    }
                  },
                  "yaxis": {
                    "title": {
                      "text": "coapplicantincome"
                    }
                  },
                  "zaxis": {
                    "title": {
                      "text": "loan_amount"
                    }
                  }
                },
                "template": {
                  "data": {
                    "bar": [
                      {
                        "error_x": {
                          "color": "#2a3f5f"
                        },
                        "error_y": {
                          "color": "#2a3f5f"
                        },
                        "marker": {
                          "line": {
                            "color": "#E5ECF6",
                            "width": 0.5
                          },
                          "pattern": {
                            "fillmode": "overlay",
                            "size": 10,
                            "solidity": 0.2
                          }
                        },
                        "type": "bar"
                      }
                    ],
                    "barpolar": [
                      {
                        "marker": {
                          "line": {
                            "color": "#E5ECF6",
                            "width": 0.5
                          },
                          "pattern": {
                            "fillmode": "overlay",
                            "size": 10,
                            "solidity": 0.2
                          }
                        },
                        "type": "barpolar"
                      }
                    ],
                    "carpet": [
                      {
                        "aaxis": {
                          "endlinecolor": "#2a3f5f",
                          "gridcolor": "white",
                          "linecolor": "white",
                          "minorgridcolor": "white",
                          "startlinecolor": "#2a3f5f"
                        },
                        "baxis": {
                          "endlinecolor": "#2a3f5f",
                          "gridcolor": "white",
                          "linecolor": "white",
                          "minorgridcolor": "white",
                          "startlinecolor": "#2a3f5f"
                        },
                        "type": "carpet"
                      }
                    ],
                    "choropleth": [
                      {
                        "colorbar": {
                          "outlinewidth": 0,
                          "ticks": ""
                        },
                        "type": "choropleth"
                      }
                    ],
                    "contour": [
                      {
                        "colorbar": {
                          "outlinewidth": 0,
                          "ticks": ""
                        },
                        "colorscale": [
                          [
                            0,
                            "#0d0887"
                          ],
                          [
                            0.1111111111111111,
                            "#46039f"
                          ],
                          [
                            0.2222222222222222,
                            "#7201a8"
                          ],
                          [
                            0.3333333333333333,
                            "#9c179e"
                          ],
                          [
                            0.4444444444444444,
                            "#bd3786"
                          ],
                          [
                            0.5555555555555556,
                            "#d8576b"
                          ],
                          [
                            0.6666666666666666,
                            "#ed7953"
                          ],
                          [
                            0.7777777777777778,
                            "#fb9f3a"
                          ],
                          [
                            0.8888888888888888,
                            "#fdca26"
                          ],
                          [
                            1,
                            "#f0f921"
                          ]
                        ],
                        "type": "contour"
                      }
                    ],
                    "contourcarpet": [
                      {
                        "colorbar": {
                          "outlinewidth": 0,
                          "ticks": ""
                        },
                        "type": "contourcarpet"
                      }
                    ],
                    "heatmap": [
                      {
                        "colorbar": {
                          "outlinewidth": 0,
                          "ticks": ""
                        },
                        "colorscale": [
                          [
                            0,
                            "#0d0887"
                          ],
                          [
                            0.1111111111111111,
                            "#46039f"
                          ],
                          [
                            0.2222222222222222,
                            "#7201a8"
                          ],
                          [
                            0.3333333333333333,
                            "#9c179e"
                          ],
                          [
                            0.4444444444444444,
                            "#bd3786"
                          ],
                          [
                            0.5555555555555556,
                            "#d8576b"
                          ],
                          [
                            0.6666666666666666,
                            "#ed7953"
                          ],
                          [
                            0.7777777777777778,
                            "#fb9f3a"
                          ],
                          [
                            0.8888888888888888,
                            "#fdca26"
                          ],
                          [
                            1,
                            "#f0f921"
                          ]
                        ],
                        "type": "heatmap"
                      }
                    ],
                    "heatmapgl": [
                      {
                        "colorbar": {
                          "outlinewidth": 0,
                          "ticks": ""
                        },
                        "colorscale": [
                          [
                            0,
                            "#0d0887"
                          ],
                          [
                            0.1111111111111111,
                            "#46039f"
                          ],
                          [
                            0.2222222222222222,
                            "#7201a8"
                          ],
                          [
                            0.3333333333333333,
                            "#9c179e"
                          ],
                          [
                            0.4444444444444444,
                            "#bd3786"
                          ],
                          [
                            0.5555555555555556,
                            "#d8576b"
                          ],
                          [
                            0.6666666666666666,
                            "#ed7953"
                          ],
                          [
                            0.7777777777777778,
                            "#fb9f3a"
                          ],
                          [
                            0.8888888888888888,
                            "#fdca26"
                          ],
                          [
                            1,
                            "#f0f921"
                          ]
                        ],
                        "type": "heatmapgl"
                      }
                    ],
                    "histogram": [
                      {
                        "marker": {
                          "pattern": {
                            "fillmode": "overlay",
                            "size": 10,
                            "solidity": 0.2
                          }
                        },
                        "type": "histogram"
                      }
                    ],
                    "histogram2d": [
                      {
                        "colorbar": {
                          "outlinewidth": 0,
                          "ticks": ""
                        },
                        "colorscale": [
                          [
                            0,
                            "#0d0887"
                          ],
                          [
                            0.1111111111111111,
                            "#46039f"
                          ],
                          [
                            0.2222222222222222,
                            "#7201a8"
                          ],
                          [
                            0.3333333333333333,
                            "#9c179e"
                          ],
                          [
                            0.4444444444444444,
                            "#bd3786"
                          ],
                          [
                            0.5555555555555556,
                            "#d8576b"
                          ],
                          [
                            0.6666666666666666,
                            "#ed7953"
                          ],
                          [
                            0.7777777777777778,
                            "#fb9f3a"
                          ],
                          [
                            0.8888888888888888,
                            "#fdca26"
                          ],
                          [
                            1,
                            "#f0f921"
                          ]
                        ],
                        "type": "histogram2d"
                      }
                    ],
                    "histogram2dcontour": [
                      {
                        "colorbar": {
                          "outlinewidth": 0,
                          "ticks": ""
                        },
                        "colorscale": [
                          [
                            0,
                            "#0d0887"
                          ],
                          [
                            0.1111111111111111,
                            "#46039f"
                          ],
                          [
                            0.2222222222222222,
                            "#7201a8"
                          ],
                          [
                            0.3333333333333333,
                            "#9c179e"
                          ],
                          [
                            0.4444444444444444,
                            "#bd3786"
                          ],
                          [
                            0.5555555555555556,
                            "#d8576b"
                          ],
                          [
                            0.6666666666666666,
                            "#ed7953"
                          ],
                          [
                            0.7777777777777778,
                            "#fb9f3a"
                          ],
                          [
                            0.8888888888888888,
                            "#fdca26"
                          ],
                          [
                            1,
                            "#f0f921"
                          ]
                        ],
                        "type": "histogram2dcontour"
                      }
                    ],
                    "mesh3d": [
                      {
                        "colorbar": {
                          "outlinewidth": 0,
                          "ticks": ""
                        },
                        "type": "mesh3d"
                      }
                    ],
                    "parcoords": [
                      {
                        "line": {
                          "colorbar": {
                            "outlinewidth": 0,
                            "ticks": ""
                          }
                        },
                        "type": "parcoords"
                      }
                    ],
                    "pie": [
                      {
                        "automargin": true,
                        "type": "pie"
                      }
                    ],
                    "scatter": [
                      {
                        "fillpattern": {
                          "fillmode": "overlay",
                          "size": 10,
                          "solidity": 0.2
                        },
                        "type": "scatter"
                      }
                    ],
                    "scatter3d": [
                      {
                        "line": {
                          "colorbar": {
                            "outlinewidth": 0,
                            "ticks": ""
                          }
                        },
                        "marker": {
                          "colorbar": {
                            "outlinewidth": 0,
                            "ticks": ""
                          }
                        },
                        "type": "scatter3d"
                      }
                    ],
                    "scattercarpet": [
                      {
                        "marker": {
                          "colorbar": {
                            "outlinewidth": 0,
                            "ticks": ""
                          }
                        },
                        "type": "scattercarpet"
                      }
                    ],
                    "scattergeo": [
                      {
                        "marker": {
                          "colorbar": {
                            "outlinewidth": 0,
                            "ticks": ""
                          }
                        },
                        "type": "scattergeo"
                      }
                    ],
                    "scattergl": [
                      {
                        "marker": {
                          "colorbar": {
                            "outlinewidth": 0,
                            "ticks": ""
                          }
                        },
                        "type": "scattergl"
                      }
                    ],
                    "scattermapbox": [
                      {
                        "marker": {
                          "colorbar": {
                            "outlinewidth": 0,
                            "ticks": ""
                          }
                        },
                        "type": "scattermapbox"
                      }
                    ],
                    "scatterpolar": [
                      {
                        "marker": {
                          "colorbar": {
                            "outlinewidth": 0,
                            "ticks": ""
                          }
                        },
                        "type": "scatterpolar"
                      }
                    ],
                    "scatterpolargl": [
                      {
                        "marker": {
                          "colorbar": {
                            "outlinewidth": 0,
                            "ticks": ""
                          }
                        },
                        "type": "scatterpolargl"
                      }
                    ],
                    "scatterternary": [
                      {
                        "marker": {
                          "colorbar": {
                            "outlinewidth": 0,
                            "ticks": ""
                          }
                        },
                        "type": "scatterternary"
                      }
                    ],
                    "surface": [
                      {
                        "colorbar": {
                          "outlinewidth": 0,
                          "ticks": ""
                        },
                        "colorscale": [
                          [
                            0,
                            "#0d0887"
                          ],
                          [
                            0.1111111111111111,
                            "#46039f"
                          ],
                          [
                            0.2222222222222222,
                            "#7201a8"
                          ],
                          [
                            0.3333333333333333,
                            "#9c179e"
                          ],
                          [
                            0.4444444444444444,
                            "#bd3786"
                          ],
                          [
                            0.5555555555555556,
                            "#d8576b"
                          ],
                          [
                            0.6666666666666666,
                            "#ed7953"
                          ],
                          [
                            0.7777777777777778,
                            "#fb9f3a"
                          ],
                          [
                            0.8888888888888888,
                            "#fdca26"
                          ],
                          [
                            1,
                            "#f0f921"
                          ]
                        ],
                        "type": "surface"
                      }
                    ],
                    "table": [
                      {
                        "cells": {
                          "fill": {
                            "color": "#EBF0F8"
                          },
                          "line": {
                            "color": "white"
                          }
                        },
                        "header": {
                          "fill": {
                            "color": "#C8D4E3"
                          },
                          "line": {
                            "color": "white"
                          }
                        },
                        "type": "table"
                      }
                    ]
                  },
                  "layout": {
                    "annotationdefaults": {
                      "arrowcolor": "#2a3f5f",
                      "arrowhead": 0,
                      "arrowwidth": 1
                    },
                    "autotypenumbers": "strict",
                    "coloraxis": {
                      "colorbar": {
                        "outlinewidth": 0,
                        "ticks": ""
                      }
                    },
                    "colorscale": {
                      "diverging": [
                        [
                          0,
                          "#8e0152"
                        ],
                        [
                          0.1,
                          "#c51b7d"
                        ],
                        [
                          0.2,
                          "#de77ae"
                        ],
                        [
                          0.3,
                          "#f1b6da"
                        ],
                        [
                          0.4,
                          "#fde0ef"
                        ],
                        [
                          0.5,
                          "#f7f7f7"
                        ],
                        [
                          0.6,
                          "#e6f5d0"
                        ],
                        [
                          0.7,
                          "#b8e186"
                        ],
                        [
                          0.8,
                          "#7fbc41"
                        ],
                        [
                          0.9,
                          "#4d9221"
                        ],
                        [
                          1,
                          "#276419"
                        ]
                      ],
                      "sequential": [
                        [
                          0,
                          "#0d0887"
                        ],
                        [
                          0.1111111111111111,
                          "#46039f"
                        ],
                        [
                          0.2222222222222222,
                          "#7201a8"
                        ],
                        [
                          0.3333333333333333,
                          "#9c179e"
                        ],
                        [
                          0.4444444444444444,
                          "#bd3786"
                        ],
                        [
                          0.5555555555555556,
                          "#d8576b"
                        ],
                        [
                          0.6666666666666666,
                          "#ed7953"
                        ],
                        [
                          0.7777777777777778,
                          "#fb9f3a"
                        ],
                        [
                          0.8888888888888888,
                          "#fdca26"
                        ],
                        [
                          1,
                          "#f0f921"
                        ]
                      ],
                      "sequentialminus": [
                        [
                          0,
                          "#0d0887"
                        ],
                        [
                          0.1111111111111111,
                          "#46039f"
                        ],
                        [
                          0.2222222222222222,
                          "#7201a8"
                        ],
                        [
                          0.3333333333333333,
                          "#9c179e"
                        ],
                        [
                          0.4444444444444444,
                          "#bd3786"
                        ],
                        [
                          0.5555555555555556,
                          "#d8576b"
                        ],
                        [
                          0.6666666666666666,
                          "#ed7953"
                        ],
                        [
                          0.7777777777777778,
                          "#fb9f3a"
                        ],
                        [
                          0.8888888888888888,
                          "#fdca26"
                        ],
                        [
                          1,
                          "#f0f921"
                        ]
                      ]
                    },
                    "colorway": [
                      "#636efa",
                      "#EF553B",
                      "#00cc96",
                      "#ab63fa",
                      "#FFA15A",
                      "#19d3f3",
                      "#FF6692",
                      "#B6E880",
                      "#FF97FF",
                      "#FECB52"
                    ],
                    "font": {
                      "color": "#2a3f5f"
                    },
                    "geo": {
                      "bgcolor": "white",
                      "lakecolor": "white",
                      "landcolor": "#E5ECF6",
                      "showlakes": true,
                      "showland": true,
                      "subunitcolor": "white"
                    },
                    "hoverlabel": {
                      "align": "left"
                    },
                    "hovermode": "closest",
                    "mapbox": {
                      "style": "light"
                    },
                    "paper_bgcolor": "white",
                    "plot_bgcolor": "#E5ECF6",
                    "polar": {
                      "angularaxis": {
                        "gridcolor": "white",
                        "linecolor": "white",
                        "ticks": ""
                      },
                      "bgcolor": "#E5ECF6",
                      "radialaxis": {
                        "gridcolor": "white",
                        "linecolor": "white",
                        "ticks": ""
                      }
                    },
                    "scene": {
                      "xaxis": {
                        "backgroundcolor": "#E5ECF6",
                        "gridcolor": "white",
                        "gridwidth": 2,
                        "linecolor": "white",
                        "showbackground": true,
                        "ticks": "",
                        "zerolinecolor": "white"
                      },
                      "yaxis": {
                        "backgroundcolor": "#E5ECF6",
                        "gridcolor": "white",
                        "gridwidth": 2,
                        "linecolor": "white",
                        "showbackground": true,
                        "ticks": "",
                        "zerolinecolor": "white"
                      },
                      "zaxis": {
                        "backgroundcolor": "#E5ECF6",
                        "gridcolor": "white",
                        "gridwidth": 2,
                        "linecolor": "white",
                        "showbackground": true,
                        "ticks": "",
                        "zerolinecolor": "white"
                      }
                    },
                    "shapedefaults": {
                      "line": {
                        "color": "#2a3f5f"
                      }
                    },
                    "ternary": {
                      "aaxis": {
                        "gridcolor": "white",
                        "linecolor": "white",
                        "ticks": ""
                      },
                      "baxis": {
                        "gridcolor": "white",
                        "linecolor": "white",
                        "ticks": ""
                      },
                      "bgcolor": "#E5ECF6",
                      "caxis": {
                        "gridcolor": "white",
                        "linecolor": "white",
                        "ticks": ""
                      }
                    },
                    "title": {
                      "x": 0.05
                    },
                    "xaxis": {
                      "automargin": true,
                      "gridcolor": "white",
                      "linecolor": "white",
                      "ticks": "",
                      "title": {
                        "standoff": 15
                      },
                      "zerolinecolor": "white",
                      "zerolinewidth": 2
                    },
                    "yaxis": {
                      "automargin": true,
                      "gridcolor": "white",
                      "linecolor": "white",
                      "ticks": "",
                      "title": {
                        "standoff": 15
                      },
                      "zerolinecolor": "white",
                      "zerolinewidth": 2
                    }
                  }
                }
              }
            }
          },
          "metadata": {},
          "output_type": "display_data"
        }
      ],
      "source": [
        "# px.scatter_3d(data_frame=df,x='applicant_income',y='co-applicant_income',z='loan_amount',color='loan_status')\n",
        "\n",
        "# try this command and see if it works\n",
        "\n",
        "\n",
        "# Create a 3D scatter plot\n",
        "fig = px.scatter_3d(data_frame=df,x='applicant_income',y='coapplicantincome',z='loan_amount',color='loan_status'\n",
        ")\n",
        "\n",
        "# Show the plot\n",
        "fig.show()\n"
      ]
    },
    {
      "cell_type": "markdown",
      "metadata": {
        "id": "Au--3kOwWh_Y",
        "papermill": {
          "duration": 0.02967,
          "end_time": "2020-09-08T03:16:05.823612",
          "exception": false,
          "start_time": "2020-09-08T03:16:05.793942",
          "status": "completed"
        },
        "tags": []
      },
      "source": [
        "##### 3-2-Encoding"
      ]
    },
    {
      "cell_type": "markdown",
      "metadata": {
        "id": "5kbaxTmdWh_Y",
        "papermill": {
          "duration": 0.032563,
          "end_time": "2020-09-08T03:16:05.885144",
          "exception": false,
          "start_time": "2020-09-08T03:16:05.852581",
          "status": "completed"
        },
        "tags": []
      },
      "source": [
        "###### 3-2-1-gender"
      ]
    },
    {
      "cell_type": "code",
      "execution_count": 241,
      "metadata": {
        "execution": {
          "iopub.execute_input": "2020-09-08T03:16:05.949285Z",
          "iopub.status.busy": "2020-09-08T03:16:05.948498Z",
          "iopub.status.idle": "2020-09-08T03:16:05.952191Z",
          "shell.execute_reply": "2020-09-08T03:16:05.951396Z"
        },
        "id": "ORlWxEb3Wh_Z",
        "papermill": {
          "duration": 0.03787,
          "end_time": "2020-09-08T03:16:05.952327",
          "exception": false,
          "start_time": "2020-09-08T03:16:05.914457",
          "status": "completed"
        },
        "tags": []
      },
      "outputs": [],
      "source": [
        "model1=LabelEncoder()"
      ]
    },
    {
      "cell_type": "code",
      "execution_count": 242,
      "metadata": {
        "execution": {
          "iopub.execute_input": "2020-09-08T03:16:06.019197Z",
          "iopub.status.busy": "2020-09-08T03:16:06.018016Z",
          "iopub.status.idle": "2020-09-08T03:16:06.023852Z",
          "shell.execute_reply": "2020-09-08T03:16:06.023070Z"
        },
        "id": "uv3TElhhWh_Z",
        "papermill": {
          "duration": 0.042876,
          "end_time": "2020-09-08T03:16:06.023983",
          "exception": false,
          "start_time": "2020-09-08T03:16:05.981107",
          "status": "completed"
        },
        "tags": []
      },
      "outputs": [
        {
          "data": {
            "text/html": [
              "<style>#sk-container-id-34 {color: black;background-color: white;}#sk-container-id-34 pre{padding: 0;}#sk-container-id-34 div.sk-toggleable {background-color: white;}#sk-container-id-34 label.sk-toggleable__label {cursor: pointer;display: block;width: 100%;margin-bottom: 0;padding: 0.3em;box-sizing: border-box;text-align: center;}#sk-container-id-34 label.sk-toggleable__label-arrow:before {content: \"▸\";float: left;margin-right: 0.25em;color: #696969;}#sk-container-id-34 label.sk-toggleable__label-arrow:hover:before {color: black;}#sk-container-id-34 div.sk-estimator:hover label.sk-toggleable__label-arrow:before {color: black;}#sk-container-id-34 div.sk-toggleable__content {max-height: 0;max-width: 0;overflow: hidden;text-align: left;background-color: #f0f8ff;}#sk-container-id-34 div.sk-toggleable__content pre {margin: 0.2em;color: black;border-radius: 0.25em;background-color: #f0f8ff;}#sk-container-id-34 input.sk-toggleable__control:checked~div.sk-toggleable__content {max-height: 200px;max-width: 100%;overflow: auto;}#sk-container-id-34 input.sk-toggleable__control:checked~label.sk-toggleable__label-arrow:before {content: \"▾\";}#sk-container-id-34 div.sk-estimator input.sk-toggleable__control:checked~label.sk-toggleable__label {background-color: #d4ebff;}#sk-container-id-34 div.sk-label input.sk-toggleable__control:checked~label.sk-toggleable__label {background-color: #d4ebff;}#sk-container-id-34 input.sk-hidden--visually {border: 0;clip: rect(1px 1px 1px 1px);clip: rect(1px, 1px, 1px, 1px);height: 1px;margin: -1px;overflow: hidden;padding: 0;position: absolute;width: 1px;}#sk-container-id-34 div.sk-estimator {font-family: monospace;background-color: #f0f8ff;border: 1px dotted black;border-radius: 0.25em;box-sizing: border-box;margin-bottom: 0.5em;}#sk-container-id-34 div.sk-estimator:hover {background-color: #d4ebff;}#sk-container-id-34 div.sk-parallel-item::after {content: \"\";width: 100%;border-bottom: 1px solid gray;flex-grow: 1;}#sk-container-id-34 div.sk-label:hover label.sk-toggleable__label {background-color: #d4ebff;}#sk-container-id-34 div.sk-serial::before {content: \"\";position: absolute;border-left: 1px solid gray;box-sizing: border-box;top: 0;bottom: 0;left: 50%;z-index: 0;}#sk-container-id-34 div.sk-serial {display: flex;flex-direction: column;align-items: center;background-color: white;padding-right: 0.2em;padding-left: 0.2em;position: relative;}#sk-container-id-34 div.sk-item {position: relative;z-index: 1;}#sk-container-id-34 div.sk-parallel {display: flex;align-items: stretch;justify-content: center;background-color: white;position: relative;}#sk-container-id-34 div.sk-item::before, #sk-container-id-34 div.sk-parallel-item::before {content: \"\";position: absolute;border-left: 1px solid gray;box-sizing: border-box;top: 0;bottom: 0;left: 50%;z-index: -1;}#sk-container-id-34 div.sk-parallel-item {display: flex;flex-direction: column;z-index: 1;position: relative;background-color: white;}#sk-container-id-34 div.sk-parallel-item:first-child::after {align-self: flex-end;width: 50%;}#sk-container-id-34 div.sk-parallel-item:last-child::after {align-self: flex-start;width: 50%;}#sk-container-id-34 div.sk-parallel-item:only-child::after {width: 0;}#sk-container-id-34 div.sk-dashed-wrapped {border: 1px dashed gray;margin: 0 0.4em 0.5em 0.4em;box-sizing: border-box;padding-bottom: 0.4em;background-color: white;}#sk-container-id-34 div.sk-label label {font-family: monospace;font-weight: bold;display: inline-block;line-height: 1.2em;}#sk-container-id-34 div.sk-label-container {text-align: center;}#sk-container-id-34 div.sk-container {/* jupyter's `normalize.less` sets `[hidden] { display: none; }` but bootstrap.min.css set `[hidden] { display: none !important; }` so we also need the `!important` here to be able to override the default hidden behavior on the sphinx rendered scikit-learn.org. See: https://github.com/scikit-learn/scikit-learn/issues/21755 */display: inline-block !important;position: relative;}#sk-container-id-34 div.sk-text-repr-fallback {display: none;}</style><div id=\"sk-container-id-34\" class=\"sk-top-container\"><div class=\"sk-text-repr-fallback\"><pre>LabelEncoder()</pre><b>In a Jupyter environment, please rerun this cell to show the HTML representation or trust the notebook. <br />On GitHub, the HTML representation is unable to render, please try loading this page with nbviewer.org.</b></div><div class=\"sk-container\" hidden><div class=\"sk-item\"><div class=\"sk-estimator sk-toggleable\"><input class=\"sk-toggleable__control sk-hidden--visually\" id=\"sk-estimator-id-34\" type=\"checkbox\" checked><label for=\"sk-estimator-id-34\" class=\"sk-toggleable__label sk-toggleable__label-arrow\">LabelEncoder</label><div class=\"sk-toggleable__content\"><pre>LabelEncoder()</pre></div></div></div></div></div>"
            ],
            "text/plain": [
              "LabelEncoder()"
            ]
          },
          "execution_count": 242,
          "metadata": {},
          "output_type": "execute_result"
        }
      ],
      "source": [
        "model1.fit(df['gender'])"
      ]
    },
    {
      "cell_type": "code",
      "execution_count": 243,
      "metadata": {
        "execution": {
          "iopub.execute_input": "2020-09-08T03:16:06.094072Z",
          "iopub.status.busy": "2020-09-08T03:16:06.093112Z",
          "iopub.status.idle": "2020-09-08T03:16:06.096744Z",
          "shell.execute_reply": "2020-09-08T03:16:06.096070Z"
        },
        "id": "pvGBgW5zWh_Z",
        "papermill": {
          "duration": 0.043284,
          "end_time": "2020-09-08T03:16:06.096910",
          "exception": false,
          "start_time": "2020-09-08T03:16:06.053626",
          "status": "completed"
        },
        "tags": []
      },
      "outputs": [],
      "source": [
        "df['gender']= model1.transform(df['gender'])"
      ]
    },
    {
      "cell_type": "markdown",
      "metadata": {
        "id": "8yWDmlDGWh_Z",
        "papermill": {
          "duration": 0.029729,
          "end_time": "2020-09-08T03:16:06.155847",
          "exception": false,
          "start_time": "2020-09-08T03:16:06.126118",
          "status": "completed"
        },
        "tags": []
      },
      "source": [
        "###### 3-2-2-married"
      ]
    },
    {
      "cell_type": "code",
      "execution_count": 244,
      "metadata": {
        "execution": {
          "iopub.execute_input": "2020-09-08T03:16:06.222196Z",
          "iopub.status.busy": "2020-09-08T03:16:06.221004Z",
          "iopub.status.idle": "2020-09-08T03:16:06.224732Z",
          "shell.execute_reply": "2020-09-08T03:16:06.223978Z"
        },
        "id": "H7Ea_aNKWh_Z",
        "papermill": {
          "duration": 0.04018,
          "end_time": "2020-09-08T03:16:06.224884",
          "exception": false,
          "start_time": "2020-09-08T03:16:06.184704",
          "status": "completed"
        },
        "tags": []
      },
      "outputs": [],
      "source": [
        "model2=LabelEncoder()"
      ]
    },
    {
      "cell_type": "code",
      "execution_count": 245,
      "metadata": {
        "execution": {
          "iopub.execute_input": "2020-09-08T03:16:06.295821Z",
          "iopub.status.busy": "2020-09-08T03:16:06.294988Z",
          "iopub.status.idle": "2020-09-08T03:16:06.299327Z",
          "shell.execute_reply": "2020-09-08T03:16:06.298561Z"
        },
        "id": "f2DNg0H8Wh_Z",
        "papermill": {
          "duration": 0.044075,
          "end_time": "2020-09-08T03:16:06.299454",
          "exception": false,
          "start_time": "2020-09-08T03:16:06.255379",
          "status": "completed"
        },
        "tags": []
      },
      "outputs": [
        {
          "data": {
            "text/html": [
              "<style>#sk-container-id-35 {color: black;background-color: white;}#sk-container-id-35 pre{padding: 0;}#sk-container-id-35 div.sk-toggleable {background-color: white;}#sk-container-id-35 label.sk-toggleable__label {cursor: pointer;display: block;width: 100%;margin-bottom: 0;padding: 0.3em;box-sizing: border-box;text-align: center;}#sk-container-id-35 label.sk-toggleable__label-arrow:before {content: \"▸\";float: left;margin-right: 0.25em;color: #696969;}#sk-container-id-35 label.sk-toggleable__label-arrow:hover:before {color: black;}#sk-container-id-35 div.sk-estimator:hover label.sk-toggleable__label-arrow:before {color: black;}#sk-container-id-35 div.sk-toggleable__content {max-height: 0;max-width: 0;overflow: hidden;text-align: left;background-color: #f0f8ff;}#sk-container-id-35 div.sk-toggleable__content pre {margin: 0.2em;color: black;border-radius: 0.25em;background-color: #f0f8ff;}#sk-container-id-35 input.sk-toggleable__control:checked~div.sk-toggleable__content {max-height: 200px;max-width: 100%;overflow: auto;}#sk-container-id-35 input.sk-toggleable__control:checked~label.sk-toggleable__label-arrow:before {content: \"▾\";}#sk-container-id-35 div.sk-estimator input.sk-toggleable__control:checked~label.sk-toggleable__label {background-color: #d4ebff;}#sk-container-id-35 div.sk-label input.sk-toggleable__control:checked~label.sk-toggleable__label {background-color: #d4ebff;}#sk-container-id-35 input.sk-hidden--visually {border: 0;clip: rect(1px 1px 1px 1px);clip: rect(1px, 1px, 1px, 1px);height: 1px;margin: -1px;overflow: hidden;padding: 0;position: absolute;width: 1px;}#sk-container-id-35 div.sk-estimator {font-family: monospace;background-color: #f0f8ff;border: 1px dotted black;border-radius: 0.25em;box-sizing: border-box;margin-bottom: 0.5em;}#sk-container-id-35 div.sk-estimator:hover {background-color: #d4ebff;}#sk-container-id-35 div.sk-parallel-item::after {content: \"\";width: 100%;border-bottom: 1px solid gray;flex-grow: 1;}#sk-container-id-35 div.sk-label:hover label.sk-toggleable__label {background-color: #d4ebff;}#sk-container-id-35 div.sk-serial::before {content: \"\";position: absolute;border-left: 1px solid gray;box-sizing: border-box;top: 0;bottom: 0;left: 50%;z-index: 0;}#sk-container-id-35 div.sk-serial {display: flex;flex-direction: column;align-items: center;background-color: white;padding-right: 0.2em;padding-left: 0.2em;position: relative;}#sk-container-id-35 div.sk-item {position: relative;z-index: 1;}#sk-container-id-35 div.sk-parallel {display: flex;align-items: stretch;justify-content: center;background-color: white;position: relative;}#sk-container-id-35 div.sk-item::before, #sk-container-id-35 div.sk-parallel-item::before {content: \"\";position: absolute;border-left: 1px solid gray;box-sizing: border-box;top: 0;bottom: 0;left: 50%;z-index: -1;}#sk-container-id-35 div.sk-parallel-item {display: flex;flex-direction: column;z-index: 1;position: relative;background-color: white;}#sk-container-id-35 div.sk-parallel-item:first-child::after {align-self: flex-end;width: 50%;}#sk-container-id-35 div.sk-parallel-item:last-child::after {align-self: flex-start;width: 50%;}#sk-container-id-35 div.sk-parallel-item:only-child::after {width: 0;}#sk-container-id-35 div.sk-dashed-wrapped {border: 1px dashed gray;margin: 0 0.4em 0.5em 0.4em;box-sizing: border-box;padding-bottom: 0.4em;background-color: white;}#sk-container-id-35 div.sk-label label {font-family: monospace;font-weight: bold;display: inline-block;line-height: 1.2em;}#sk-container-id-35 div.sk-label-container {text-align: center;}#sk-container-id-35 div.sk-container {/* jupyter's `normalize.less` sets `[hidden] { display: none; }` but bootstrap.min.css set `[hidden] { display: none !important; }` so we also need the `!important` here to be able to override the default hidden behavior on the sphinx rendered scikit-learn.org. See: https://github.com/scikit-learn/scikit-learn/issues/21755 */display: inline-block !important;position: relative;}#sk-container-id-35 div.sk-text-repr-fallback {display: none;}</style><div id=\"sk-container-id-35\" class=\"sk-top-container\"><div class=\"sk-text-repr-fallback\"><pre>LabelEncoder()</pre><b>In a Jupyter environment, please rerun this cell to show the HTML representation or trust the notebook. <br />On GitHub, the HTML representation is unable to render, please try loading this page with nbviewer.org.</b></div><div class=\"sk-container\" hidden><div class=\"sk-item\"><div class=\"sk-estimator sk-toggleable\"><input class=\"sk-toggleable__control sk-hidden--visually\" id=\"sk-estimator-id-35\" type=\"checkbox\" checked><label for=\"sk-estimator-id-35\" class=\"sk-toggleable__label sk-toggleable__label-arrow\">LabelEncoder</label><div class=\"sk-toggleable__content\"><pre>LabelEncoder()</pre></div></div></div></div></div>"
            ],
            "text/plain": [
              "LabelEncoder()"
            ]
          },
          "execution_count": 245,
          "metadata": {},
          "output_type": "execute_result"
        }
      ],
      "source": [
        "model2.fit(df['married'])"
      ]
    },
    {
      "cell_type": "code",
      "execution_count": 246,
      "metadata": {
        "execution": {
          "iopub.execute_input": "2020-09-08T03:16:06.367967Z",
          "iopub.status.busy": "2020-09-08T03:16:06.366916Z",
          "iopub.status.idle": "2020-09-08T03:16:06.370583Z",
          "shell.execute_reply": "2020-09-08T03:16:06.369948Z"
        },
        "id": "Uz2USyIIWh_a",
        "papermill": {
          "duration": 0.040351,
          "end_time": "2020-09-08T03:16:06.370713",
          "exception": false,
          "start_time": "2020-09-08T03:16:06.330362",
          "status": "completed"
        },
        "tags": []
      },
      "outputs": [],
      "source": [
        "df['married']= model2.transform(df['married'])"
      ]
    },
    {
      "cell_type": "markdown",
      "metadata": {
        "id": "V5RHDqzDWh_a",
        "papermill": {
          "duration": 0.031241,
          "end_time": "2020-09-08T03:16:06.432897",
          "exception": false,
          "start_time": "2020-09-08T03:16:06.401656",
          "status": "completed"
        },
        "tags": []
      },
      "source": [
        "###### 3-2-3-education"
      ]
    },
    {
      "cell_type": "code",
      "execution_count": 247,
      "metadata": {
        "execution": {
          "iopub.execute_input": "2020-09-08T03:16:06.504427Z",
          "iopub.status.busy": "2020-09-08T03:16:06.503566Z",
          "iopub.status.idle": "2020-09-08T03:16:06.507525Z",
          "shell.execute_reply": "2020-09-08T03:16:06.506682Z"
        },
        "id": "afePEtxHWh_a",
        "papermill": {
          "duration": 0.041005,
          "end_time": "2020-09-08T03:16:06.507659",
          "exception": false,
          "start_time": "2020-09-08T03:16:06.466654",
          "status": "completed"
        },
        "tags": []
      },
      "outputs": [],
      "source": [
        "model3=LabelEncoder()"
      ]
    },
    {
      "cell_type": "code",
      "execution_count": 248,
      "metadata": {
        "execution": {
          "iopub.execute_input": "2020-09-08T03:16:06.574611Z",
          "iopub.status.busy": "2020-09-08T03:16:06.573448Z",
          "iopub.status.idle": "2020-09-08T03:16:06.578526Z",
          "shell.execute_reply": "2020-09-08T03:16:06.577945Z"
        },
        "id": "9eU6npGRWh_a",
        "papermill": {
          "duration": 0.041678,
          "end_time": "2020-09-08T03:16:06.578667",
          "exception": false,
          "start_time": "2020-09-08T03:16:06.536989",
          "status": "completed"
        },
        "tags": []
      },
      "outputs": [
        {
          "data": {
            "text/html": [
              "<style>#sk-container-id-36 {color: black;background-color: white;}#sk-container-id-36 pre{padding: 0;}#sk-container-id-36 div.sk-toggleable {background-color: white;}#sk-container-id-36 label.sk-toggleable__label {cursor: pointer;display: block;width: 100%;margin-bottom: 0;padding: 0.3em;box-sizing: border-box;text-align: center;}#sk-container-id-36 label.sk-toggleable__label-arrow:before {content: \"▸\";float: left;margin-right: 0.25em;color: #696969;}#sk-container-id-36 label.sk-toggleable__label-arrow:hover:before {color: black;}#sk-container-id-36 div.sk-estimator:hover label.sk-toggleable__label-arrow:before {color: black;}#sk-container-id-36 div.sk-toggleable__content {max-height: 0;max-width: 0;overflow: hidden;text-align: left;background-color: #f0f8ff;}#sk-container-id-36 div.sk-toggleable__content pre {margin: 0.2em;color: black;border-radius: 0.25em;background-color: #f0f8ff;}#sk-container-id-36 input.sk-toggleable__control:checked~div.sk-toggleable__content {max-height: 200px;max-width: 100%;overflow: auto;}#sk-container-id-36 input.sk-toggleable__control:checked~label.sk-toggleable__label-arrow:before {content: \"▾\";}#sk-container-id-36 div.sk-estimator input.sk-toggleable__control:checked~label.sk-toggleable__label {background-color: #d4ebff;}#sk-container-id-36 div.sk-label input.sk-toggleable__control:checked~label.sk-toggleable__label {background-color: #d4ebff;}#sk-container-id-36 input.sk-hidden--visually {border: 0;clip: rect(1px 1px 1px 1px);clip: rect(1px, 1px, 1px, 1px);height: 1px;margin: -1px;overflow: hidden;padding: 0;position: absolute;width: 1px;}#sk-container-id-36 div.sk-estimator {font-family: monospace;background-color: #f0f8ff;border: 1px dotted black;border-radius: 0.25em;box-sizing: border-box;margin-bottom: 0.5em;}#sk-container-id-36 div.sk-estimator:hover {background-color: #d4ebff;}#sk-container-id-36 div.sk-parallel-item::after {content: \"\";width: 100%;border-bottom: 1px solid gray;flex-grow: 1;}#sk-container-id-36 div.sk-label:hover label.sk-toggleable__label {background-color: #d4ebff;}#sk-container-id-36 div.sk-serial::before {content: \"\";position: absolute;border-left: 1px solid gray;box-sizing: border-box;top: 0;bottom: 0;left: 50%;z-index: 0;}#sk-container-id-36 div.sk-serial {display: flex;flex-direction: column;align-items: center;background-color: white;padding-right: 0.2em;padding-left: 0.2em;position: relative;}#sk-container-id-36 div.sk-item {position: relative;z-index: 1;}#sk-container-id-36 div.sk-parallel {display: flex;align-items: stretch;justify-content: center;background-color: white;position: relative;}#sk-container-id-36 div.sk-item::before, #sk-container-id-36 div.sk-parallel-item::before {content: \"\";position: absolute;border-left: 1px solid gray;box-sizing: border-box;top: 0;bottom: 0;left: 50%;z-index: -1;}#sk-container-id-36 div.sk-parallel-item {display: flex;flex-direction: column;z-index: 1;position: relative;background-color: white;}#sk-container-id-36 div.sk-parallel-item:first-child::after {align-self: flex-end;width: 50%;}#sk-container-id-36 div.sk-parallel-item:last-child::after {align-self: flex-start;width: 50%;}#sk-container-id-36 div.sk-parallel-item:only-child::after {width: 0;}#sk-container-id-36 div.sk-dashed-wrapped {border: 1px dashed gray;margin: 0 0.4em 0.5em 0.4em;box-sizing: border-box;padding-bottom: 0.4em;background-color: white;}#sk-container-id-36 div.sk-label label {font-family: monospace;font-weight: bold;display: inline-block;line-height: 1.2em;}#sk-container-id-36 div.sk-label-container {text-align: center;}#sk-container-id-36 div.sk-container {/* jupyter's `normalize.less` sets `[hidden] { display: none; }` but bootstrap.min.css set `[hidden] { display: none !important; }` so we also need the `!important` here to be able to override the default hidden behavior on the sphinx rendered scikit-learn.org. See: https://github.com/scikit-learn/scikit-learn/issues/21755 */display: inline-block !important;position: relative;}#sk-container-id-36 div.sk-text-repr-fallback {display: none;}</style><div id=\"sk-container-id-36\" class=\"sk-top-container\"><div class=\"sk-text-repr-fallback\"><pre>LabelEncoder()</pre><b>In a Jupyter environment, please rerun this cell to show the HTML representation or trust the notebook. <br />On GitHub, the HTML representation is unable to render, please try loading this page with nbviewer.org.</b></div><div class=\"sk-container\" hidden><div class=\"sk-item\"><div class=\"sk-estimator sk-toggleable\"><input class=\"sk-toggleable__control sk-hidden--visually\" id=\"sk-estimator-id-36\" type=\"checkbox\" checked><label for=\"sk-estimator-id-36\" class=\"sk-toggleable__label sk-toggleable__label-arrow\">LabelEncoder</label><div class=\"sk-toggleable__content\"><pre>LabelEncoder()</pre></div></div></div></div></div>"
            ],
            "text/plain": [
              "LabelEncoder()"
            ]
          },
          "execution_count": 248,
          "metadata": {},
          "output_type": "execute_result"
        }
      ],
      "source": [
        "model3.fit(df['education'])"
      ]
    },
    {
      "cell_type": "code",
      "execution_count": 249,
      "metadata": {
        "execution": {
          "iopub.execute_input": "2020-09-08T03:16:06.647661Z",
          "iopub.status.busy": "2020-09-08T03:16:06.646476Z",
          "iopub.status.idle": "2020-09-08T03:16:06.649387Z",
          "shell.execute_reply": "2020-09-08T03:16:06.649995Z"
        },
        "id": "hVFjw-1MWh_a",
        "papermill": {
          "duration": 0.041559,
          "end_time": "2020-09-08T03:16:06.650166",
          "exception": false,
          "start_time": "2020-09-08T03:16:06.608607",
          "status": "completed"
        },
        "tags": []
      },
      "outputs": [],
      "source": [
        "df['education']= model3.transform(df['education'])"
      ]
    },
    {
      "cell_type": "markdown",
      "metadata": {
        "id": "hIq_oJP-Wh_b",
        "papermill": {
          "duration": 0.029583,
          "end_time": "2020-09-08T03:16:06.709183",
          "exception": false,
          "start_time": "2020-09-08T03:16:06.679600",
          "status": "completed"
        },
        "tags": []
      },
      "source": [
        "###### 3-2-4-self_employed"
      ]
    },
    {
      "cell_type": "code",
      "execution_count": 250,
      "metadata": {
        "execution": {
          "iopub.execute_input": "2020-09-08T03:16:06.775569Z",
          "iopub.status.busy": "2020-09-08T03:16:06.774514Z",
          "iopub.status.idle": "2020-09-08T03:16:06.777409Z",
          "shell.execute_reply": "2020-09-08T03:16:06.777964Z"
        },
        "id": "8AgoSJzuWh_b",
        "papermill": {
          "duration": 0.039598,
          "end_time": "2020-09-08T03:16:06.778140",
          "exception": false,
          "start_time": "2020-09-08T03:16:06.738542",
          "status": "completed"
        },
        "tags": []
      },
      "outputs": [],
      "source": [
        "model4=LabelEncoder()"
      ]
    },
    {
      "cell_type": "code",
      "execution_count": 251,
      "metadata": {
        "execution": {
          "iopub.execute_input": "2020-09-08T03:16:06.846303Z",
          "iopub.status.busy": "2020-09-08T03:16:06.845098Z",
          "iopub.status.idle": "2020-09-08T03:16:06.850215Z",
          "shell.execute_reply": "2020-09-08T03:16:06.849498Z"
        },
        "id": "1F8TixZUWh_b",
        "papermill": {
          "duration": 0.042008,
          "end_time": "2020-09-08T03:16:06.850339",
          "exception": false,
          "start_time": "2020-09-08T03:16:06.808331",
          "status": "completed"
        },
        "tags": []
      },
      "outputs": [
        {
          "data": {
            "text/html": [
              "<style>#sk-container-id-37 {color: black;background-color: white;}#sk-container-id-37 pre{padding: 0;}#sk-container-id-37 div.sk-toggleable {background-color: white;}#sk-container-id-37 label.sk-toggleable__label {cursor: pointer;display: block;width: 100%;margin-bottom: 0;padding: 0.3em;box-sizing: border-box;text-align: center;}#sk-container-id-37 label.sk-toggleable__label-arrow:before {content: \"▸\";float: left;margin-right: 0.25em;color: #696969;}#sk-container-id-37 label.sk-toggleable__label-arrow:hover:before {color: black;}#sk-container-id-37 div.sk-estimator:hover label.sk-toggleable__label-arrow:before {color: black;}#sk-container-id-37 div.sk-toggleable__content {max-height: 0;max-width: 0;overflow: hidden;text-align: left;background-color: #f0f8ff;}#sk-container-id-37 div.sk-toggleable__content pre {margin: 0.2em;color: black;border-radius: 0.25em;background-color: #f0f8ff;}#sk-container-id-37 input.sk-toggleable__control:checked~div.sk-toggleable__content {max-height: 200px;max-width: 100%;overflow: auto;}#sk-container-id-37 input.sk-toggleable__control:checked~label.sk-toggleable__label-arrow:before {content: \"▾\";}#sk-container-id-37 div.sk-estimator input.sk-toggleable__control:checked~label.sk-toggleable__label {background-color: #d4ebff;}#sk-container-id-37 div.sk-label input.sk-toggleable__control:checked~label.sk-toggleable__label {background-color: #d4ebff;}#sk-container-id-37 input.sk-hidden--visually {border: 0;clip: rect(1px 1px 1px 1px);clip: rect(1px, 1px, 1px, 1px);height: 1px;margin: -1px;overflow: hidden;padding: 0;position: absolute;width: 1px;}#sk-container-id-37 div.sk-estimator {font-family: monospace;background-color: #f0f8ff;border: 1px dotted black;border-radius: 0.25em;box-sizing: border-box;margin-bottom: 0.5em;}#sk-container-id-37 div.sk-estimator:hover {background-color: #d4ebff;}#sk-container-id-37 div.sk-parallel-item::after {content: \"\";width: 100%;border-bottom: 1px solid gray;flex-grow: 1;}#sk-container-id-37 div.sk-label:hover label.sk-toggleable__label {background-color: #d4ebff;}#sk-container-id-37 div.sk-serial::before {content: \"\";position: absolute;border-left: 1px solid gray;box-sizing: border-box;top: 0;bottom: 0;left: 50%;z-index: 0;}#sk-container-id-37 div.sk-serial {display: flex;flex-direction: column;align-items: center;background-color: white;padding-right: 0.2em;padding-left: 0.2em;position: relative;}#sk-container-id-37 div.sk-item {position: relative;z-index: 1;}#sk-container-id-37 div.sk-parallel {display: flex;align-items: stretch;justify-content: center;background-color: white;position: relative;}#sk-container-id-37 div.sk-item::before, #sk-container-id-37 div.sk-parallel-item::before {content: \"\";position: absolute;border-left: 1px solid gray;box-sizing: border-box;top: 0;bottom: 0;left: 50%;z-index: -1;}#sk-container-id-37 div.sk-parallel-item {display: flex;flex-direction: column;z-index: 1;position: relative;background-color: white;}#sk-container-id-37 div.sk-parallel-item:first-child::after {align-self: flex-end;width: 50%;}#sk-container-id-37 div.sk-parallel-item:last-child::after {align-self: flex-start;width: 50%;}#sk-container-id-37 div.sk-parallel-item:only-child::after {width: 0;}#sk-container-id-37 div.sk-dashed-wrapped {border: 1px dashed gray;margin: 0 0.4em 0.5em 0.4em;box-sizing: border-box;padding-bottom: 0.4em;background-color: white;}#sk-container-id-37 div.sk-label label {font-family: monospace;font-weight: bold;display: inline-block;line-height: 1.2em;}#sk-container-id-37 div.sk-label-container {text-align: center;}#sk-container-id-37 div.sk-container {/* jupyter's `normalize.less` sets `[hidden] { display: none; }` but bootstrap.min.css set `[hidden] { display: none !important; }` so we also need the `!important` here to be able to override the default hidden behavior on the sphinx rendered scikit-learn.org. See: https://github.com/scikit-learn/scikit-learn/issues/21755 */display: inline-block !important;position: relative;}#sk-container-id-37 div.sk-text-repr-fallback {display: none;}</style><div id=\"sk-container-id-37\" class=\"sk-top-container\"><div class=\"sk-text-repr-fallback\"><pre>LabelEncoder()</pre><b>In a Jupyter environment, please rerun this cell to show the HTML representation or trust the notebook. <br />On GitHub, the HTML representation is unable to render, please try loading this page with nbviewer.org.</b></div><div class=\"sk-container\" hidden><div class=\"sk-item\"><div class=\"sk-estimator sk-toggleable\"><input class=\"sk-toggleable__control sk-hidden--visually\" id=\"sk-estimator-id-37\" type=\"checkbox\" checked><label for=\"sk-estimator-id-37\" class=\"sk-toggleable__label sk-toggleable__label-arrow\">LabelEncoder</label><div class=\"sk-toggleable__content\"><pre>LabelEncoder()</pre></div></div></div></div></div>"
            ],
            "text/plain": [
              "LabelEncoder()"
            ]
          },
          "execution_count": 251,
          "metadata": {},
          "output_type": "execute_result"
        }
      ],
      "source": [
        "model4.fit(df['self_employed'])"
      ]
    },
    {
      "cell_type": "code",
      "execution_count": 252,
      "metadata": {
        "execution": {
          "iopub.execute_input": "2020-09-08T03:16:06.917673Z",
          "iopub.status.busy": "2020-09-08T03:16:06.916924Z",
          "iopub.status.idle": "2020-09-08T03:16:06.920588Z",
          "shell.execute_reply": "2020-09-08T03:16:06.919849Z"
        },
        "id": "kS8hqaNcWh_b",
        "papermill": {
          "duration": 0.040144,
          "end_time": "2020-09-08T03:16:06.920711",
          "exception": false,
          "start_time": "2020-09-08T03:16:06.880567",
          "status": "completed"
        },
        "tags": []
      },
      "outputs": [],
      "source": [
        "df['self_employed']= model4.transform(df['self_employed'])"
      ]
    },
    {
      "cell_type": "markdown",
      "metadata": {
        "id": "RsSiY4KUWh_b",
        "papermill": {
          "duration": 0.029232,
          "end_time": "2020-09-08T03:16:06.979610",
          "exception": false,
          "start_time": "2020-09-08T03:16:06.950378",
          "status": "completed"
        },
        "tags": []
      },
      "source": [
        "###### 3-2-5-property_area"
      ]
    },
    {
      "cell_type": "code",
      "execution_count": 253,
      "metadata": {
        "execution": {
          "iopub.execute_input": "2020-09-08T03:16:07.049537Z",
          "iopub.status.busy": "2020-09-08T03:16:07.048731Z",
          "iopub.status.idle": "2020-09-08T03:16:07.052665Z",
          "shell.execute_reply": "2020-09-08T03:16:07.051866Z"
        },
        "id": "TPP6tmsYWh_b",
        "papermill": {
          "duration": 0.040401,
          "end_time": "2020-09-08T03:16:07.052818",
          "exception": false,
          "start_time": "2020-09-08T03:16:07.012417",
          "status": "completed"
        },
        "tags": []
      },
      "outputs": [],
      "source": [
        "model5=LabelEncoder()"
      ]
    },
    {
      "cell_type": "code",
      "execution_count": 254,
      "metadata": {
        "execution": {
          "iopub.execute_input": "2020-09-08T03:16:07.122699Z",
          "iopub.status.busy": "2020-09-08T03:16:07.121879Z",
          "iopub.status.idle": "2020-09-08T03:16:07.126525Z",
          "shell.execute_reply": "2020-09-08T03:16:07.125827Z"
        },
        "id": "qKeZ_1sPWh_c",
        "papermill": {
          "duration": 0.042427,
          "end_time": "2020-09-08T03:16:07.126658",
          "exception": false,
          "start_time": "2020-09-08T03:16:07.084231",
          "status": "completed"
        },
        "tags": []
      },
      "outputs": [
        {
          "data": {
            "text/html": [
              "<style>#sk-container-id-38 {color: black;background-color: white;}#sk-container-id-38 pre{padding: 0;}#sk-container-id-38 div.sk-toggleable {background-color: white;}#sk-container-id-38 label.sk-toggleable__label {cursor: pointer;display: block;width: 100%;margin-bottom: 0;padding: 0.3em;box-sizing: border-box;text-align: center;}#sk-container-id-38 label.sk-toggleable__label-arrow:before {content: \"▸\";float: left;margin-right: 0.25em;color: #696969;}#sk-container-id-38 label.sk-toggleable__label-arrow:hover:before {color: black;}#sk-container-id-38 div.sk-estimator:hover label.sk-toggleable__label-arrow:before {color: black;}#sk-container-id-38 div.sk-toggleable__content {max-height: 0;max-width: 0;overflow: hidden;text-align: left;background-color: #f0f8ff;}#sk-container-id-38 div.sk-toggleable__content pre {margin: 0.2em;color: black;border-radius: 0.25em;background-color: #f0f8ff;}#sk-container-id-38 input.sk-toggleable__control:checked~div.sk-toggleable__content {max-height: 200px;max-width: 100%;overflow: auto;}#sk-container-id-38 input.sk-toggleable__control:checked~label.sk-toggleable__label-arrow:before {content: \"▾\";}#sk-container-id-38 div.sk-estimator input.sk-toggleable__control:checked~label.sk-toggleable__label {background-color: #d4ebff;}#sk-container-id-38 div.sk-label input.sk-toggleable__control:checked~label.sk-toggleable__label {background-color: #d4ebff;}#sk-container-id-38 input.sk-hidden--visually {border: 0;clip: rect(1px 1px 1px 1px);clip: rect(1px, 1px, 1px, 1px);height: 1px;margin: -1px;overflow: hidden;padding: 0;position: absolute;width: 1px;}#sk-container-id-38 div.sk-estimator {font-family: monospace;background-color: #f0f8ff;border: 1px dotted black;border-radius: 0.25em;box-sizing: border-box;margin-bottom: 0.5em;}#sk-container-id-38 div.sk-estimator:hover {background-color: #d4ebff;}#sk-container-id-38 div.sk-parallel-item::after {content: \"\";width: 100%;border-bottom: 1px solid gray;flex-grow: 1;}#sk-container-id-38 div.sk-label:hover label.sk-toggleable__label {background-color: #d4ebff;}#sk-container-id-38 div.sk-serial::before {content: \"\";position: absolute;border-left: 1px solid gray;box-sizing: border-box;top: 0;bottom: 0;left: 50%;z-index: 0;}#sk-container-id-38 div.sk-serial {display: flex;flex-direction: column;align-items: center;background-color: white;padding-right: 0.2em;padding-left: 0.2em;position: relative;}#sk-container-id-38 div.sk-item {position: relative;z-index: 1;}#sk-container-id-38 div.sk-parallel {display: flex;align-items: stretch;justify-content: center;background-color: white;position: relative;}#sk-container-id-38 div.sk-item::before, #sk-container-id-38 div.sk-parallel-item::before {content: \"\";position: absolute;border-left: 1px solid gray;box-sizing: border-box;top: 0;bottom: 0;left: 50%;z-index: -1;}#sk-container-id-38 div.sk-parallel-item {display: flex;flex-direction: column;z-index: 1;position: relative;background-color: white;}#sk-container-id-38 div.sk-parallel-item:first-child::after {align-self: flex-end;width: 50%;}#sk-container-id-38 div.sk-parallel-item:last-child::after {align-self: flex-start;width: 50%;}#sk-container-id-38 div.sk-parallel-item:only-child::after {width: 0;}#sk-container-id-38 div.sk-dashed-wrapped {border: 1px dashed gray;margin: 0 0.4em 0.5em 0.4em;box-sizing: border-box;padding-bottom: 0.4em;background-color: white;}#sk-container-id-38 div.sk-label label {font-family: monospace;font-weight: bold;display: inline-block;line-height: 1.2em;}#sk-container-id-38 div.sk-label-container {text-align: center;}#sk-container-id-38 div.sk-container {/* jupyter's `normalize.less` sets `[hidden] { display: none; }` but bootstrap.min.css set `[hidden] { display: none !important; }` so we also need the `!important` here to be able to override the default hidden behavior on the sphinx rendered scikit-learn.org. See: https://github.com/scikit-learn/scikit-learn/issues/21755 */display: inline-block !important;position: relative;}#sk-container-id-38 div.sk-text-repr-fallback {display: none;}</style><div id=\"sk-container-id-38\" class=\"sk-top-container\"><div class=\"sk-text-repr-fallback\"><pre>LabelEncoder()</pre><b>In a Jupyter environment, please rerun this cell to show the HTML representation or trust the notebook. <br />On GitHub, the HTML representation is unable to render, please try loading this page with nbviewer.org.</b></div><div class=\"sk-container\" hidden><div class=\"sk-item\"><div class=\"sk-estimator sk-toggleable\"><input class=\"sk-toggleable__control sk-hidden--visually\" id=\"sk-estimator-id-38\" type=\"checkbox\" checked><label for=\"sk-estimator-id-38\" class=\"sk-toggleable__label sk-toggleable__label-arrow\">LabelEncoder</label><div class=\"sk-toggleable__content\"><pre>LabelEncoder()</pre></div></div></div></div></div>"
            ],
            "text/plain": [
              "LabelEncoder()"
            ]
          },
          "execution_count": 254,
          "metadata": {},
          "output_type": "execute_result"
        }
      ],
      "source": [
        "model5.fit(df['property_area'])"
      ]
    },
    {
      "cell_type": "code",
      "execution_count": 255,
      "metadata": {
        "execution": {
          "iopub.execute_input": "2020-09-08T03:16:07.194181Z",
          "iopub.status.busy": "2020-09-08T03:16:07.193280Z",
          "iopub.status.idle": "2020-09-08T03:16:07.196891Z",
          "shell.execute_reply": "2020-09-08T03:16:07.196151Z"
        },
        "id": "txsaDwDUWh_c",
        "papermill": {
          "duration": 0.040125,
          "end_time": "2020-09-08T03:16:07.197050",
          "exception": false,
          "start_time": "2020-09-08T03:16:07.156925",
          "status": "completed"
        },
        "tags": []
      },
      "outputs": [],
      "source": [
        "df['property_area']= model5.transform(df['property_area'])"
      ]
    },
    {
      "cell_type": "markdown",
      "metadata": {
        "id": "gWkGU1BVWh_c",
        "papermill": {
          "duration": 0.030197,
          "end_time": "2020-09-08T03:16:07.259319",
          "exception": false,
          "start_time": "2020-09-08T03:16:07.229122",
          "status": "completed"
        },
        "tags": []
      },
      "source": [
        "###### 3-2-6-loan status"
      ]
    },
    {
      "cell_type": "code",
      "execution_count": 256,
      "metadata": {
        "execution": {
          "iopub.execute_input": "2020-09-08T03:16:07.328214Z",
          "iopub.status.busy": "2020-09-08T03:16:07.327234Z",
          "iopub.status.idle": "2020-09-08T03:16:07.330547Z",
          "shell.execute_reply": "2020-09-08T03:16:07.329812Z"
        },
        "id": "UoD6iiOxWh_c",
        "papermill": {
          "duration": 0.039562,
          "end_time": "2020-09-08T03:16:07.330672",
          "exception": false,
          "start_time": "2020-09-08T03:16:07.291110",
          "status": "completed"
        },
        "tags": []
      },
      "outputs": [],
      "source": [
        "model6=LabelEncoder()"
      ]
    },
    {
      "cell_type": "code",
      "execution_count": 257,
      "metadata": {
        "execution": {
          "iopub.execute_input": "2020-09-08T03:16:07.399955Z",
          "iopub.status.busy": "2020-09-08T03:16:07.398962Z",
          "iopub.status.idle": "2020-09-08T03:16:07.403168Z",
          "shell.execute_reply": "2020-09-08T03:16:07.403831Z"
        },
        "id": "qvHxeYfuWh_c",
        "papermill": {
          "duration": 0.043225,
          "end_time": "2020-09-08T03:16:07.403994",
          "exception": false,
          "start_time": "2020-09-08T03:16:07.360769",
          "status": "completed"
        },
        "tags": []
      },
      "outputs": [
        {
          "data": {
            "text/html": [
              "<style>#sk-container-id-39 {color: black;background-color: white;}#sk-container-id-39 pre{padding: 0;}#sk-container-id-39 div.sk-toggleable {background-color: white;}#sk-container-id-39 label.sk-toggleable__label {cursor: pointer;display: block;width: 100%;margin-bottom: 0;padding: 0.3em;box-sizing: border-box;text-align: center;}#sk-container-id-39 label.sk-toggleable__label-arrow:before {content: \"▸\";float: left;margin-right: 0.25em;color: #696969;}#sk-container-id-39 label.sk-toggleable__label-arrow:hover:before {color: black;}#sk-container-id-39 div.sk-estimator:hover label.sk-toggleable__label-arrow:before {color: black;}#sk-container-id-39 div.sk-toggleable__content {max-height: 0;max-width: 0;overflow: hidden;text-align: left;background-color: #f0f8ff;}#sk-container-id-39 div.sk-toggleable__content pre {margin: 0.2em;color: black;border-radius: 0.25em;background-color: #f0f8ff;}#sk-container-id-39 input.sk-toggleable__control:checked~div.sk-toggleable__content {max-height: 200px;max-width: 100%;overflow: auto;}#sk-container-id-39 input.sk-toggleable__control:checked~label.sk-toggleable__label-arrow:before {content: \"▾\";}#sk-container-id-39 div.sk-estimator input.sk-toggleable__control:checked~label.sk-toggleable__label {background-color: #d4ebff;}#sk-container-id-39 div.sk-label input.sk-toggleable__control:checked~label.sk-toggleable__label {background-color: #d4ebff;}#sk-container-id-39 input.sk-hidden--visually {border: 0;clip: rect(1px 1px 1px 1px);clip: rect(1px, 1px, 1px, 1px);height: 1px;margin: -1px;overflow: hidden;padding: 0;position: absolute;width: 1px;}#sk-container-id-39 div.sk-estimator {font-family: monospace;background-color: #f0f8ff;border: 1px dotted black;border-radius: 0.25em;box-sizing: border-box;margin-bottom: 0.5em;}#sk-container-id-39 div.sk-estimator:hover {background-color: #d4ebff;}#sk-container-id-39 div.sk-parallel-item::after {content: \"\";width: 100%;border-bottom: 1px solid gray;flex-grow: 1;}#sk-container-id-39 div.sk-label:hover label.sk-toggleable__label {background-color: #d4ebff;}#sk-container-id-39 div.sk-serial::before {content: \"\";position: absolute;border-left: 1px solid gray;box-sizing: border-box;top: 0;bottom: 0;left: 50%;z-index: 0;}#sk-container-id-39 div.sk-serial {display: flex;flex-direction: column;align-items: center;background-color: white;padding-right: 0.2em;padding-left: 0.2em;position: relative;}#sk-container-id-39 div.sk-item {position: relative;z-index: 1;}#sk-container-id-39 div.sk-parallel {display: flex;align-items: stretch;justify-content: center;background-color: white;position: relative;}#sk-container-id-39 div.sk-item::before, #sk-container-id-39 div.sk-parallel-item::before {content: \"\";position: absolute;border-left: 1px solid gray;box-sizing: border-box;top: 0;bottom: 0;left: 50%;z-index: -1;}#sk-container-id-39 div.sk-parallel-item {display: flex;flex-direction: column;z-index: 1;position: relative;background-color: white;}#sk-container-id-39 div.sk-parallel-item:first-child::after {align-self: flex-end;width: 50%;}#sk-container-id-39 div.sk-parallel-item:last-child::after {align-self: flex-start;width: 50%;}#sk-container-id-39 div.sk-parallel-item:only-child::after {width: 0;}#sk-container-id-39 div.sk-dashed-wrapped {border: 1px dashed gray;margin: 0 0.4em 0.5em 0.4em;box-sizing: border-box;padding-bottom: 0.4em;background-color: white;}#sk-container-id-39 div.sk-label label {font-family: monospace;font-weight: bold;display: inline-block;line-height: 1.2em;}#sk-container-id-39 div.sk-label-container {text-align: center;}#sk-container-id-39 div.sk-container {/* jupyter's `normalize.less` sets `[hidden] { display: none; }` but bootstrap.min.css set `[hidden] { display: none !important; }` so we also need the `!important` here to be able to override the default hidden behavior on the sphinx rendered scikit-learn.org. See: https://github.com/scikit-learn/scikit-learn/issues/21755 */display: inline-block !important;position: relative;}#sk-container-id-39 div.sk-text-repr-fallback {display: none;}</style><div id=\"sk-container-id-39\" class=\"sk-top-container\"><div class=\"sk-text-repr-fallback\"><pre>LabelEncoder()</pre><b>In a Jupyter environment, please rerun this cell to show the HTML representation or trust the notebook. <br />On GitHub, the HTML representation is unable to render, please try loading this page with nbviewer.org.</b></div><div class=\"sk-container\" hidden><div class=\"sk-item\"><div class=\"sk-estimator sk-toggleable\"><input class=\"sk-toggleable__control sk-hidden--visually\" id=\"sk-estimator-id-39\" type=\"checkbox\" checked><label for=\"sk-estimator-id-39\" class=\"sk-toggleable__label sk-toggleable__label-arrow\">LabelEncoder</label><div class=\"sk-toggleable__content\"><pre>LabelEncoder()</pre></div></div></div></div></div>"
            ],
            "text/plain": [
              "LabelEncoder()"
            ]
          },
          "execution_count": 257,
          "metadata": {},
          "output_type": "execute_result"
        }
      ],
      "source": [
        "model6.fit(df['loan_status'])"
      ]
    },
    {
      "cell_type": "code",
      "execution_count": 258,
      "metadata": {
        "execution": {
          "iopub.execute_input": "2020-09-08T03:16:07.474101Z",
          "iopub.status.busy": "2020-09-08T03:16:07.472978Z",
          "iopub.status.idle": "2020-09-08T03:16:07.476673Z",
          "shell.execute_reply": "2020-09-08T03:16:07.475890Z"
        },
        "id": "gvMCKeckWh_d",
        "papermill": {
          "duration": 0.042488,
          "end_time": "2020-09-08T03:16:07.476824",
          "exception": false,
          "start_time": "2020-09-08T03:16:07.434336",
          "status": "completed"
        },
        "tags": []
      },
      "outputs": [],
      "source": [
        "df['loan_status']= model6.transform(df['loan_status'])"
      ]
    },
    {
      "cell_type": "code",
      "execution_count": 259,
      "metadata": {
        "execution": {
          "iopub.execute_input": "2020-09-08T03:16:07.562874Z",
          "iopub.status.busy": "2020-09-08T03:16:07.561806Z",
          "iopub.status.idle": "2020-09-08T03:16:07.568836Z",
          "shell.execute_reply": "2020-09-08T03:16:07.568038Z"
        },
        "id": "b63nyjtIWh_d",
        "papermill": {
          "duration": 0.059515,
          "end_time": "2020-09-08T03:16:07.568966",
          "exception": false,
          "start_time": "2020-09-08T03:16:07.509451",
          "status": "completed"
        },
        "scrolled": true,
        "tags": []
      },
      "outputs": [
        {
          "data": {
            "text/html": [
              "<div>\n",
              "<style scoped>\n",
              "    .dataframe tbody tr th:only-of-type {\n",
              "        vertical-align: middle;\n",
              "    }\n",
              "\n",
              "    .dataframe tbody tr th {\n",
              "        vertical-align: top;\n",
              "    }\n",
              "\n",
              "    .dataframe thead th {\n",
              "        text-align: right;\n",
              "    }\n",
              "</style>\n",
              "<table border=\"1\" class=\"dataframe\">\n",
              "  <thead>\n",
              "    <tr style=\"text-align: right;\">\n",
              "      <th></th>\n",
              "      <th>loan_id</th>\n",
              "      <th>gender</th>\n",
              "      <th>married</th>\n",
              "      <th>dependents</th>\n",
              "      <th>education</th>\n",
              "      <th>self_employed</th>\n",
              "      <th>applicant_income</th>\n",
              "      <th>coapplicantincome</th>\n",
              "      <th>loan_amount</th>\n",
              "      <th>loan_amount_term</th>\n",
              "      <th>credit_history</th>\n",
              "      <th>property_area</th>\n",
              "      <th>loan_status</th>\n",
              "    </tr>\n",
              "  </thead>\n",
              "  <tbody>\n",
              "    <tr>\n",
              "      <th>0</th>\n",
              "      <td>LP001002</td>\n",
              "      <td>1</td>\n",
              "      <td>0</td>\n",
              "      <td>0</td>\n",
              "      <td>0</td>\n",
              "      <td>0</td>\n",
              "      <td>5849</td>\n",
              "      <td>0.0</td>\n",
              "      <td>146.412162</td>\n",
              "      <td>360.0</td>\n",
              "      <td>1.0</td>\n",
              "      <td>2</td>\n",
              "      <td>1</td>\n",
              "    </tr>\n",
              "    <tr>\n",
              "      <th>1</th>\n",
              "      <td>LP001003</td>\n",
              "      <td>1</td>\n",
              "      <td>1</td>\n",
              "      <td>1</td>\n",
              "      <td>0</td>\n",
              "      <td>0</td>\n",
              "      <td>4583</td>\n",
              "      <td>1508.0</td>\n",
              "      <td>128.000000</td>\n",
              "      <td>360.0</td>\n",
              "      <td>1.0</td>\n",
              "      <td>0</td>\n",
              "      <td>0</td>\n",
              "    </tr>\n",
              "    <tr>\n",
              "      <th>2</th>\n",
              "      <td>LP001005</td>\n",
              "      <td>1</td>\n",
              "      <td>1</td>\n",
              "      <td>0</td>\n",
              "      <td>0</td>\n",
              "      <td>1</td>\n",
              "      <td>3000</td>\n",
              "      <td>0.0</td>\n",
              "      <td>66.000000</td>\n",
              "      <td>360.0</td>\n",
              "      <td>1.0</td>\n",
              "      <td>2</td>\n",
              "      <td>1</td>\n",
              "    </tr>\n",
              "    <tr>\n",
              "      <th>3</th>\n",
              "      <td>LP001006</td>\n",
              "      <td>1</td>\n",
              "      <td>1</td>\n",
              "      <td>0</td>\n",
              "      <td>1</td>\n",
              "      <td>0</td>\n",
              "      <td>2583</td>\n",
              "      <td>2358.0</td>\n",
              "      <td>120.000000</td>\n",
              "      <td>360.0</td>\n",
              "      <td>1.0</td>\n",
              "      <td>2</td>\n",
              "      <td>1</td>\n",
              "    </tr>\n",
              "    <tr>\n",
              "      <th>4</th>\n",
              "      <td>LP001008</td>\n",
              "      <td>1</td>\n",
              "      <td>0</td>\n",
              "      <td>0</td>\n",
              "      <td>0</td>\n",
              "      <td>0</td>\n",
              "      <td>6000</td>\n",
              "      <td>0.0</td>\n",
              "      <td>141.000000</td>\n",
              "      <td>360.0</td>\n",
              "      <td>1.0</td>\n",
              "      <td>2</td>\n",
              "      <td>1</td>\n",
              "    </tr>\n",
              "  </tbody>\n",
              "</table>\n",
              "</div>"
            ],
            "text/plain": [
              "    loan_id  gender  married  dependents  education  self_employed  \\\n",
              "0  LP001002       1        0           0          0              0   \n",
              "1  LP001003       1        1           1          0              0   \n",
              "2  LP001005       1        1           0          0              1   \n",
              "3  LP001006       1        1           0          1              0   \n",
              "4  LP001008       1        0           0          0              0   \n",
              "\n",
              "   applicant_income  coapplicantincome  loan_amount  loan_amount_term  \\\n",
              "0              5849                0.0   146.412162             360.0   \n",
              "1              4583             1508.0   128.000000             360.0   \n",
              "2              3000                0.0    66.000000             360.0   \n",
              "3              2583             2358.0   120.000000             360.0   \n",
              "4              6000                0.0   141.000000             360.0   \n",
              "\n",
              "   credit_history  property_area  loan_status  \n",
              "0             1.0              2            1  \n",
              "1             1.0              0            0  \n",
              "2             1.0              2            1  \n",
              "3             1.0              2            1  \n",
              "4             1.0              2            1  "
            ]
          },
          "execution_count": 259,
          "metadata": {},
          "output_type": "execute_result"
        }
      ],
      "source": [
        "df.head()"
      ]
    },
    {
      "cell_type": "code",
      "execution_count": 260,
      "metadata": {
        "execution": {
          "iopub.execute_input": "2020-09-08T03:16:07.647936Z",
          "iopub.status.busy": "2020-09-08T03:16:07.646703Z",
          "iopub.status.idle": "2020-09-08T03:16:08.549734Z",
          "shell.execute_reply": "2020-09-08T03:16:08.548510Z"
        },
        "id": "iLJPS_aNWh_d",
        "papermill": {
          "duration": 0.949081,
          "end_time": "2020-09-08T03:16:08.549911",
          "exception": false,
          "start_time": "2020-09-08T03:16:07.600830",
          "status": "completed"
        },
        "tags": []
      },
      "outputs": [
        {
          "name": "stderr",
          "output_type": "stream",
          "text": [
            "c:\\Users\\Tanish Reddy\\anaconda3\\Lib\\site-packages\\seaborn\\matrix.py:260: FutureWarning:\n",
            "\n",
            "Format strings passed to MaskedConstant are ignored, but in future may error or produce different behavior\n",
            "\n"
          ]
        },
        {
          "data": {
            "text/plain": [
              "Text(0.5, 1.0, 'Correlation Matrix for Loan Status')"
            ]
          },
          "execution_count": 260,
          "metadata": {},
          "output_type": "execute_result"
        },
        {
          "data": {
            "image/png": "[encoded data removed]",
            "text/plain": [
              "<Figure size 1200x800 with 2 Axes>"
            ]
          },
          "metadata": {},
          "output_type": "display_data"
        }
      ],
      "source": [
        "plt.figure(figsize=(12,8))\n",
        "numeric_df = df.select_dtypes(include=[np.number])\n",
        "corr = numeric_df.corr()#L1\n",
        "mask = np.zeros_like(corr) #L2\n",
        "mask[np.triu_indices_from(mask)] = True #L3\n",
        "with sns.axes_style(\"white\"):\n",
        "    ax = sns.heatmap(corr, mask=mask, square=True,annot=True,linewidths=2, cmap='viridis')\n",
        "plt.title('Correlation Matrix for Loan Status')"
      ]
    },
    {
      "cell_type": "markdown",
      "metadata": {
        "id": "WIhUQEaje6o_"
      },
      "source": [
        "**Explain what the encoder does here**\n",
        "The LabelEncoder is used to convert categorical text data into numerical labels. This is necessary because many machine learning algorithms require numerical input. It initializes and fits the encoder and then transforms the data. For example, if the column gender had the categories 'Male' and 'Female', they might be converted to 1 and 0 respectively.\n",
        "\n",
        "**Explain what this plot would do if it did not include L1, L2, L3**\n",
        "\n",
        "\n",
        "*L1-*The correlation matrix would not be calculated, so there would be no data to plot.\n",
        "\n",
        "\n",
        "*L2-*Excluding L2 means the mask array is not initialized to zeros. This causes the mask setup in L3 to fail, resulting in the full correlation matrix being displayed without any masking.\n",
        "\n",
        "\n",
        "*L3-*Excluding L3 means the upper triangle of the correlation matrix will not be masked out. This results in displaying the full, symmetric correlation matrix, showing all the information."
      ]
    },
    {
      "cell_type": "markdown",
      "metadata": {
        "id": "EmyNB18EWh_d",
        "papermill": {
          "duration": 0.03998,
          "end_time": "2020-09-08T03:16:08.627145",
          "exception": false,
          "start_time": "2020-09-08T03:16:08.587165",
          "status": "completed"
        },
        "tags": []
      },
      "source": [
        "From the above figure, we can see that Credit_History (Independent Variable) has the maximum correlation with Loan_Status (Dependent Variable). Which denotes that the Loan_Status is heavily dependent on the Credit_History.\n",
        "This high correlation indicates that whether an applicant has a credit history impacts on their loan status or not. In other words, the likelihood of a loan being approved is strongly dependent on the credit history of a person.\""
      ]
    },
    {
      "cell_type": "markdown",
      "metadata": {
        "id": "ImSz5aXGWh_d",
        "papermill": {
          "duration": 0.033935,
          "end_time": "2020-09-08T03:16:08.695352",
          "exception": false,
          "start_time": "2020-09-08T03:16:08.661417",
          "status": "completed"
        },
        "tags": []
      },
      "source": [
        "### 4-Prediction"
      ]
    },
    {
      "cell_type": "markdown",
      "metadata": {
        "id": "YUO9jN7iWh_e",
        "papermill": {
          "duration": 0.032031,
          "end_time": "2020-09-08T03:16:08.760801",
          "exception": false,
          "start_time": "2020-09-08T03:16:08.728770",
          "status": "completed"
        },
        "tags": []
      },
      "source": [
        "##### 4-1-LogisticRegression"
      ]
    },
    {
      "cell_type": "code",
      "execution_count": 261,
      "metadata": {
        "id": "wJdp7YSJfcOo"
      },
      "outputs": [],
      "source": [
        "# Set a variable equal to the dataframe that has dropped the columns loan_id, and loan_status\n",
        "# Hint: might want to control axis\n",
        "# set 2nd variable equal to the dataframe with a singular feature loan status\n",
        "df_features = df.drop(columns=['loan_id', 'loan_status'], axis=1)\n",
        "df_target = df[['loan_status']]\n"
      ]
    },
    {
      "cell_type": "code",
      "execution_count": 262,
      "metadata": {
        "id": "F3MqlUf3f5QE"
      },
      "outputs": [
        {
          "name": "stdout",
          "output_type": "stream",
          "text": [
            "(433, 11) (109, 11) (433, 1) (109, 1)\n"
          ]
        }
      ],
      "source": [
        "# Perform a train test split\n",
        "X_train, X_test, Y_train, Y_test = train_test_split(df_features, df_target, test_size=0.2, random_state=42)\n",
        "print(X_train.shape,  X_test.shape, Y_train.shape, Y_test.shape)\n"
      ]
    },
    {
      "cell_type": "code",
      "execution_count": 263,
      "metadata": {
        "id": "shsSbqD-gTCQ"
      },
      "outputs": [],
      "source": [
        "# set a variable equal to a logistic regression model\n",
        "model = LogisticRegression()"
      ]
    },
    {
      "cell_type": "code",
      "execution_count": 264,
      "metadata": {},
      "outputs": [],
      "source": [
        "Y_train = np.ravel(Y_train.values)\n",
        "Y_test = np.ravel(Y_test.values)"
      ]
    },
    {
      "cell_type": "code",
      "execution_count": 265,
      "metadata": {
        "id": "2R-K-8FIgYpB"
      },
      "outputs": [
        {
          "data": {
            "text/html": [
              "<style>#sk-container-id-40 {color: black;background-color: white;}#sk-container-id-40 pre{padding: 0;}#sk-container-id-40 div.sk-toggleable {background-color: white;}#sk-container-id-40 label.sk-toggleable__label {cursor: pointer;display: block;width: 100%;margin-bottom: 0;padding: 0.3em;box-sizing: border-box;text-align: center;}#sk-container-id-40 label.sk-toggleable__label-arrow:before {content: \"▸\";float: left;margin-right: 0.25em;color: #696969;}#sk-container-id-40 label.sk-toggleable__label-arrow:hover:before {color: black;}#sk-container-id-40 div.sk-estimator:hover label.sk-toggleable__label-arrow:before {color: black;}#sk-container-id-40 div.sk-toggleable__content {max-height: 0;max-width: 0;overflow: hidden;text-align: left;background-color: #f0f8ff;}#sk-container-id-40 div.sk-toggleable__content pre {margin: 0.2em;color: black;border-radius: 0.25em;background-color: #f0f8ff;}#sk-container-id-40 input.sk-toggleable__control:checked~div.sk-toggleable__content {max-height: 200px;max-width: 100%;overflow: auto;}#sk-container-id-40 input.sk-toggleable__control:checked~label.sk-toggleable__label-arrow:before {content: \"▾\";}#sk-container-id-40 div.sk-estimator input.sk-toggleable__control:checked~label.sk-toggleable__label {background-color: #d4ebff;}#sk-container-id-40 div.sk-label input.sk-toggleable__control:checked~label.sk-toggleable__label {background-color: #d4ebff;}#sk-container-id-40 input.sk-hidden--visually {border: 0;clip: rect(1px 1px 1px 1px);clip: rect(1px, 1px, 1px, 1px);height: 1px;margin: -1px;overflow: hidden;padding: 0;position: absolute;width: 1px;}#sk-container-id-40 div.sk-estimator {font-family: monospace;background-color: #f0f8ff;border: 1px dotted black;border-radius: 0.25em;box-sizing: border-box;margin-bottom: 0.5em;}#sk-container-id-40 div.sk-estimator:hover {background-color: #d4ebff;}#sk-container-id-40 div.sk-parallel-item::after {content: \"\";width: 100%;border-bottom: 1px solid gray;flex-grow: 1;}#sk-container-id-40 div.sk-label:hover label.sk-toggleable__label {background-color: #d4ebff;}#sk-container-id-40 div.sk-serial::before {content: \"\";position: absolute;border-left: 1px solid gray;box-sizing: border-box;top: 0;bottom: 0;left: 50%;z-index: 0;}#sk-container-id-40 div.sk-serial {display: flex;flex-direction: column;align-items: center;background-color: white;padding-right: 0.2em;padding-left: 0.2em;position: relative;}#sk-container-id-40 div.sk-item {position: relative;z-index: 1;}#sk-container-id-40 div.sk-parallel {display: flex;align-items: stretch;justify-content: center;background-color: white;position: relative;}#sk-container-id-40 div.sk-item::before, #sk-container-id-40 div.sk-parallel-item::before {content: \"\";position: absolute;border-left: 1px solid gray;box-sizing: border-box;top: 0;bottom: 0;left: 50%;z-index: -1;}#sk-container-id-40 div.sk-parallel-item {display: flex;flex-direction: column;z-index: 1;position: relative;background-color: white;}#sk-container-id-40 div.sk-parallel-item:first-child::after {align-self: flex-end;width: 50%;}#sk-container-id-40 div.sk-parallel-item:last-child::after {align-self: flex-start;width: 50%;}#sk-container-id-40 div.sk-parallel-item:only-child::after {width: 0;}#sk-container-id-40 div.sk-dashed-wrapped {border: 1px dashed gray;margin: 0 0.4em 0.5em 0.4em;box-sizing: border-box;padding-bottom: 0.4em;background-color: white;}#sk-container-id-40 div.sk-label label {font-family: monospace;font-weight: bold;display: inline-block;line-height: 1.2em;}#sk-container-id-40 div.sk-label-container {text-align: center;}#sk-container-id-40 div.sk-container {/* jupyter's `normalize.less` sets `[hidden] { display: none; }` but bootstrap.min.css set `[hidden] { display: none !important; }` so we also need the `!important` here to be able to override the default hidden behavior on the sphinx rendered scikit-learn.org. See: https://github.com/scikit-learn/scikit-learn/issues/21755 */display: inline-block !important;position: relative;}#sk-container-id-40 div.sk-text-repr-fallback {display: none;}</style><div id=\"sk-container-id-40\" class=\"sk-top-container\"><div class=\"sk-text-repr-fallback\"><pre>LogisticRegression()</pre><b>In a Jupyter environment, please rerun this cell to show the HTML representation or trust the notebook. <br />On GitHub, the HTML representation is unable to render, please try loading this page with nbviewer.org.</b></div><div class=\"sk-container\" hidden><div class=\"sk-item\"><div class=\"sk-estimator sk-toggleable\"><input class=\"sk-toggleable__control sk-hidden--visually\" id=\"sk-estimator-id-40\" type=\"checkbox\" checked><label for=\"sk-estimator-id-40\" class=\"sk-toggleable__label sk-toggleable__label-arrow\">LogisticRegression</label><div class=\"sk-toggleable__content\"><pre>LogisticRegression()</pre></div></div></div></div></div>"
            ],
            "text/plain": [
              "LogisticRegression()"
            ]
          },
          "execution_count": 265,
          "metadata": {},
          "output_type": "execute_result"
        }
      ],
      "source": [
        "# fit your model to the training set\n",
        "model.fit(X_train, Y_train)"
      ]
    },
    {
      "cell_type": "code",
      "execution_count": 266,
      "metadata": {
        "id": "sHTOJEQDggFP"
      },
      "outputs": [],
      "source": [
        "# set a variable to the logistic regression prediction of the test set\n",
        "# basically if your variables were X and y the use logistic regression to predict X-test\n",
        "lr_prediction = model.predict(X_test)"
      ]
    },
    {
      "cell_type": "code",
      "execution_count": 267,
      "metadata": {
        "execution": {
          "iopub.execute_input": "2020-09-08T03:16:09.305929Z",
          "iopub.status.busy": "2020-09-08T03:16:09.304450Z",
          "iopub.status.idle": "2020-09-08T03:16:09.319854Z",
          "shell.execute_reply": "2020-09-08T03:16:09.321172Z"
        },
        "id": "xazJXdIZWh_f",
        "papermill": {
          "duration": 0.064783,
          "end_time": "2020-09-08T03:16:09.321445",
          "exception": false,
          "start_time": "2020-09-08T03:16:09.256662",
          "status": "completed"
        },
        "tags": []
      },
      "outputs": [
        {
          "name": "stdout",
          "output_type": "stream",
          "text": [
            "[[15 18]\n",
            " [ 4 72]]\n",
            "\n",
            "\n",
            "              precision    recall  f1-score   support\n",
            "\n",
            "           0       0.79      0.45      0.58        33\n",
            "           1       0.80      0.95      0.87        76\n",
            "\n",
            "    accuracy                           0.80       109\n",
            "   macro avg       0.79      0.70      0.72       109\n",
            "weighted avg       0.80      0.80      0.78       109\n",
            "\n",
            "\n",
            "\n",
            "Logistic Regression accuracy:  0.7981651376146789\n"
          ]
        }
      ],
      "source": [
        "print(confusion_matrix(Y_test,lr_prediction))\n",
        "\n",
        "# Explain confusion matrix\n",
        "\n",
        "\n",
        "print('\\n')\n",
        "print(classification_report(Y_test,lr_prediction))\n",
        "\n",
        "# Explain classification report\n",
        "\n",
        "print('\\n')\n",
        "print('Logistic Regression accuracy: ', accuracy_score(Y_test,lr_prediction))\n",
        "\n",
        "# Do you feel like this is an accurate model?"
      ]
    },
    {
      "cell_type": "markdown",
      "metadata": {
        "id": "NL8_5l4EWh_f",
        "papermill": {
          "duration": 0.036852,
          "end_time": "2020-09-08T03:16:09.395570",
          "exception": false,
          "start_time": "2020-09-08T03:16:09.358718",
          "status": "completed"
        },
        "tags": []
      },
      "source": [
        "# 4-2-More models"
      ]
    },
    {
      "cell_type": "markdown",
      "metadata": {
        "id": "HlLowN2ShVwa"
      },
      "source": [
        "### Decision Tree Classifier"
      ]
    },
    {
      "cell_type": "code",
      "execution_count": 268,
      "metadata": {
        "id": "v5-2cKErhdiB"
      },
      "outputs": [],
      "source": [
        "# Use this Decision Tree Classifier Model to complete the same thing on \n",
        "\n",
        "# Random Forest Classifier\n",
        "# K Nearest Neighbors\n",
        "# SVC\n"
      ]
    },
    {
      "cell_type": "code",
      "execution_count": 269,
      "metadata": {
        "execution": {
          "iopub.execute_input": "2020-09-08T03:16:09.472762Z",
          "iopub.status.busy": "2020-09-08T03:16:09.471994Z",
          "iopub.status.idle": "2020-09-08T03:16:09.475399Z",
          "shell.execute_reply": "2020-09-08T03:16:09.476025Z"
        },
        "id": "fWhqoibMWh_f",
        "papermill": {
          "duration": 0.045616,
          "end_time": "2020-09-08T03:16:09.476198",
          "exception": false,
          "start_time": "2020-09-08T03:16:09.430582",
          "status": "completed"
        },
        "tags": []
      },
      "outputs": [],
      "source": [
        "dt=DecisionTreeClassifier()"
      ]
    },
    {
      "cell_type": "code",
      "execution_count": 270,
      "metadata": {
        "execution": {
          "iopub.execute_input": "2020-09-08T03:16:09.554316Z",
          "iopub.status.busy": "2020-09-08T03:16:09.553517Z",
          "iopub.status.idle": "2020-09-08T03:16:09.562792Z",
          "shell.execute_reply": "2020-09-08T03:16:09.562036Z"
        },
        "id": "4hB9CPfIWh_f",
        "outputId": "91ce4c49-81e5-45b5-bb96-c72e7eababce",
        "papermill": {
          "duration": 0.051438,
          "end_time": "2020-09-08T03:16:09.562921",
          "exception": false,
          "start_time": "2020-09-08T03:16:09.511483",
          "status": "completed"
        },
        "tags": []
      },
      "outputs": [
        {
          "data": {
            "text/html": [
              "<style>#sk-container-id-41 {color: black;background-color: white;}#sk-container-id-41 pre{padding: 0;}#sk-container-id-41 div.sk-toggleable {background-color: white;}#sk-container-id-41 label.sk-toggleable__label {cursor: pointer;display: block;width: 100%;margin-bottom: 0;padding: 0.3em;box-sizing: border-box;text-align: center;}#sk-container-id-41 label.sk-toggleable__label-arrow:before {content: \"▸\";float: left;margin-right: 0.25em;color: #696969;}#sk-container-id-41 label.sk-toggleable__label-arrow:hover:before {color: black;}#sk-container-id-41 div.sk-estimator:hover label.sk-toggleable__label-arrow:before {color: black;}#sk-container-id-41 div.sk-toggleable__content {max-height: 0;max-width: 0;overflow: hidden;text-align: left;background-color: #f0f8ff;}#sk-container-id-41 div.sk-toggleable__content pre {margin: 0.2em;color: black;border-radius: 0.25em;background-color: #f0f8ff;}#sk-container-id-41 input.sk-toggleable__control:checked~div.sk-toggleable__content {max-height: 200px;max-width: 100%;overflow: auto;}#sk-container-id-41 input.sk-toggleable__control:checked~label.sk-toggleable__label-arrow:before {content: \"▾\";}#sk-container-id-41 div.sk-estimator input.sk-toggleable__control:checked~label.sk-toggleable__label {background-color: #d4ebff;}#sk-container-id-41 div.sk-label input.sk-toggleable__control:checked~label.sk-toggleable__label {background-color: #d4ebff;}#sk-container-id-41 input.sk-hidden--visually {border: 0;clip: rect(1px 1px 1px 1px);clip: rect(1px, 1px, 1px, 1px);height: 1px;margin: -1px;overflow: hidden;padding: 0;position: absolute;width: 1px;}#sk-container-id-41 div.sk-estimator {font-family: monospace;background-color: #f0f8ff;border: 1px dotted black;border-radius: 0.25em;box-sizing: border-box;margin-bottom: 0.5em;}#sk-container-id-41 div.sk-estimator:hover {background-color: #d4ebff;}#sk-container-id-41 div.sk-parallel-item::after {content: \"\";width: 100%;border-bottom: 1px solid gray;flex-grow: 1;}#sk-container-id-41 div.sk-label:hover label.sk-toggleable__label {background-color: #d4ebff;}#sk-container-id-41 div.sk-serial::before {content: \"\";position: absolute;border-left: 1px solid gray;box-sizing: border-box;top: 0;bottom: 0;left: 50%;z-index: 0;}#sk-container-id-41 div.sk-serial {display: flex;flex-direction: column;align-items: center;background-color: white;padding-right: 0.2em;padding-left: 0.2em;position: relative;}#sk-container-id-41 div.sk-item {position: relative;z-index: 1;}#sk-container-id-41 div.sk-parallel {display: flex;align-items: stretch;justify-content: center;background-color: white;position: relative;}#sk-container-id-41 div.sk-item::before, #sk-container-id-41 div.sk-parallel-item::before {content: \"\";position: absolute;border-left: 1px solid gray;box-sizing: border-box;top: 0;bottom: 0;left: 50%;z-index: -1;}#sk-container-id-41 div.sk-parallel-item {display: flex;flex-direction: column;z-index: 1;position: relative;background-color: white;}#sk-container-id-41 div.sk-parallel-item:first-child::after {align-self: flex-end;width: 50%;}#sk-container-id-41 div.sk-parallel-item:last-child::after {align-self: flex-start;width: 50%;}#sk-container-id-41 div.sk-parallel-item:only-child::after {width: 0;}#sk-container-id-41 div.sk-dashed-wrapped {border: 1px dashed gray;margin: 0 0.4em 0.5em 0.4em;box-sizing: border-box;padding-bottom: 0.4em;background-color: white;}#sk-container-id-41 div.sk-label label {font-family: monospace;font-weight: bold;display: inline-block;line-height: 1.2em;}#sk-container-id-41 div.sk-label-container {text-align: center;}#sk-container-id-41 div.sk-container {/* jupyter's `normalize.less` sets `[hidden] { display: none; }` but bootstrap.min.css set `[hidden] { display: none !important; }` so we also need the `!important` here to be able to override the default hidden behavior on the sphinx rendered scikit-learn.org. See: https://github.com/scikit-learn/scikit-learn/issues/21755 */display: inline-block !important;position: relative;}#sk-container-id-41 div.sk-text-repr-fallback {display: none;}</style><div id=\"sk-container-id-41\" class=\"sk-top-container\"><div class=\"sk-text-repr-fallback\"><pre>DecisionTreeClassifier()</pre><b>In a Jupyter environment, please rerun this cell to show the HTML representation or trust the notebook. <br />On GitHub, the HTML representation is unable to render, please try loading this page with nbviewer.org.</b></div><div class=\"sk-container\" hidden><div class=\"sk-item\"><div class=\"sk-estimator sk-toggleable\"><input class=\"sk-toggleable__control sk-hidden--visually\" id=\"sk-estimator-id-41\" type=\"checkbox\" checked><label for=\"sk-estimator-id-41\" class=\"sk-toggleable__label sk-toggleable__label-arrow\">DecisionTreeClassifier</label><div class=\"sk-toggleable__content\"><pre>DecisionTreeClassifier()</pre></div></div></div></div></div>"
            ],
            "text/plain": [
              "DecisionTreeClassifier()"
            ]
          },
          "execution_count": 270,
          "metadata": {},
          "output_type": "execute_result"
        }
      ],
      "source": [
        "dt.fit(X_train, Y_train)"
      ]
    },
    {
      "cell_type": "code",
      "execution_count": 271,
      "metadata": {
        "execution": {
          "iopub.execute_input": "2020-09-08T03:16:09.648972Z",
          "iopub.status.busy": "2020-09-08T03:16:09.647648Z",
          "iopub.status.idle": "2020-09-08T03:16:09.655685Z",
          "shell.execute_reply": "2020-09-08T03:16:09.654587Z"
        },
        "id": "Z6b2iA1PWh_f",
        "papermill": {
          "duration": 0.060434,
          "end_time": "2020-09-08T03:16:09.655936",
          "exception": false,
          "start_time": "2020-09-08T03:16:09.595502",
          "status": "completed"
        },
        "tags": []
      },
      "outputs": [],
      "source": [
        "dt_prediction=dt.predict(X_test)"
      ]
    },
    {
      "cell_type": "code",
      "execution_count": 272,
      "metadata": {
        "execution": {
          "iopub.execute_input": "2020-09-08T03:16:09.770198Z",
          "iopub.status.busy": "2020-09-08T03:16:09.768911Z",
          "iopub.status.idle": "2020-09-08T03:16:09.785597Z",
          "shell.execute_reply": "2020-09-08T03:16:09.786224Z"
        },
        "id": "sVwFA9cnWh_g",
        "outputId": "490d8c1f-0bce-43d9-c0bf-1c09d56aeea4",
        "papermill": {
          "duration": 0.079809,
          "end_time": "2020-09-08T03:16:09.786410",
          "exception": false,
          "start_time": "2020-09-08T03:16:09.706601",
          "status": "completed"
        },
        "tags": []
      },
      "outputs": [
        {
          "name": "stdout",
          "output_type": "stream",
          "text": [
            "[[19 14]\n",
            " [19 57]]\n",
            "\n",
            "\n",
            "              precision    recall  f1-score   support\n",
            "\n",
            "           0       0.50      0.58      0.54        33\n",
            "           1       0.80      0.75      0.78        76\n",
            "\n",
            "    accuracy                           0.70       109\n",
            "   macro avg       0.65      0.66      0.66       109\n",
            "weighted avg       0.71      0.70      0.70       109\n",
            "\n",
            "\n",
            "\n",
            "Decision Tree Accuracy:  0.6972477064220184\n"
          ]
        }
      ],
      "source": [
        "# Confusion Matrix and Model Accuracy\n",
        "\n",
        "print(confusion_matrix(Y_test,dt_prediction))\n",
        "print('\\n')\n",
        "print(classification_report(Y_test,dt_prediction))\n",
        "print('\\n')\n",
        "print('Decision Tree Accuracy: ', accuracy_score(Y_test,dt_prediction))"
      ]
    },
    {
      "cell_type": "markdown",
      "metadata": {
        "id": "5gAl__TcWh_g",
        "papermill": {
          "duration": 0.033503,
          "end_time": "2020-09-08T03:16:09.861581",
          "exception": false,
          "start_time": "2020-09-08T03:16:09.828078",
          "status": "completed"
        },
        "tags": []
      },
      "source": [
        "##### 4-3-Random Forest"
      ]
    },
    {
      "cell_type": "code",
      "execution_count": 273,
      "metadata": {
        "execution": {
          "iopub.execute_input": "2020-09-08T03:16:09.935180Z",
          "iopub.status.busy": "2020-09-08T03:16:09.934364Z",
          "iopub.status.idle": "2020-09-08T03:16:09.938296Z",
          "shell.execute_reply": "2020-09-08T03:16:09.937543Z"
        },
        "id": "EEvhIEZpWh_g",
        "papermill": {
          "duration": 0.043446,
          "end_time": "2020-09-08T03:16:09.938436",
          "exception": false,
          "start_time": "2020-09-08T03:16:09.894990",
          "status": "completed"
        },
        "tags": []
      },
      "outputs": [],
      "source": [
        "# Box for model\n",
        "rf=RandomForestClassifier()"
      ]
    },
    {
      "cell_type": "code",
      "execution_count": 274,
      "metadata": {
        "execution": {
          "iopub.execute_input": "2020-09-08T03:16:10.023125Z",
          "iopub.status.busy": "2020-09-08T03:16:10.022288Z",
          "iopub.status.idle": "2020-09-08T03:16:10.553028Z",
          "shell.execute_reply": "2020-09-08T03:16:10.552196Z"
        },
        "id": "9z355toTWh_g",
        "papermill": {
          "duration": 0.581309,
          "end_time": "2020-09-08T03:16:10.553166",
          "exception": false,
          "start_time": "2020-09-08T03:16:09.971857",
          "status": "completed"
        },
        "tags": []
      },
      "outputs": [
        {
          "data": {
            "text/html": [
              "<style>#sk-container-id-42 {color: black;background-color: white;}#sk-container-id-42 pre{padding: 0;}#sk-container-id-42 div.sk-toggleable {background-color: white;}#sk-container-id-42 label.sk-toggleable__label {cursor: pointer;display: block;width: 100%;margin-bottom: 0;padding: 0.3em;box-sizing: border-box;text-align: center;}#sk-container-id-42 label.sk-toggleable__label-arrow:before {content: \"▸\";float: left;margin-right: 0.25em;color: #696969;}#sk-container-id-42 label.sk-toggleable__label-arrow:hover:before {color: black;}#sk-container-id-42 div.sk-estimator:hover label.sk-toggleable__label-arrow:before {color: black;}#sk-container-id-42 div.sk-toggleable__content {max-height: 0;max-width: 0;overflow: hidden;text-align: left;background-color: #f0f8ff;}#sk-container-id-42 div.sk-toggleable__content pre {margin: 0.2em;color: black;border-radius: 0.25em;background-color: #f0f8ff;}#sk-container-id-42 input.sk-toggleable__control:checked~div.sk-toggleable__content {max-height: 200px;max-width: 100%;overflow: auto;}#sk-container-id-42 input.sk-toggleable__control:checked~label.sk-toggleable__label-arrow:before {content: \"▾\";}#sk-container-id-42 div.sk-estimator input.sk-toggleable__control:checked~label.sk-toggleable__label {background-color: #d4ebff;}#sk-container-id-42 div.sk-label input.sk-toggleable__control:checked~label.sk-toggleable__label {background-color: #d4ebff;}#sk-container-id-42 input.sk-hidden--visually {border: 0;clip: rect(1px 1px 1px 1px);clip: rect(1px, 1px, 1px, 1px);height: 1px;margin: -1px;overflow: hidden;padding: 0;position: absolute;width: 1px;}#sk-container-id-42 div.sk-estimator {font-family: monospace;background-color: #f0f8ff;border: 1px dotted black;border-radius: 0.25em;box-sizing: border-box;margin-bottom: 0.5em;}#sk-container-id-42 div.sk-estimator:hover {background-color: #d4ebff;}#sk-container-id-42 div.sk-parallel-item::after {content: \"\";width: 100%;border-bottom: 1px solid gray;flex-grow: 1;}#sk-container-id-42 div.sk-label:hover label.sk-toggleable__label {background-color: #d4ebff;}#sk-container-id-42 div.sk-serial::before {content: \"\";position: absolute;border-left: 1px solid gray;box-sizing: border-box;top: 0;bottom: 0;left: 50%;z-index: 0;}#sk-container-id-42 div.sk-serial {display: flex;flex-direction: column;align-items: center;background-color: white;padding-right: 0.2em;padding-left: 0.2em;position: relative;}#sk-container-id-42 div.sk-item {position: relative;z-index: 1;}#sk-container-id-42 div.sk-parallel {display: flex;align-items: stretch;justify-content: center;background-color: white;position: relative;}#sk-container-id-42 div.sk-item::before, #sk-container-id-42 div.sk-parallel-item::before {content: \"\";position: absolute;border-left: 1px solid gray;box-sizing: border-box;top: 0;bottom: 0;left: 50%;z-index: -1;}#sk-container-id-42 div.sk-parallel-item {display: flex;flex-direction: column;z-index: 1;position: relative;background-color: white;}#sk-container-id-42 div.sk-parallel-item:first-child::after {align-self: flex-end;width: 50%;}#sk-container-id-42 div.sk-parallel-item:last-child::after {align-self: flex-start;width: 50%;}#sk-container-id-42 div.sk-parallel-item:only-child::after {width: 0;}#sk-container-id-42 div.sk-dashed-wrapped {border: 1px dashed gray;margin: 0 0.4em 0.5em 0.4em;box-sizing: border-box;padding-bottom: 0.4em;background-color: white;}#sk-container-id-42 div.sk-label label {font-family: monospace;font-weight: bold;display: inline-block;line-height: 1.2em;}#sk-container-id-42 div.sk-label-container {text-align: center;}#sk-container-id-42 div.sk-container {/* jupyter's `normalize.less` sets `[hidden] { display: none; }` but bootstrap.min.css set `[hidden] { display: none !important; }` so we also need the `!important` here to be able to override the default hidden behavior on the sphinx rendered scikit-learn.org. See: https://github.com/scikit-learn/scikit-learn/issues/21755 */display: inline-block !important;position: relative;}#sk-container-id-42 div.sk-text-repr-fallback {display: none;}</style><div id=\"sk-container-id-42\" class=\"sk-top-container\"><div class=\"sk-text-repr-fallback\"><pre>RandomForestClassifier()</pre><b>In a Jupyter environment, please rerun this cell to show the HTML representation or trust the notebook. <br />On GitHub, the HTML representation is unable to render, please try loading this page with nbviewer.org.</b></div><div class=\"sk-container\" hidden><div class=\"sk-item\"><div class=\"sk-estimator sk-toggleable\"><input class=\"sk-toggleable__control sk-hidden--visually\" id=\"sk-estimator-id-42\" type=\"checkbox\" checked><label for=\"sk-estimator-id-42\" class=\"sk-toggleable__label sk-toggleable__label-arrow\">RandomForestClassifier</label><div class=\"sk-toggleable__content\"><pre>RandomForestClassifier()</pre></div></div></div></div></div>"
            ],
            "text/plain": [
              "RandomForestClassifier()"
            ]
          },
          "execution_count": 274,
          "metadata": {},
          "output_type": "execute_result"
        }
      ],
      "source": [
        "# Box for fit\n",
        "\n",
        "rf.fit(X_train, Y_train)"
      ]
    },
    {
      "cell_type": "code",
      "execution_count": 275,
      "metadata": {
        "execution": {
          "iopub.execute_input": "2020-09-08T03:16:10.722199Z",
          "iopub.status.busy": "2020-09-08T03:16:10.721311Z",
          "iopub.status.idle": "2020-09-08T03:16:10.752617Z",
          "shell.execute_reply": "2020-09-08T03:16:10.751794Z"
        },
        "id": "qLtWxTx-Wh_g",
        "papermill": {
          "duration": 0.165155,
          "end_time": "2020-09-08T03:16:10.752749",
          "exception": false,
          "start_time": "2020-09-08T03:16:10.587594",
          "status": "completed"
        },
        "tags": []
      },
      "outputs": [],
      "source": [
        "# Box for prediction\n",
        "\n",
        "rf_prediction = model.predict(X_test)\n"
      ]
    },
    {
      "cell_type": "code",
      "execution_count": 276,
      "metadata": {
        "execution": {
          "iopub.execute_input": "2020-09-08T03:16:10.832579Z",
          "iopub.status.busy": "2020-09-08T03:16:10.831750Z",
          "iopub.status.idle": "2020-09-08T03:16:10.847098Z",
          "shell.execute_reply": "2020-09-08T03:16:10.846243Z"
        },
        "id": "znq3Hz8lWh_h",
        "papermill": {
          "duration": 0.060092,
          "end_time": "2020-09-08T03:16:10.847243",
          "exception": false,
          "start_time": "2020-09-08T03:16:10.787151",
          "status": "completed"
        },
        "tags": []
      },
      "outputs": [
        {
          "name": "stdout",
          "output_type": "stream",
          "text": [
            "[[15 18]\n",
            " [ 4 72]]\n",
            "\n",
            "\n",
            "              precision    recall  f1-score   support\n",
            "\n",
            "           0       0.79      0.45      0.58        33\n",
            "           1       0.80      0.95      0.87        76\n",
            "\n",
            "    accuracy                           0.80       109\n",
            "   macro avg       0.79      0.70      0.72       109\n",
            "weighted avg       0.80      0.80      0.78       109\n",
            "\n",
            "\n",
            "\n",
            "Random Forest Accuracy:  0.7981651376146789\n"
          ]
        }
      ],
      "source": [
        "# Box for Confusion Matrix and Model Accuracy\n",
        "print(confusion_matrix(Y_test,rf_prediction))\n",
        "print('\\n')\n",
        "print(classification_report(Y_test,rf_prediction))\n",
        "print('\\n')\n",
        "print('Random Forest Accuracy: ', accuracy_score(Y_test,rf_prediction))"
      ]
    },
    {
      "cell_type": "markdown",
      "metadata": {
        "id": "nyEFYcZjWh_h",
        "papermill": {
          "duration": 0.034116,
          "end_time": "2020-09-08T03:16:10.916017",
          "exception": false,
          "start_time": "2020-09-08T03:16:10.881901",
          "status": "completed"
        },
        "tags": []
      },
      "source": [
        "##### 4-4-KNearest Neighbors"
      ]
    },
    {
      "cell_type": "code",
      "execution_count": 277,
      "metadata": {
        "execution": {
          "iopub.execute_input": "2020-09-08T03:16:10.999870Z",
          "iopub.status.busy": "2020-09-08T03:16:10.997521Z",
          "iopub.status.idle": "2020-09-08T03:16:11.536747Z",
          "shell.execute_reply": "2020-09-08T03:16:11.537673Z"
        },
        "id": "THPWeMAFWh_h",
        "outputId": "0a87a33c-7716-431f-e337-7851ee09d47c",
        "papermill": {
          "duration": 0.5862,
          "end_time": "2020-09-08T03:16:11.537880",
          "exception": false,
          "start_time": "2020-09-08T03:16:10.951680",
          "status": "completed"
        },
        "tags": []
      },
      "outputs": [
        {
          "name": "stdout",
          "output_type": "stream",
          "text": [
            "[0.3669724770642202, 0.41284403669724773, 0.3577981651376147, 0.3761467889908257, 0.3394495412844037, 0.3394495412844037, 0.3211009174311927, 0.3486238532110092, 0.29357798165137616, 0.3394495412844037, 0.29357798165137616, 0.30275229357798167, 0.29357798165137616, 0.30275229357798167, 0.30275229357798167, 0.28440366972477066, 0.29357798165137616, 0.30275229357798167, 0.30275229357798167, 0.28440366972477066, 0.30275229357798167, 0.30275229357798167, 0.28440366972477066, 0.27522935779816515, 0.28440366972477066, 0.27522935779816515, 0.30275229357798167, 0.27522935779816515, 0.29357798165137616, 0.29357798165137616, 0.30275229357798167, 0.30275229357798167, 0.30275229357798167, 0.30275229357798167, 0.30275229357798167, 0.30275229357798167, 0.30275229357798167, 0.30275229357798167, 0.30275229357798167]\n"
          ]
        }
      ],
      "source": [
        "error_rate=[]\n",
        "for n in range(1,40):\n",
        "    knn=KNeighborsClassifier(n_neighbors=n)\n",
        "    knn.fit(X_train, Y_train)\n",
        "    knn_prediction=knn.predict(X_test)\n",
        "    error_rate.append(np.mean(knn_prediction!=Y_test))\n",
        "print(error_rate)"
      ]
    },
    {
      "cell_type": "code",
      "execution_count": 278,
      "metadata": {
        "execution": {
          "iopub.execute_input": "2020-09-08T03:16:11.638085Z",
          "iopub.status.busy": "2020-09-08T03:16:11.636111Z",
          "iopub.status.idle": "2020-09-08T03:16:12.063158Z",
          "shell.execute_reply": "2020-09-08T03:16:12.063821Z"
        },
        "id": "Xds4kchxWh_h",
        "papermill": {
          "duration": 0.486515,
          "end_time": "2020-09-08T03:16:12.064009",
          "exception": false,
          "start_time": "2020-09-08T03:16:11.577494",
          "status": "completed"
        },
        "tags": []
      },
      "outputs": [
        {
          "data": {
            "text/plain": [
              "Text(0.5, 1.0, 'Elbow Method')"
            ]
          },
          "execution_count": 278,
          "metadata": {},
          "output_type": "execute_result"
        },
        {
          "data": {
            "image/png": "[encoded data removed]",
            "text/plain": [
              "<Figure size 800x600 with 1 Axes>"
            ]
          },
          "metadata": {},
          "output_type": "display_data"
        }
      ],
      "source": [
        "plt.figure(figsize=(8,6))\n",
        "sns.set_style('whitegrid')\n",
        "plt.plot(list(range(1,40)),error_rate,color='b', marker='o', linewidth=2, markersize=12, markerfacecolor='r', markeredgecolor='r')\n",
        "plt.xlabel('Number of Neighbors')\n",
        "plt.ylabel('Error Rate')\n",
        "plt.title('Elbow Method')"
      ]
    },
    {
      "cell_type": "code",
      "execution_count": 279,
      "metadata": {
        "id": "eqezyCYMixqP"
      },
      "outputs": [
        {
          "name": "stdout",
          "output_type": "stream",
          "text": [
            "Optimal number of neighbors: 24\n"
          ]
        }
      ],
      "source": [
        "# Run the above two boxes to get the number of necessary nearest neighbors\n",
        "# Please look up what would tell you what number to use from this \n",
        "# Find the index of the minimum error rate\n",
        "optimal_n_neighbors = error_rate.index(min(error_rate)) + 1\n",
        "print(\"Optimal number of neighbors:\", optimal_n_neighbors)\n"
      ]
    },
    {
      "cell_type": "code",
      "execution_count": 280,
      "metadata": {
        "execution": {
          "iopub.execute_input": "2020-09-08T03:16:12.147838Z",
          "iopub.status.busy": "2020-09-08T03:16:12.146539Z",
          "iopub.status.idle": "2020-09-08T03:16:12.150256Z",
          "shell.execute_reply": "2020-09-08T03:16:12.150944Z"
        },
        "id": "IqOqSr1KWh_h",
        "papermill": {
          "duration": 0.048706,
          "end_time": "2020-09-08T03:16:12.151140",
          "exception": false,
          "start_time": "2020-09-08T03:16:12.102434",
          "status": "completed"
        },
        "tags": []
      },
      "outputs": [],
      "source": [
        "# Get Number from above cells\n",
        "\n",
        "knn=KNeighborsClassifier(n_neighbors=7)"
      ]
    },
    {
      "cell_type": "code",
      "execution_count": 281,
      "metadata": {
        "execution": {
          "iopub.execute_input": "2020-09-08T03:16:12.242944Z",
          "iopub.status.busy": "2020-09-08T03:16:12.240283Z",
          "iopub.status.idle": "2020-09-08T03:16:12.247941Z",
          "shell.execute_reply": "2020-09-08T03:16:12.248518Z"
        },
        "id": "Z3Q2422BWh_i",
        "papermill": {
          "duration": 0.058474,
          "end_time": "2020-09-08T03:16:12.248695",
          "exception": false,
          "start_time": "2020-09-08T03:16:12.190221",
          "status": "completed"
        },
        "tags": []
      },
      "outputs": [
        {
          "data": {
            "text/html": [
              "<style>#sk-container-id-43 {color: black;background-color: white;}#sk-container-id-43 pre{padding: 0;}#sk-container-id-43 div.sk-toggleable {background-color: white;}#sk-container-id-43 label.sk-toggleable__label {cursor: pointer;display: block;width: 100%;margin-bottom: 0;padding: 0.3em;box-sizing: border-box;text-align: center;}#sk-container-id-43 label.sk-toggleable__label-arrow:before {content: \"▸\";float: left;margin-right: 0.25em;color: #696969;}#sk-container-id-43 label.sk-toggleable__label-arrow:hover:before {color: black;}#sk-container-id-43 div.sk-estimator:hover label.sk-toggleable__label-arrow:before {color: black;}#sk-container-id-43 div.sk-toggleable__content {max-height: 0;max-width: 0;overflow: hidden;text-align: left;background-color: #f0f8ff;}#sk-container-id-43 div.sk-toggleable__content pre {margin: 0.2em;color: black;border-radius: 0.25em;background-color: #f0f8ff;}#sk-container-id-43 input.sk-toggleable__control:checked~div.sk-toggleable__content {max-height: 200px;max-width: 100%;overflow: auto;}#sk-container-id-43 input.sk-toggleable__control:checked~label.sk-toggleable__label-arrow:before {content: \"▾\";}#sk-container-id-43 div.sk-estimator input.sk-toggleable__control:checked~label.sk-toggleable__label {background-color: #d4ebff;}#sk-container-id-43 div.sk-label input.sk-toggleable__control:checked~label.sk-toggleable__label {background-color: #d4ebff;}#sk-container-id-43 input.sk-hidden--visually {border: 0;clip: rect(1px 1px 1px 1px);clip: rect(1px, 1px, 1px, 1px);height: 1px;margin: -1px;overflow: hidden;padding: 0;position: absolute;width: 1px;}#sk-container-id-43 div.sk-estimator {font-family: monospace;background-color: #f0f8ff;border: 1px dotted black;border-radius: 0.25em;box-sizing: border-box;margin-bottom: 0.5em;}#sk-container-id-43 div.sk-estimator:hover {background-color: #d4ebff;}#sk-container-id-43 div.sk-parallel-item::after {content: \"\";width: 100%;border-bottom: 1px solid gray;flex-grow: 1;}#sk-container-id-43 div.sk-label:hover label.sk-toggleable__label {background-color: #d4ebff;}#sk-container-id-43 div.sk-serial::before {content: \"\";position: absolute;border-left: 1px solid gray;box-sizing: border-box;top: 0;bottom: 0;left: 50%;z-index: 0;}#sk-container-id-43 div.sk-serial {display: flex;flex-direction: column;align-items: center;background-color: white;padding-right: 0.2em;padding-left: 0.2em;position: relative;}#sk-container-id-43 div.sk-item {position: relative;z-index: 1;}#sk-container-id-43 div.sk-parallel {display: flex;align-items: stretch;justify-content: center;background-color: white;position: relative;}#sk-container-id-43 div.sk-item::before, #sk-container-id-43 div.sk-parallel-item::before {content: \"\";position: absolute;border-left: 1px solid gray;box-sizing: border-box;top: 0;bottom: 0;left: 50%;z-index: -1;}#sk-container-id-43 div.sk-parallel-item {display: flex;flex-direction: column;z-index: 1;position: relative;background-color: white;}#sk-container-id-43 div.sk-parallel-item:first-child::after {align-self: flex-end;width: 50%;}#sk-container-id-43 div.sk-parallel-item:last-child::after {align-self: flex-start;width: 50%;}#sk-container-id-43 div.sk-parallel-item:only-child::after {width: 0;}#sk-container-id-43 div.sk-dashed-wrapped {border: 1px dashed gray;margin: 0 0.4em 0.5em 0.4em;box-sizing: border-box;padding-bottom: 0.4em;background-color: white;}#sk-container-id-43 div.sk-label label {font-family: monospace;font-weight: bold;display: inline-block;line-height: 1.2em;}#sk-container-id-43 div.sk-label-container {text-align: center;}#sk-container-id-43 div.sk-container {/* jupyter's `normalize.less` sets `[hidden] { display: none; }` but bootstrap.min.css set `[hidden] { display: none !important; }` so we also need the `!important` here to be able to override the default hidden behavior on the sphinx rendered scikit-learn.org. See: https://github.com/scikit-learn/scikit-learn/issues/21755 */display: inline-block !important;position: relative;}#sk-container-id-43 div.sk-text-repr-fallback {display: none;}</style><div id=\"sk-container-id-43\" class=\"sk-top-container\"><div class=\"sk-text-repr-fallback\"><pre>KNeighborsClassifier(n_neighbors=7)</pre><b>In a Jupyter environment, please rerun this cell to show the HTML representation or trust the notebook. <br />On GitHub, the HTML representation is unable to render, please try loading this page with nbviewer.org.</b></div><div class=\"sk-container\" hidden><div class=\"sk-item\"><div class=\"sk-estimator sk-toggleable\"><input class=\"sk-toggleable__control sk-hidden--visually\" id=\"sk-estimator-id-43\" type=\"checkbox\" checked><label for=\"sk-estimator-id-43\" class=\"sk-toggleable__label sk-toggleable__label-arrow\">KNeighborsClassifier</label><div class=\"sk-toggleable__content\"><pre>KNeighborsClassifier(n_neighbors=7)</pre></div></div></div></div></div>"
            ],
            "text/plain": [
              "KNeighborsClassifier(n_neighbors=7)"
            ]
          },
          "execution_count": 281,
          "metadata": {},
          "output_type": "execute_result"
        }
      ],
      "source": [
        "# Box for fitting \n",
        "knn.fit(X_train, Y_train)"
      ]
    },
    {
      "cell_type": "code",
      "execution_count": 282,
      "metadata": {
        "execution": {
          "iopub.execute_input": "2020-09-08T03:16:12.331602Z",
          "iopub.status.busy": "2020-09-08T03:16:12.330740Z",
          "iopub.status.idle": "2020-09-08T03:16:12.341936Z",
          "shell.execute_reply": "2020-09-08T03:16:12.341116Z"
        },
        "id": "iCwhr11hWh_i",
        "papermill": {
          "duration": 0.056219,
          "end_time": "2020-09-08T03:16:12.342067",
          "exception": false,
          "start_time": "2020-09-08T03:16:12.285848",
          "status": "completed"
        },
        "tags": []
      },
      "outputs": [],
      "source": [
        "# Box for predictions\n",
        "knn_prediction = model.predict(X_test)"
      ]
    },
    {
      "cell_type": "code",
      "execution_count": 283,
      "metadata": {
        "execution": {
          "iopub.execute_input": "2020-09-08T03:16:12.426316Z",
          "iopub.status.busy": "2020-09-08T03:16:12.425449Z",
          "iopub.status.idle": "2020-09-08T03:16:12.440260Z",
          "shell.execute_reply": "2020-09-08T03:16:12.439387Z"
        },
        "id": "QHH562lDWh_i",
        "papermill": {
          "duration": 0.061825,
          "end_time": "2020-09-08T03:16:12.440401",
          "exception": false,
          "start_time": "2020-09-08T03:16:12.378576",
          "status": "completed"
        },
        "tags": []
      },
      "outputs": [
        {
          "name": "stdout",
          "output_type": "stream",
          "text": [
            "[[15 18]\n",
            " [ 4 72]]\n",
            "\n",
            "\n",
            "              precision    recall  f1-score   support\n",
            "\n",
            "           0       0.79      0.45      0.58        33\n",
            "           1       0.80      0.95      0.87        76\n",
            "\n",
            "    accuracy                           0.80       109\n",
            "   macro avg       0.79      0.70      0.72       109\n",
            "weighted avg       0.80      0.80      0.78       109\n",
            "\n",
            "\n",
            "\n",
            "Random Forest Accuracy:  0.7981651376146789\n"
          ]
        }
      ],
      "source": [
        "# Box for Confusion Matrix and Model Accuracy\n",
        "print(confusion_matrix(Y_test,knn_prediction))\n",
        "print('\\n')\n",
        "print(classification_report(Y_test,knn_prediction))\n",
        "print('\\n')\n",
        "print('Random Forest Accuracy: ', accuracy_score(Y_test,knn_prediction))"
      ]
    },
    {
      "cell_type": "markdown",
      "metadata": {
        "id": "KFEZaj-iWh_i",
        "papermill": {
          "duration": 0.035892,
          "end_time": "2020-09-08T03:16:12.515080",
          "exception": false,
          "start_time": "2020-09-08T03:16:12.479188",
          "status": "completed"
        },
        "tags": []
      },
      "source": [
        "##### 4-5-SVC"
      ]
    },
    {
      "cell_type": "code",
      "execution_count": 284,
      "metadata": {
        "execution": {
          "iopub.execute_input": "2020-09-08T03:16:12.592711Z",
          "iopub.status.busy": "2020-09-08T03:16:12.591334Z",
          "iopub.status.idle": "2020-09-08T03:16:12.595208Z",
          "shell.execute_reply": "2020-09-08T03:16:12.594346Z"
        },
        "id": "rXqFw5gyWh_i",
        "papermill": {
          "duration": 0.04455,
          "end_time": "2020-09-08T03:16:12.595349",
          "exception": false,
          "start_time": "2020-09-08T03:16:12.550799",
          "status": "completed"
        },
        "tags": []
      },
      "outputs": [],
      "source": [
        "# Box for model\n",
        "svc=SVC()"
      ]
    },
    {
      "cell_type": "code",
      "execution_count": 285,
      "metadata": {
        "execution": {
          "iopub.execute_input": "2020-09-08T03:16:12.685046Z",
          "iopub.status.busy": "2020-09-08T03:16:12.684189Z",
          "iopub.status.idle": "2020-09-08T03:16:12.705415Z",
          "shell.execute_reply": "2020-09-08T03:16:12.704457Z"
        },
        "id": "oirFHKVGWh_i",
        "papermill": {
          "duration": 0.069879,
          "end_time": "2020-09-08T03:16:12.705596",
          "exception": false,
          "start_time": "2020-09-08T03:16:12.635717",
          "status": "completed"
        },
        "tags": []
      },
      "outputs": [
        {
          "data": {
            "text/html": [
              "<style>#sk-container-id-44 {color: black;background-color: white;}#sk-container-id-44 pre{padding: 0;}#sk-container-id-44 div.sk-toggleable {background-color: white;}#sk-container-id-44 label.sk-toggleable__label {cursor: pointer;display: block;width: 100%;margin-bottom: 0;padding: 0.3em;box-sizing: border-box;text-align: center;}#sk-container-id-44 label.sk-toggleable__label-arrow:before {content: \"▸\";float: left;margin-right: 0.25em;color: #696969;}#sk-container-id-44 label.sk-toggleable__label-arrow:hover:before {color: black;}#sk-container-id-44 div.sk-estimator:hover label.sk-toggleable__label-arrow:before {color: black;}#sk-container-id-44 div.sk-toggleable__content {max-height: 0;max-width: 0;overflow: hidden;text-align: left;background-color: #f0f8ff;}#sk-container-id-44 div.sk-toggleable__content pre {margin: 0.2em;color: black;border-radius: 0.25em;background-color: #f0f8ff;}#sk-container-id-44 input.sk-toggleable__control:checked~div.sk-toggleable__content {max-height: 200px;max-width: 100%;overflow: auto;}#sk-container-id-44 input.sk-toggleable__control:checked~label.sk-toggleable__label-arrow:before {content: \"▾\";}#sk-container-id-44 div.sk-estimator input.sk-toggleable__control:checked~label.sk-toggleable__label {background-color: #d4ebff;}#sk-container-id-44 div.sk-label input.sk-toggleable__control:checked~label.sk-toggleable__label {background-color: #d4ebff;}#sk-container-id-44 input.sk-hidden--visually {border: 0;clip: rect(1px 1px 1px 1px);clip: rect(1px, 1px, 1px, 1px);height: 1px;margin: -1px;overflow: hidden;padding: 0;position: absolute;width: 1px;}#sk-container-id-44 div.sk-estimator {font-family: monospace;background-color: #f0f8ff;border: 1px dotted black;border-radius: 0.25em;box-sizing: border-box;margin-bottom: 0.5em;}#sk-container-id-44 div.sk-estimator:hover {background-color: #d4ebff;}#sk-container-id-44 div.sk-parallel-item::after {content: \"\";width: 100%;border-bottom: 1px solid gray;flex-grow: 1;}#sk-container-id-44 div.sk-label:hover label.sk-toggleable__label {background-color: #d4ebff;}#sk-container-id-44 div.sk-serial::before {content: \"\";position: absolute;border-left: 1px solid gray;box-sizing: border-box;top: 0;bottom: 0;left: 50%;z-index: 0;}#sk-container-id-44 div.sk-serial {display: flex;flex-direction: column;align-items: center;background-color: white;padding-right: 0.2em;padding-left: 0.2em;position: relative;}#sk-container-id-44 div.sk-item {position: relative;z-index: 1;}#sk-container-id-44 div.sk-parallel {display: flex;align-items: stretch;justify-content: center;background-color: white;position: relative;}#sk-container-id-44 div.sk-item::before, #sk-container-id-44 div.sk-parallel-item::before {content: \"\";position: absolute;border-left: 1px solid gray;box-sizing: border-box;top: 0;bottom: 0;left: 50%;z-index: -1;}#sk-container-id-44 div.sk-parallel-item {display: flex;flex-direction: column;z-index: 1;position: relative;background-color: white;}#sk-container-id-44 div.sk-parallel-item:first-child::after {align-self: flex-end;width: 50%;}#sk-container-id-44 div.sk-parallel-item:last-child::after {align-self: flex-start;width: 50%;}#sk-container-id-44 div.sk-parallel-item:only-child::after {width: 0;}#sk-container-id-44 div.sk-dashed-wrapped {border: 1px dashed gray;margin: 0 0.4em 0.5em 0.4em;box-sizing: border-box;padding-bottom: 0.4em;background-color: white;}#sk-container-id-44 div.sk-label label {font-family: monospace;font-weight: bold;display: inline-block;line-height: 1.2em;}#sk-container-id-44 div.sk-label-container {text-align: center;}#sk-container-id-44 div.sk-container {/* jupyter's `normalize.less` sets `[hidden] { display: none; }` but bootstrap.min.css set `[hidden] { display: none !important; }` so we also need the `!important` here to be able to override the default hidden behavior on the sphinx rendered scikit-learn.org. See: https://github.com/scikit-learn/scikit-learn/issues/21755 */display: inline-block !important;position: relative;}#sk-container-id-44 div.sk-text-repr-fallback {display: none;}</style><div id=\"sk-container-id-44\" class=\"sk-top-container\"><div class=\"sk-text-repr-fallback\"><pre>SVC()</pre><b>In a Jupyter environment, please rerun this cell to show the HTML representation or trust the notebook. <br />On GitHub, the HTML representation is unable to render, please try loading this page with nbviewer.org.</b></div><div class=\"sk-container\" hidden><div class=\"sk-item\"><div class=\"sk-estimator sk-toggleable\"><input class=\"sk-toggleable__control sk-hidden--visually\" id=\"sk-estimator-id-44\" type=\"checkbox\" checked><label for=\"sk-estimator-id-44\" class=\"sk-toggleable__label sk-toggleable__label-arrow\">SVC</label><div class=\"sk-toggleable__content\"><pre>SVC()</pre></div></div></div></div></div>"
            ],
            "text/plain": [
              "SVC()"
            ]
          },
          "execution_count": 285,
          "metadata": {},
          "output_type": "execute_result"
        }
      ],
      "source": [
        "# Box for fitting \n",
        "svc.fit(X_train,Y_train)\n"
      ]
    },
    {
      "cell_type": "code",
      "execution_count": 286,
      "metadata": {
        "execution": {
          "iopub.execute_input": "2020-09-08T03:16:12.790520Z",
          "iopub.status.busy": "2020-09-08T03:16:12.789661Z",
          "iopub.status.idle": "2020-09-08T03:16:12.794409Z",
          "shell.execute_reply": "2020-09-08T03:16:12.795003Z"
        },
        "id": "fmOiZpeOWh_j",
        "papermill": {
          "duration": 0.049784,
          "end_time": "2020-09-08T03:16:12.795179",
          "exception": false,
          "start_time": "2020-09-08T03:16:12.745395",
          "status": "completed"
        },
        "tags": []
      },
      "outputs": [],
      "source": [
        "# Box for predicting\n",
        "svc_prediction=dt.predict(X_test)"
      ]
    },
    {
      "cell_type": "code",
      "execution_count": 287,
      "metadata": {
        "execution": {
          "iopub.execute_input": "2020-09-08T03:16:12.881214Z",
          "iopub.status.busy": "2020-09-08T03:16:12.880041Z",
          "iopub.status.idle": "2020-09-08T03:16:12.892392Z",
          "shell.execute_reply": "2020-09-08T03:16:12.891618Z"
        },
        "id": "z9DeDDj_Wh_j",
        "papermill": {
          "duration": 0.057881,
          "end_time": "2020-09-08T03:16:12.892529",
          "exception": false,
          "start_time": "2020-09-08T03:16:12.834648",
          "status": "completed"
        },
        "tags": []
      },
      "outputs": [
        {
          "name": "stdout",
          "output_type": "stream",
          "text": [
            "[[19 14]\n",
            " [19 57]]\n",
            "\n",
            "\n",
            "              precision    recall  f1-score   support\n",
            "\n",
            "           0       0.50      0.58      0.54        33\n",
            "           1       0.80      0.75      0.78        76\n",
            "\n",
            "    accuracy                           0.70       109\n",
            "   macro avg       0.65      0.66      0.66       109\n",
            "weighted avg       0.71      0.70      0.70       109\n",
            "\n",
            "\n",
            "\n",
            "Random Forest Accuracy:  0.6972477064220184\n"
          ]
        }
      ],
      "source": [
        "# Box for Confusion Matrix and Model Accuracy\n",
        "# Box for Confusion Matrix and Model Accuracy\n",
        "print(confusion_matrix(Y_test,svc_prediction))\n",
        "print('\\n')\n",
        "print(classification_report(Y_test,svc_prediction))\n",
        "print('\\n')\n",
        "print('Random Forest Accuracy: ', accuracy_score(Y_test,svc_prediction))"
      ]
    },
    {
      "cell_type": "code",
      "execution_count": 288,
      "metadata": {
        "execution": {
          "iopub.execute_input": "2020-09-08T03:16:12.977135Z",
          "iopub.status.busy": "2020-09-08T03:16:12.975351Z",
          "iopub.status.idle": "2020-09-08T03:16:12.982336Z",
          "shell.execute_reply": "2020-09-08T03:16:12.980913Z"
        },
        "id": "b4O-BMvnWh_j",
        "papermill": {
          "duration": 0.052385,
          "end_time": "2020-09-08T03:16:12.982521",
          "exception": false,
          "start_time": "2020-09-08T03:16:12.930136",
          "status": "completed"
        },
        "tags": []
      },
      "outputs": [
        {
          "name": "stdout",
          "output_type": "stream",
          "text": [
            "Logistic Regression Accuracy:  0.7981651376146789\n",
            "Decision Tree Accuracy:  0.6972477064220184\n",
            "Random Forest Accuracy:  0.7981651376146789\n",
            "K Nearest Neighbours 4 Accuracy:  0.7981651376146789\n",
            "SVC Accuracy:  0.6972477064220184\n"
          ]
        }
      ],
      "source": [
        "# Using the example for logistic regression please print the accuracy scores for the 5 models you used.\n",
        "# Please Let me know you conclusions in the last box. \n",
        "# one about the data\n",
        "# the second about which model is best\n",
        "\n",
        "print('Logistic Regression Accuracy: ', accuracy_score(Y_test,lr_prediction))\n",
        "print('Decision Tree Accuracy: ', accuracy_score(Y_test, dt_prediction))\n",
        "print('Random Forest Accuracy: ', accuracy_score(Y_test, rf_prediction))\n",
        "print('K Nearest Neighbours 4 Accuracy: ', accuracy_score(Y_test, knn_prediction))\n",
        "print('SVC Accuracy: ', accuracy_score(Y_test, svc_prediction))\n"
      ]
    },
    {
      "cell_type": "markdown",
      "metadata": {
        "id": "iLClB79bWh_k",
        "papermill": {
          "duration": 0.039901,
          "end_time": "2020-09-08T03:16:13.061982",
          "exception": false,
          "start_time": "2020-09-08T03:16:13.022081",
          "status": "completed"
        },
        "tags": []
      },
      "source": [
        "### CONCLUSION\n",
        "\n",
        "1. Tell me what you learned from the data\n",
        "\n",
        "\n",
        "The data is good for classification because several models are getting high accuracy. This means the features in the data are probably good at helping to tell the different classes apart.\n",
        "\n",
        "2. Which model is best and why?:\n",
        "\n",
        "Logistic Regression, Random Forest, and K Nearest Neighbours all achieved the highest accuracy of 0.83. Since they all performed equally well in terms of accuracy, we can choose what best suits our needs."
      ]
    }
  ],
  "metadata": {
    "colab": {
      "name": "LoanRepayment_Assignment.ipynb",
      "provenance": []
    },
    "kernelspec": {
      "display_name": "Python 3",
      "language": "python",
      "name": "python3"
    },
    "language_info": {
      "codemirror_mode": {
        "name": "ipython",
        "version": 3
      },
      "file_extension": ".py",
      "mimetype": "text/x-python",
      "name": "python",
      "nbconvert_exporter": "python",
      "pygments_lexer": "ipython3",
      "version": "3.11.7"
    },
    "papermill": {
      "duration": 23.464495,
      "end_time": "2020-09-08T03:16:13.213032",
      "environment_variables": {},
      "exception": null,
      "input_path": "__notebook__.ipynb",
      "output_path": "__notebook__.ipynb",
      "parameters": {},
      "start_time": "2020-09-08T03:15:49.748537",
      "version": "2.1.0"
    }
  },
  "nbformat": 4,
  "nbformat_minor": 0
}
