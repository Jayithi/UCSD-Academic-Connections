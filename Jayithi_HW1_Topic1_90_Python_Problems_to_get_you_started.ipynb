{
  "metadata": {
    "kernelspec": {
      "name": "python",
      "display_name": "Python (Pyodide)",
      "language": "python"
    },
    "language_info": {
      "codemirror_mode": {
        "name": "python",
        "version": 3
      },
      "file_extension": ".py",
      "mimetype": "text/x-python",
      "name": "python",
      "nbconvert_exporter": "python",
      "pygments_lexer": "ipython3",
      "version": "3.8"
    },
    "colab": {
      "provenance": [],
      "collapsed_sections": [
        "nwyGYOVRgCsE",
        "mdFcPXetgCsJ",
        "fUiyyxLrgCsV",
        "9PzP33GYgCsa",
        "kCXqjD8gML7-",
        "kAVQ5VuUgCse",
        "B3ouYq2pgCsf",
        "jtoQzmQBgCsr",
        "tvUlu1OVgCsv"
      ]
    }
  },
  "nbformat_minor": 4,
  "nbformat": 4,
  "cells": [
    {
      "cell_type": "markdown",
      "source": "# Welcome to Intro to Python's Exercises for Python Fundamentals\n\nWhile these are borrowed. I would have been doing a lot of these in class anyway, so it is nice to have these already typed up for you in a nice notebook. THIS is why I love using them so much. Solving these exercises will help make you a better programmer. Solve them in order, because each solution builds scaffolding, working code, and knowledge you can use on future problems. Read the directions carefully, and have fun!\n\n> \"Learning to program takes a little bit of study and a *lot* of practice\" - Luis Montealegre",
      "metadata": {
        "id": "KXbe87ydgCr0"
      }
    },
    {
      "cell_type": "markdown",
      "source": ">Professor, this is Jayithi, I will be changed to the advanced batch soon, I am turning in my homework on the beginner hw1 web page only. Thank you for understanding",
      "metadata": {}
    },
    {
      "cell_type": "markdown",
      "source": "## Getting Started\n1. You can access this on your canvas under Week 1 but I will also making it accessible in a public github.\n\n2. To save your work to your Google Drive, go to File then \"Save Copy in Drive\" or you can download it as .ipynb and use it through github/mybinder\n\n3. I worked some exercises online which I will delete here. But always make sure to save a fresh copy and name it what you need to in order to remember what it is.",
      "metadata": {
        "id": "qhePOizMgCr7"
      }
    },
    {
      "cell_type": "markdown",
      "source": "## Orientation\n- This code notebook is composed of cells. Each cell is either text or Python code. -- This is important as you can run a cell to execute code you can't run text. So in code cells be sure to always use correct syntax.\n- To run a cell of code, click the \"play button\" icon to the left of the cell or click on the cell and press \"Shift+Enter\" on your keyboard. This will execute the Python code contained in the cell. Executing a cell that defines a variable is important before executing or authoring a cell that depends on that previously created variable assignment. -- Later I will teach you to make a variable that exists in one cell accessible to all the cells. That way you can put variables all in one cell and use them for different things in different sections.\n- Each *assert* line is both an example and a test that tests for the presence and functionality of the instructed exercise.\n\n\n## Outline\n- Each cell starts with a problem statement that describes the exercise to complete.\n- Underneath each problem statement, learners will need to write code to produce an answer.\n- The **assert** lines test to see that your code solves the problem appropriately.\n- Do not alter or delete the assertion tests, since those are providing automated testing.\n- Many exercises will rely on previous solutions to be correctly completed\n- The `print(\"Exercise is complete\")` line will only run if your solution passes the assertion test(s)\n- Be sure to create programmatic solutions that will work for all inputs:\n- For example, calling the `is_even(2)` returns `True`, but your function should work for all even numbers, both positive and negative.\n\n\n## Guidance\n- Get Python to do the work for you. For example, if the exercise instructs you to reverse a list of numbers, your job is to find the method/function/operator that can do that thing for you.  \n- Save often by clicking the blue \"Save\" button.\n- If you need to clear the output or reset the notebook, go to \"Run\" then \"Restart Session\" to clear up any error messages.\n- You can clear a single output that is an error by clicking the X button in the top left next to that error.\n- Do not move or alter the lines of code that contain the `assert` statements. Those are what run your solution and test its actual output vs. expected outputs.\n- Seek to understand the problem before trying to solve it. Can you explain the problem to someone else in plain language?\n- Slow down and read any error messages you encounter. Error messages provide insight into how to resolve the error. When in doubt, put your exact error into a search engine and look for results that reference an identical or similar problem. -- This is super important\n- You can hide cells in this document. That you have already worked on so that it is less cluttered. The arrows next to bolded titles help you do this.\n\n## Get Python To Do The Work For You\nOne of the main jobs of a programming language is to help people solve problems programatically, so we don't have to do so much by hand. For example, it's easy for a person to manually reverse the list `[1, 2, 3]`, but imagine reversing a list of a million things or sorting a list of even a hundred things. When we write programmatic solutions in code, we are providing instructions to the computer to do a task. Computers follow the letter of the code, not the intent, and do exactly what they are told to do. In this way, Python can reverse a list of 3 numbers or 100 numbers or ten million numbers with the same instructions. Repetition is a key idea behind programming languages.\n\nThis means that your task with these exercises is to determine a sequence of steps that solve the problem and then find the Python code that will run those instructions. If you're sorting or reversing things by hand, you're not doing it right!\n\n## How To Discover How To Do Something in Python\n1. The first step is to make sure you know what the problem is asking.\n2. The second step is to determine list out theoretically what steps you would need to take. NOT the python steps. But, I need to reverse this, or capitalize this or delete this, then do that. It is also important to know what objects you are trying to manipulate.\n3. Use a search engine to look for code examples to identical or similar problems or for object operations. There are huge lists of operations that can be done on particular objects.\n\nOne of the best ways to discover how to do things in Python is to use a search engine. Go to your favorite search engine and search for \"how to reverse a list in Python\" or \"how to sort a list in Python\". That's how both learners and professionals find answers and examples all the time. Search for what you want and add \"in Python\" and you'll get lots of code examples. Searching for \"How to sum a list of numbers in Python\" is a very effective way to discover exactly how to do that task.",
      "metadata": {
        "id": "lWPyk0gogCr7"
      }
    },
    {
      "cell_type": "markdown",
      "source": "### Learning to Program and Code\n- You can make a new blank cell for Python code at any time in this document.\n- Programming is an intellectual activity of designing a solution. \"Coding\" means turning your programmatic solution into code w/ all the right syntax and parts of the programming language.\n- Expect to make mistakes and adopt the attitude that **the error message provides the information you need to proceed**. You will put lots of error messages into search engines to learn this craft!\n- Because computers have zero ability to read in between the lines or \"catch the drift\" or know what you mean, code only does what it is told to do.\n- Code doesn't do what you *want* it to do, code does what you've told it to do.\n- Before writing any code, figure out how you would solve the problem in spoken language to describe the sequence of steps in the solution.\n- Think about your solution in English (or your natural language). It's **critical** to solve the problem in your natural language before trying to get a programming language to do the work.",
      "metadata": {
        "id": "nqJx2KGRgCr9"
      }
    },
    {
      "cell_type": "markdown",
      "source": "## Troubleshooting\n\n- \"Name Error\" means that you need to assign a variable or define the function as instructed.\n- \"Assertion Error\" means that your provided solution does not match the correct answer.\n- \"Type Error\" means that your data type provided is not accurate\n- If your kernel freezes, click on \"Run\" then select \"Restart Session\"\n- If you require additional troubleshooting assistance, click on \"Help\" and then \"Docs\" to access documentation for this platform.\n\n\n## What to do when you don't know what to do next\n- When the exercise asks you to reverse an list, the way forward is to search for \"How to reverse a list in Python\" in your favorite search engine.\n- When the exercise asks you to check if a number is even, the way forward is to search for \"how to check if a number is even in Python\".\n- When the exercise has you calculate the area of a circle, the way forward is to search for \"how to calculate the area of a circle in Python\" or \"How to get pi in Python\".",
      "metadata": {
        "id": "53YyyQPXgCr-"
      }
    },
    {
      "cell_type": "code",
      "source": "# Example problem:\n# Uncomment the line below and run this cell.\n# The hashtag \"#\" character in a line of Python code is the comment character.\n\ndoing_python_right_now = True\n\n# The lines below will test your answer. If you see an error, then it means that your answer is incorrect or incomplete.\nassert doing_python_right_now == True, \"If you see a NameError, it means that the variable is not created and assigned a value. An 'Assertion Error' means that the value of the variable is incorrect.\"\nprint(\"Exercise 0 is correct\") # This line will print if your solution passes the assertion above.",
      "metadata": {
        "_cell_guid": "79c7e3d0-c299-4dcb-8224-4455121ee9b0",
        "_uuid": "d629ff2d2480ee46fbb7e2d37f6b5fab8052498a",
        "id": "toCibUprgCr_",
        "trusted": true
      },
      "outputs": [
        {
          "name": "stdout",
          "text": "Exercise 0 is correct\n",
          "output_type": "stream"
        }
      ],
      "execution_count": 217
    },
    {
      "cell_type": "code",
      "source": "# Exercise 1\n# On the line below, create a variable named on_mars_right_now and assign it the boolean value of False\non_mars_right_now = False\n\nassert on_mars_right_now == False, \"If you see a Name Error, be sure to create the variable and assign it a value.\"\nprint(\"Exercise 1 is correct.\")",
      "metadata": {
        "id": "K-oKAPgdgCsA",
        "trusted": true
      },
      "outputs": [
        {
          "name": "stdout",
          "text": "Exercise 1 is correct.\n",
          "output_type": "stream"
        }
      ],
      "execution_count": 218
    },
    {
      "cell_type": "code",
      "source": "# Exercise 2\n# Create a variable named fruits and assign it a list of fruits containing the following fruit names as strings:\n# mango, banana, guava, kiwi, and strawberry.\nfruits = [\"mango\", \"banana\", \"guava\", \"kiwi\", \"strawberry\"]\n\n\nassert fruits == [\"mango\", \"banana\", \"guava\", \"kiwi\", \"strawberry\"], \"If you see an Assert Error, ensure the variable contains all the strings in the provided order\"\nprint(\"Exercise 2 is correct.\")",
      "metadata": {
        "id": "E7X42EaOgCsB",
        "trusted": true
      },
      "outputs": [
        {
          "name": "stdout",
          "text": "Exercise 2 is correct.\n",
          "output_type": "stream"
        }
      ],
      "execution_count": 219
    },
    {
      "cell_type": "code",
      "source": "# Exercise 3\n# Create a variable named vegetables and assign it a list of fruits containing the following vegetable names as strings:\n# eggplant, broccoli, carrot, cauliflower, and zucchini\n\nvegetables = [\"eggplant\", \"broccoli\", \"carrot\", \"cauliflower\", \"zucchini\"]\nassert vegetables == [\"eggplant\", \"broccoli\", \"carrot\", \"cauliflower\", \"zucchini\"], \"Ensure the variable contains all the strings in the provided order\"\nprint(\"Exercise 3 is correct.\")",
      "metadata": {
        "colab": {
          "base_uri": "https://localhost:8080/"
        },
        "id": "5N7DQHdNgCsD",
        "outputId": "35edf8dc-a805-4660-e692-f3645b4cb393",
        "trusted": true
      },
      "outputs": [
        {
          "name": "stdout",
          "text": "Exercise 3 is correct.\n",
          "output_type": "stream"
        }
      ],
      "execution_count": 220
    },
    {
      "cell_type": "code",
      "source": "# Exercise 4\n# Create a variable named numbers and assign it a list of numbers, 1, 2, 3, 4, 5, 6, 7, 8, 9, 10\nnumbers = [1, 2, 3, 4, 5, 6, 7, 8, 9, 10]\nassert numbers == [1, 2, 3, 4, 5, 6, 7, 8, 9, 10], \"Ensure the variable contains the numbers 1-10 in order.\"\nprint(\"Exercise 4 is correct.\")",
      "metadata": {
        "id": "SoEdSbfJgCsE",
        "trusted": true
      },
      "outputs": [
        {
          "name": "stdout",
          "text": "Exercise 4 is correct.\n",
          "output_type": "stream"
        }
      ],
      "execution_count": 221
    },
    {
      "cell_type": "markdown",
      "source": "## List Operations\n**Hint** Recommend finding and using built-in Python functionality whenever possible.\n\nNOTE ROM\n",
      "metadata": {
        "id": "nwyGYOVRgCsE"
      }
    },
    {
      "cell_type": "code",
      "source": "# Exercise 5\n# Given the following assigment of the list of fruits, add \"tomato\" to the end of the list.\nfruits = [\"mango\", \"banana\", \"guava\", \"kiwi\", \"strawberry\"]\nfruits.append(\"tomato\")\n\nassert fruits == [\"mango\", \"banana\", \"guava\", \"kiwi\", \"strawberry\", \"tomato\"], \"Ensure the variable contains all the strings in the right order\"\nprint(\"Exercise 5 is correct\")",
      "metadata": {
        "id": "57aYOXg7gCsF",
        "colab": {
          "base_uri": "https://localhost:8080/"
        },
        "outputId": "f51605f9-7ec0-44f2-d46a-3891d101f76c",
        "trusted": true
      },
      "outputs": [
        {
          "name": "stdout",
          "text": "Exercise 5 is correct\n",
          "output_type": "stream"
        }
      ],
      "execution_count": 222
    },
    {
      "cell_type": "code",
      "source": "# Exercise 6\n# Given the following assignment of the vegetables list, add \"tomato\" to the end of the list.\nvegetables = [\"eggplant\", \"broccoli\", \"carrot\", \"cauliflower\", \"zucchini\"]\nvegetables.append(\"tomato\")\n\nassert vegetables == [\"eggplant\", \"broccoli\", \"carrot\", \"cauliflower\", \"zucchini\", \"tomato\"], \"Ensure the variable contains all the strings in the provided order\"\nprint(\"Exercise 6 is correct\")",
      "metadata": {
        "id": "igVbvxBdgCsG",
        "trusted": true
      },
      "outputs": [
        {
          "name": "stdout",
          "text": "Exercise 6 is correct\n",
          "output_type": "stream"
        }
      ],
      "execution_count": 223
    },
    {
      "cell_type": "code",
      "source": "# Exercise 7\n# Given the list of numbers defined below, reverse the list of numbers that you created above.\nnumbers = [1, 2, 3, 4, 5, 6, 7, 8, 9, 10]\nnumbers.reverse()\n#reverse function is used to reverse the order of the elements of a list\nassert numbers == [10, 9, 8, 7, 6, 5, 4, 3, 2, 1], \"Assert Error means that the answer is incorrect.\"\nprint(\"Exercise 7 is correct.\")",
      "metadata": {
        "id": "JEYfX1iWgCsG",
        "trusted": true
      },
      "outputs": [
        {
          "name": "stdout",
          "text": "Exercise 7 is correct.\n",
          "output_type": "stream"
        }
      ],
      "execution_count": 224
    },
    {
      "cell_type": "code",
      "source": "# Exercise 8\n# Sort the vegetables in alphabetical order\nvegetables.sort()\n#sort function is used to sort the elements of a list in alphabetical order\nassert vegetables == ['broccoli', 'carrot', 'cauliflower', 'eggplant', 'tomato', 'zucchini']\nprint(\"Exercise 8 is correct.\")",
      "metadata": {
        "id": "M4-WJrRYgCsH",
        "trusted": true
      },
      "outputs": [
        {
          "name": "stdout",
          "text": "Exercise 8 is correct.\n",
          "output_type": "stream"
        }
      ],
      "execution_count": 225
    },
    {
      "cell_type": "code",
      "source": "# Exercise 9\n# Write the code necessary to sort the fruits in reverse alphabetical order\nfruits.sort(reverse=True)\nprint(fruits)\nassert fruits == ['tomato', 'strawberry', 'mango', 'kiwi', 'guava', 'banana']\nprint(\"Exercise 9 is correct.\")",
      "metadata": {
        "id": "m6NtHZWUgCsI",
        "trusted": true
      },
      "outputs": [
        {
          "name": "stdout",
          "text": "['tomato', 'strawberry', 'mango', 'kiwi', 'guava', 'banana']\nExercise 9 is correct.\n",
          "output_type": "stream"
        }
      ],
      "execution_count": 226
    },
    {
      "cell_type": "code",
      "source": "# Exercise 10\n# Write the code necessary to produce a single list that holds all fruits then all vegetables in the order as they were sorted above.\nfruits_and_veggies = fruits+vegetables\n#Concatenation of the lists using the plus symbol\nassert fruits_and_veggies == ['tomato', 'strawberry', 'mango', 'kiwi', 'guava', 'banana', 'broccoli', 'carrot', 'cauliflower', 'eggplant', 'tomato', 'zucchini']\nprint(\"Exercise 10 is correct\")",
      "metadata": {
        "id": "rDW88m1AgCsJ",
        "trusted": true
      },
      "outputs": [
        {
          "name": "stdout",
          "text": "Exercise 10 is correct\n",
          "output_type": "stream"
        }
      ],
      "execution_count": 227
    },
    {
      "cell_type": "markdown",
      "source": "## Basic Functions\n![](http://)**Hint** Be sure to `return` values from your function definitions. The assert statements will call your function(s) for you.",
      "metadata": {
        "id": "mdFcPXetgCsJ"
      }
    },
    {
      "cell_type": "code",
      "source": "# Run this cell in order to generate some numbers to use in our functions after this.\n\n# This next line is called a library. We import libraries because they are groups of functions\n# that others have written that we can use, that we are entirely too lazy to write ourselves.\nimport random\n\n# Be sure to look up what any new functions like .randrange() do and what they require to functions\n# It looks like .randrange() takes three arguments, most likely integers ... it is important to know this\n# and potentially what order they are in.\n\npositive_even_number = random.randrange(2, 101, 2)\nnegative_even_number = random.randrange(-100, -1, 2)\n\npositive_odd_number = random.randrange(1, 100, 2)\nnegative_odd_number = random.randrange(-101, 0, 2)\nprint(\"We now have some random numbers available for future exercises.\")\nprint(\"The random positive even number is\", positive_even_number)\nprint(\"The random positive odd nubmer is\", positive_odd_number)\nprint(\"The random negative even number\", negative_even_number)\nprint(\"The random negative odd number\", negative_odd_number)\n",
      "metadata": {
        "id": "-fohX1yNgCsK",
        "trusted": true
      },
      "outputs": [
        {
          "name": "stdout",
          "text": "We now have some random numbers available for future exercises.\nThe random positive even number is 60\nThe random positive odd nubmer is 21\nThe random negative even number -36\nThe random negative odd number -69\n",
          "output_type": "stream"
        }
      ],
      "execution_count": 228
    },
    {
      "cell_type": "code",
      "source": "# Example function defintion:\n# Write a say_hello function that adds the string \"Hello, \" to the beginning and \"!\" to the end of any given input.\n\n# I explained this slightly before. The def function allows you to create your own functions and methods\n# You much use a colon after stipulating the function name, and supplying it an argument\n# The next line will automatically be indented.\n# This indent is IMPORTANT. As anything with the same indentation has the same level of priority\n# But in this example what we name the function and creating it is slightly more important that what is inside\n# However if you have multiple steps to a function that you want to do in order. Add these then change the order\n# they would need the same level of indentation.\n\n\ndef say_hello(name):\n    return \"Hello, \" + name + \"!\"\n\nassert say_hello(\"Jane\") == \"Hello, Jane!\", \"Double check the inputs and data types\"\nassert say_hello(\"Pat\") == \"Hello, Pat!\", \"Double check the inputs and data types\"\nassert say_hello(\"Astrud\") == \"Hello, Astrud!\", \"Double check the inputs and data types\"\nprint(\"The example function definition ran appropriately\")",
      "metadata": {
        "id": "TL2yVrMmgCsK",
        "trusted": true
      },
      "outputs": [
        {
          "name": "stdout",
          "text": "The example function definition ran appropriately\n",
          "output_type": "stream"
        }
      ],
      "execution_count": 229
    },
    {
      "cell_type": "code",
      "source": "# Another example function definition:\n# This plus_two function takes in a variable and adds 2 to it.\n\n# Above I didn't discuss the return function.\n# The return function is used in concert with the def function to output a result to your REPL.\n# You will learn that printing and return operate very differently.\n# And Actually that will be part of your homework.\n\n\ndef plus_two(number):\n    return number + 2\n\nassert plus_two(3) == 5\nassert plus_two(0) == 2\nassert plus_two(-2) == 0\nprint(\"The plus_two assertions executed appropriately... The second function definition example executed appropriately.\")",
      "metadata": {
        "id": "T36pEpxVgCsL",
        "trusted": true
      },
      "outputs": [
        {
          "name": "stdout",
          "text": "The plus_two assertions executed appropriately... The second function definition example executed appropriately.\n",
          "output_type": "stream"
        }
      ],
      "execution_count": 230
    },
    {
      "cell_type": "code",
      "source": "# Exercise 11\n# Write a function definition for a function named add_one that takes in a number and returns that number plus one.\ndef add_one(num):\n    return num+1\n\nassert add_one(2) == 3, \"Ensure that the function is defined, named properly, and returns the correct value\"\nassert add_one(0) == 1, \"Zero plus one is one.\"\nassert add_one(positive_even_number) == positive_even_number + 1, \"Ensure that the function is defined, named properly, and returns the correct value\"\nassert add_one(negative_odd_number) == negative_odd_number + 1, \"Ensure that the function is defined, named properly, and returns the correct value\"\nprint(\"Exercise 11 is correct.\")",
      "metadata": {
        "id": "5pVBwp3CgCsL",
        "trusted": true
      },
      "outputs": [
        {
          "name": "stdout",
          "text": "Exercise 11 is correct.\n",
          "output_type": "stream"
        }
      ],
      "execution_count": 231
    },
    {
      "cell_type": "code",
      "source": "# Exercise 12\n# Write a function definition named is_positive that takes in a number and returns True or False if that number is positive.\n\n# While this asks you to make a function named is_positive. If you imported the math library you wouldn't have to make it yourself.\n# Though here you should\ndef is_positive(num):\n    if(num>0):\n        return True\n    else:\n        return False\nassert is_positive(positive_odd_number) == True, \"Ensure that the function is defined, named properly, and returns the correct value\"\nassert is_positive(positive_even_number) == True, \"Ensure that the function is defined, named properly, and returns the correct value\"\nassert is_positive(negative_odd_number) == False, \"Ensure that the function is defined, named properly, and returns the correct value\"\nassert is_positive(negative_even_number) == False, \"Ensure that the function is defined, named properly, and returns the correct value\"\nassert is_positive(0) == False, \"Zero is not a positive number.\"\nprint(\"Exercise 12 is correct.\")",
      "metadata": {
        "id": "1_ZjCi1ggCsM",
        "trusted": true
      },
      "outputs": [
        {
          "name": "stdout",
          "text": "Exercise 12 is correct.\n",
          "output_type": "stream"
        }
      ],
      "execution_count": 232
    },
    {
      "cell_type": "code",
      "source": "# Exercise 13\n# Write a function definition named is_negative that takes in a number and returns True or False if that number is negative.\ndef is_negative(num):\n    if(num<0):\n        return True\n    else:\n        return False\nassert is_negative(positive_odd_number) == False, \"Ensure that the function is defined, named properly, and returns the correct value\"\nassert is_negative(positive_even_number) == False, \"Ensure that the function is defined, named properly, and returns the correct value\"\nassert is_negative(negative_odd_number) == True, \"Ensure that the function is defined, named properly, and returns the correct value\"\nassert is_negative(negative_even_number) == True, \"Ensure that the function is defined, named properly, and returns the correct value\"\nassert is_negative(0) == False, \"Zero is not a negative number.\"\nprint(\"Exercise 13 is correct.\")",
      "metadata": {
        "id": "nwzpNUb8gCsM",
        "trusted": true
      },
      "outputs": [
        {
          "name": "stdout",
          "text": "Exercise 13 is correct.\n",
          "output_type": "stream"
        }
      ],
      "execution_count": 233
    },
    {
      "cell_type": "code",
      "source": "# Exercise 14\n# Write a function definition named is_odd that takes in a number and returns True or False if that number is odd.\ndef is_odd(num):\n    if(num%2!=0):\n        return True\n    else:\n        return False\n    \nassert is_odd(positive_odd_number) == True, \"Ensure that the function is defined, named properly, and returns the correct value\"\nassert is_odd(positive_even_number) == False, \"Ensure that the function is defined, named properly, and returns the correct value\"\nassert is_odd(negative_odd_number) == True, \"Ensure that the function is defined, named properly, and returns the correct value\"\nassert is_odd(negative_even_number) == False, \"Ensure that the function is defined, named properly, and returns the correct value\"\nprint(\"Exercise 14 is correct.\")",
      "metadata": {
        "id": "lBH5rSwVgCsN",
        "trusted": true
      },
      "outputs": [
        {
          "name": "stdout",
          "text": "Exercise 14 is correct.\n",
          "output_type": "stream"
        }
      ],
      "execution_count": 234
    },
    {
      "cell_type": "code",
      "source": "# Exercise 15\n# Write a function definition named is_even that takes in a number and returns True or False if that number is even.\ndef is_even(num):\n    if(num%2==0):\n        return True\n    else:\n        return False\nassert is_even(2) == True, \"Ensure that the function is defined, named properly, and returns the correct value\"\nassert is_even(positive_odd_number) == False, \"Ensure that the function is defined, named properly, and returns the correct value\"\nassert is_even(positive_even_number) == True, \"Ensure that the function is defined, named properly, and returns the correct value\"\nassert is_even(negative_odd_number) == False, \"Ensure that the function is defined, named properly, and returns the correct value\"\nassert is_even(negative_even_number) == True, \"Ensure that the function is defined, named properly, and returns the correct value\"\nprint(\"Exercise 15 is correct.\")",
      "metadata": {
        "id": "7CmRcL2AgCsN",
        "trusted": true
      },
      "outputs": [
        {
          "name": "stdout",
          "text": "Exercise 15 is correct.\n",
          "output_type": "stream"
        }
      ],
      "execution_count": 235
    },
    {
      "cell_type": "code",
      "source": "# Exercise 16\n# Write a function definition named identity that takes in any argument and returns that argument's value. Don't overthink this one!\n\n# You can either explore or work with classmates to find a code that makes all variables accessible in all cells or you can copy\n# them into this cell.\n# Really don't overthink this one\ndef identity(x):\n    return x\n\nassert identity(fruits) == fruits, \"Ensure that the function is defined, named properly, and returns the correct value\"\nassert identity(vegetables) == vegetables, \"Ensure that the function is defined, named properly, and returns the correct value\"\nassert identity(positive_odd_number) == positive_odd_number, \"Ensure that the function is defined, named properly, and returns the correct value\"\nassert identity(positive_even_number) == positive_even_number, \"Ensure that the function is defined, named properly, and returns the correct value\"\nassert identity(negative_odd_number) == negative_odd_number, \"Ensure that the function is defined, named properly, and returns the correct value\"\nassert identity(negative_even_number) == negative_even_number, \"Ensure that the function is defined, named properly, and returns the correct value\"\nprint(\"Exercise 16 is correct.\")",
      "metadata": {
        "id": "wQXuHLfXgCsN",
        "trusted": true
      },
      "outputs": [
        {
          "name": "stdout",
          "text": "Exercise 16 is correct.\n",
          "output_type": "stream"
        }
      ],
      "execution_count": 236
    },
    {
      "cell_type": "code",
      "source": "\n\n# Exercise 17 THIS IS A HARDER EXERCISE\n# Write a function definition named is_positive_odd that takes in a number and returns True or False if the value is both greater than zero and odd\ndef is_positive_odd(num):\n    if(num>0 and num%2!=0):\n        return True\n    else:\n        return False\nassert is_positive_odd(3) == True, \"Double check your syntax and logic\"\nassert is_positive_odd(positive_odd_number) == True, \"Double check your syntax and logic\"\nassert is_positive_odd(positive_even_number) == False, \"Double check your syntax and logic\"\nassert is_positive_odd(negative_odd_number) == False, \"Double check your syntax and logic\"\nassert is_positive_odd(negative_even_number) == False, \"Double check your syntax and logic\"\nprint(\"Exercise 17 is correct.\")",
      "metadata": {
        "id": "KCpub51jgCsN",
        "trusted": true
      },
      "outputs": [
        {
          "name": "stdout",
          "text": "Exercise 17 is correct.\n",
          "output_type": "stream"
        }
      ],
      "execution_count": 237
    },
    {
      "cell_type": "code",
      "source": "# Exercise 18 THIS IS A HARDER EXERCISE\n# Write a function definition named is_positive_even that takes in a number and returns True or False if the value is both greater than zero and even\ndef is_positive_even(num):\n    if(num>0 and num%2==0):\n        return True\n    else:\n        return False\nassert is_positive_even(4) == True, \"Double check your syntax and logic\"\nassert is_positive_even(positive_odd_number) == False, \"Double check your syntax and logic\"\nassert is_positive_even(positive_even_number) == True, \"Double check your syntax and logic\"\nassert is_positive_even(negative_odd_number) == False, \"Double check your syntax and logic\"\nassert is_positive_even(negative_even_number) == False, \"Double check your syntax and logic\"\nprint(\"Exercise 18 is correct.\")",
      "metadata": {
        "id": "23bF1g0-gCsO",
        "trusted": true
      },
      "outputs": [
        {
          "name": "stdout",
          "text": "Exercise 18 is correct.\n",
          "output_type": "stream"
        }
      ],
      "execution_count": 238
    },
    {
      "cell_type": "code",
      "source": "# Exercise 19 THIS IS A HARDER EXERCISE\n# Write a function definition named is_negative_odd that takes in a number and returns True or False if the value is both less than zero and odd.\ndef is_negative_odd(num):\n    if(num<0 and num%2!=0):\n        return True\n    else:\n        return False\nassert is_negative_odd(-3) == True, \"Double check your syntax and logic\"\nassert is_negative_odd(positive_odd_number) == False, \"Double check your syntax and logic\"\nassert is_negative_odd(positive_even_number) == False, \"Double check your syntax and logic\"\nassert is_negative_odd(negative_odd_number) == True, \"Double check your syntax and logic\"\nassert is_negative_odd(negative_even_number) == False, \"Double check your syntax and logic\"\nprint(\"Exercise 19 is correct.\")\n",
      "metadata": {
        "id": "za1SPBEMgCsO",
        "trusted": true
      },
      "outputs": [
        {
          "name": "stdout",
          "text": "Exercise 19 is correct.\n",
          "output_type": "stream"
        }
      ],
      "execution_count": 239
    },
    {
      "cell_type": "code",
      "source": "# Exercise 20\n# Write a function definition named is_negative_even that takes in a number and returns True or False if the value is both less than zero and even.\ndef is_negative_even(num):\n    if(num<0 and num%2==0):\n        return True\n    else:\n        return False\nassert is_negative_even(-4) == True, \"Double check your syntax and logic\"\nassert is_negative_even(positive_odd_number) == False, \"Double check your syntax and logic\"\nassert is_negative_even(positive_even_number) == False, \"Double check your syntax and logic\"\nassert is_negative_even(negative_odd_number) == False, \"Double check your syntax and logic\"\nassert is_negative_even(negative_even_number) == True, \"Double check your syntax and logic\"\nprint(\"Exercise 20 is correct.\")",
      "metadata": {
        "id": "gIgbN0vTgCsO",
        "trusted": true
      },
      "outputs": [
        {
          "name": "stdout",
          "text": "Exercise 20 is correct.\n",
          "output_type": "stream"
        }
      ],
      "execution_count": 240
    },
    {
      "cell_type": "code",
      "source": "# Exercise 21\n# Write a function definition named half that takes in a number and returns half the provided number.\ndef half(num):\n    return num/2\nassert half(4) == 2\nassert half(5) == 2.5\nassert half(positive_odd_number) == positive_odd_number / 2\nassert half(positive_even_number) == positive_even_number / 2\nassert half(negative_odd_number) == negative_odd_number / 2\nassert half(negative_even_number) == negative_even_number / 2\nprint(\"Exercise 21 is correct.\")",
      "metadata": {
        "id": "Q4jCL3SJgCsP",
        "trusted": true
      },
      "outputs": [
        {
          "name": "stdout",
          "text": "Exercise 21 is correct.\n",
          "output_type": "stream"
        }
      ],
      "execution_count": 241
    },
    {
      "cell_type": "code",
      "source": "# Exercise 22\n# Write a function definition named double that takes in a number and returns double the provided number.\ndef double(num):\n    return num*2\n\n# You should learn the difference between functions and operators. This is mentioned in the PDF\n\nassert double(4) == 8\nassert double(5) == 10\nassert double(positive_odd_number) == positive_odd_number * 2\nassert double(positive_even_number) == positive_even_number * 2\nassert double(negative_odd_number) == negative_odd_number * 2\nassert double(negative_even_number) == negative_even_number * 2\nprint(\"Exercise 22 is correct.\")",
      "metadata": {
        "id": "jBbRM84lgCsP",
        "trusted": true
      },
      "outputs": [
        {
          "name": "stdout",
          "text": "Exercise 22 is correct.\n",
          "output_type": "stream"
        }
      ],
      "execution_count": 242
    },
    {
      "cell_type": "code",
      "source": "# Exercise 23\n# Write a function definition named triple that takes in a number and returns triple the provided number.\ndef triple(num):\n    return num*3\nassert triple(4) == 12\nassert triple(5) == 15\nassert triple(positive_odd_number) == positive_odd_number * 3\nassert triple(positive_even_number) == positive_even_number * 3\nassert triple(negative_odd_number) == negative_odd_number * 3\nassert triple(negative_even_number) == negative_even_number * 3\nprint(\"Exercise 23 is correct.\")",
      "metadata": {
        "id": "SpTIsF02gCsP",
        "trusted": true
      },
      "outputs": [
        {
          "name": "stdout",
          "text": "Exercise 23 is correct.\n",
          "output_type": "stream"
        }
      ],
      "execution_count": 243
    },
    {
      "cell_type": "code",
      "source": "# Exercise 24\n# Write a function definition named reverse_sign that takes in a number and returns the provided number but with the sign reversed.\ndef reverse_sign(num):\n    return -num\nassert reverse_sign(4) == -4\nassert reverse_sign(-5) == 5\nassert reverse_sign(positive_odd_number) == positive_odd_number * -1\nassert reverse_sign(positive_even_number) == positive_even_number * -1\nassert reverse_sign(negative_odd_number) == negative_odd_number * -1\nassert reverse_sign(negative_even_number) == negative_even_number * -1\nprint(\"Exercise 24 is correct.\")",
      "metadata": {
        "id": "QIpKffswgCsP",
        "trusted": true
      },
      "outputs": [
        {
          "name": "stdout",
          "text": "Exercise 24 is correct.\n",
          "output_type": "stream"
        }
      ],
      "execution_count": 244
    },
    {
      "cell_type": "code",
      "source": "# Exercise 25\n# Write a function definition named absolute_value that takes in a number and returns the absolute value of the provided number\ndef absolute_value(num):\n    return abs(num)\nassert absolute_value(4) == 4\nassert absolute_value(-5) == 5\nassert absolute_value(positive_odd_number) == positive_odd_number\nassert absolute_value(positive_even_number) == positive_even_number\nassert absolute_value(negative_odd_number) == negative_odd_number * -1\nassert absolute_value(negative_even_number) == negative_even_number * -1\nprint(\"Exercise 25 is correct.\")",
      "metadata": {
        "id": "5a7HDAo2gCsQ",
        "trusted": true
      },
      "outputs": [
        {
          "name": "stdout",
          "text": "Exercise 25 is correct.\n",
          "output_type": "stream"
        }
      ],
      "execution_count": 245
    },
    {
      "cell_type": "code",
      "source": "# Exercise 26\n# Write a function definition named is_multiple_of_three that takes in a number and returns True or False if the number is evenly divisible by 3.\ndef is_multiple_of_three(num):\n    if(num%3==0):\n        return True\n    else:\n        return False\nassert is_multiple_of_three(3) == True\nassert is_multiple_of_three(15) == True\nassert is_multiple_of_three(9) == True\nassert is_multiple_of_three(4) == False\nassert is_multiple_of_three(10) == False\nprint(\"Exercise 26 is correct.\")",
      "metadata": {
        "id": "0h9Zh8yzgCsQ",
        "trusted": true
      },
      "outputs": [
        {
          "name": "stdout",
          "text": "Exercise 26 is correct.\n",
          "output_type": "stream"
        }
      ],
      "execution_count": 246
    },
    {
      "cell_type": "code",
      "source": "# Exercise 27\n# Write a function definition named is_multiple_of_five that takes in a number and returns True or False if the number is evenly divisible by 5.\ndef is_multiple_of_five(num):\n    if(num%5==0):\n        return True\n    else:\n        return False\nassert is_multiple_of_five(3) == False\nassert is_multiple_of_five(15) == True\nassert is_multiple_of_five(9) == False\nassert is_multiple_of_five(4) == False\nassert is_multiple_of_five(10) == True\nprint(\"Exercise 27 is correct.\")",
      "metadata": {
        "id": "3CB6IUuggCsQ",
        "trusted": true
      },
      "outputs": [
        {
          "name": "stdout",
          "text": "Exercise 27 is correct.\n",
          "output_type": "stream"
        }
      ],
      "execution_count": 247
    },
    {
      "cell_type": "code",
      "source": "# Exercise 28\n# Write a function definition named is_multiple_of_both_three_and_five that takes in a number and returns True or False if the number is evenly divisible by both 3 and 5.\ndef is_multiple_of_both_three_and_five(num):\n    if(num%5==0 and num%3==0):\n        return True\n    else:\n        return False\nassert is_multiple_of_both_three_and_five(15) == True\nassert is_multiple_of_both_three_and_five(45) == True\nassert is_multiple_of_both_three_and_five(3) == False\nassert is_multiple_of_both_three_and_five(9) == False\nassert is_multiple_of_both_three_and_five(4) == False\nprint(\"Exercise 28 is correct.\")",
      "metadata": {
        "id": "sV-Ib9FfgCsQ",
        "trusted": true
      },
      "outputs": [
        {
          "name": "stdout",
          "text": "Exercise 28 is correct.\n",
          "output_type": "stream"
        }
      ],
      "execution_count": 248
    },
    {
      "cell_type": "code",
      "source": "# Exercise 29\n# Write a function definition named square that takes in a number and returns the number times itself.\ndef square(num):\n    return num*num\nassert square(3) == 9\nassert square(2) == 4\nassert square(9) == 81\nassert square(positive_odd_number) == positive_odd_number * positive_odd_number\nprint(\"Exercise 29 is correct.\")",
      "metadata": {
        "id": "_tEoIFtigCsR",
        "trusted": true
      },
      "outputs": [
        {
          "name": "stdout",
          "text": "Exercise 29 is correct.\n",
          "output_type": "stream"
        }
      ],
      "execution_count": 249
    },
    {
      "cell_type": "code",
      "source": "# Exercise 30\n# Write a function definition named add that takes in two numbers and returns the sum.\ndef add(a,b):\n    return a+b\nassert add(3, 2) == 5\nassert add(10, -2) == 8\nassert add(5, 7) == 12\nprint(\"Exercise 30 is correct.\")",
      "metadata": {
        "id": "uaBIwNo7gCsR",
        "trusted": true
      },
      "outputs": [
        {
          "name": "stdout",
          "text": "Exercise 30 is correct.\n",
          "output_type": "stream"
        }
      ],
      "execution_count": 250
    },
    {
      "cell_type": "code",
      "source": "# Exercise 31\n# Write a function definition named cube that takes in a number and returns the number times itself, times itself.\n\n# There is a way to do this with and without operators. This is definitely covered in the PDF\ndef cube(num):\n    return num*num*num\n\nassert cube(3) == 27\nassert cube(2) == 8\nassert cube(5) == 125\nassert cube(positive_odd_number) == positive_odd_number * positive_odd_number * positive_odd_number\nprint(\"Exercise 31 is correct.\")",
      "metadata": {
        "id": "D8q_Z-8AgCsR",
        "trusted": true
      },
      "outputs": [
        {
          "name": "stdout",
          "text": "Exercise 31 is correct.\n",
          "output_type": "stream"
        }
      ],
      "execution_count": 251
    },
    {
      "cell_type": "code",
      "source": "# Exercise 32\n# Write a function definition named square_root that takes in a number and returns the square root of the provided number\nimport math\n\ndef square_root(number):\n    return math.sqrt(number)\n# Bonus points if you find and name two different python libraries that can also calculate this\n# Library 1: Numpy\n# Library 2: Scipy\n\nassert square_root(4) == 2.0\nassert square_root(64) == 8.0\nassert square_root(81) == 9.0\nprint(\"Exercise 32 is correct.\")",
      "metadata": {
        "id": "_sa64RwTgCsR",
        "trusted": true
      },
      "outputs": [
        {
          "name": "stdout",
          "text": "Exercise 32 is correct.\n",
          "output_type": "stream"
        }
      ],
      "execution_count": 252
    },
    {
      "cell_type": "code",
      "source": "# Exercise 33\n# Write a function definition named subtract that takes in two numbers and returns the first minus the second argument.\ndef subtract(a,b):\n    return a-b\nassert subtract(8, 6) == 2\nassert subtract(27, 4) == 23\nassert subtract(12, 2) == 10\nprint(\"Exercise 33 is correct.\")",
      "metadata": {
        "id": "Ql8OVNNmgCsS",
        "trusted": true
      },
      "outputs": [
        {
          "name": "stdout",
          "text": "Exercise 33 is correct.\n",
          "output_type": "stream"
        }
      ],
      "execution_count": 253
    },
    {
      "cell_type": "code",
      "source": "# Exercise 34\n# Write a function definition named multiply that takes in two numbers and returns the first times the second argument.\ndef multiply(a,b):\n    return a*b\nassert multiply(2, 1) == 2\nassert multiply(3, 5) == 15\nassert multiply(5, 2) == 10\nprint(\"Exercise 34 is correct.\")",
      "metadata": {
        "id": "uPWMTayGgCsS",
        "trusted": true
      },
      "outputs": [
        {
          "name": "stdout",
          "text": "Exercise 34 is correct.\n",
          "output_type": "stream"
        }
      ],
      "execution_count": 254
    },
    {
      "cell_type": "code",
      "source": "# Exercise 35\n# Write a function definition named divide that takes in two numbers and returns the first argument divided by the second argument.\ndef divide(a,b):\n    return a/b\nassert divide(27, 9) == 3\nassert divide(15, 3) == 5\nassert divide(5, 2) == 2.5\nassert divide(10, 2) == 5\nprint(\"Exercise 35 is correct.\")",
      "metadata": {
        "id": "p-kmWaBmgCsS",
        "trusted": true
      },
      "outputs": [
        {
          "name": "stdout",
          "text": "Exercise 35 is correct.\n",
          "output_type": "stream"
        }
      ],
      "execution_count": 255
    },
    {
      "cell_type": "code",
      "source": "# Exercise 36\n# Write a function definition named quotient that takes in two numbers and returns only the quotient from dividing the first argument by the second argument.\ndef quotient(a,b):\n    return a//b\n    #// is used for integer division\nassert quotient(27, 9) == 3\nassert quotient(5, 2) == 2\nassert quotient(10, 3) == 3\nprint(\"Exercise 36 is correct.\")",
      "metadata": {
        "id": "Bf07OTA5gCsS",
        "trusted": true
      },
      "outputs": [
        {
          "name": "stdout",
          "text": "Exercise 36 is correct.\n",
          "output_type": "stream"
        }
      ],
      "execution_count": 256
    },
    {
      "cell_type": "code",
      "source": "# Exercise 37\n# Write a function definition named remainder that takes in two numbers and returns the remainder of first argument divided by the second argument.\n\n# This can definitely be done easily with an operator. It was discussed in the PDF\n\ndef remainder(a,b):\n    return a%b\nassert remainder(3, 3) == 0\nassert remainder(5, 2) == 1\nassert remainder(7, 5) == 2\nprint(\"Exercise 37 is correct.\")",
      "metadata": {
        "id": "UKdVVP37gCsT",
        "trusted": true
      },
      "outputs": [
        {
          "name": "stdout",
          "text": "Exercise 37 is correct.\n",
          "output_type": "stream"
        }
      ],
      "execution_count": 257
    },
    {
      "cell_type": "code",
      "source": "# Exercise 38\n# Write a function definition named sum_of_squares that takes in two numbers, squares each number, then returns the sum of both squares.\ndef sum_of_squares(a,b):\n    square1 = a*a\n    square2 = b*b\n    return square1 + square2\nassert sum_of_squares(3, 2) == 13\nassert sum_of_squares(5, 2) == 29\nassert sum_of_squares(2, 4) == 20\nprint(\"Exercise 38 is correct.\")",
      "metadata": {
        "id": "CBIvNlFBgCsT",
        "trusted": true
      },
      "outputs": [
        {
          "name": "stdout",
          "text": "Exercise 38 is correct.\n",
          "output_type": "stream"
        }
      ],
      "execution_count": 258
    },
    {
      "cell_type": "code",
      "source": "# Exercise 39\n# Write a function definition named times_two_plus_three that takes in a number, multiplies it by two, adds 3 and returns the result.\ndef times_two_plus_three(num):\n    return (num*2)+3\nassert times_two_plus_three(0) == 3\nassert times_two_plus_three(1) == 5\nassert times_two_plus_three(2) == 7\nassert times_two_plus_three(3) == 9\nassert times_two_plus_three(5) == 13\nprint(\"Exercise 39 is correct.\")",
      "metadata": {
        "id": "NOnEcRxTgCsT",
        "trusted": true
      },
      "outputs": [
        {
          "name": "stdout",
          "text": "Exercise 39 is correct.\n",
          "output_type": "stream"
        }
      ],
      "execution_count": 259
    },
    {
      "cell_type": "code",
      "source": "# Exercise 40\n# Write a function definition named area_of_rectangle that takes in two numbers and returns the product.\ndef area_of_rectangle(a,b):\n    return a*b\nassert area_of_rectangle(1, 3) == 3\nassert area_of_rectangle(5, 2) == 10\nassert area_of_rectangle(2, 7) == 14\nassert area_of_rectangle(5.3, 10.3) == 54.59\nprint(\"Exercise 40 is correct.\")",
      "metadata": {
        "id": "DI9oBQNegCsU",
        "trusted": true
      },
      "outputs": [
        {
          "name": "stdout",
          "text": "Exercise 40 is correct.\n",
          "output_type": "stream"
        }
      ],
      "execution_count": 260
    },
    {
      "cell_type": "code",
      "source": "import math\n# Exercise 41\n# Write a function definition named area_of_circle that takes in a number representing a circle's radius and returns the area of the circle\ndef area_of_circle(radius):\n    return math.pi * radius ** 2\n\nassert area_of_circle(3) == 28.274333882308138\nassert area_of_circle(5) == 78.53981633974483\nassert area_of_circle(7) == 153.93804002589985\nprint(\"Exercise 41 is correct.\")",
      "metadata": {
        "id": "R1sF7htWgCsV",
        "trusted": true
      },
      "outputs": [
        {
          "name": "stdout",
          "text": "Exercise 41 is correct.\n",
          "output_type": "stream"
        }
      ],
      "execution_count": 261
    },
    {
      "cell_type": "code",
      "source": "import math\n# Exercise 42\n# Write a function definition named circumference that takes in a number representing a circle's radius and returns the circumference.\ndef circumference(radius):\n    return 2 * math.pi * radius\nassert circumference(3) == 18.84955592153876\nassert circumference(5) == 31.41592653589793\nassert circumference(7) == 43.982297150257104\nprint(\"Exercise 42 is correct.\")",
      "metadata": {
        "id": "pfJPuy8OgCsV",
        "trusted": true
      },
      "outputs": [
        {
          "name": "stdout",
          "text": "Exercise 42 is correct.\n",
          "output_type": "stream"
        }
      ],
      "execution_count": 262
    },
    {
      "cell_type": "markdown",
      "source": "## Functions working with strings\nI recommend looking up string operations python on google",
      "metadata": {
        "id": "fUiyyxLrgCsV"
      }
    },
    {
      "cell_type": "code",
      "source": "# Exercise 43\n# Write a function definition named is_vowel that takes in value and returns True if the value is a, e, i, o, u in upper or lower case.\n\n# Think about what kinds of values you'd want your argument to accept if the asserts are comparing it to string type objects\n# Think about how you can make sure that capital letters and lowercase letters are treated the same.\ndef is_vowel(value):\n    # Convert value to lowercase to make sure that function works\n    value = value.lower()\n    # Checking if vowel\n    return value in ['a', 'e', 'i', 'o', 'u']\nassert is_vowel(\"a\") == True\nassert is_vowel(\"e\") == True\nassert is_vowel(\"i\") == True\nassert is_vowel(\"o\") == True\nassert is_vowel(\"u\") == True\nassert is_vowel(\"A\") == True\nassert is_vowel(\"E\") == True\nassert is_vowel(\"I\") == True\nassert is_vowel(\"O\") == True\nassert is_vowel(\"U\") == True\nassert is_vowel(\"banana\") == False\nassert is_vowel(\"Q\") == False\nassert is_vowel(\"y\") == False\nassert is_vowel(\"aei\") == False\nassert is_vowel(\"iou\") == False\nprint(\"Exercise 43 is correct.\")",
      "metadata": {
        "id": "fAAU-W4cgCsW",
        "trusted": true
      },
      "outputs": [
        {
          "name": "stdout",
          "text": "Exercise 43 is correct.\n",
          "output_type": "stream"
        }
      ],
      "execution_count": 263
    },
    {
      "cell_type": "code",
      "source": "# Exercise 44\n# Write a function definition named has_vowels that takes in value and returns True if the string contains any vowels.\nvowels=('u','a', 'e', 'i', 'o' )\ndef has_vowels(value):\n    value = value.lower()\n    for vowel in vowels:\n        if vowel in value:\n            return True\n        else:\n            return False\n\n\ndef has_vowels2(letters):\n    if any (char in vowels for char in letters):\n        return True\n    else:\n        return False\n\n\n\n# has_vowels(\"ubuntu\")\n#has_vowels2(\"apple\")\n#has_vowels2(\"ubuntu\")\n# has_vowels2(\"tower\")\n\n\nassert has_vowels2(\"banana\") == True\nassert has_vowels2(\"ubuntu\") == True\nassert has_vowels2(\"QQQQ\") == False\nassert has_vowels2(\"wyrd\") == False\nprint(\"Exercise 44 is correct.\")",
      "metadata": {
        "id": "rv4QxrwKgCsW",
        "trusted": true
      },
      "outputs": [
        {
          "name": "stdout",
          "text": "Exercise 44 is correct.\n",
          "output_type": "stream"
        }
      ],
      "execution_count": 264
    },
    {
      "cell_type": "code",
      "source": "# Exercise 45 #THIS IS A HARDER EXERCISE\n# Write a function definition named count_vowels that takes in value and returns the count of the nubmer of vowels in a sequence.\ndef count_vowels(value):\n    vowels = 'aeiouAEIOU'\n    count = 0\n    for char in value:\n        if char in vowels:\n            count += 1\n    return count\nassert count_vowels(\"banana\") == 3\nassert count_vowels(\"ubuntu\") == 3\nassert count_vowels(\"mango\") == 2\nassert count_vowels(\"QQQQ\") == 0\nassert count_vowels(\"wyrd\") == 0\nprint(\"Exercise 45 is correct.\")",
      "metadata": {
        "id": "8Hte5v8LgCsW",
        "trusted": true
      },
      "outputs": [
        {
          "name": "stdout",
          "text": "Exercise 45 is correct.\n",
          "output_type": "stream"
        }
      ],
      "execution_count": 265
    },
    {
      "cell_type": "code",
      "source": "# Exercise 46 THIS IS ALSO HARDER\n# Write a function definition named remove_vowels that takes in string and returns the string without any vowels\ndef remove_vowels(string):\n    vowels = 'aeiouAEIOU'#I have tried using this format of a string and it works, so no need to use a list or tuple\n    result = ''\n    for char in string:\n        if char not in vowels:\n            result += char\n    return result\n# This problem will combine some of the other solutions that you worked on into one\n\nassert remove_vowels(\"banana\") == \"bnn\"\nassert remove_vowels(\"ubuntu\") == \"bnt\"\nassert remove_vowels(\"mango\") == \"mng\"\nassert remove_vowels(\"QQQQ\") == \"QQQQ\"\nprint(\"Exercise 46 is correct.\")",
      "metadata": {
        "id": "SrKhfSh7gCsY",
        "trusted": true
      },
      "outputs": [
        {
          "name": "stdout",
          "text": "Exercise 46 is correct.\n",
          "output_type": "stream"
        }
      ],
      "execution_count": 266
    },
    {
      "cell_type": "code",
      "source": "# Exercise 47\n# Write a function definition named starts_with_vowel that takes in string and True if the string starts with a vowel\nvowels = 'aeiouAEIOU'\ndef starts_with_vowel(string):\n    if string[0] in vowels:\n        return True\n    else:\n        return False\nassert starts_with_vowel(\"ubuntu\") == True\nassert starts_with_vowel(\"banana\") == False\nassert starts_with_vowel(\"mango\") == False\nprint(\"Exercise 47 is correct.\")",
      "metadata": {
        "id": "hI7NhOGbgCsZ",
        "trusted": true
      },
      "outputs": [
        {
          "name": "stdout",
          "text": "Exercise 47 is correct.\n",
          "output_type": "stream"
        }
      ],
      "execution_count": 267
    },
    {
      "cell_type": "code",
      "source": "# Exercise 48\n# Write a function definition named ends_with_vowel that takes in string and True if the string ends with a vowel\nvowels = 'aeiouAEIOU'\ndef ends_with_vowel(string):\n    if string[-1] in vowels:\n        return True\n    else:\n        return False\nassert ends_with_vowel(\"ubuntu\") == True\nassert ends_with_vowel(\"banana\") == True\nassert ends_with_vowel(\"mango\") == True\nassert ends_with_vowel(\"spinach\") == False\nprint(\"Exercise 48 is correct.\")",
      "metadata": {
        "id": "OcZdHhWcgCsZ",
        "trusted": true
      },
      "outputs": [
        {
          "name": "stdout",
          "text": "Exercise 48 is correct.\n",
          "output_type": "stream"
        }
      ],
      "execution_count": 268
    },
    {
      "cell_type": "code",
      "source": "# Exercise 49\n# Write a function definition named starts_and_ends_with_vowel that takes in string and returns True if the string starts and ends with a vowel\nvowels = 'aeiouAEIOU'\ndef starts_and_ends_with_vowel(string):\n    if string[0] in vowels and string [-1] in vowels:\n        return True\n    else:\n        return False\nassert starts_and_ends_with_vowel(\"ubuntu\") == True\nassert starts_and_ends_with_vowel(\"banana\") == False\nassert starts_and_ends_with_vowel(\"mango\") == False\nprint(\"Exercise 49 is correct.\")",
      "metadata": {
        "id": "R9ngQIx8gCsa",
        "trusted": true
      },
      "outputs": [
        {
          "name": "stdout",
          "text": "Exercise 49 is correct.\n",
          "output_type": "stream"
        }
      ],
      "execution_count": 269
    },
    {
      "cell_type": "markdown",
      "source": "## Accessing List Elements",
      "metadata": {
        "id": "9PzP33GYgCsa"
      }
    },
    {
      "cell_type": "code",
      "source": "# Exercise 50\n# Write a function definition named first that takes in sequence and returns the first value of that sequence.\ndef first(sequence):\n    return sequence[0]\n# Understanding how LISTS operate is super IMPORTANT. You can save yourself a little time by rememebering how to access them easily\n# Or saving places that remind you quickly\n\nassert first(\"ubuntu\") == \"u\"\nassert first([1, 2, 3]) == 1\nassert first([\"python\", \"is\", \"awesome\"]) == \"python\"\nprint(\"Exercise 50 is correct.\")",
      "metadata": {
        "id": "bxPoHor0gCsa",
        "trusted": true
      },
      "outputs": [
        {
          "name": "stdout",
          "text": "Exercise 50 is correct.\n",
          "output_type": "stream"
        }
      ],
      "execution_count": 270
    },
    {
      "cell_type": "code",
      "source": "# Exercise 51\n# Write a function definition named second that takes in sequence and returns the second value of that sequence.\n\ndef second(sequence):\n    return sequence[1]\nassert second(\"ubuntu\") == \"b\"\nassert second([1, 2, 3]) == 2\nassert second([\"python\", \"is\", \"awesome\"]) == \"is\"\nprint(\"Exercise 51 is correct.\")",
      "metadata": {
        "id": "f5GBs8C7gCsb",
        "trusted": true
      },
      "outputs": [
        {
          "name": "stdout",
          "text": "Exercise 51 is correct.\n",
          "output_type": "stream"
        }
      ],
      "execution_count": 271
    },
    {
      "cell_type": "code",
      "source": "# Exercise 52\n# Write a function definition named third that takes in sequence and returns the third value of that sequence.\ndef third(sequence):\n    return sequence[2]\nassert third(\"ubuntu\") == \"u\"\nassert third([1, 2, 3]) == 3\nassert third([\"python\", \"is\", \"awesome\"]) == \"awesome\"\nprint(\"Exercise 52 is correct.\")",
      "metadata": {
        "id": "heqvtFJ0gCsb",
        "trusted": true
      },
      "outputs": [
        {
          "name": "stdout",
          "text": "Exercise 52 is correct.\n",
          "output_type": "stream"
        }
      ],
      "execution_count": 272
    },
    {
      "cell_type": "code",
      "source": "# Exercise 53\n# Write a function definition named forth that takes in sequence and returns the forth value of that sequence.\ndef forth(sequence):\n    return sequence[3]\nassert forth(\"ubuntu\") == \"n\"\nassert forth([1, 2, 3, 4]) == 4\nassert forth([\"python\", \"is\", \"awesome\", \"right?\"]) == \"right?\"\nprint(\"Exercise 53 is correct.\")",
      "metadata": {
        "id": "vmjFGhJcgCsb",
        "trusted": true
      },
      "outputs": [
        {
          "name": "stdout",
          "text": "Exercise 53 is correct.\n",
          "output_type": "stream"
        }
      ],
      "execution_count": 273
    },
    {
      "cell_type": "code",
      "source": "# Exercise 54\n# Write a function definition named last that takes in sequence and returns the last value of that sequence.\ndef last(sequence):\n    return sequence[-1]\nassert last(\"ubuntu\") == \"u\"\nassert last([1, 2, 3, 4]) == 4\nassert last([\"python\", \"is\", \"awesome\"]) == \"awesome\"\nassert last([\"kiwi\", \"mango\", \"guava\"]) == \"guava\"\nprint(\"Exercise 54 is correct.\")",
      "metadata": {
        "id": "_itavUcsgCsc",
        "trusted": true
      },
      "outputs": [
        {
          "name": "stdout",
          "text": "Exercise 54 is correct.\n",
          "output_type": "stream"
        }
      ],
      "execution_count": 274
    },
    {
      "cell_type": "markdown",
      "source": "### **Once you know how to do this you don't have to do all the list access problems. But 57 - 59 might still be useful. **",
      "metadata": {
        "id": "kCXqjD8gML7-"
      }
    },
    {
      "cell_type": "code",
      "source": "# Exercise 55\n# Write a function definition named second_to_last that takes in sequence and returns the second to last value of that sequence.\ndef second_to_last(sequence):\n    return sequence[-2]\nassert second_to_last(\"ubuntu\") == \"t\"\nassert second_to_last([1, 2, 3, 4]) == 3\nassert second_to_last([\"python\", \"is\", \"awesome\"]) == \"is\"\nassert second_to_last([\"kiwi\", \"mango\", \"guava\"]) == \"mango\"\nprint(\"Exercise 55 is correct.\")",
      "metadata": {
        "id": "tq5bdcHxgCsc",
        "trusted": true
      },
      "outputs": [
        {
          "name": "stdout",
          "text": "Exercise 55 is correct.\n",
          "output_type": "stream"
        }
      ],
      "execution_count": 275
    },
    {
      "cell_type": "code",
      "source": "# Exercise 56\n# Write a function definition named third_to_last that takes in sequence and returns the third to last value of that sequence.\ndef third_to_last(sequence):\n    return sequence[-3]\nassert third_to_last(\"ubuntu\") == \"n\"\nassert third_to_last([1, 2, 3, 4]) == 2\nassert third_to_last([\"python\", \"is\", \"awesome\"]) == \"python\"\nassert third_to_last([\"strawberry\", \"kiwi\", \"mango\", \"guava\"]) == \"kiwi\"\nprint(\"Exercise 56 is correct.\")",
      "metadata": {
        "id": "pv23bO52gCsc",
        "trusted": true
      },
      "outputs": [
        {
          "name": "stdout",
          "text": "Exercise 56 is correct.\n",
          "output_type": "stream"
        }
      ],
      "execution_count": 276
    },
    {
      "cell_type": "code",
      "source": "# Exercise 57\n# Write a function definition named first_and_second that takes in sequence and returns the first and second value of that sequence as a list\ndef first_and_second(sequence):\n    return [sequence[0], sequence[1]]\nassert first_and_second([1, 2, 3, 4]) == [1, 2]\nassert first_and_second([\"python\", \"is\", \"awesome\"]) == [\"python\", \"is\"]\nassert first_and_second([\"strawberry\", \"kiwi\", \"mango\", \"guava\"]) == [\"strawberry\", \"kiwi\"]\nprint(\"Exercise 57 is correct.\")",
      "metadata": {
        "id": "txetm8qogCsd",
        "trusted": true
      },
      "outputs": [
        {
          "name": "stdout",
          "text": "Exercise 57 is correct.\n",
          "output_type": "stream"
        }
      ],
      "execution_count": 277
    },
    {
      "cell_type": "code",
      "source": "# Exercise 58\n# Write a function definition named first_and_last that takes in sequence and returns the first and last value of that sequence as a list\ndef first_and_last(sequence):\n    return [sequence[0], sequence[-1]]\nassert first_and_last([1, 2, 3, 4]) == [1, 4]\nassert first_and_last([\"python\", \"is\", \"awesome\"]) == [\"python\", \"awesome\"]\nassert first_and_last([\"strawberry\", \"kiwi\", \"mango\", \"guava\"]) == [\"strawberry\", \"guava\"]\nprint(\"Exercise 58 is correct.\")",
      "metadata": {
        "id": "w76yrNgAgCsd",
        "trusted": true
      },
      "outputs": [
        {
          "name": "stdout",
          "text": "Exercise 58 is correct.\n",
          "output_type": "stream"
        }
      ],
      "execution_count": 278
    },
    {
      "cell_type": "code",
      "source": "# Exercise 59\n# Write a function definition named first_to_last that takes in sequence and returns the sequence with the first value moved to the end of the sequence.\ndef first_to_last(sequence):\n    return sequence[1:] + [sequence[0]]\nassert first_to_last([1, 2, 3, 4]) == [2, 3, 4, 1]\nassert first_to_last([\"python\", \"is\", \"awesome\"]) == [\"is\", \"awesome\", \"python\"]\nassert first_to_last([\"strawberry\", \"kiwi\", \"mango\", \"guava\"]) == [\"kiwi\", \"mango\", \"guava\", \"strawberry\"]\nprint(\"Exercise 59 is correct.\")",
      "metadata": {
        "id": "laRwcVWQgCsd",
        "trusted": true
      },
      "outputs": [
        {
          "name": "stdout",
          "text": "Exercise 59 is correct.\n",
          "output_type": "stream"
        }
      ],
      "execution_count": 279
    },
    {
      "cell_type": "markdown",
      "source": "## Functions to describe data\n\nIn this section I hope you can start to see how easily this can be applied to your math or physics homework. Where as long as your have the formula you can figure out the answers for many different conditions rather easily.",
      "metadata": {
        "id": "kAVQ5VuUgCse"
      }
    },
    {
      "cell_type": "code",
      "source": "# Exercise 60\n# Write a function definition named sum_all that takes in sequence of numbers and returns all the numbers added together.\ndef sum_all(sequence):\n    return sum(sequence)\nassert sum_all([1, 2, 3, 4]) == 10\nassert sum_all([3, 3, 3]) == 9\nassert sum_all([0, 5, 6]) == 11\nprint(\"Exercise 60 is correct.\")",
      "metadata": {
        "id": "cx97PtPIgCse",
        "trusted": true
      },
      "outputs": [
        {
          "name": "stdout",
          "text": "Exercise 60 is correct.\n",
          "output_type": "stream"
        }
      ],
      "execution_count": 280
    },
    {
      "cell_type": "code",
      "source": "# Exercise 61\n# Write a function definition named mean that takes in sequence of numbers and returns the average value\ndef mean(sequence):\n    return sum(sequence) / len(sequence)\nassert mean([1, 2, 3, 4]) == 2.5\nassert mean([3, 3, 3]) == 3\nassert mean([1, 5, 6]) == 4\nprint(\"Exercise 61 is correct.\")",
      "metadata": {
        "id": "s-M6aLcggCse",
        "trusted": true
      },
      "outputs": [
        {
          "name": "stdout",
          "text": "Exercise 61 is correct.\n",
          "output_type": "stream"
        }
      ],
      "execution_count": 281
    },
    {
      "cell_type": "code",
      "source": "# Exercise 62\n# Write a function definition named median that takes in sequence of numbers and returns the average value\ndef median(sequence):\n    sorted_sequence = sorted(sequence)\n    n = len(sorted_sequence)#To make sure that ascending order or descending order is maintained\n    \n    if n % 2 == 0:\n       \n        middle1 = sorted_sequence[n // 2 - 1]\n        middle2 = sorted_sequence[n // 2]\n        return (middle1 + middle2) / 2\n        \n    else:\n       return sorted_sequence[n // 2]\n        \nassert median([1, 2, 3, 4, 5]) == 3.0\nassert median([1, 2, 3]) == 2.0\nassert median([1, 5, 6]) == 5.0\nassert median([1, 2, 5, 6]) == 3.5\nprint(\"Exercise 62 is correct.\")",
      "metadata": {
        "id": "74NomFFLgCsf",
        "trusted": true
      },
      "outputs": [
        {
          "name": "stdout",
          "text": "Exercise 62 is correct.\n",
          "output_type": "stream"
        }
      ],
      "execution_count": 282
    },
    {
      "cell_type": "code",
      "source": "# Exercise 63\n# Write a function definition named mode that takes in sequence of numbers and returns the most commonly occuring value\nfrequency = {}# this is the dictionary used to store\ndef mode(sequence):\n    for number in sequence:\n        if number in frequency:\n            frequency[number] += 1\n        else:\n            frequency[number] = 1\n    most_common_value = max(frequency, key=frequency.get)\n    return most_common_value\n\nassert mode([1, 2, 2, 3, 4]) == 2\nassert mode([1, 1, 2, 3]) == 1\n# assert mode([2, 2, 3, 3, 3]) == 3\nprint(\"Exercise 63 is correct.\")",
      "metadata": {
        "id": "1pQgRJCbgCsf",
        "trusted": true
      },
      "outputs": [
        {
          "name": "stdout",
          "text": "Exercise 63 is correct.\n",
          "output_type": "stream"
        }
      ],
      "execution_count": 283
    },
    {
      "cell_type": "code",
      "source": "# Exercise 64\ndef product_of_all(sequence):\n #UnboundLocalError: cannot access local variable 'result' where it is not associated with a value\n#This error is occuring so I assigned value to variable before\n    result=1\n    for num in sequence:\n        result *= num\n    return result\nassert product_of_all([1, 2, 3]) == 6\nassert product_of_all([3, 4, 5]) == 60\nassert product_of_all([2, 2, 3, 0]) == 0\nprint(\"Exercise 64 is correct.\")",
      "metadata": {
        "id": "SLgV1s8kgCsf",
        "trusted": true
      },
      "outputs": [
        {
          "name": "stdout",
          "text": "Exercise 64 is correct.\n",
          "output_type": "stream"
        }
      ],
      "execution_count": 284
    },
    {
      "cell_type": "markdown",
      "source": "## Applying functions to lists\n\n> You will also want to reference the accessing list operations that you did earlier\n\n",
      "metadata": {
        "id": "B3ouYq2pgCsf"
      }
    },
    {
      "cell_type": "code",
      "source": "# Exercise 65 I REALLY like this problem. It will get you to think\n# Write a function definition named get_highest_number that takes in sequence of numbers and returns the largest number.\n\n# Think about how you can do this by yourself first and also without looking it up.\n# However you may use functions you find online if you understand them\ndef get_highest_number(sequence):\n    return max(sequence)\n\nassert get_highest_number([1, 2, 3]) == 3\nassert get_highest_number([-5, -4, -3, -2, -1, 1, 2, 3, 4, 5]) == 5\nassert get_highest_number([-5, -3, 1]) == 1\nprint(\"Exercise 65 is correct.\")",
      "metadata": {
        "id": "ziepbRJOgCsg",
        "trusted": true
      },
      "outputs": [
        {
          "name": "stdout",
          "text": "Exercise 65 is correct.\n",
          "output_type": "stream"
        }
      ],
      "execution_count": 285
    },
    {
      "cell_type": "code",
      "source": "# Exercise 66\n# Write a function definition named get_smallest_number that takes in sequence of numbers and returns the smallest number.\ndef get_smallest_number(sequence):\n    return min(sequence)\nassert get_smallest_number([1, 3, 2]) == 1\nassert get_smallest_number([5, -5, -4, -3, -2, -1, 1, 2, 3, 4]) == -5\nassert get_smallest_number([-4, -3, 1, -10]) == -10\nprint(\"Exercise 66 is correct.\")",
      "metadata": {
        "id": "SfN4cBrNgCsg",
        "trusted": true
      },
      "outputs": [
        {
          "name": "stdout",
          "text": "Exercise 66 is correct.\n",
          "output_type": "stream"
        }
      ],
      "execution_count": 286
    },
    {
      "cell_type": "code",
      "source": "# Exercise 67\n# Write a function definition named only_odd_numbers that takes in sequence of numbers and returns the odd numbers in a list.\ndef only_odd_numbers(sequence):\n    return [num for num in sequence if num % 2 != 0]\nassert only_odd_numbers([1, 2, 3]) == [1, 3]\nassert only_odd_numbers([-5, -4, -3, -2, -1, 1, 2, 3, 4, 5]) == [-5, -3, -1, 1, 3, 5]\nassert only_odd_numbers([-4, -3, 1]) == [-3, 1]\nassert only_odd_numbers([2, 2, 2, 2, 2]) == []\nprint(\"Exercise 67 is correct.\")",
      "metadata": {
        "id": "A34zwZHAgCsg",
        "trusted": true
      },
      "outputs": [
        {
          "name": "stdout",
          "text": "Exercise 67 is correct.\n",
          "output_type": "stream"
        }
      ],
      "execution_count": 287
    },
    {
      "cell_type": "code",
      "source": "# Exercise 68\n# Write a function definition named only_even_numbers that takes in sequence of numbers and returns the even numbers in a list.\ndef only_even_numbers(sequence):\n    return [num for num in sequence if num % 2 == 0]\nassert only_even_numbers([1, 2, 3]) == [2]\nassert only_even_numbers([-5, -4, -3, -2, -1, 1, 2, 3, 4, 5]) == [-4, -2, 2, 4]\nassert only_even_numbers([-4, -3, 1]) == [-4]\nassert only_even_numbers([1, 1, 1, 1, 1, 1]) == []\nprint(\"Exercise 68 is correct.\")",
      "metadata": {
        "id": "vCmQscR4gCsh",
        "trusted": true
      },
      "outputs": [
        {
          "name": "stdout",
          "text": "Exercise 68 is correct.\n",
          "output_type": "stream"
        }
      ],
      "execution_count": 288
    },
    {
      "cell_type": "code",
      "source": "# Exercise 69\n# Write a function definition named only_positive_numbers that takes in sequence of numbers and returns the positive numbers in a list.\ndef only_positive_numbers(sequence):\n    return [num for num in sequence if num > 0]\nassert only_positive_numbers([1, 2, 3]) == [1, 2, 3]\nassert only_positive_numbers([-5, -4, -3, -2, -1, 1, 2, 3, 4, 5]) == [1, 2, 3, 4, 5]\nassert only_positive_numbers([-4, -3, 1]) == [1]\nprint(\"Exercise 69 is correct.\")",
      "metadata": {
        "id": "_qfXjQmmgCsh",
        "trusted": true
      },
      "outputs": [
        {
          "name": "stdout",
          "text": "Exercise 69 is correct.\n",
          "output_type": "stream"
        }
      ],
      "execution_count": 289
    },
    {
      "cell_type": "code",
      "source": "# Exercise 70\n# Write a function definition named only_negative_numbers that takes in sequence of numbers and returns the negative numbers in a list.\ndef only_negative_numbers(sequence):\n    return [num for num in sequence if num < 0]\nassert only_negative_numbers([1, 2, 3]) == []\nassert only_negative_numbers([-5, -4, -3, -2, -1, 1, 2, 3, 4, 5]) == [-5, -4, -3, -2, -1]\nassert only_negative_numbers([-4, -3, 1]) == [-4, -3]\nprint(\"Exercise 70 is correct.\")",
      "metadata": {
        "id": "kMstHnxIgCsh",
        "trusted": true
      },
      "outputs": [
        {
          "name": "stdout",
          "text": "Exercise 70 is correct.\n",
          "output_type": "stream"
        }
      ],
      "execution_count": 290
    },
    {
      "cell_type": "code",
      "source": "# Exercise 71\n# Write a function definition named has_evens that takes in sequence of numbers and returns True if there are any even numbers in the sequence\ndef has_evens(sequence):\n    for num in sequence:\n        if num % 2 == 0:\n            return True\n        else:\n            return False\ndef has_evens2(sequence):\n    for num in sequence:\n        if num % 2 == 0:\n            return True\n    return False\nassert has_evens2([1, 2, 3]) == True\nassert has_evens2([2, 5, 6]) == True\nassert has_evens2([3, 3, 3]) == False\nassert has_evens2([]) == False\nprint(\"Exercise 71 is correct.\")\n# I realized that has_evens had a problem as the value was being returned prematurely within the loop.\n# It checked only the first number and returned True if it was even and False otherwise, without iterating through\n# the entire sequence. By moving the return False statement outside the loop in has_evens2, the function iterates \n# through all numbers in the sequence to accurately determine if any are even.",
      "metadata": {
        "id": "bTHV-T37gCsi",
        "trusted": true
      },
      "outputs": [
        {
          "name": "stdout",
          "text": "Exercise 71 is correct.\n",
          "output_type": "stream"
        }
      ],
      "execution_count": 291
    },
    {
      "cell_type": "code",
      "source": "# Exercise 72\ndef count_evens(sequence):\n    count = 0\n    for num in sequence:\n        if num % 2 == 0:\n            count += 1\n    return count\nassert count_evens([1, 2, 3]) == 1\nassert count_evens([2, 5, 6]) == 2\nassert count_evens([3, 3, 3]) == 0\nassert count_evens([5, 6, 7, 8] ) == 2\nprint(\"Exercise 72 is correct.\")",
      "metadata": {
        "id": "lPwyc8oegCsi",
        "trusted": true
      },
      "outputs": [
        {
          "name": "stdout",
          "text": "Exercise 72 is correct.\n",
          "output_type": "stream"
        }
      ],
      "execution_count": 292
    },
    {
      "cell_type": "code",
      "source": "# Exercise 73\n# Write a function definition named has_odds that takes in sequence of numbers and returns True if there are any odd numbers in the sequence\ndef has_odds(sequence):\n    for num in sequence:\n        if num % 2 != 0:  # Checking if num is odd\n            return True\n        else:\n            return False\n\ndef has_odds2(sequence):\n    for num in sequence:\n        if num % 2 != 0:\n            return True\n    return False\nassert has_odds2([1, 2, 3]) == True\nassert has_odds2([2, 5, 6]) == True\nassert has_odds2([3, 3, 3]) == True\nassert has_odds2([2, 4, 6]) == False\nprint(\"Exercise 73 is correct.\")",
      "metadata": {
        "id": "rXduiJhZgCsi",
        "trusted": true
      },
      "outputs": [
        {
          "name": "stdout",
          "text": "Exercise 73 is correct.\n",
          "output_type": "stream"
        }
      ],
      "execution_count": 293
    },
    {
      "cell_type": "code",
      "source": "# Exercise 74\n# Write a function definition named count_odds that takes in sequence of numbers and returns True if there are any odd numbers in the sequence\ndef count_odds(sequence):\n    count = 0\n    for num in sequence:\n        if num % 2 != 0:  # Checking if num is odd\n            count += 1\n    return count\nassert count_odds([1, 2, 3]) == 2\nassert count_odds([2, 5, 6]) == 1\nassert count_odds([3, 3, 3]) == 3\nassert count_odds([2, 4, 6]) == 0\nprint(\"Exercise 74 is correct.\")",
      "metadata": {
        "id": "1Syd95iagCsi",
        "trusted": true
      },
      "outputs": [
        {
          "name": "stdout",
          "text": "Exercise 74 is correct.\n",
          "output_type": "stream"
        }
      ],
      "execution_count": 294
    },
    {
      "cell_type": "code",
      "source": "# Exercise 75\n# Write a function definition named count_negatives that takes in sequence of numbers and returns a count of the number of negative numbers\ndef count_negatives(sequence):\n    count = 0\n    for num in sequence:\n        if num < 0:\n            count += 1\n    return count\n\n\nassert count_negatives([1, -2, 3]) == 1\nassert count_negatives([2, -5, -6]) == 2\nassert count_negatives([3, 3, 3]) == 0\nprint(\"Exercise 75 is correct.\")",
      "metadata": {
        "id": "-winovaRgCsj",
        "trusted": true
      },
      "outputs": [
        {
          "name": "stdout",
          "text": "Exercise 75 is correct.\n",
          "output_type": "stream"
        }
      ],
      "execution_count": 295
    },
    {
      "cell_type": "code",
      "source": "# Exercise 76\n# Write a function definition named count_positives that takes in sequence of numbers and returns a count of the number of positive numbers\ndef count_positives(sequence):\n    count = 0\n    for num in sequence:\n        if num > 0:\n            count += 1\n    return count\nassert count_positives([1, -2, 3]) == 2\nassert count_positives([2, -5, -6]) == 1\nassert count_positives([3, 3, 3]) == 3\nassert count_positives([-2, -1, -5]) == 0\nprint(\"Exercise 76 is correct.\")",
      "metadata": {
        "id": "NQdKza89gCsj",
        "trusted": true
      },
      "outputs": [
        {
          "name": "stdout",
          "text": "Exercise 76 is correct.\n",
          "output_type": "stream"
        }
      ],
      "execution_count": 296
    },
    {
      "cell_type": "code",
      "source": "# Exercise 77\n# Write a function definition named only_positive_evens that takes in sequence of numbers and returns a list containing all the positive evens from the sequence\ndef only_positive_evens(sequence):\n    return [num for num in sequence if num > 0 and num % 2 == 0]\nassert only_positive_evens([1, -2, 3]) == []\nassert only_positive_evens([2, -5, -6]) == [2]\nassert only_positive_evens([3, 3, 4, 6]) == [4, 6]\nassert only_positive_evens([2, 3, 4, -1, -5]) == [2, 4]\nprint(\"Exercise 77 is correct.\")",
      "metadata": {
        "id": "VVQHfPXpgCsj",
        "trusted": true
      },
      "outputs": [
        {
          "name": "stdout",
          "text": "Exercise 77 is correct.\n",
          "output_type": "stream"
        }
      ],
      "execution_count": 297
    },
    {
      "cell_type": "code",
      "source": "# Exercise 78\n# Write a function definition named only_positive_odds that takes in sequence of numbers and returns a list containing all the positive odd numbers from the sequence\n\ndef only_positive_odds(sequence):\n    return [num for num in sequence if num > 0 and num % 2 != 0]\nassert only_positive_odds([1, -2, 3]) == [1, 3]\nassert only_positive_odds([2, -5, -6]) == []\nassert only_positive_odds([3, 3, 4, 6]) == [3, 3]\nassert only_positive_odds([2, 3, 4, -1, -5]) == [3]\nprint(\"Exercise 78 is correct.\")",
      "metadata": {
        "id": "uEOYxWDLgCsk",
        "trusted": true
      },
      "outputs": [
        {
          "name": "stdout",
          "text": "Exercise 78 is correct.\n",
          "output_type": "stream"
        }
      ],
      "execution_count": 298
    },
    {
      "cell_type": "code",
      "source": "# Exercise 79\n# Write a function definition named only_negative_evens that takes in sequence of numbers and returns a list containing all the negative even numbers from the sequence\ndef only_negative_evens(sequence):\n    return [num for num in sequence if num < 0 and num % 2 == 0]\nassert only_negative_evens([1, -2, 3]) == [-2]\nassert only_negative_evens([2, -5, -6]) == [-6]\nassert only_negative_evens([3, 3, 4, 6]) == []\nassert only_negative_evens([-2, 3, 4, -1, -4]) == [-2, -4]\nprint(\"Exercise 79 is correct.\")",
      "metadata": {
        "id": "FZNspCfHgCsm",
        "trusted": true
      },
      "outputs": [
        {
          "name": "stdout",
          "text": "Exercise 79 is correct.\n",
          "output_type": "stream"
        }
      ],
      "execution_count": 299
    },
    {
      "cell_type": "code",
      "source": "# Exercise 80\n# Write a function definition named only_negative_odds that takes in sequence of numbers and returns a list containing all the negative odd numbers from the sequence\ndef only_negative_odds(sequence):\n    return [num for num in sequence if num < 0 and num % 2 != 0]\nassert only_negative_odds([1, -2, 3]) == []\nassert only_negative_odds([2, -5, -6]) == [-5]\nassert only_negative_odds([3, 3, 4, 6]) == []\nassert only_negative_odds([2, -3, 4, -1, -4]) == [-3, -1]\nprint(\"Exercise 80 is correct.\")",
      "metadata": {
        "id": "HKRp7qGugCsm",
        "trusted": true
      },
      "outputs": [
        {
          "name": "stdout",
          "text": "Exercise 80 is correct.\n",
          "output_type": "stream"
        }
      ],
      "execution_count": 300
    },
    {
      "cell_type": "code",
      "source": "# Exercise 81\n# Write a function definition named shortest_string that takes in a list of strings and returns the shortest string in the list.\ndef shortest_string(strings):\n    return min(strings, key=len)\nassert shortest_string([\"kiwi\", \"mango\", \"strawberry\"]) == \"kiwi\"\nassert shortest_string([\"hello\", \"everybody\"]) == \"hello\"\nassert shortest_string([\"mary\", \"had\", \"a\", \"little\", \"lamb\"]) == \"a\"\nprint(\"Exercise 81 is correct.\")",
      "metadata": {
        "id": "IqtR4K1rgCso",
        "trusted": true
      },
      "outputs": [
        {
          "name": "stdout",
          "text": "Exercise 81 is correct.\n",
          "output_type": "stream"
        }
      ],
      "execution_count": 301
    },
    {
      "cell_type": "code",
      "source": "# Exercise 82\n# Write a function definition named longest_string that takes in sequence of strings and returns the longest string in the list.\ndef longest_string(strings):\n    return max(strings, key=len)\nassert longest_string([\"kiwi\", \"mango\", \"strawberry\"]) == \"strawberry\"\nassert longest_string([\"hello\", \"everybody\"]) == \"everybody\"\nassert longest_string([\"mary\", \"had\", \"a\", \"little\", \"lamb\"]) == \"little\"\nprint(\"Exercise 82 is correct.\")",
      "metadata": {
        "id": "ETPmaVnIgCsq",
        "trusted": true
      },
      "outputs": [
        {
          "name": "stdout",
          "text": "Exercise 82 is correct.\n",
          "output_type": "stream"
        }
      ],
      "execution_count": 302
    },
    {
      "cell_type": "markdown",
      "source": "## Working with sets\n**Hint** Take a look at the `set` function in Python, the `set` data type, and built-in `set` methods. You should be able to find this on google fairly easily if I didn't go over them extensively in the PDF.",
      "metadata": {
        "id": "jtoQzmQBgCsr"
      }
    },
    {
      "cell_type": "code",
      "source": "# Example set function usage\nprint(set(\"kiwi\"))\nprint(set([1, 2, 2, 3, 3, 3, 4, 4, 4, 4]))",
      "metadata": {
        "id": "GFBQ7ZJxgCsr",
        "trusted": true
      },
      "outputs": [
        {
          "name": "stdout",
          "text": "{'i', 'k', 'w'}\n{1, 2, 3, 4}\n",
          "output_type": "stream"
        }
      ],
      "execution_count": 303
    },
    {
      "cell_type": "code",
      "source": "# Exercise 83\n# Write a function definition named get_unique_values that takes in a list and returns a set with only the unique values from that list.\ndef get_unique_values(lst):\n    return set(lst)\nassert get_unique_values([\"ant\", \"ant\", \"mosquito\", \"mosquito\", \"ladybug\"]) == {\"ant\", \"mosquito\", \"ladybug\"}\nassert get_unique_values([\"b\", \"a\", \"n\", \"a\", \"n\", \"a\", \"s\"]) == {\"b\", \"a\", \"n\", \"s\"}\nassert get_unique_values([\"mary\", \"had\", \"a\", \"little\", \"lamb\", \"little\", \"lamb\", \"little\", \"lamb\"]) == {\"mary\", \"had\", \"a\", \"little\", \"lamb\"}\nprint(\"Exercise 83 is correct.\")",
      "metadata": {
        "id": "URwp4RvSgCsr",
        "trusted": true
      },
      "outputs": [
        {
          "name": "stdout",
          "text": "Exercise 83 is correct.\n",
          "output_type": "stream"
        }
      ],
      "execution_count": 304
    },
    {
      "cell_type": "code",
      "source": "# Exercise 84\n# Write a function definition named get_unique_values_from_two_lists that takes two lists and returns a single set with only the unique values\ndef get_unique_values_from_two_lists(list1, list2):\n    return set(list1 + list2)\nassert get_unique_values_from_two_lists([5, 1, 2, 3], [3, 4, 5, 5]) == {1, 2, 3, 4, 5}\nassert get_unique_values_from_two_lists([1, 1], [2, 2, 3]) == {1, 2, 3}\nassert get_unique_values_from_two_lists([\"tomato\", \"mango\", \"kiwi\"], [\"eggplant\", \"tomato\", \"broccoli\"]) == {\"tomato\", \"mango\", \"kiwi\", \"eggplant\", \"broccoli\"}\nprint(\"Exercise 84 is correct.\")",
      "metadata": {
        "id": "0Elt16fPgCss",
        "trusted": true
      },
      "outputs": [
        {
          "name": "stdout",
          "text": "Exercise 84 is correct.\n",
          "output_type": "stream"
        }
      ],
      "execution_count": 305
    },
    {
      "cell_type": "code",
      "source": "# Exercise 85\n# Write a function definition named get_values_in_common that takes two lists and returns a single set with the values that each list has in common\ndef get_values_in_common(list1, list2):\n    set1 = set(list1)\n    set2 = set(list2)\n    return set1.intersection(set2)\nassert get_values_in_common([5, 1, 2, 3], [3, 4, 5, 5]) == {3, 5}\nassert get_values_in_common([1, 2], [2, 2, 3]) == {2}\nassert get_values_in_common([\"tomato\", \"mango\", \"kiwi\"], [\"eggplant\", \"tomato\", \"broccoli\"]) == {\"tomato\"}\nprint(\"Exercise 85 is correct.\")",
      "metadata": {
        "id": "_ri7Wuk8gCss",
        "trusted": true
      },
      "outputs": [
        {
          "name": "stdout",
          "text": "Exercise 85 is correct.\n",
          "output_type": "stream"
        }
      ],
      "execution_count": 306
    },
    {
      "cell_type": "code",
      "source": "# Exercise 86 THIS IS A HARDER FUNCTION\n# Write a function definition named get_values_not_in_common that takes two lists and returns a single set with the values that each list does not have in common\ndef get_values_not_in_common(list1, list2):\n    set1 = set(list1)\n    set2 = set(list2)\n    return set1.symmetric_difference(set2)\n\n#symmetric difference of set1 and set2, which contains elements in either sets, but not in both.\nassert get_values_not_in_common([5, 1, 2, 3], [3, 4, 5, 5]) == {1, 2, 4}\nassert get_values_not_in_common([1, 1], [2, 2, 3]) == {1, 2, 3}\nassert get_values_not_in_common([\"tomato\", \"mango\", \"kiwi\"], [\"eggplant\", \"tomato\", \"broccoli\"]) == {\"mango\", \"kiwi\", \"eggplant\", \"broccoli\"}\nprint(\"Exercise 86 is correct.\")",
      "metadata": {
        "id": "uHLjM5IFgCss",
        "trusted": true
      },
      "outputs": [
        {
          "name": "stdout",
          "text": "Exercise 86 is correct.\n",
          "output_type": "stream"
        }
      ],
      "execution_count": 307
    },
    {
      "cell_type": "markdown",
      "source": "## Working with Dictionaries\n",
      "metadata": {
        "id": "TGRG0ZfigCst"
      }
    },
    {
      "cell_type": "code",
      "source": "# Run this cell in order to have these two dictionary variables defined.\ntukey_paper = {\n    \"title\": \"The Future of Data Analysis\",\n    \"author\": \"John W. Tukey\",\n    \"link\": \"https://projecteuclid.org/euclid.aoms/1177704711\",\n    \"year_published\": 1962\n}\n\nthomas_paper = {\n    \"title\": \"A mathematical model of glutathione metabolism\",\n    \"author\": \"Rachel Thomas\",\n    \"link\": \"https://www.ncbi.nlm.nih.gov/pubmed/18442411\",\n    \"year_published\": 2008\n}",
      "metadata": {
        "id": "X1nM3PUlgCst",
        "trusted": true
      },
      "outputs": [],
      "execution_count": 308
    },
    {
      "cell_type": "code",
      "source": "# Exercise 87\n# Write a function named get_paper_title that takes in a dictionary and returns the title property\ndef get_paper_title(paper_dict):\n    return paper_dict['title']\n#There is an access method and a function method. you can make another cell and try both.\n\nassert get_paper_title(tukey_paper) == \"The Future of Data Analysis\"\nassert get_paper_title(thomas_paper) == \"A mathematical model of glutathione metabolism\"\nprint(\"Exercise 87 is correct.\")",
      "metadata": {
        "id": "YHq0FjYSgCst",
        "trusted": true
      },
      "outputs": [
        {
          "name": "stdout",
          "text": "Exercise 87 is correct.\n",
          "output_type": "stream"
        }
      ],
      "execution_count": 309
    },
    {
      "cell_type": "code",
      "source": "# Exercise 88\n# Write a function named get_year_published that takes in a dictionary and returns the value behind the \"year_published\" key.\ndef get_year_published(paper_dict):\n    return paper_dict['year_published']\nassert get_year_published(tukey_paper) == 1962\nassert get_year_published(thomas_paper) == 2008\nprint(\"Exercise 88 is correct.\")",
      "metadata": {
        "id": "c_IDchAzgCsu",
        "trusted": true
      },
      "outputs": [
        {
          "name": "stdout",
          "text": "Exercise 88 is correct.\n",
          "output_type": "stream"
        }
      ],
      "execution_count": 310
    },
    {
      "cell_type": "code",
      "source": "# Run this code to create data for the next two questions\nbook = {\n    \"title\": \"Genetic Algorithms and Machine Learning for Programmers\",\n    \"price\": 36.99,\n    \"author\": \"Frances Buontempo\"\n}",
      "metadata": {
        "id": "1ZAY9La-gCsu",
        "trusted": true
      },
      "outputs": [],
      "execution_count": 311
    },
    {
      "cell_type": "code",
      "source": "# Exercise 89\n# Write a function named get_price that takes in a dictionary and returns the price\ndef get_price(book_dict):\n    return book_dict['price']\nassert get_price(book) == 36.99\nprint(\"Exercise 89 is complete.\")",
      "metadata": {
        "id": "thcFEgaigCsu",
        "trusted": true
      },
      "outputs": [
        {
          "name": "stdout",
          "text": "Exercise 89 is complete.\n",
          "output_type": "stream"
        }
      ],
      "execution_count": 312
    },
    {
      "cell_type": "code",
      "source": "# Exercise 90\n# Write a function named get_book_author that takes in a dictionary (the above declared book variable) and returns the author's name\ndef get_book_author(book_dict):\n    return book_dict['author']\n\n# Example book dictionary\nbook = {\n    \"title\": \"Genetic Algorithms and Machine Learning for Programmers\",\n    \"price\": 36.99,\n    \"author\": \"Frances Buontempo\"\n}\n\n\nassert get_book_author(book) == \"Frances Buontempo\"\nprint(\"Exercise 90 is complete.\")",
      "metadata": {
        "id": "hDajHrUtgCsv",
        "trusted": true
      },
      "outputs": [
        {
          "name": "stdout",
          "text": "Exercise 90 is complete.\n",
          "output_type": "stream"
        }
      ],
      "execution_count": 313
    }
  ]
}