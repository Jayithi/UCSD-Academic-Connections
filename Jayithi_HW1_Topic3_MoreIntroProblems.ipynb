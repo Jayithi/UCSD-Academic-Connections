{
  "cells": [
    {
      "cell_type": "markdown",
      "metadata": {
        "id": "anbXZ-lURatm"
      },
      "source": [
        "# **Topic 2 More Intro Problems**\n",
        "\n",
        "Now that you should be more well versed lets see if you can handle these"
      ]
    },
    {
      "cell_type": "markdown",
      "metadata": {
        "id": "z1Cf4z-6Sx47"
      },
      "source": [
        "## Section 1: General"
      ]
    },
    {
      "cell_type": "markdown",
      "metadata": {
        "id": "bWf-Q4xHRlaO"
      },
      "source": [
        "1. Write a Python program to print the following string in a specific format (see the output).\n",
        "Sample String : \"Twinkle, twinkle, little star, How I wonder what you are! Up above the world so high, Like a diamond in the sky. Twinkle, twinkle, little star, How I wonder what you are\"\n",
        "Output :\n",
        "\n",
        "\n",
        "\n",
        "```\n",
        "Twinkle, twinkle, little star,\n",
        "\tHow I wonder what you are!\n",
        "\t\tUp above the world so high,\n",
        "\t\tLike a diamond in the sky.\n",
        "Twinkle, twinkle, little star,\n",
        "\tHow I wonder what you are\n",
        "```\n",
        "\n",
        "\n"
      ]
    },
    {
      "cell_type": "code",
      "execution_count": 1,
      "metadata": {},
      "outputs": [
        {
          "name": "stdout",
          "output_type": "stream",
          "text": [
            "Twinkle, twinkle, little star,\n",
            "\tHow I wonder what you are!\n",
            "\t\tUp above the world so high,\n",
            "\t\tLike a diamond in the sky.\n",
            "Twinkle, twinkle, little star,\n",
            "\tHow I wonder what you are\n"
          ]
        }
      ],
      "source": [
        "def print_formatted_string():\n",
        "    print(\"Twinkle, twinkle, little star,\")\n",
        "    print(\"\\tHow I wonder what you are!\")\n",
        "    print(\"\\t\\tUp above the world so high,\")\n",
        "    print(\"\\t\\tLike a diamond in the sky.\")\n",
        "    print(\"Twinkle, twinkle, little star,\")\n",
        "    print(\"\\tHow I wonder what you are\")\n",
        "\n",
        "print_formatted_string()\n"
      ]
    },
    {
      "cell_type": "markdown",
      "metadata": {
        "id": "R8Nk5ilPRsR2"
      },
      "source": [
        "2. Write a Python program to find out what version of Python you are using."
      ]
    },
    {
      "cell_type": "code",
      "execution_count": 2,
      "metadata": {
        "id": "8cFFdqtKR016"
      },
      "outputs": [
        {
          "name": "stdout",
          "output_type": "stream",
          "text": [
            "Python version: 3.11.7 | packaged by Anaconda, Inc. | (main, Dec 15 2023, 18:05:47) [MSC v.1916 64 bit (AMD64)]\n"
          ]
        }
      ],
      "source": [
        "import sys\n",
        "\n",
        "def print_python_version():\n",
        "    version = sys.version\n",
        "    print(f\"Python version: {version}\")\n",
        "\n",
        "print_python_version()"
      ]
    },
    {
      "cell_type": "markdown",
      "metadata": {
        "id": "ZP2O2t5OR1oa"
      },
      "source": [
        "5. Write a Python program that accepts the user's first and last name and prints them in reverse order with a space between them."
      ]
    },
    {
      "cell_type": "code",
      "execution_count": 3,
      "metadata": {
        "id": "NNTr_DIxR4xF"
      },
      "outputs": [
        {
          "name": "stdout",
          "output_type": "stream",
          "text": [
            "Gavva Jayithi\n"
          ]
        }
      ],
      "source": [
        "# Accept the user's first and last name\n",
        "first_name = input(\"Enter your first name: \")\n",
        "last_name = input(\"Enter your last name: \")\n",
        "\n",
        "# Print the names in reverse order\n",
        "print(f\"{last_name} {first_name}\")"
      ]
    },
    {
      "cell_type": "markdown",
      "metadata": {
        "id": "2WeYfKK-R8Yu"
      },
      "source": [
        "6. Write a Python program that accepts a sequence of comma-separated numbers from the user and generates a list and a tuple of those numbers.\n",
        "Sample data : 3, 5, 7, 23\n",
        "Output :\n",
        "List : ['3', ' 5', ' 7', ' 23']\n",
        "Tuple : ('3', ' 5', ' 7', ' 23')"
      ]
    },
    {
      "cell_type": "code",
      "execution_count": 8,
      "metadata": {
        "id": "GgJ3d6-QR-XF"
      },
      "outputs": [
        {
          "name": "stdout",
          "output_type": "stream",
          "text": [
            "List: ['3', ' 5', ' 7', ' 23']\n",
            "Tuple: ('3', ' 5', ' 7', ' 23')\n"
          ]
        }
      ],
      "source": [
        "num = input(\"Enter a sequence of comma-separated numbers: \")\n",
        "num_list = num.split(',')\n",
        "num_tuple = tuple(num_list)\n",
        "print(f\"List: {num_list}\")\n",
        "print(f\"Tuple: {num_tuple}\")"
      ]
    },
    {
      "cell_type": "markdown",
      "metadata": {
        "id": "lQBihEHLSBqG"
      },
      "source": [
        "8. Write a Python program to display the first and last colors from the following list.\n",
        "color_list = [\"Red\",\"Green\",\"White\" ,\"Black\"]"
      ]
    },
    {
      "cell_type": "code",
      "execution_count": 9,
      "metadata": {
        "id": "_Mkumd4LSCDW"
      },
      "outputs": [
        {
          "name": "stdout",
          "output_type": "stream",
          "text": [
            "First color: Red\n",
            "Last color: Black\n"
          ]
        }
      ],
      "source": [
        "color_list = [\"Red\", \"Green\", \"White\", \"Black\"]\n",
        "\n",
        "# Display the first and last colors\n",
        "first_color = color_list[0]\n",
        "last_color = color_list[-1]\n",
        "\n",
        "print(f\"First color: {first_color}\")\n",
        "print(f\"Last color: {last_color}\")\n"
      ]
    },
    {
      "cell_type": "markdown",
      "metadata": {
        "id": "nS29WGPwSFRA"
      },
      "source": [
        "10. Write a Python program that accepts an integer (n) and computes the value of n+nn+nnn.\n",
        "Sample value of n is 5\n",
        "Expected Result : 615"
      ]
    },
    {
      "cell_type": "code",
      "execution_count": 10,
      "metadata": {
        "id": "LrfK52OKSUp9"
      },
      "outputs": [
        {
          "name": "stdout",
          "output_type": "stream",
          "text": [
            "The result of 5 + 55 + 555 is: 615\n"
          ]
        }
      ],
      "source": [
        "def compute_expression(n):\n",
        "    nn = n * 10 + n\n",
        "    nnn = n * 100 + nn  \n",
        "    result = n + nn + nnn\n",
        "    return result\n",
        "\n",
        "# Accept an integer input from the user\n",
        "n = int(input(\"Enter an integer: \"))\n",
        "\n",
        "# Compute the expression and print the result\n",
        "result = compute_expression(n)\n",
        "print(f\"The result of {n} + {n}{n} + {n}{n}{n} is: {result}\")\n"
      ]
    },
    {
      "cell_type": "markdown",
      "metadata": {
        "id": "zTD8ti3MSWQI"
      },
      "source": [
        "17. Write a Python program to test whether a number is within 100 of 1000 or 2000."
      ]
    },
    {
      "cell_type": "code",
      "execution_count": 21,
      "metadata": {
        "id": "xRMxgeygSeMe"
      },
      "outputs": [
        {
          "name": "stdout",
          "output_type": "stream",
          "text": [
            "-1200 is within 100 of 1000 or 2000.\n"
          ]
        }
      ],
      "source": [
        "# Take input from the user\n",
        "number = int(input(\"Enter a number: \"))\n",
        "\n",
        "# Check if the number is within 100 of 1000 or 2000\n",
        "# I didn't understand the question from within 100 of 1000 or 2000, so I wrote the code for what I felt it meant.\n",
        "if ((number - 1000) <= 100) or ((number - 2000) <= 100):\n",
        "    print(f\"{number} is within 100 of 1000 or 2000.\")\n",
        "else:\n",
        "    print(f\"{number} is not within 100 of 1000 or 2000.\")\n"
      ]
    },
    {
      "cell_type": "markdown",
      "metadata": {
        "id": "IvCFcQ9VSdhZ"
      },
      "source": [
        "21. Write a Python program that determines whether a given number (accepted from the user) is even or odd, and prints an appropriate message to the user."
      ]
    },
    {
      "cell_type": "code",
      "execution_count": 27,
      "metadata": {
        "id": "yLaoo_xuSe54"
      },
      "outputs": [
        {
          "name": "stdout",
          "output_type": "stream",
          "text": [
            "Even\n"
          ]
        }
      ],
      "source": [
        "num = int(input(\"Enter a number: \"))\n",
        "print(\"Even\" if num % 2 == 0 else \"Odd\")\n"
      ]
    },
    {
      "cell_type": "markdown",
      "metadata": {
        "id": "QEp6ejnORzYQ"
      },
      "source": [
        "25. Write a Python program that checks whether a specified value is contained within a group of values.\n",
        "Test Data :\n",
        "3 -> [1, 5, 8, 3] : True\n",
        "-1 -> [1, 5, 8, 3] : False\n",
        "\n"
      ]
    },
    {
      "cell_type": "code",
      "execution_count": 29,
      "metadata": {
        "id": "oqtpaXMqRqlH"
      },
      "outputs": [
        {
          "name": "stdout",
          "output_type": "stream",
          "text": [
            "False\n"
          ]
        }
      ],
      "source": [
        "value = int(input(\"Enter a value: \"))\n",
        "values = [1, 5, 8, 3]\n",
        "print(value in values)"
      ]
    },
    {
      "cell_type": "markdown",
      "metadata": {
        "id": "PucYUXmhRtMI"
      },
      "source": [
        "37. Write a Python program that displays your name, age, and address on three different lines."
      ]
    },
    {
      "cell_type": "code",
      "execution_count": 30,
      "metadata": {
        "id": "xCl5KiQfOFjb"
      },
      "outputs": [
        {
          "name": "stdout",
          "output_type": "stream",
          "text": [
            "Jayithi Gavva\n",
            "15\n",
            "Hyderabad\n"
          ]
        }
      ],
      "source": [
        "name = input(\"Enter your name: \")\n",
        "age = input(\"Enter your age: \")\n",
        "address = input(\"Enter your address: \")\n",
        "\n",
        "print(name)\n",
        "print(age)\n",
        "print(address)\n"
      ]
    },
    {
      "cell_type": "markdown",
      "metadata": {
        "id": "OWrJpYTbS1oV"
      },
      "source": [
        "## Section 2: Puzzles and Topics"
      ]
    },
    {
      "cell_type": "markdown",
      "metadata": {
        "id": "aB3EoVwcS-NQ"
      },
      "source": [
        "1. Write a Python function that takes a sequence of numbers and determines whether all the numbers are different from each other."
      ]
    },
    {
      "cell_type": "code",
      "execution_count": 31,
      "metadata": {
        "id": "YEGK9CLBS-yc"
      },
      "outputs": [
        {
          "name": "stdout",
          "output_type": "stream",
          "text": [
            "True\n",
            "False\n"
          ]
        }
      ],
      "source": [
        "def all_different(numbers):\n",
        "    return len(numbers) == len(set(numbers))\n",
        "\n",
        "'''When I was learning about sets, I loved the idea that when sets are created, the repeatitve elements are\n",
        "removed. I made use of that point in this code. I felt that it made the program significantly easier and concise '''\n",
        "# Example usage\n",
        "sequence = [1, 2, 3, 4, 5]\n",
        "print(all_different(sequence))  # True\n",
        "\n",
        "sequence = [1, 2, 3, 3, 4]\n",
        "print(all_different(sequence))  # False\n"
      ]
    },
    {
      "cell_type": "markdown",
      "metadata": {
        "id": "T_C7shu-TAAi"
      },
      "source": [
        "2. Write a Python program that creates all possible strings using the letters 'a', 'e', 'i', 'o', and 'I'. Ensure that each character is used only once."
      ]
    },
    {
      "cell_type": "code",
      "execution_count": 33,
      "metadata": {
        "id": "wEsUWRmfTAg6"
      },
      "outputs": [
        {
          "name": "stdout",
          "output_type": "stream",
          "text": [
            "aeoiI\n",
            "aeoIi\n",
            "aeioI\n",
            "aeiIo\n",
            "aeIoi\n",
            "aeIio\n",
            "aoeiI\n",
            "aoeIi\n",
            "aoieI\n",
            "aoiIe\n",
            "aoIei\n",
            "aoIie\n",
            "aieoI\n",
            "aieIo\n",
            "aioeI\n",
            "aioIe\n",
            "aiIeo\n",
            "aiIoe\n",
            "aIeoi\n",
            "aIeio\n",
            "aIoei\n",
            "aIoie\n",
            "aIieo\n",
            "aIioe\n",
            "eaoiI\n",
            "eaoIi\n",
            "eaioI\n",
            "eaiIo\n",
            "eaIoi\n",
            "eaIio\n",
            "eoaiI\n",
            "eoaIi\n",
            "eoiaI\n",
            "eoiIa\n",
            "eoIai\n",
            "eoIia\n",
            "eiaoI\n",
            "eiaIo\n",
            "eioaI\n",
            "eioIa\n",
            "eiIao\n",
            "eiIoa\n",
            "eIaoi\n",
            "eIaio\n",
            "eIoai\n",
            "eIoia\n",
            "eIiao\n",
            "eIioa\n",
            "oaeiI\n",
            "oaeIi\n",
            "oaieI\n",
            "oaiIe\n",
            "oaIei\n",
            "oaIie\n",
            "oeaiI\n",
            "oeaIi\n",
            "oeiaI\n",
            "oeiIa\n",
            "oeIai\n",
            "oeIia\n",
            "oiaeI\n",
            "oiaIe\n",
            "oieaI\n",
            "oieIa\n",
            "oiIae\n",
            "oiIea\n",
            "oIaei\n",
            "oIaie\n",
            "oIeai\n",
            "oIeia\n",
            "oIiae\n",
            "oIiea\n",
            "iaeoI\n",
            "iaeIo\n",
            "iaoeI\n",
            "iaoIe\n",
            "iaIeo\n",
            "iaIoe\n",
            "ieaoI\n",
            "ieaIo\n",
            "ieoaI\n",
            "ieoIa\n",
            "ieIao\n",
            "ieIoa\n",
            "ioaeI\n",
            "ioaIe\n",
            "ioeaI\n",
            "ioeIa\n",
            "ioIae\n",
            "ioIea\n",
            "iIaeo\n",
            "iIaoe\n",
            "iIeao\n",
            "iIeoa\n",
            "iIoae\n",
            "iIoea\n",
            "Iaeoi\n",
            "Iaeio\n",
            "Iaoei\n",
            "Iaoie\n",
            "Iaieo\n",
            "Iaioe\n",
            "Ieaoi\n",
            "Ieaio\n",
            "Ieoai\n",
            "Ieoia\n",
            "Ieiao\n",
            "Ieioa\n",
            "Ioaei\n",
            "Ioaie\n",
            "Ioeai\n",
            "Ioeia\n",
            "Ioiae\n",
            "Ioiea\n",
            "Iiaeo\n",
            "Iiaoe\n",
            "Iieao\n",
            "Iieoa\n",
            "Iioae\n",
            "Iioea\n"
          ]
        }
      ],
      "source": [
        "import itertools\n",
        "\n",
        "letters = 'aeoiI'\n",
        "permutations = itertools.permutations(letters)\n",
        "\n",
        "# I have made use of the permutations function in the itertools module\n",
        "for p in permutations:\n",
        "    print(''.join(p))\n"
      ]
    },
    {
      "cell_type": "markdown",
      "metadata": {
        "id": "xTjb7onLTBCm"
      },
      "source": [
        "3. Write a Python program that removes and prints every third number from a list of numbers until the list is empty."
      ]
    },
    {
      "cell_type": "code",
      "execution_count": 35,
      "metadata": {
        "id": "LHWPRiSZTCsK"
      },
      "outputs": [
        {
          "name": "stdout",
          "output_type": "stream",
          "text": [
            "3\n",
            "6\n",
            "9\n",
            "2\n",
            "7\n",
            "1\n",
            "8\n",
            "5\n",
            "10\n",
            "4\n"
          ]
        }
      ],
      "source": [
        "numbers = [1, 2, 3, 4, 5, 6, 7, 8, 9, 10]\n",
        "\n",
        "index = 2\n",
        "while numbers:\n",
        "    # Remove and print the element at the current index\n",
        "    print(numbers.pop(index))\n",
        "    # Update the index to the new position\n",
        "    index = (index + 2) % len(numbers) if numbers else 0\n"
      ]
    },
    {
      "cell_type": "markdown",
      "metadata": {
        "id": "c-VSrr0nTL_S"
      },
      "source": [
        "12. Write a Python program that generates a list of all possible permutations from a given collection of distinct numbers."
      ]
    },
    {
      "cell_type": "code",
      "execution_count": 38,
      "metadata": {
        "id": "NVkCGj8tTMa8"
      },
      "outputs": [
        {
          "name": "stdout",
          "output_type": "stream",
          "text": [
            "(1, 2, 3)\n",
            "(1, 3, 2)\n",
            "(2, 1, 3)\n",
            "(2, 3, 1)\n",
            "(3, 1, 2)\n",
            "(3, 2, 1)\n"
          ]
        }
      ],
      "source": [
        "import itertools\n",
        "\n",
        "numbers = [1, 2, 3]\n",
        "\n",
        "# Generate all possible permutations\n",
        "permutations = list(itertools.permutations(numbers))\n",
        "for perm in permutations:\n",
        "    print(perm)\n"
      ]
    },
    {
      "cell_type": "markdown",
      "metadata": {
        "id": "K5FJbUzKTM_s"
      },
      "source": [
        "16. Write a Python program to get the third side of a right-angled triangle from two given sides."
      ]
    },
    {
      "cell_type": "code",
      "execution_count": 39,
      "metadata": {
        "id": "86dyRLOLTS5i"
      },
      "outputs": [
        {
          "name": "stdout",
          "output_type": "stream",
          "text": [
            "The length of the third side is: 5.0\n"
          ]
        }
      ],
      "source": [
        "import math\n",
        "\n",
        "side1 = float(input(\"Enter the length of the first side: \"))\n",
        "side2 = float(input(\"Enter the length of the second side: \"))\n",
        "is_hypotenuse = input(\"Is one of the sides the hypotenuse? (yes/no): \").strip().lower() == 'yes'\n",
        "\n",
        "if is_hypotenuse:\n",
        "    third_side = math.sqrt(side1**2 - side2**2) if side1 > side2 else math.sqrt(side2**2 - side1**2)\n",
        "else:\n",
        "    third_side = math.sqrt(side1**2 + side2**2)\n",
        "\n",
        "print(\"The length of the third side is:\", third_side)\n"
      ]
    },
    {
      "cell_type": "markdown",
      "metadata": {
        "id": "UQJhVZ6cTTdF"
      },
      "source": [
        "11. Write a Python program to find the indexes of numbers in a given list below a given threshold.\n",
        "Original list:\n",
        "[0, 12, 45, 3, 4923, 322, 105, 29, 15, 39, 55]\n",
        "Threshold: 100\n",
        "Check the indexes of numbers of the said list below the given threshold:\n",
        "[0, 1, 2, 3, 7, 8, 9, 10]\n",
        "Original list:\n",
        "[0, 12, 4, 3, 49, 9, 1, 5, 3]\n",
        "Threshold: 10\n",
        "Check the indexes of numbers of the said list below the given threshold:\n",
        "[0, 2, 3, 5, 6, 7, 8]"
      ]
    },
    {
      "cell_type": "code",
      "execution_count": 37,
      "metadata": {
        "id": "gYARvP5zTgE3"
      },
      "outputs": [
        {
          "name": "stdout",
          "output_type": "stream",
          "text": [
            "Indexes below threshold: [0, 1, 2, 3, 7, 8, 9, 10]\n",
            "Indexes below threshold: [0, 2, 3, 5, 6, 7, 8]\n"
          ]
        }
      ],
      "source": [
        "def indexes_below(lst, threshold):\n",
        "    return [i for i, num in enumerate(lst) if num < threshold]\n",
        "\n",
        "# Example usage\n",
        "list1 = [0, 12, 45, 3, 4923, 322, 105, 29, 15, 39, 55]\n",
        "threshold1 = 100\n",
        "print(\"Indexes below threshold:\", indexes_below(list1, threshold1))\n",
        "\n",
        "list2 = [0, 12, 4, 3, 49, 9, 1, 5, 3]\n",
        "threshold2 = 10\n",
        "print(\"Indexes below threshold:\", indexes_below(list2, threshold2))\n"
      ]
    },
    {
      "cell_type": "markdown",
      "metadata": {
        "id": "AZQhfWblTfl4"
      },
      "source": [
        "12. Write a Python program to check whether the given strings are palindromes or not. Return True otherwise False.\n",
        "Input:\n",
        "['palindrome', 'madamimadam', '', 'foo', 'eyes']\n",
        "Output:\n",
        "[False, True, True, False, False]"
      ]
    },
    {
      "cell_type": "code",
      "execution_count": 26,
      "metadata": {
        "id": "-KScZqkCTjkI"
      },
      "outputs": [
        {
          "name": "stdout",
          "output_type": "stream",
          "text": [
            "[False, True, True, False, False]\n"
          ]
        }
      ],
      "source": [
        "strings = ['palindrome', 'madamimadam', '', 'foo', 'eyes']\n",
        "result = [s == s[::-1] for s in strings]\n",
        "print(result)\n"
      ]
    },
    {
      "cell_type": "markdown",
      "metadata": {
        "id": "wJ20ZfugTzA6"
      },
      "source": [
        "12. Write a Python program to find the first non-repeated element in a list."
      ]
    },
    {
      "cell_type": "code",
      "execution_count": 25,
      "metadata": {
        "id": "nlk_jaUoUWW4"
      },
      "outputs": [
        {
          "name": "stdout",
          "output_type": "stream",
          "text": [
            "The first non-repeated element is: 2\n"
          ]
        }
      ],
      "source": [
        "elements = input(\"Enter elements of the list separated by spaces: \").split()\n",
        "elements = [int(x) for x in elements]\n",
        "\n",
        "count = {}\n",
        "for elem in elements:\n",
        "    count[elem] = count.get(elem, 0) + 1\n",
        "\n",
        "for elem in elements:\n",
        "    if count[elem] == 1:\n",
        "        print(\"The first non-repeated element is:\", elem)\n",
        "        break\n",
        "else:\n",
        "    print(\"All elements are repeated.\")\n"
      ]
    },
    {
      "cell_type": "markdown",
      "metadata": {
        "id": "Co_7u382T6uW"
      },
      "source": [
        "14. Write a Python function to check whether a string is a pangram or not.\n",
        "Note : Pangrams are words or sentences containing every letter of the alphabet at least once.\n",
        "For example : \"The quick brown fox jumps over the lazy dog\""
      ]
    },
    {
      "cell_type": "code",
      "execution_count": 23,
      "metadata": {
        "id": "aKQwQSXhT7ja"
      },
      "outputs": [
        {
          "name": "stdout",
          "output_type": "stream",
          "text": [
            "The sentence is not a pangram.\n"
          ]
        }
      ],
      "source": [
        "def is_pangram(s):\n",
        "    alphabet = set('abcdefghijklmnopqrstuvwxyz')\n",
        "    \n",
        "    # Convert the input string to lowercase and create a set of its characters\n",
        "    input_set = set(s.lower())\n",
        "    \n",
        "    # Check if all alphabet letters are in the input set\n",
        "    return alphabet.issubset(input_set)\n",
        "sentence = input(\"Enter a sentence: \")\n",
        "\n",
        "if is_pangram(sentence):\n",
        "    print(\"The sentence is a pangram.\")\n",
        "else:\n",
        "    print(\"The sentence is not a pangram.\")\n"
      ]
    },
    {
      "cell_type": "markdown",
      "metadata": {
        "id": "ftjkWyznUASU"
      },
      "source": [
        "15. Write a Python program to get the maximum and minimum values of a dictionary."
      ]
    },
    {
      "cell_type": "code",
      "execution_count": 18,
      "metadata": {
        "id": "kdT0B9FxUVZ8"
      },
      "outputs": [
        {
          "name": "stdout",
          "output_type": "stream",
          "text": [
            "Maximum value: 20\n",
            "Minimum value: 5\n"
          ]
        }
      ],
      "source": [
        "def get_max_min_values(d):\n",
        "    values = d.values()\n",
        "    \n",
        "    # Find the maximum and minimum values\n",
        "    max_value = max(values)\n",
        "    min_value = min(values)\n",
        "    \n",
        "    return max_value, min_value\n",
        "\n",
        "# Example usage\n",
        "sample_dict = {'a': 10, 'b': 20, 'c': 5, 'd': 15}\n",
        "max_val, min_val = get_max_min_values(sample_dict)\n",
        "\n",
        "print(\"Maximum value:\", max_val)\n",
        "print(\"Minimum value:\", min_val)\n"
      ]
    },
    {
      "cell_type": "markdown",
      "metadata": {
        "id": "_-tvWg92UDvA"
      },
      "source": [
        "4. Write a Python program to construct the following pattern, using a nested for loop.\n",
        "\n",
        "\n",
        "```\n",
        "*\n",
        "* *\n",
        "* * *\n",
        "* * * *\n",
        "* * * * *\n",
        "* * * *\n",
        "* * *\n",
        "* *\n",
        "*\n",
        "\n",
        "```\n",
        "\n"
      ]
    },
    {
      "cell_type": "code",
      "execution_count": 17,
      "metadata": {
        "id": "embVUC8cUdVk"
      },
      "outputs": [
        {
          "name": "stdout",
          "output_type": "stream",
          "text": [
            "* \n",
            "* * \n",
            "* * * \n",
            "* * * * \n",
            "* * * * * \n",
            "* * * * \n",
            "* * * \n",
            "* * \n",
            "* \n"
          ]
        }
      ],
      "source": [
        "def print_pattern(n):\n",
        "    # Printing the increasing part of the pattern\n",
        "    for i in range(1, n + 1):\n",
        "        print('* ' * i)\n",
        "    \n",
        "    # Printing the decreasing part of the pattern\n",
        "    for i in range(n - 1, 0, -1):\n",
        "        print('* ' * i)\n",
        "\n",
        "# Define the number of rows for the wide part of pattern\n",
        "n = 5\n",
        "print_pattern(n)\n"
      ]
    },
    {
      "cell_type": "markdown",
      "metadata": {
        "id": "Fhsqpnl3UdqU"
      },
      "source": [
        "6. Write a Python program to create an intersection of sets."
      ]
    },
    {
      "cell_type": "code",
      "execution_count": 16,
      "metadata": {
        "id": "Ibx9KWwFUeK2"
      },
      "outputs": [
        {
          "name": "stdout",
          "output_type": "stream",
          "text": [
            "Intersection of sets: {4, 5}\n"
          ]
        }
      ],
      "source": [
        "def intersection_of_sets(set1, set2):\n",
        "    intersection = set1 & set2\n",
        "    return intersection\n",
        "\n",
        "# Example usage\n",
        "set1 = {1, 2, 3, 4, 5}\n",
        "set2 = {4, 5, 6, 7, 8}\n",
        "result = intersection_of_sets(set1, set2)\n",
        "print(\"Intersection of sets:\", result)\n"
      ]
    },
    {
      "cell_type": "markdown",
      "metadata": {},
      "source": [
        "21. Write a Python program to replace the last value of tuples in a list.\n",
        "Sample list: [(10, 20, 40), (40, 50, 60), (70, 80, 90)]\n",
        "Expected Output: [(10, 20, 100), (40, 50, 100), (70, 80, 100)]"
      ]
    },
    {
      "cell_type": "markdown",
      "metadata": {
        "id": "lpyvKqPeU_c-"
      },
      "source": []
    },
    {
      "cell_type": "code",
      "execution_count": 15,
      "metadata": {},
      "outputs": [
        {
          "name": "stdout",
          "output_type": "stream",
          "text": [
            "[(10, 20, 100), (40, 50, 100), (70, 80, 100)]\n"
          ]
        }
      ],
      "source": [
        "def replace(sample_list, new_value):\n",
        "    # Replace the last value of each tuple in the list with new_value\n",
        "    modified_list = [(t[:-1] + (new_value,)) for t in sample_list]\n",
        "    print(modified_list)\n",
        "\n",
        "\n",
        "sample_list = [(10, 20, 40), (40, 50, 60), (70, 80, 90)]\n",
        "new_value = 100\n",
        "replace(sample_list, new_value)\n"
      ]
    }
  ],
  "metadata": {
    "colab": {
      "provenance": []
    },
    "kernelspec": {
      "display_name": "Python 3",
      "name": "python3"
    },
    "language_info": {
      "codemirror_mode": {
        "name": "ipython",
        "version": 3
      },
      "file_extension": ".py",
      "mimetype": "text/x-python",
      "name": "python",
      "nbconvert_exporter": "python",
      "pygments_lexer": "ipython3",
      "version": "3.11.7"
    }
  },
  "nbformat": 4,
  "nbformat_minor": 0
}
