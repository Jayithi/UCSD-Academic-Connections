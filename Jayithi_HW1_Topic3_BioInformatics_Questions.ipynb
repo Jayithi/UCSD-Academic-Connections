{
  "nbformat": 4,
  "nbformat_minor": 0,
  "metadata": {
    "colab": {
      "provenance": []
    },
    "kernelspec": {
      "name": "python3",
      "display_name": "Python 3"
    },
    "language_info": {
      "name": "python"
    }
  },
  "cells": [
    {
      "cell_type": "markdown",
      "source": [
        "# Problem 1\n",
        "\n"
      ],
      "metadata": {
        "id": "u1MZIpwtDPzZ"
      }
    },
    {
      "cell_type": "markdown",
      "source": [
        "Part 1\n",
        "\n",
        "Write a function count_pairs(dna, pair) that\n",
        "returns the number of occurrences of a pair of\n",
        "characters (pair) in a DNA string (dna). For\n",
        "example, calling the function with dna as\n",
        "'ACTGCTATCCATT' and pair as 'AT' will return 2."
      ],
      "metadata": {
        "id": "Xj2unJpADYyV"
      }
    },
    {
      "cell_type": "code",
      "source": [],
      "metadata": {
        "id": "K0aCswCoDbhx"
      },
      "execution_count": null,
      "outputs": []
    },
    {
      "cell_type": "markdown",
      "source": [
        "Part 2:\n",
        "\n",
        "This is an extension of Exercise 1: Find pairs of\n",
        "characters: count how many times a certain string\n",
        "appears in another string. For example, the function\n",
        "returns 3 when called with the DNA string\n",
        "'ACGTTACGGAACG' and the substring 'ACG'.\n",
        "\n",
        "Hint. For each match of the ﬁrst character of the\n",
        "substring in the main string, check if the next n\n",
        "characters in the main string matches the substring,\n",
        "where n is the length of the substring. Use slices like\n",
        "s[3:9] to pick out a substring of s.\n",
        "\n"
      ],
      "metadata": {
        "id": "fkMpxX0UDbIZ"
      }
    },
    {
      "cell_type": "code",
      "source": [],
      "metadata": {
        "id": "3dpxMe5ADviA"
      },
      "execution_count": null,
      "outputs": []
    },
    {
      "cell_type": "markdown",
      "source": [
        "# Problem 2\n"
      ],
      "metadata": {
        "id": "ujLdWb09Dxak"
      }
    },
    {
      "cell_type": "markdown",
      "source": [
        "Counting DNA Nucleotides\n",
        "\n",
        "A string is simply an ordered collection of symbols selected from some alphabet and formed into a word; the length of a string is the\n",
        "number of symbols that it contains.\n",
        "\n",
        "An example of a length 21 DNA string (whose alphabet contains the symbols 'A', 'C', 'G', and 'T') is \"ATGCTTCAGAAAGGTCTTACG.\"\n",
        "\n",
        "Given: A DNA string s of length at most 1000 nt.\n",
        "\n",
        "Return: Four integers (separated by spaces) counting the respective number of times that the symbols 'A', 'C', 'G', and 'T' occur in s.\n",
        "\n",
        "Sample Data Set:\n",
        "AGCTTTTCATTCTGACTGCAACGGGCAATATGTCTCTGTGTGGATTAAAAAAAGAGTGTCTGATAGCAGC\n",
        "\n",
        "Sample Output:\n",
        "\n",
        "`20 12 17 21`\n",
        "\n",
        "Visit: http://rosalind.info/problems/dna/\n",
        "\n",
        "I have only given you one sample output here. But you need to make sure that your code works for all outputs."
      ],
      "metadata": {
        "id": "_oWb006sD0ho"
      }
    },
    {
      "cell_type": "code",
      "source": [],
      "metadata": {
        "id": "sJgo5dAkEBG3"
      },
      "execution_count": null,
      "outputs": []
    },
    {
      "cell_type": "markdown",
      "metadata": {
        "id": "I7GykgXOoS99"
      },
      "source": [
        "#Problem 3\n",
        "### Counting Point Mutations\n",
        "\n",
        "\n",
        "\n"
      ]
    },
    {
      "cell_type": "markdown",
      "source": [
        "http://rosalind.info/problems/hamm/\n",
        "\n",
        "You may read more about the problem set more here.\n",
        "\n",
        "Given two strings s and t of equal length, the Hamming distance between s and t, denoted dH(s,t), is the number of corresponding symbols that differ in s and t. See Figure 2 [link image](http://rosalind.info/media/problems/hamm/Hamming_distance.png)\n",
        "\n",
        "Sample Dataset\n",
        "\n",
        "```\n",
        "GAGCCTACTAACGGGAT\n",
        "CATCGTAATGACGGCCT\n",
        "```\n",
        "\n",
        "Sample Output\n",
        "\n",
        "```\n",
        "7\n",
        "```"
      ],
      "metadata": {
        "id": "yhVOCp62EI-M"
      }
    },
    {
      "cell_type": "code",
      "metadata": {
        "id": "1xBofYBlmacz"
      },
      "source": [
        "#Problem 3\n",
        "#HINT: Define a function that determines how many characters between the string are different\n"
      ],
      "execution_count": null,
      "outputs": []
    },
    {
      "cell_type": "markdown",
      "metadata": {
        "id": "jkVzw31ztE49"
      },
      "source": [
        "#Problem 4\n",
        "### Finding a Shared Motif\n",
        "\n"
      ]
    },
    {
      "cell_type": "markdown",
      "source": [
        "This problem is EXTREMELY HARD. IF you cannot succeed it is OK!\n",
        "\n",
        "http://rosalind.info/problems/lcsm\n",
        "\n",
        "You may read more about the problem set more here.\n",
        "\n",
        "A common substring of a collection of strings is a substring of every member of the collection. We say that a common substring is a longest common substring if there does not exist a longer common substring. For example, \"CG\" is a common substring of \"ACGTACGT\" and \"AACCGTATA\", but it is not as long as possible; in this case, \"CGTA\" is a longest common substring of \"ACGTACGT\" and \"AACCGTATA\".\n",
        "\n",
        "Note that the longest common substring is not necessarily unique; for a simple example, \"AA\" and \"CC\" are both longest common substrings of \"AACC\" and \"CCAA\".\n",
        "\n",
        "Given: A collection of k (k≤100) DNA strings of length at most 1 kbp each in FASTA format.\n",
        "\n",
        "Return: A longest common substring of the collection. (If multiple solutions exist, you may return any single solution.)\n",
        "\n",
        "Sample Dataset\n",
        "\n",
        "```\n",
        ">Rosalind_1\n",
        "GATTACA\n",
        ">Rosalind_2\n",
        "TAGACCA\n",
        ">Rosalind_3\n",
        "ATACA\n",
        "```\n",
        "Sample Output\n",
        "\n",
        "\n",
        "```\n",
        "AC\n",
        "```\n",
        "\n"
      ],
      "metadata": {
        "id": "kvRNar0eEOCG"
      }
    },
    {
      "cell_type": "code",
      "metadata": {
        "id": "1w5LCgR5uUcN"
      },
      "source": [
        "# Problem 4\n",
        "# We mare changing this problem to a longest common substring/sequence\n",
        "# Ignore how the DNA is given (treat them as strings)"
      ],
      "execution_count": null,
      "outputs": []
    },
    {
      "cell_type": "markdown",
      "metadata": {
        "id": "X3G1g5hPvaOR"
      },
      "source": [
        "#Problem 5\n",
        "### Transcribing DNA to RNA\n"
      ]
    },
    {
      "cell_type": "markdown",
      "source": [
        "http://rosalind.info/problems/rna\n",
        "\n",
        "You may read more about the problem set more here.\n",
        "\n",
        "An RNA string is a string formed from the alphabet containing 'A', 'C', 'G', and 'U'.\n",
        "\n",
        "Given a DNA string t corresponding to a coding strand, its transcribed RNA string u is formed by replacing all occurrences of 'T' in t with 'U' in u.\n",
        "\n",
        "Given: A DNA string t having length at most 1000 nt.\n",
        "\n",
        "Return: The transcribed RNA string of t.\n",
        "\n",
        "\n",
        "Sample Dataset\n",
        "\n",
        "```\n",
        "GATGGAACTTGACTACGTAAATT\n",
        "```\n",
        "Sample Output\n",
        "\n",
        "\n",
        "```\n",
        "GAUGGAACUUGACUACGUAAAUU\n",
        "```"
      ],
      "metadata": {
        "id": "p5t8n15nESrP"
      }
    },
    {
      "cell_type": "code",
      "metadata": {
        "id": "6vE5HKiKvvTt"
      },
      "source": [
        "#Problem 5\n"
      ],
      "execution_count": null,
      "outputs": []
    },
    {
      "cell_type": "markdown",
      "metadata": {
        "id": "lwc8EwVWxMCH"
      },
      "source": [
        "\n",
        "\n",
        "#Problem 6\n",
        "### Complementing a Strand of DNA\n"
      ]
    },
    {
      "cell_type": "markdown",
      "source": [
        "http://rosalind.info/problems/revc\n",
        "\n",
        "In DNA strings, symbols 'A' and 'T' are complements of each other, as are 'C' and 'G'.\n",
        "\n",
        "The reverse complement of a DNA string s is the string sc formed by reversing the symbols of s, then taking the complement of each symbol (e.g., the reverse complement of \"GTCA\" is \"TGAC\").\n",
        "\n",
        "Given: A DNA string s of length at most 1000 bp.\n",
        "\n",
        "Return: The reverse complement s^c of s.\n",
        "\n",
        "\n",
        "Sample Dataset\n",
        "\n",
        "```\n",
        "AAAACCCGGT\n",
        "```\n",
        "Sample Output\n",
        "\n",
        "\n",
        "```\n",
        "ACCGGGTTTT\n",
        "```"
      ],
      "metadata": {
        "id": "Bd-ntZCGEVsH"
      }
    },
    {
      "cell_type": "code",
      "source": [],
      "metadata": {
        "id": "n1IYUc39EWaa"
      },
      "execution_count": null,
      "outputs": []
    },
    {
      "cell_type": "markdown",
      "metadata": {
        "id": "AT9P_LbXx76k"
      },
      "source": [
        "#Problem 7\n",
        "### Processing an Input File\n",
        "\n",
        "\n"
      ]
    },
    {
      "cell_type": "markdown",
      "source": [
        "1. Download file dnainput.txt\n",
        "2. Upload that file to a google drive folder so you know where it is\n",
        "3. Run the code box for connecting colab to your google drive it should look like this when it is complete\n",
        "\n",
        "\n",
        "\n",
        "```\n",
        "Go to this URL in a browser: https://accounts.google.com/o/oauth2/auth?client_id=947318989803-6bn6qk8qdgf4n4g3pfee6491hc0brc4i.apps.googleusercontent.com&redirect_uri=urn%3Aietf%3Awg%3Aoauth%3A2.0%3Aoob&scope=email%20https%3A%2F%2Fwww.googleapis.com%2Fauth%2Fdocs.test%20https%3A%2F%2Fwww.googleapis.com%2Fauth%2Fdrive%20https%3A%2F%2Fwww.googleapis.com%2Fauth%2Fdrive.photos.readonly%20https%3A%2F%2Fwww.googleapis.com%2Fauth%2Fpeopleapi.readonly&response_type=code\n",
        "\n",
        "Enter your authorization code:\n",
        "··········\n",
        "Mounted at /content/drive\n",
        "\n",
        "```\n",
        "4. Run your code box under that\n",
        "\n",
        "In code box 1:\n",
        "Set a variable (call it data) open and read the dnainput.txt file.\n",
        "Print your data\n",
        "\n",
        "In code box 2:\n",
        "Write a code box... you don't have to define a function. Just write python code that opens dnainput.txt. Then create an output file called dnaoutput.txt. Then in the file dnaoutput.txt write code that slices the first 13 characters off every line in the input file and writes that to the output file. This code should also print the length of the new string.\n",
        "\n",
        "In code box 3:\n",
        "Open, read, and print the information in dnaoutput.txt\n",
        "\n",
        "\n",
        "\n",
        "Sample Output Box 1:\n",
        "\n",
        "```\n",
        "ATTCGATTATAAGCTCGATCGATCGATCGATCGATCGATCGATCGATCGATCGATC\n",
        "ATTCGATTATAAGCACTGATCGATCGATCGATCGATCGATGCTATCGTCGT\n",
        "ATTCGATTATAAGCATCGATCACGATCTATCGTACGTATGCATATCGATATCGATCGTAGTC\n",
        "ATTCGATTATAAGCACTATCGATGATCTAGCTACGATCGTAGCTGTA\n",
        "ATTCGATTATAAGCACTAGCTAGTCTCGATGCATGATCAGCTTAGCTGATGATGCTATGCA\n",
        "```\n",
        "Sample Output Box 2:\n",
        "\n",
        "```\n",
        "42\n",
        "37\n",
        "48\n",
        "33\n",
        "47\n",
        "```\n",
        "\n",
        "Sample Output Box 3:\n",
        "\n",
        "```\n",
        "\n",
        "TCGATCGATCGATCGATCGATCGATCGATCGATCGATCGATC\n",
        "ACTGATCGATCGATCGATCGATCGATGCTATCGTCGT\n",
        "ATCGATCACGATCTATCGTACGTATGCATATCGATATCGATCGTAGTC\n",
        "ACTATCGATGATCTAGCTACGATCGTAGCTGTA\n",
        "ACTAGCTAGTCTCGATGCATGATCAGCTTAGCTGATGATGCTATGCA\n",
        "\n",
        "```\n"
      ],
      "metadata": {
        "id": "jd7sG1s1Eacx"
      }
    },
    {
      "cell_type": "code",
      "metadata": {
        "id": "t_OqYQqQ0UpU"
      },
      "source": [
        "#Code box for connecting colab to google drive\n",
        "#ensure code is compatible with both Python 2.7 and 3.5\n",
        "#follow the prompts to\n",
        "from __future__ import print_function, division\n",
        "from google.colab import drive\n",
        "drive.mount('/content/drive')\n"
      ],
      "execution_count": null,
      "outputs": []
    },
    {
      "cell_type": "code",
      "metadata": {
        "id": "eIPSWzZ1wzbu"
      },
      "source": [
        "#Problem 7 Box 1\n"
      ],
      "execution_count": null,
      "outputs": []
    },
    {
      "cell_type": "code",
      "metadata": {
        "id": "Q0p8y95y4bMY"
      },
      "source": [
        "#Problem 7 Box 2\n"
      ],
      "execution_count": null,
      "outputs": []
    },
    {
      "cell_type": "code",
      "metadata": {
        "id": "MSSLMq-J4bWL"
      },
      "source": [
        "#Problem 7 Box 3\n"
      ],
      "execution_count": null,
      "outputs": []
    },
    {
      "cell_type": "markdown",
      "metadata": {
        "id": "lKhiEHHC42fv"
      },
      "source": [
        "Problem 7 EXTRA CREDIT\n",
        "\n",
        "Process an Input File and Get the AC content of each line\n",
        "\n",
        "1. Download file dnainput.txt\n",
        "2. Upload that file to a google drive folder so you know where it is\n",
        "3. Run your code box under that\n",
        "\n",
        "In code box 1:\n",
        "Write a code box that (you may use function you have already written to help here) that reads the AC content of each line and prints that information to an outfile.\n"
      ]
    },
    {
      "cell_type": "code",
      "metadata": {
        "id": "pFyR5m8w47O2"
      },
      "source": [
        "#Problem 7 Extra Credit"
      ],
      "execution_count": null,
      "outputs": []
    }
  ]
}