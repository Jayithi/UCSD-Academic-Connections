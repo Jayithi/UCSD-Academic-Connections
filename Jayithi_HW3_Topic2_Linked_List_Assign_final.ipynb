{
  "nbformat": 4,
  "nbformat_minor": 0,
  "metadata": {
    "colab": {
      "provenance": []
    },
    "kernelspec": {
      "name": "python3",
      "display_name": "Python 3"
    },
    "language_info": {
      "name": "python"
    }
  },
  "cells": [
    {
      "cell_type": "markdown",
      "metadata": {
        "id": "af0fce85"
      },
      "source": [
        "# Linked List"
      ]
    },
    {
      "cell_type": "markdown",
      "source": [
        "## Linked Lists\n",
        "\n",
        "Implementing operations on linked lists is a staple of programming classes and technical interviews.\n",
        "\n",
        "I resist them because it is unlikely that you will ever have to implement a linked list in your professional work. And if you do, someone has made a bad decision.\n",
        "\n",
        "However, they can be good études, that is, pieces that you practice in order to learn, but never perform."
      ],
      "metadata": {
        "id": "espI1YcjEM53"
      }
    },
    {
      "cell_type": "markdown",
      "source": [],
      "metadata": {
        "id": "_cZR5S1nEdKd"
      }
    },
    {
      "cell_type": "markdown",
      "metadata": {
        "id": "jmSUBo9RYRWO"
      },
      "source": [
        "**BEST DEFINITION:**\n",
        "\n",
        "\n",
        "A Python linked list is an abstract data type in Python that allows users to organize information in nodes, which then link to another node in the list. This makes it easier to insert and remove information without changing the index of other items in the list.  "
      ]
    },
    {
      "cell_type": "code",
      "execution_count": null,
      "metadata": {
        "id": "375EBQ9eED7Q"
      },
      "outputs": [],
      "source": [
        "a = [1, 2, 3, 4, 5, 6]\n"
      ]
    },
    {
      "cell_type": "code",
      "source": [
        "#Examples of why linked lists are important\n",
        "\n",
        "a[0]\n",
        "a[3]\n",
        "\n",
        "a.remove(4) # remvoed then it changed the index"
      ],
      "metadata": {
        "id": "9Y0N04QfEkuz"
      },
      "execution_count": null,
      "outputs": []
    },
    {
      "cell_type": "code",
      "source": [
        "a[3] # number returned is changed"
      ],
      "metadata": {
        "id": "OMHRcgaUEvVJ"
      },
      "execution_count": null,
      "outputs": []
    },
    {
      "cell_type": "markdown",
      "source": [
        "As we consider alternatives, some of the factors to keep in mind are:\n",
        "\n",
        "* Performance in terms of time and space.\n",
        "\n",
        "* Readability and demonstrably correctness.\n",
        "\n",
        "In general, performance should be asymptotically efficient; for example, if there is a constant time solution, a linear solution would not be acceptable.\n",
        "But we might be willing to pay some overhead to achieve bulletproof correctness."
      ],
      "metadata": {
        "id": "hE9JqVUzE9qg"
      }
    },
    {
      "cell_type": "markdown",
      "metadata": {
        "id": "7aa7d3f6"
      },
      "source": [
        "Here's the class we'll use to represent the nodes in a list."
      ]
    },
    {
      "cell_type": "code",
      "execution_count": null,
      "metadata": {
        "id": "c3eda892"
      },
      "outputs": [],
      "source": [
        "class Node:\n",
        "    def __init__(self, data, next=None):\n",
        "        self.data = data\n",
        "        self.next = next\n",
        "\n",
        "    def __repr__(self):\n",
        "        return f'Node({self.data}, {repr(self.next)})'"
      ]
    },
    {
      "cell_type": "markdown",
      "metadata": {
        "id": "bbf5ad6f"
      },
      "source": [
        "We can create nodes like this:"
      ]
    },
    {
      "cell_type": "code",
      "execution_count": null,
      "metadata": {
        "tags": [],
        "id": "3eb18535",
        "colab": {
          "base_uri": "https://localhost:8080/"
        },
        "outputId": "39855b7b-2cbc-4c30-992d-ba85619598e0"
      },
      "outputs": [
        {
          "output_type": "execute_result",
          "data": {
            "text/plain": [
              "Node(1, None)"
            ]
          },
          "metadata": {},
          "execution_count": 5
        }
      ],
      "source": [
        "node1 = Node(1)\n",
        "node2 = Node(2)\n",
        "node3 = Node(3)\n",
        "\n",
        "node1"
      ]
    },
    {
      "cell_type": "markdown",
      "metadata": {
        "id": "fdfd0222"
      },
      "source": [
        "And then link them up, like this:"
      ]
    },
    {
      "cell_type": "code",
      "execution_count": null,
      "metadata": {
        "tags": [],
        "id": "80748b5d"
      },
      "outputs": [],
      "source": [
        "node1.next = node2\n",
        "node2.next = node3"
      ]
    },
    {
      "cell_type": "code",
      "execution_count": null,
      "metadata": {
        "id": "29a7ebcc",
        "colab": {
          "base_uri": "https://localhost:8080/"
        },
        "outputId": "4bc284c1-a00f-439a-b0eb-84f051d3e880"
      },
      "outputs": [
        {
          "output_type": "execute_result",
          "data": {
            "text/plain": [
              "Node(1, Node(2, Node(3, None)))"
            ]
          },
          "metadata": {},
          "execution_count": 7
        }
      ],
      "source": [
        "node1"
      ]
    },
    {
      "cell_type": "markdown",
      "metadata": {
        "id": "c0568a9b"
      },
      "source": [
        "There are two ways to think about what `node1` is:\n",
        "\n",
        "* It is \"just\" a node object, which happens to contain a link to another node.\n",
        "\n",
        "* It is the first node in a linked list of nodes.\n",
        "\n",
        "When we pass a node as a parameter, sometimes we think of it as a node and sometimes we think of it as the beginning of a list."
      ]
    },
    {
      "cell_type": "markdown",
      "source": [
        "I know it is easy to look at node1 = 2 and think that it's all that it means but the data inside a node could be ANYTHING. It could be data frames it could be pictures. IT COULD BE ANYTHING. And most likely tou access linked lists everytime you are looking through a collection of images online."
      ],
      "metadata": {
        "id": "4udYc8vkOFxY"
      }
    },
    {
      "cell_type": "markdown",
      "metadata": {
        "id": "f21575f6"
      },
      "source": [
        "## LinkedList objects\n",
        "\n",
        "For some operations, it will be convenient to have another object that represents the whole list (as opposed to one of its nodes).\n",
        "\n",
        "Here's the class definition."
      ]
    },
    {
      "cell_type": "code",
      "execution_count": null,
      "metadata": {
        "id": "f1c32da2"
      },
      "outputs": [],
      "source": [
        "class LinkedList:\n",
        "    def __init__(self, head=None):\n",
        "        self.head = head\n",
        "\n",
        "    def __repr__(self):\n",
        "        return f'LinkedList({repr(self.head)})'"
      ]
    },
    {
      "cell_type": "markdown",
      "metadata": {
        "id": "c41fb536"
      },
      "source": [
        "If we create a `LinkedList` with a reference to `node1`, we can think of the result as a list with three elements."
      ]
    },
    {
      "cell_type": "code",
      "execution_count": null,
      "metadata": {
        "tags": [],
        "id": "f8def755",
        "colab": {
          "base_uri": "https://localhost:8080/"
        },
        "outputId": "e9c92b33-d671-4eea-f4f9-eed34bb45db4"
      },
      "outputs": [
        {
          "output_type": "execute_result",
          "data": {
            "text/plain": [
              "LinkedList(Node(1, Node(2, Node(3, None))))"
            ]
          },
          "metadata": {},
          "execution_count": 9
        }
      ],
      "source": [
        "t = LinkedList(node1)\n",
        "t"
      ]
    },
    {
      "cell_type": "markdown",
      "metadata": {
        "id": "e38e3c31"
      },
      "source": [
        "## Search\n",
        "\n"
      ]
    },
    {
      "cell_type": "markdown",
      "source": [
        "**Exercise 1:** Write a function called `find2` that takes a `LinkedList` and a target value; if the target value appears in the `LinkedList`, it should return the `Node` that contains it; otherwise it should return `None`. Try to do this without adding attributes to `Node` class"
      ],
      "metadata": {
        "id": "n5kcyaBVJEio"
      }
    },
    {
      "cell_type": "code",
      "source": [
        "# Exercise 1 answer\n"
      ],
      "metadata": {
        "id": "V0GTWlh5S0im"
      },
      "execution_count": null,
      "outputs": []
    },
    {
      "cell_type": "code",
      "source": [
        "# use data to get information on the node"
      ],
      "metadata": {
        "id": "cjtrb6H-Luiu"
      },
      "execution_count": null,
      "outputs": []
    },
    {
      "cell_type": "code",
      "execution_count": null,
      "metadata": {
        "id": "415369b0"
      },
      "outputs": [],
      "source": [
        "find2(t, 1)"
      ]
    },
    {
      "cell_type": "code",
      "execution_count": null,
      "metadata": {
        "id": "320aa238"
      },
      "outputs": [],
      "source": [
        "find2(t, 3)"
      ]
    },
    {
      "cell_type": "code",
      "execution_count": null,
      "metadata": {
        "id": "70165057"
      },
      "outputs": [],
      "source": [
        "find2(t, 5)"
      ]
    },
    {
      "cell_type": "markdown",
      "source": [
        "These websites will help you. In class I wasn't able to write a function (that was not an attribute of the linkedlist class). But I have used the links below and some good ole finger grease to write a function that does it. Usually it would be step one to find a function that does it and then include it as an attribute."
      ],
      "metadata": {
        "id": "XhPsAfScHBk3"
      }
    },
    {
      "cell_type": "markdown",
      "source": [
        "https://www.tutorialspoint.com/python_data_structure/python_linked_lists.htm#Links to an external site.\n",
        "\n",
        "https://towardsdatascience.com/python-linked-lists-c3622205da81Links to an external site.\n",
        "\n",
        "https://www.geeksforgeeks.org/python-program-for-searching-an-element-in-a-linked-list/Links to an external site.\n",
        "\n",
        "https://builtin.com/data-science/python-linked-listLinks to an external site.\n",
        "\n",
        "https://www.alphacodingskills.com/python/ds/python-linked-list-search-an-element.phpLinks to an external site.\n"
      ],
      "metadata": {
        "id": "UNx2Ls2zG7rU"
      }
    },
    {
      "cell_type": "markdown",
      "source": [
        "**Exercise 2:** Add, as an attribute called `find` , the function you wrote to a class called  `LinkedList2` that includes the functionality of your class called `LinkedList` and does the same thing as your function above but acts as an attribute of your class. At this point you may add functionality to your `Node` class to make your code more simple.\n",
        "\n",
        "You can store a linkedlist in `t2` for clarity. This answer should be in more clearly in links above. You do not have to include all the functionalities listed under the Node or LinkedList Class at the moment. A"
      ],
      "metadata": {
        "id": "Eu-NuQ1gJF-P"
      }
    },
    {
      "cell_type": "code",
      "source": [
        "class Node2:\n",
        "# include old attributes or add new ones to make your life easier\n"
      ],
      "metadata": {
        "id": "bY1aQ8KOOqj-"
      },
      "execution_count": null,
      "outputs": []
    },
    {
      "cell_type": "code",
      "source": [
        "nodeA = Node2(1)\n",
        "nodeB = Node2(2)\n",
        "nodeC = Node2(3)\n",
        "\n",
        "nodeA"
      ],
      "metadata": {
        "colab": {
          "base_uri": "https://localhost:8080/"
        },
        "id": "PbMkw5ipO7Jm",
        "outputId": "7d53a87c-1514-430c-9d2b-54eb0092c5d0"
      },
      "execution_count": null,
      "outputs": [
        {
          "output_type": "execute_result",
          "data": {
            "text/plain": [
              "Node(1, None)"
            ]
          },
          "metadata": {},
          "execution_count": 50
        }
      ]
    },
    {
      "cell_type": "code",
      "source": [
        "nodeA.next = nodeB\n",
        "nodeB.next = nodeC"
      ],
      "metadata": {
        "id": "TLYreJexPqw8"
      },
      "execution_count": null,
      "outputs": []
    },
    {
      "cell_type": "code",
      "source": [
        "class LinkedList2:\n"
      ],
      "metadata": {
        "id": "oavKKxnXOs5h"
      },
      "execution_count": null,
      "outputs": []
    },
    {
      "cell_type": "code",
      "source": [
        "t2 = LinkedList2(nodeA)"
      ],
      "metadata": {
        "id": "a5RqMdTvQl1K"
      },
      "execution_count": null,
      "outputs": []
    },
    {
      "cell_type": "code",
      "execution_count": null,
      "metadata": {
        "colab": {
          "base_uri": "https://localhost:8080/"
        },
        "id": "USLajOwjKKa5",
        "outputId": "761844e2-240f-469b-e6c3-260dc6a6bd4e"
      },
      "outputs": [
        {
          "output_type": "execute_result",
          "data": {
            "text/plain": [
              "Node(1, Node(2, Node(3, None)))"
            ]
          },
          "metadata": {},
          "execution_count": 54
        }
      ],
      "source": [
        "t2.find(1)"
      ]
    },
    {
      "cell_type": "code",
      "execution_count": null,
      "metadata": {
        "colab": {
          "base_uri": "https://localhost:8080/"
        },
        "id": "7oOq5BfjKKa6",
        "outputId": "128939d6-c458-430f-a212-c87ee43151b3"
      },
      "outputs": [
        {
          "output_type": "execute_result",
          "data": {
            "text/plain": [
              "Node(3, None)"
            ]
          },
          "metadata": {},
          "execution_count": 55
        }
      ],
      "source": [
        "t2.find(3)"
      ]
    },
    {
      "cell_type": "code",
      "execution_count": null,
      "metadata": {
        "id": "89ccdQx7KKa6"
      },
      "outputs": [],
      "source": [
        "t2.find(5)"
      ]
    },
    {
      "cell_type": "code",
      "source": [
        "# Try your find2 function on your new type of node does it work the same way\n",
        "# you may especially if borrowing code from links have to be very careful about what you call your attributes\n",
        "\n",
        "\n",
        "find2(t2, 5)\n",
        "\n"
      ],
      "metadata": {
        "id": "EmEO4MtYQ55w"
      },
      "execution_count": null,
      "outputs": []
    },
    {
      "cell_type": "markdown",
      "metadata": {
        "id": "44af708a"
      },
      "source": [
        "## Push and Pop\n",
        "\n",
        "Adding and removing elements from the *left* side of a linked list is relatively easy:"
      ]
    },
    {
      "cell_type": "code",
      "source": [
        "t3 = t2"
      ],
      "metadata": {
        "id": "ea6u-ETtLe89"
      },
      "execution_count": null,
      "outputs": []
    },
    {
      "cell_type": "code",
      "execution_count": null,
      "metadata": {
        "tags": [],
        "id": "7b522c71"
      },
      "outputs": [],
      "source": [
        "def lpush(t, value):\n",
        "    t.head = Node(value, t.head)"
      ]
    },
    {
      "cell_type": "code",
      "source": [
        "t2"
      ],
      "metadata": {
        "id": "oehfu667Ujlk",
        "outputId": "37d6d8b0-efea-4361-ab5e-adaf42b50d2f",
        "colab": {
          "base_uri": "https://localhost:8080/"
        }
      },
      "execution_count": null,
      "outputs": [
        {
          "output_type": "execute_result",
          "data": {
            "text/plain": [
              "LinkedList(Node(1, Node(2, Node(3, None))))"
            ]
          },
          "metadata": {},
          "execution_count": 102
        }
      ]
    },
    {
      "cell_type": "code",
      "source": [
        "t3"
      ],
      "metadata": {
        "id": "iSAhZeB0Uoev",
        "outputId": "1e4c5b98-cc9c-472f-e889-34c9325e1b2a",
        "colab": {
          "base_uri": "https://localhost:8080/"
        }
      },
      "execution_count": null,
      "outputs": [
        {
          "output_type": "execute_result",
          "data": {
            "text/plain": [
              "LinkedList(Node(1, Node(2, Node(3, None))))"
            ]
          },
          "metadata": {},
          "execution_count": 103
        }
      ]
    },
    {
      "cell_type": "code",
      "execution_count": null,
      "metadata": {
        "tags": [],
        "id": "9ee37b46"
      },
      "outputs": [],
      "source": [
        "# Showing  you anything can go in linked lists\n",
        "\n",
        "lpush(t3, [1, 2, 3])\n",
        "lpush(t3, [3, 5, 7])\n",
        "lpush(t3, [7, 14, 21])\n",
        "\n",
        "t3"
      ]
    },
    {
      "cell_type": "code",
      "source": [
        "# Remember that setting variables only links an object to a variable\n",
        "# so even though we are changing t3 it actually impacts the real object t2\n",
        "# this is different with dataframes\n",
        "\n",
        "t2"
      ],
      "metadata": {
        "id": "VorDjQTsY9A0"
      },
      "execution_count": null,
      "outputs": []
    },
    {
      "cell_type": "code",
      "execution_count": null,
      "metadata": {
        "tags": [],
        "id": "541d2764"
      },
      "outputs": [],
      "source": [
        "def lpop(t):\n",
        "    if t.head is None:\n",
        "        raise ValueError('Tried to pop from empty LinkedList')\n",
        "    node = t.head\n",
        "    t.head = node.next\n",
        "    return node.data"
      ]
    },
    {
      "cell_type": "code",
      "execution_count": null,
      "metadata": {
        "tags": [],
        "id": "091cf27c"
      },
      "outputs": [],
      "source": [
        "lpop(t3), lpop(t3), lpop(t3)"
      ]
    },
    {
      "cell_type": "code",
      "source": [
        "lpop(t3), lpop(t3), lpop(t3)"
      ],
      "metadata": {
        "id": "1W_mNkcdV80c"
      },
      "execution_count": null,
      "outputs": []
    },
    {
      "cell_type": "code",
      "source": [
        "lpop(t3)"
      ],
      "metadata": {
        "id": "orymUNgIVzSP"
      },
      "execution_count": null,
      "outputs": []
    },
    {
      "cell_type": "code",
      "source": [
        "t2"
      ],
      "metadata": {
        "id": "db0fiJGaY3VN"
      },
      "execution_count": null,
      "outputs": []
    },
    {
      "cell_type": "markdown",
      "metadata": {
        "id": "82eaab11"
      },
      "source": [
        "\n",
        "\n",
        "**Exercise 3:** Write `rpush` and `rpop`. Adding and removing from the end right side take longer because we have to traverse the list. You may write this as a function. Or as an attribute of `LinkedList3`\n",
        "\n",
        "\n",
        "If you choose to add it as an attribute.\n",
        "You may need to add an attribute to LinkedList `__init__` called self.last_node to make this work.\n",
        "\n",
        "But it is possible to do it without it."
      ]
    },
    {
      "cell_type": "code",
      "source": [
        "class LinkedList3:\n"
      ],
      "metadata": {
        "id": "PZhKhiO5a6MC"
      },
      "execution_count": null,
      "outputs": []
    },
    {
      "cell_type": "code",
      "source": [
        "t4 = LinkedList3(nodeA)"
      ],
      "metadata": {
        "id": "XyvRVvdda6MD"
      },
      "execution_count": null,
      "outputs": []
    },
    {
      "cell_type": "code",
      "source": [
        "t4.rpush({1, 2, 3, 4})\n",
        "t4"
      ],
      "metadata": {
        "id": "X_ZmErZoZ4Jd"
      },
      "execution_count": null,
      "outputs": []
    },
    {
      "cell_type": "code",
      "source": [
        "def rpush(self, newElement):\n"
      ],
      "metadata": {
        "id": "25Z0xT-WZVIu"
      },
      "execution_count": null,
      "outputs": []
    },
    {
      "cell_type": "code",
      "source": [
        "rpush(t4, \"a\")\n",
        "t2"
      ],
      "metadata": {
        "id": "Loh5DAFVWUIc"
      },
      "execution_count": null,
      "outputs": []
    },
    {
      "cell_type": "markdown",
      "metadata": {
        "id": "4c3b6a6c"
      },
      "source": [
        "## Reverse\n",
        "\n",
        "Reversing a linked list is a classic interview question, although at this point it is so classic you will probably never encounter it.\n",
        "\n",
        "But it is still a good exercise, in part because there are so many ways to do it. My solutions here are based on [this tutorial](https://www.geeksforgeeks.org/reverse-a-linked-list/)."
      ]
    },
    {
      "cell_type": "markdown",
      "metadata": {
        "id": "0c1dc751"
      },
      "source": [
        "If you are allowed to make a new list, you can traverse the old list and `lpush` the elements onto the new list:"
      ]
    },
    {
      "cell_type": "code",
      "execution_count": null,
      "metadata": {
        "id": "8e09adea"
      },
      "outputs": [],
      "source": [
        "def reverse(t):\n",
        "    t2 = LinkedList()\n",
        "    node = t.head\n",
        "    while node:\n",
        "        lpush(t2, node.data)\n",
        "        node = node.next\n",
        "\n",
        "    return t2"
      ]
    },
    {
      "cell_type": "code",
      "source": [
        "t"
      ],
      "metadata": {
        "id": "Frlc4Wraeajk",
        "outputId": "3c540922-8294-4f44-a653-231a26cde3b0",
        "colab": {
          "base_uri": "https://localhost:8080/"
        }
      },
      "execution_count": null,
      "outputs": [
        {
          "output_type": "execute_result",
          "data": {
            "text/plain": [
              "LinkedList(Node(1, Node(2, Node(3, None))))"
            ]
          },
          "metadata": {},
          "execution_count": 124
        }
      ]
    },
    {
      "cell_type": "code",
      "execution_count": null,
      "metadata": {
        "id": "fd9fcc52",
        "outputId": "32975126-811b-44bd-aef9-e90464a4250f",
        "colab": {
          "base_uri": "https://localhost:8080/"
        }
      },
      "outputs": [
        {
          "output_type": "execute_result",
          "data": {
            "text/plain": [
              "LinkedList(Node(3, Node(2, Node(1, None))))"
            ]
          },
          "metadata": {},
          "execution_count": 123
        }
      ],
      "source": [
        "t = LinkedList(Node(1, Node(2, Node(3, None))))\n",
        "reverse(t)"
      ]
    },
    {
      "cell_type": "markdown",
      "metadata": {
        "id": "650cd970"
      },
      "source": [
        "Here's a recursive version that doesn't allocate anything"
      ]
    },
    {
      "cell_type": "code",
      "execution_count": null,
      "metadata": {
        "id": "39ecaac5"
      },
      "outputs": [],
      "source": [
        "def reverse(t):\n",
        "    t.head = reverse_rec(t.head)\n",
        "\n",
        "def reverse_rec(node):\n",
        "\n",
        "    # if there are 0 or 1 nodes\n",
        "    if node is None or node.next is None:\n",
        "        return node\n",
        "\n",
        "    # reverse the rest LinkedList\n",
        "    rest = reverse_rec(node.next)\n",
        "\n",
        "    # Put first element at the end\n",
        "    node.next.next = node\n",
        "    node.next = None\n",
        "\n",
        "    return rest"
      ]
    },
    {
      "cell_type": "code",
      "execution_count": null,
      "metadata": {
        "id": "a1b1c5b4",
        "outputId": "ee1b5573-ecbb-4701-f2bb-80ab049399d3",
        "colab": {
          "base_uri": "https://localhost:8080/"
        }
      },
      "outputs": [
        {
          "output_type": "execute_result",
          "data": {
            "text/plain": [
              "LinkedList(Node(3, Node(p, Node(a, None))))"
            ]
          },
          "metadata": {},
          "execution_count": 127
        }
      ],
      "source": [
        "t = LinkedList(Node(\"a\", Node(\"p\", Node(3, None))))\n",
        "reverse(t)\n",
        "t"
      ]
    },
    {
      "cell_type": "markdown",
      "metadata": {
        "id": "24e735a0"
      },
      "source": [
        "And finally an iterative version that doesn't allocate anything."
      ]
    },
    {
      "cell_type": "code",
      "execution_count": null,
      "metadata": {
        "id": "a99a76d9"
      },
      "outputs": [],
      "source": [
        "def reverse(t):\n",
        "    prev = None\n",
        "    current = t.head\n",
        "    while current :\n",
        "        next = current.next\n",
        "        current.next = prev\n",
        "        prev = current\n",
        "        current = next\n",
        "    t.head = prev"
      ]
    },
    {
      "cell_type": "code",
      "execution_count": null,
      "metadata": {
        "id": "bfe8841a",
        "outputId": "37e13a68-43ad-48fc-c6a9-da3ce1cd6c91",
        "colab": {
          "base_uri": "https://localhost:8080/"
        }
      },
      "outputs": [
        {
          "output_type": "execute_result",
          "data": {
            "text/plain": [
              "LinkedList(Node(3, Node(2, Node(1, None))))"
            ]
          },
          "metadata": {},
          "execution_count": 129
        }
      ],
      "source": [
        "t = LinkedList(Node(1, Node(2, Node(3, None))))\n",
        "reverse(t)\n",
        "t"
      ]
    },
    {
      "cell_type": "markdown",
      "metadata": {
        "id": "cf2e89ec"
      },
      "source": [
        "## Remove\n",
        "\n",
        "One of the advantages of a linked list (compared to an array list) is that we can add and remove elements from the middle of the list in constant time.\n",
        "\n",
        "For example, the following function takes a node and removes the node that follows it."
      ]
    },
    {
      "cell_type": "code",
      "execution_count": null,
      "metadata": {
        "id": "9b7d0ef5"
      },
      "outputs": [],
      "source": [
        "def remove_after(node):\n",
        "    removed = node.next\n",
        "    node.next = node.next.next\n",
        "    return removed.data"
      ]
    },
    {
      "cell_type": "markdown",
      "metadata": {
        "id": "2e0f3d2b"
      },
      "source": [
        "Here's an example:"
      ]
    },
    {
      "cell_type": "code",
      "execution_count": null,
      "metadata": {
        "id": "fbb1598d"
      },
      "outputs": [],
      "source": [
        "t = LinkedList(Node(1, Node(2, Node(3, None))))\n",
        "remove_after(t.head)\n",
        "t"
      ]
    },
    {
      "cell_type": "markdown",
      "metadata": {
        "id": "2208f44f"
      },
      "source": [
        "**Exercise 4:** Write a function called `remove_bykey` that takes a LinkedList and a target value. It should remove the first node that contains the value, or raise a `ValueError` if it is not found.\n",
        "\n",
        "Hint: This one is a little tricky.\n",
        "\n",
        "This is going to help you remove a value...but it won't helpy you raise the value error\n",
        "\n",
        "you can also try adding a normal remove function\n",
        "\n",
        "https://www.alphacodingskills.com/python/ds/python-delete-first-node-by-key-of-the-linked-list.php"
      ]
    },
    {
      "cell_type": "code",
      "source": [
        "def remove(self, position):"
      ],
      "metadata": {
        "id": "rHTOoINJfHZy"
      },
      "execution_count": null,
      "outputs": []
    },
    {
      "cell_type": "code",
      "source": [
        "def remove_bykey(self, key):\n"
      ],
      "metadata": {
        "id": "f1AXixP4fv7J"
      },
      "execution_count": null,
      "outputs": []
    },
    {
      "cell_type": "code",
      "source": [
        "t3"
      ],
      "metadata": {
        "id": "caLEF80NfJ6D"
      },
      "execution_count": null,
      "outputs": []
    },
    {
      "cell_type": "code",
      "source": [
        "remove_bykey(t3, 3)"
      ],
      "metadata": {
        "id": "wxiXNJc9fMxG"
      },
      "execution_count": null,
      "outputs": []
    },
    {
      "cell_type": "code",
      "source": [
        "remove_bykey(t3, [7,14, 21])"
      ],
      "metadata": {
        "id": "p6OG0MerfdJ5"
      },
      "execution_count": null,
      "outputs": []
    },
    {
      "cell_type": "code",
      "source": [
        "t3"
      ],
      "metadata": {
        "id": "ZAA_X6hGfZY_"
      },
      "execution_count": null,
      "outputs": []
    },
    {
      "cell_type": "markdown",
      "metadata": {
        "id": "ab7f0a6a"
      },
      "source": [
        "## Insert Sorted\n",
        "\n",
        "Similarly, you can insert an element into the middle of a linked list in constant time.\n",
        "\n",
        "The following function inserts `data` after the given node in a list."
      ]
    },
    {
      "cell_type": "code",
      "execution_count": null,
      "metadata": {
        "id": "3e754808"
      },
      "outputs": [],
      "source": [
        "def insert_after(node, data):\n",
        "    node.next = Node(data, node.next)"
      ]
    },
    {
      "cell_type": "code",
      "execution_count": null,
      "metadata": {
        "id": "c8022b07"
      },
      "outputs": [],
      "source": [
        "t = LinkedList(Node(1, Node(2, Node(3, None))))\n",
        "insert_after(t.head, 5)\n",
        "t"
      ]
    },
    {
      "cell_type": "markdown",
      "metadata": {
        "id": "5f2a2a1c"
      },
      "source": [
        "**Exercise 5:** Add as an attribute a function called `insert_sorted` (also known as `insort`) that takes a linked list and a value and inserts the value in the list in the first place where it will be in increasing sorted order, that is, with the smallest element at the beginning.\n",
        "\n",
        "I would name this as a different named Linked List4 for clarity, also remember to include `self.next` as a functionality"
      ]
    },
    {
      "cell_type": "code",
      "source": [
        "class LinkedList4:\n",
        "\n",
        "    # Function to initialize head\n",
        "    def __init__(self):\n",
        "        self.head = None\n",
        "        self.next = None\n",
        "\n",
        "    def sortedInsert(self, new_node):\n",
        "\n",
        "        # Special case for the empty linked list\n",
        "        if self.head is None:\n",
        "            new_node.next = self.head\n",
        "            self.head = new_node\n",
        "\n",
        "        # Special case for head at end\n",
        "        elif self.head.data >= new_node.data:\n",
        "            new_node.next = self.head\n",
        "            self.head = new_node\n",
        "\n",
        "        else :\n",
        "\n",
        "            # Locate the node before the point of insertion\n",
        "            current = self.head\n",
        "            while(current.next is not None and\n",
        "                 current.next.data < new_node.data):\n",
        "                current = current.next\n",
        "\n",
        "            new_node.next = current.next\n",
        "            current.next = new_node\n",
        "\n",
        "    # Function to insert a new node at the beginning\n",
        "    def push(self, new_data):\n",
        "        new_node = Node(new_data)\n",
        "        new_node.next = self.head\n",
        "        self.head = new_node\n",
        "\n",
        "\n",
        "    def __repr__(self):\n",
        "        return f'LinkedList({repr(self.head)})'"
      ],
      "metadata": {
        "id": "5DOpSKqPlOVO"
      },
      "execution_count": null,
      "outputs": []
    },
    {
      "cell_type": "code",
      "source": [
        "t6 = LinkedList4()\n"
      ],
      "metadata": {
        "id": "IeseDEOeli4y"
      },
      "execution_count": null,
      "outputs": []
    },
    {
      "cell_type": "code",
      "source": [
        "t6"
      ],
      "metadata": {
        "id": "0SuBThtHl1Qr"
      },
      "execution_count": null,
      "outputs": []
    },
    {
      "cell_type": "code",
      "source": [
        "t6.push(100)\n",
        "t6.push(120)\n",
        "t6.push(130)\n",
        "t6.push(175)\n",
        "t6.push(2000)\n",
        "t6"
      ],
      "metadata": {
        "id": "h2bS2FhVmGHo"
      },
      "execution_count": null,
      "outputs": []
    },
    {
      "cell_type": "code",
      "source": [
        "new_node1= Node2(2001)\n",
        "new_node2 = Node2(2002)\n",
        "new_node3 = Node2(125)\n",
        "new_node4 = Node2(121)\n",
        "\n",
        "\n",
        "t6.sortedInsert(new_node1)\n",
        "t6"
      ],
      "metadata": {
        "id": "uuYIf7rV8hLe"
      },
      "execution_count": null,
      "outputs": []
    },
    {
      "cell_type": "code",
      "source": [
        "t6.sortedInsert(new_node4)\n",
        "t6"
      ],
      "metadata": {
        "id": "_ZuiM30wBNVk"
      },
      "execution_count": null,
      "outputs": []
    },
    {
      "cell_type": "code",
      "source": [
        "new_node5 = Node2(3000)\n",
        "new_node6 = Node2(176)"
      ],
      "metadata": {
        "id": "6heAjql8Bp9P"
      },
      "execution_count": null,
      "outputs": []
    },
    {
      "cell_type": "code",
      "source": [
        "t6.sortedInsert(new_node5)"
      ],
      "metadata": {
        "id": "UeYNIzmWBvHX"
      },
      "execution_count": null,
      "outputs": []
    },
    {
      "cell_type": "code",
      "source": [
        "t6.sortedInsert(new_node6)"
      ],
      "metadata": {
        "id": "qNfLU52yB8yz"
      },
      "execution_count": null,
      "outputs": []
    },
    {
      "cell_type": "code",
      "source": [
        "t6"
      ],
      "metadata": {
        "id": "XD6UBh6MCAFx"
      },
      "execution_count": null,
      "outputs": []
    },
    {
      "cell_type": "code",
      "source": [
        "new_node7 = Node2(178)\n",
        "t6.sortedInsert(new_node7)"
      ],
      "metadata": {
        "id": "ATinq5G6CDT4"
      },
      "execution_count": null,
      "outputs": []
    },
    {
      "cell_type": "code",
      "source": [
        "t6"
      ],
      "metadata": {
        "id": "v0fgWVACCMTr"
      },
      "execution_count": null,
      "outputs": []
    },
    {
      "cell_type": "code",
      "source": [
        "t3 = LinkedList4()"
      ],
      "metadata": {
        "id": "hKIqvhF8_NtH"
      },
      "execution_count": null,
      "outputs": []
    },
    {
      "cell_type": "code",
      "source": [
        "t3.sortedInsert(new_node1)\n",
        "t3.sortedInsert(new_node3)"
      ],
      "metadata": {
        "id": "8O7uykt3_VVO"
      },
      "execution_count": null,
      "outputs": []
    },
    {
      "cell_type": "code",
      "source": [
        "t3"
      ],
      "metadata": {
        "id": "EAkdNQHgA6Ju"
      },
      "execution_count": null,
      "outputs": []
    },
    {
      "cell_type": "code",
      "source": [
        "t3.sortedInsert(new_node2)"
      ],
      "metadata": {
        "id": "cOzzZqvEBEbl"
      },
      "execution_count": null,
      "outputs": []
    },
    {
      "cell_type": "code",
      "source": [
        "t3"
      ],
      "metadata": {
        "id": "poqle4yTBIV-"
      },
      "execution_count": null,
      "outputs": []
    },
    {
      "cell_type": "markdown",
      "source": [
        "## Make a complete Linked List\n",
        "\n",
        "**Exercise 6:** Make a `Node` class and a `LinkedList` class with the best and most functionality that you can. Please demonstrate the features. You can also include small explanations for why you included different pieces. Make sure to name your pieces correctly. A lot of the examples oscillate between data or val, or have different names for variables.\n",
        "\n",
        "For example: I think the `__repr__` methods are indispensable but other exmamples didn't include it."
      ],
      "metadata": {
        "id": "JzRtnLFXC5XD"
      }
    }
  ]
}