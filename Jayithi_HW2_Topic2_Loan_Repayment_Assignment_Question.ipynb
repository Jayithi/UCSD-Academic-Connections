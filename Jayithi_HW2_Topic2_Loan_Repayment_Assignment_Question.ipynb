{
  "cells": [
    {
      "cell_type": "markdown",
      "metadata": {
        "papermill": {
          "duration": 0.021928,
          "end_time": "2020-09-08T03:15:55.361283",
          "exception": false,
          "start_time": "2020-09-08T03:15:55.339355",
          "status": "completed"
        },
        "tags": [],
        "id": "vdJ2E_GpWh_A"
      },
      "source": [
        "# Predicting Loan Repayment\n",
        "\n",
        "\n",
        "The dataset for this project is retrieved from kaggle, the home of Data Science.\n",
        "\n",
        "The major aim of this project is to predict whether the customers will have their loan paid or not. Therefore, this is a supervised classification problem to be trained."
      ]
    },
    {
      "cell_type": "markdown",
      "metadata": {
        "papermill": {
          "duration": 0.02001,
          "end_time": "2020-09-08T03:15:55.401984",
          "exception": false,
          "start_time": "2020-09-08T03:15:55.381974",
          "status": "completed"
        },
        "tags": [],
        "id": "IFl_mj9SWh_G"
      },
      "source": [
        "### **1- Importing Libraries**"
      ]
    },
    {
      "cell_type": "code",
      "source": [
        "# Import the following Libraries\n",
        "# numpy\n",
        "# pandas\n",
        "# matplotlib plotting software\n",
        "# seaborn \n",
        "# Make matplotlib available through all code boxes\n",
        "\n",
        "# From Sklearn you'll have to look up from where here. \n",
        "# Label Encoder, train test split, logisitic regression, confusion_matrix, classification_report,accuracy_score\n",
        "# DecisionTreeClassifier, RandomForestClassifier, KNeighborsClassifier,  SVC, GridSearchCV\n",
        "\n",
        "# Plotly Express\n",
        "\n",
        "\n"
      ],
      "metadata": {
        "id": "RJf_vc5mXYOu"
      },
      "execution_count": null,
      "outputs": []
    },
    {
      "cell_type": "markdown",
      "metadata": {
        "papermill": {
          "duration": 0.0203,
          "end_time": "2020-09-08T03:15:58.543518",
          "exception": false,
          "start_time": "2020-09-08T03:15:58.523218",
          "status": "completed"
        },
        "tags": [],
        "id": "T-E5wmDvWh_J"
      },
      "source": [
        "### **2- Getting Data**"
      ]
    },
    {
      "cell_type": "code",
      "execution_count": null,
      "metadata": {
        "execution": {
          "iopub.execute_input": "2020-09-08T03:15:58.596255Z",
          "iopub.status.busy": "2020-09-08T03:15:58.594912Z",
          "iopub.status.idle": "2020-09-08T03:15:58.615955Z",
          "shell.execute_reply": "2020-09-08T03:15:58.616654Z"
        },
        "papermill": {
          "duration": 0.052871,
          "end_time": "2020-09-08T03:15:58.616870",
          "exception": false,
          "start_time": "2020-09-08T03:15:58.563999",
          "status": "completed"
        },
        "tags": [],
        "id": "GAVriiMfWh_J"
      },
      "outputs": [],
      "source": [
        "# read the data from the csv into a dataframe"
      ]
    },
    {
      "cell_type": "code",
      "source": [
        "# show the top 4 lines of the dataframe"
      ],
      "metadata": {
        "id": "v_MnpyhgYe2D"
      },
      "execution_count": null,
      "outputs": []
    },
    {
      "cell_type": "code",
      "source": [
        "# show the shape of the dataframe"
      ],
      "metadata": {
        "id": "5n1cMzdWYmZJ"
      },
      "execution_count": null,
      "outputs": []
    },
    {
      "cell_type": "markdown",
      "metadata": {
        "papermill": {
          "duration": 0.02076,
          "end_time": "2020-09-08T03:15:58.836898",
          "exception": false,
          "start_time": "2020-09-08T03:15:58.816138",
          "status": "completed"
        },
        "tags": [],
        "id": "5SpbLalUWh_M"
      },
      "source": [
        "##### 2-1-Renaming columns"
      ]
    },
    {
      "cell_type": "code",
      "execution_count": null,
      "metadata": {
        "execution": {
          "iopub.execute_input": "2020-09-08T03:15:58.887370Z",
          "iopub.status.busy": "2020-09-08T03:15:58.886315Z",
          "iopub.status.idle": "2020-09-08T03:15:58.889371Z",
          "shell.execute_reply": "2020-09-08T03:15:58.889919Z"
        },
        "papermill": {
          "duration": 0.031593,
          "end_time": "2020-09-08T03:15:58.890108",
          "exception": false,
          "start_time": "2020-09-08T03:15:58.858515",
          "status": "completed"
        },
        "tags": [],
        "id": "grieYHdSWh_M"
      },
      "outputs": [],
      "source": [
        "df.columns=df.columns.str.lower()"
      ]
    },
    {
      "cell_type": "code",
      "source": [
        "# rename all the columns as lowercase strings\n"
      ],
      "metadata": {
        "id": "bwXmuEzNYrie"
      },
      "execution_count": null,
      "outputs": []
    },
    {
      "cell_type": "code",
      "source": [
        "# rename all the columns so that they all have _ in between any column head with two or more words"
      ],
      "metadata": {
        "id": "brnUDnNcZc4f"
      },
      "execution_count": null,
      "outputs": []
    },
    {
      "cell_type": "markdown",
      "metadata": {
        "papermill": {
          "duration": 0.0218,
          "end_time": "2020-09-08T03:15:58.989112",
          "exception": false,
          "start_time": "2020-09-08T03:15:58.967312",
          "status": "completed"
        },
        "tags": [],
        "id": "ijuPuoFlWh_O"
      },
      "source": [
        "##### 2-2-Checking null values"
      ]
    },
    {
      "cell_type": "code",
      "source": [
        "# Check all the columns to see if they have null values (NaN) and sum them"
      ],
      "metadata": {
        "id": "Fsp_w-9OZmGr"
      },
      "execution_count": null,
      "outputs": []
    },
    {
      "cell_type": "markdown",
      "metadata": {
        "papermill": {
          "duration": 0.021552,
          "end_time": "2020-09-08T03:15:59.091701",
          "exception": false,
          "start_time": "2020-09-08T03:15:59.070149",
          "status": "completed"
        },
        "tags": [],
        "id": "7xm8-x-FWh_P"
      },
      "source": [
        "we take care of missing values in \"loan_amount\" and \"credit_history\".\n",
        "For other null values, we either delete a particular row if it has a null value for a particular feature and a particular column if it has more than 70-75% of missing values. This method is advised only when there are enough samples in the data set. "
      ]
    },
    {
      "cell_type": "code",
      "execution_count": null,
      "metadata": {
        "execution": {
          "iopub.execute_input": "2020-09-08T03:15:59.142140Z",
          "iopub.status.busy": "2020-09-08T03:15:59.141318Z",
          "iopub.status.idle": "2020-09-08T03:15:59.144823Z",
          "shell.execute_reply": "2020-09-08T03:15:59.144224Z"
        },
        "papermill": {
          "duration": 0.031739,
          "end_time": "2020-09-08T03:15:59.144958",
          "exception": false,
          "start_time": "2020-09-08T03:15:59.113219",
          "status": "completed"
        },
        "tags": [],
        "id": "kuTnpWmkWh_Q"
      },
      "outputs": [],
      "source": [
        "df['loan_amount']=df['loan_amount'].fillna(df['loan_amount'].mean())   "
      ]
    },
    {
      "cell_type": "code",
      "source": [
        "# fill the null values in the loan amount column with the mean of the loan amount  column"
      ],
      "metadata": {
        "id": "EEBm3PquZ8vm"
      },
      "execution_count": null,
      "outputs": []
    },
    {
      "cell_type": "code",
      "source": [
        "# fill the null values in the  credit history column with the median of the credit history column"
      ],
      "metadata": {
        "id": "FIsd_oQ6aHEy"
      },
      "execution_count": null,
      "outputs": []
    },
    {
      "cell_type": "code",
      "execution_count": null,
      "metadata": {
        "execution": {
          "iopub.execute_input": "2020-09-08T03:15:59.253265Z",
          "iopub.status.busy": "2020-09-08T03:15:59.252455Z",
          "iopub.status.idle": "2020-09-08T03:15:59.289669Z",
          "shell.execute_reply": "2020-09-08T03:15:59.288991Z"
        },
        "papermill": {
          "duration": 0.068028,
          "end_time": "2020-09-08T03:15:59.289838",
          "exception": false,
          "start_time": "2020-09-08T03:15:59.221810",
          "status": "completed"
        },
        "tags": [],
        "id": "zTDC0GWGWh_Q"
      },
      "outputs": [],
      "source": [
        "df.dropna(axis=0, inplace=True)\n",
        "\n",
        "# write down what this column does"
      ]
    },
    {
      "cell_type": "markdown",
      "source": [
        ""
      ],
      "metadata": {
        "id": "LSAnzVlsaY6_"
      }
    },
    {
      "cell_type": "code",
      "source": [
        "# prove there are no more null values in the columns using the same command as above"
      ],
      "metadata": {
        "id": "55gRaRUPaiw_"
      },
      "execution_count": null,
      "outputs": []
    },
    {
      "cell_type": "code",
      "source": [
        "# show the top 4 lines of the dataframe"
      ],
      "metadata": {
        "id": "ePeUVyJNaq50"
      },
      "execution_count": null,
      "outputs": []
    },
    {
      "cell_type": "code",
      "source": [
        "# show the new shape of the dataframe"
      ],
      "metadata": {
        "id": "wCkCgRizatCi"
      },
      "execution_count": null,
      "outputs": []
    },
    {
      "cell_type": "code",
      "source": [
        "# show the information/ statistics on this dataframe"
      ],
      "metadata": {
        "id": "5fz-IQ5_azNG"
      },
      "execution_count": null,
      "outputs": []
    },
    {
      "cell_type": "code",
      "source": [
        "# get statiscal information on the data frame like count/mean/standard deviation etc"
      ],
      "metadata": {
        "id": "jYaCsmjQa6a2"
      },
      "execution_count": null,
      "outputs": []
    },
    {
      "cell_type": "markdown",
      "metadata": {
        "papermill": {
          "duration": 0.024751,
          "end_time": "2020-09-08T03:15:59.689267",
          "exception": false,
          "start_time": "2020-09-08T03:15:59.664516",
          "status": "completed"
        },
        "tags": [],
        "id": "5FcvmxBwWh_T"
      },
      "source": [
        "##### 2-3-Label Encoder for Dependents"
      ]
    },
    {
      "cell_type": "code",
      "execution_count": null,
      "metadata": {
        "execution": {
          "iopub.execute_input": "2020-09-08T03:15:59.742308Z",
          "iopub.status.busy": "2020-09-08T03:15:59.741262Z",
          "iopub.status.idle": "2020-09-08T03:15:59.746797Z",
          "shell.execute_reply": "2020-09-08T03:15:59.746101Z"
        },
        "papermill": {
          "duration": 0.034653,
          "end_time": "2020-09-08T03:15:59.746933",
          "exception": false,
          "start_time": "2020-09-08T03:15:59.712280",
          "status": "completed"
        },
        "tags": [],
        "id": "tm2At81VWh_T",
        "outputId": "639e4deb-48e5-47fc-b0dc-1075f00e19b1"
      },
      "outputs": [
        {
          "data": {
            "text/plain": [
              "str"
            ]
          },
          "execution_count": 16,
          "metadata": {},
          "output_type": "execute_result"
        }
      ],
      "source": [
        "type(df['dependents'].iloc[0])"
      ]
    },
    {
      "cell_type": "code",
      "execution_count": null,
      "metadata": {
        "execution": {
          "iopub.execute_input": "2020-09-08T03:15:59.801541Z",
          "iopub.status.busy": "2020-09-08T03:15:59.800397Z",
          "iopub.status.idle": "2020-09-08T03:15:59.804824Z",
          "shell.execute_reply": "2020-09-08T03:15:59.805505Z"
        },
        "papermill": {
          "duration": 0.035452,
          "end_time": "2020-09-08T03:15:59.805675",
          "exception": false,
          "start_time": "2020-09-08T03:15:59.770223",
          "status": "completed"
        },
        "tags": [],
        "id": "tc7NGzeSWh_T",
        "outputId": "e0be203d-7a92-45a9-cbed-95e4e90ef229"
      },
      "outputs": [
        {
          "data": {
            "text/plain": [
              "array(['0', '1', '2', '3+'], dtype=object)"
            ]
          },
          "execution_count": 17,
          "metadata": {},
          "output_type": "execute_result"
        }
      ],
      "source": [
        "df['dependents'].unique()"
      ]
    },
    {
      "cell_type": "code",
      "execution_count": null,
      "metadata": {
        "execution": {
          "iopub.execute_input": "2020-09-08T03:15:59.859345Z",
          "iopub.status.busy": "2020-09-08T03:15:59.858497Z",
          "iopub.status.idle": "2020-09-08T03:15:59.862150Z",
          "shell.execute_reply": "2020-09-08T03:15:59.861333Z"
        },
        "papermill": {
          "duration": 0.032559,
          "end_time": "2020-09-08T03:15:59.862281",
          "exception": false,
          "start_time": "2020-09-08T03:15:59.829722",
          "status": "completed"
        },
        "tags": [],
        "id": "J2r3pl1QWh_U"
      },
      "outputs": [],
      "source": [
        "model6=LabelEncoder()"
      ]
    },
    {
      "cell_type": "code",
      "execution_count": null,
      "metadata": {
        "execution": {
          "iopub.execute_input": "2020-09-08T03:15:59.915463Z",
          "iopub.status.busy": "2020-09-08T03:15:59.914653Z",
          "iopub.status.idle": "2020-09-08T03:15:59.921627Z",
          "shell.execute_reply": "2020-09-08T03:15:59.922176Z"
        },
        "papermill": {
          "duration": 0.036395,
          "end_time": "2020-09-08T03:15:59.922345",
          "exception": false,
          "start_time": "2020-09-08T03:15:59.885950",
          "status": "completed"
        },
        "tags": [],
        "id": "0wNuPUDxWh_U",
        "outputId": "6c514371-6b51-4cb8-8970-3f197616eb2d"
      },
      "outputs": [
        {
          "data": {
            "text/plain": [
              "LabelEncoder()"
            ]
          },
          "execution_count": 19,
          "metadata": {},
          "output_type": "execute_result"
        }
      ],
      "source": [
        "model6.fit(df['dependents'])"
      ]
    },
    {
      "cell_type": "code",
      "execution_count": null,
      "metadata": {
        "execution": {
          "iopub.execute_input": "2020-09-08T03:15:59.976684Z",
          "iopub.status.busy": "2020-09-08T03:15:59.975944Z",
          "iopub.status.idle": "2020-09-08T03:15:59.979542Z",
          "shell.execute_reply": "2020-09-08T03:15:59.978814Z"
        },
        "papermill": {
          "duration": 0.033869,
          "end_time": "2020-09-08T03:15:59.979667",
          "exception": false,
          "start_time": "2020-09-08T03:15:59.945798",
          "status": "completed"
        },
        "tags": [],
        "id": "EXwFZ6vWWh_U"
      },
      "outputs": [],
      "source": [
        "df['dependents']= model6.transform(df['dependents'])"
      ]
    },
    {
      "cell_type": "markdown",
      "source": [
        "Explain what they are doing in this section"
      ],
      "metadata": {
        "id": "-7WrPyM7bJqh"
      }
    },
    {
      "cell_type": "markdown",
      "metadata": {
        "papermill": {
          "duration": 0.02391,
          "end_time": "2020-09-08T03:16:00.027992",
          "exception": false,
          "start_time": "2020-09-08T03:16:00.004082",
          "status": "completed"
        },
        "tags": [],
        "id": "3_0lq1CVWh_U"
      },
      "source": [
        "### 3-Exploratory Data Analysis"
      ]
    },
    {
      "cell_type": "markdown",
      "metadata": {
        "papermill": {
          "duration": 0.024019,
          "end_time": "2020-09-08T03:16:00.076251",
          "exception": false,
          "start_time": "2020-09-08T03:16:00.052232",
          "status": "completed"
        },
        "tags": [],
        "id": "8Hdz0qFFWh_V"
      },
      "source": [
        "##### 3-1- Visualization"
      ]
    },
    {
      "cell_type": "code",
      "source": [
        "# get the counts of Loan statuses with \"Y\" in the column"
      ],
      "metadata": {
        "id": "IjEeEU5dbVcq"
      },
      "execution_count": null,
      "outputs": []
    },
    {
      "cell_type": "code",
      "source": [
        "# get the counts of Loan statuses with \"N\" in the column"
      ],
      "metadata": {
        "id": "uv7tlCQDbhFZ"
      },
      "execution_count": null,
      "outputs": []
    },
    {
      "cell_type": "code",
      "source": [
        "# make a pie plot that shows the distrubution of Yes loans and Y loans\n",
        "# this plot should have a title, different colors, the percentages inside the sections "
      ],
      "metadata": {
        "id": "j2oxNBWobkJi"
      },
      "execution_count": null,
      "outputs": []
    },
    {
      "cell_type": "markdown",
      "metadata": {
        "papermill": {
          "duration": 0.027202,
          "end_time": "2020-09-08T03:16:00.477382",
          "exception": false,
          "start_time": "2020-09-08T03:16:00.450180",
          "status": "completed"
        },
        "tags": [],
        "id": "nIM4cEjkWh_V"
      },
      "source": [
        "69% of applicants repay the loan and 39% do not repay the loan."
      ]
    },
    {
      "cell_type": "code",
      "source": [
        "# make six bar charts that create the basica comparisons listed below\n",
        "# each should have legends, and as different colors as possible.\n",
        "# Plots 1 and 4 should have y labels and ticks while the rest of them should not\n",
        "\n",
        "plt.figure(figsize=(15,10))\n"
      ],
      "metadata": {
        "id": "FLkEIbdTb9cL"
      },
      "execution_count": null,
      "outputs": []
    },
    {
      "cell_type": "markdown",
      "metadata": {
        "papermill": {
          "duration": 0.025504,
          "end_time": "2020-09-08T03:16:01.381656",
          "exception": false,
          "start_time": "2020-09-08T03:16:01.356152",
          "status": "completed"
        },
        "tags": [],
        "id": "jViBM4nKWh_W"
      },
      "source": [
        "Comparison between Genders in getting the Loan shows that a Male Individual has more chance of repaying the Loan.\n",
        "\n",
        "Comparison between Married Status in getting the Loan shows that a Married Individual has more chance of repaying the Loan.\n",
        "   \n",
        "Comparison between Education Status of an Individual in getting the Loan shows that a Graduate Individual has more chance of repaying the Loan.\n",
        "    \n",
        "Comparison between Self-Employed or Not in getting the Loan shows that Not Self-Employed has more chance of repaying the Loan.\n",
        "\n",
        "Comparison between Credit History for getting the Loan shows that an individual with a credit history has more chance of repaying the Loan.\n",
        "    \n",
        "Comparison between Property Area for getting the Loan shows that People living in Semi-Urban Area have more chance to repay the Loan."
      ]
    },
    {
      "cell_type": "code",
      "execution_count": null,
      "metadata": {
        "execution": {
          "iopub.execute_input": "2020-09-08T03:16:01.441150Z",
          "iopub.status.busy": "2020-09-08T03:16:01.440328Z",
          "iopub.status.idle": "2020-09-08T03:16:03.154754Z",
          "shell.execute_reply": "2020-09-08T03:16:03.153921Z"
        },
        "papermill": {
          "duration": 1.7457,
          "end_time": "2020-09-08T03:16:03.154913",
          "exception": false,
          "start_time": "2020-09-08T03:16:01.409213",
          "status": "completed"
        },
        "tags": [],
        "id": "6NdD4okmWh_X"
      },
      "outputs": [],
      "source": [
        "px.sunburst( data_frame=df,path=['gender','loan_status'], color='loan_amount')\n",
        "\n",
        "\n",
        "# try this code to see if it works. Can you fix it"
      ]
    },
    {
      "cell_type": "code",
      "source": [
        "plt.figure(figsize=(15,10))\n",
        "\n",
        "# create violin plots that have the six features shown above in the x value and loan amount in the y value\n",
        "# Plots 1 and 4 should have y labels and ticks while the rest of them should not\n",
        "\n"
      ],
      "metadata": {
        "id": "T2-bFjThcypG"
      },
      "execution_count": null,
      "outputs": []
    },
    {
      "cell_type": "code",
      "execution_count": null,
      "metadata": {
        "execution": {
          "iopub.execute_input": "2020-09-08T03:16:04.708238Z",
          "iopub.status.busy": "2020-09-08T03:16:04.703360Z",
          "iopub.status.idle": "2020-09-08T03:16:05.525060Z",
          "shell.execute_reply": "2020-09-08T03:16:05.525759Z"
        },
        "papermill": {
          "duration": 0.869293,
          "end_time": "2020-09-08T03:16:05.525969",
          "exception": false,
          "start_time": "2020-09-08T03:16:04.656676",
          "status": "completed"
        },
        "tags": [],
        "id": "_3G__A3HWh_Y"
      },
      "outputs": [],
      "source": [
        "plt.figure(figsize=(18,5))\n",
        "\n",
        "# Make three subplots that show frequency distributions of applicant incomes, co-applicant incomes and loan amounts\n",
        "# these should have lines and bars\n"
      ]
    },
    {
      "cell_type": "code",
      "execution_count": null,
      "metadata": {
        "execution": {
          "iopub.execute_input": "2020-09-08T03:16:05.598242Z",
          "iopub.status.busy": "2020-09-08T03:16:05.597077Z",
          "iopub.status.idle": "2020-09-08T03:16:05.764662Z",
          "shell.execute_reply": "2020-09-08T03:16:05.763869Z"
        },
        "papermill": {
          "duration": 0.206593,
          "end_time": "2020-09-08T03:16:05.764820",
          "exception": false,
          "start_time": "2020-09-08T03:16:05.558227",
          "status": "completed"
        },
        "tags": [],
        "id": "9pdDTvIpWh_Y"
      },
      "outputs": [],
      "source": [
        "px.scatter_3d(data_frame=df,x='applicant_income',y='co-applicant_income',z='loan_amount',color='loan_status')\n",
        "\n",
        "# try this command and see if it works"
      ]
    },
    {
      "cell_type": "markdown",
      "metadata": {
        "papermill": {
          "duration": 0.02967,
          "end_time": "2020-09-08T03:16:05.823612",
          "exception": false,
          "start_time": "2020-09-08T03:16:05.793942",
          "status": "completed"
        },
        "tags": [],
        "id": "Au--3kOwWh_Y"
      },
      "source": [
        "##### 3-2-Encoding"
      ]
    },
    {
      "cell_type": "markdown",
      "metadata": {
        "papermill": {
          "duration": 0.032563,
          "end_time": "2020-09-08T03:16:05.885144",
          "exception": false,
          "start_time": "2020-09-08T03:16:05.852581",
          "status": "completed"
        },
        "tags": [],
        "id": "5kbaxTmdWh_Y"
      },
      "source": [
        "###### 3-2-1-gender"
      ]
    },
    {
      "cell_type": "code",
      "execution_count": null,
      "metadata": {
        "execution": {
          "iopub.execute_input": "2020-09-08T03:16:05.949285Z",
          "iopub.status.busy": "2020-09-08T03:16:05.948498Z",
          "iopub.status.idle": "2020-09-08T03:16:05.952191Z",
          "shell.execute_reply": "2020-09-08T03:16:05.951396Z"
        },
        "papermill": {
          "duration": 0.03787,
          "end_time": "2020-09-08T03:16:05.952327",
          "exception": false,
          "start_time": "2020-09-08T03:16:05.914457",
          "status": "completed"
        },
        "tags": [],
        "id": "ORlWxEb3Wh_Z"
      },
      "outputs": [],
      "source": [
        "model1=LabelEncoder()"
      ]
    },
    {
      "cell_type": "code",
      "execution_count": null,
      "metadata": {
        "execution": {
          "iopub.execute_input": "2020-09-08T03:16:06.019197Z",
          "iopub.status.busy": "2020-09-08T03:16:06.018016Z",
          "iopub.status.idle": "2020-09-08T03:16:06.023852Z",
          "shell.execute_reply": "2020-09-08T03:16:06.023070Z"
        },
        "papermill": {
          "duration": 0.042876,
          "end_time": "2020-09-08T03:16:06.023983",
          "exception": false,
          "start_time": "2020-09-08T03:16:05.981107",
          "status": "completed"
        },
        "tags": [],
        "id": "uv3TElhhWh_Z"
      },
      "outputs": [],
      "source": [
        "model1.fit(df['gender'])"
      ]
    },
    {
      "cell_type": "code",
      "execution_count": null,
      "metadata": {
        "execution": {
          "iopub.execute_input": "2020-09-08T03:16:06.094072Z",
          "iopub.status.busy": "2020-09-08T03:16:06.093112Z",
          "iopub.status.idle": "2020-09-08T03:16:06.096744Z",
          "shell.execute_reply": "2020-09-08T03:16:06.096070Z"
        },
        "papermill": {
          "duration": 0.043284,
          "end_time": "2020-09-08T03:16:06.096910",
          "exception": false,
          "start_time": "2020-09-08T03:16:06.053626",
          "status": "completed"
        },
        "tags": [],
        "id": "pvGBgW5zWh_Z"
      },
      "outputs": [],
      "source": [
        "df['gender']= model1.transform(df['gender'])"
      ]
    },
    {
      "cell_type": "markdown",
      "metadata": {
        "papermill": {
          "duration": 0.029729,
          "end_time": "2020-09-08T03:16:06.155847",
          "exception": false,
          "start_time": "2020-09-08T03:16:06.126118",
          "status": "completed"
        },
        "tags": [],
        "id": "8yWDmlDGWh_Z"
      },
      "source": [
        "###### 3-2-2-married"
      ]
    },
    {
      "cell_type": "code",
      "execution_count": null,
      "metadata": {
        "execution": {
          "iopub.execute_input": "2020-09-08T03:16:06.222196Z",
          "iopub.status.busy": "2020-09-08T03:16:06.221004Z",
          "iopub.status.idle": "2020-09-08T03:16:06.224732Z",
          "shell.execute_reply": "2020-09-08T03:16:06.223978Z"
        },
        "papermill": {
          "duration": 0.04018,
          "end_time": "2020-09-08T03:16:06.224884",
          "exception": false,
          "start_time": "2020-09-08T03:16:06.184704",
          "status": "completed"
        },
        "tags": [],
        "id": "H7Ea_aNKWh_Z"
      },
      "outputs": [],
      "source": [
        "model2=LabelEncoder()"
      ]
    },
    {
      "cell_type": "code",
      "execution_count": null,
      "metadata": {
        "execution": {
          "iopub.execute_input": "2020-09-08T03:16:06.295821Z",
          "iopub.status.busy": "2020-09-08T03:16:06.294988Z",
          "iopub.status.idle": "2020-09-08T03:16:06.299327Z",
          "shell.execute_reply": "2020-09-08T03:16:06.298561Z"
        },
        "papermill": {
          "duration": 0.044075,
          "end_time": "2020-09-08T03:16:06.299454",
          "exception": false,
          "start_time": "2020-09-08T03:16:06.255379",
          "status": "completed"
        },
        "tags": [],
        "id": "f2DNg0H8Wh_Z"
      },
      "outputs": [],
      "source": [
        "model2.fit(df['married'])"
      ]
    },
    {
      "cell_type": "code",
      "execution_count": null,
      "metadata": {
        "execution": {
          "iopub.execute_input": "2020-09-08T03:16:06.367967Z",
          "iopub.status.busy": "2020-09-08T03:16:06.366916Z",
          "iopub.status.idle": "2020-09-08T03:16:06.370583Z",
          "shell.execute_reply": "2020-09-08T03:16:06.369948Z"
        },
        "papermill": {
          "duration": 0.040351,
          "end_time": "2020-09-08T03:16:06.370713",
          "exception": false,
          "start_time": "2020-09-08T03:16:06.330362",
          "status": "completed"
        },
        "tags": [],
        "id": "Uz2USyIIWh_a"
      },
      "outputs": [],
      "source": [
        "df['married']= model2.transform(df['married'])"
      ]
    },
    {
      "cell_type": "markdown",
      "metadata": {
        "papermill": {
          "duration": 0.031241,
          "end_time": "2020-09-08T03:16:06.432897",
          "exception": false,
          "start_time": "2020-09-08T03:16:06.401656",
          "status": "completed"
        },
        "tags": [],
        "id": "V5RHDqzDWh_a"
      },
      "source": [
        "###### 3-2-3-education"
      ]
    },
    {
      "cell_type": "code",
      "execution_count": null,
      "metadata": {
        "execution": {
          "iopub.execute_input": "2020-09-08T03:16:06.504427Z",
          "iopub.status.busy": "2020-09-08T03:16:06.503566Z",
          "iopub.status.idle": "2020-09-08T03:16:06.507525Z",
          "shell.execute_reply": "2020-09-08T03:16:06.506682Z"
        },
        "papermill": {
          "duration": 0.041005,
          "end_time": "2020-09-08T03:16:06.507659",
          "exception": false,
          "start_time": "2020-09-08T03:16:06.466654",
          "status": "completed"
        },
        "tags": [],
        "id": "afePEtxHWh_a"
      },
      "outputs": [],
      "source": [
        "model3=LabelEncoder()"
      ]
    },
    {
      "cell_type": "code",
      "execution_count": null,
      "metadata": {
        "execution": {
          "iopub.execute_input": "2020-09-08T03:16:06.574611Z",
          "iopub.status.busy": "2020-09-08T03:16:06.573448Z",
          "iopub.status.idle": "2020-09-08T03:16:06.578526Z",
          "shell.execute_reply": "2020-09-08T03:16:06.577945Z"
        },
        "papermill": {
          "duration": 0.041678,
          "end_time": "2020-09-08T03:16:06.578667",
          "exception": false,
          "start_time": "2020-09-08T03:16:06.536989",
          "status": "completed"
        },
        "tags": [],
        "id": "9eU6npGRWh_a"
      },
      "outputs": [],
      "source": [
        "model3.fit(df['education'])"
      ]
    },
    {
      "cell_type": "code",
      "execution_count": null,
      "metadata": {
        "execution": {
          "iopub.execute_input": "2020-09-08T03:16:06.647661Z",
          "iopub.status.busy": "2020-09-08T03:16:06.646476Z",
          "iopub.status.idle": "2020-09-08T03:16:06.649387Z",
          "shell.execute_reply": "2020-09-08T03:16:06.649995Z"
        },
        "papermill": {
          "duration": 0.041559,
          "end_time": "2020-09-08T03:16:06.650166",
          "exception": false,
          "start_time": "2020-09-08T03:16:06.608607",
          "status": "completed"
        },
        "tags": [],
        "id": "hVFjw-1MWh_a"
      },
      "outputs": [],
      "source": [
        "df['education']= model3.transform(df['education'])"
      ]
    },
    {
      "cell_type": "markdown",
      "metadata": {
        "papermill": {
          "duration": 0.029583,
          "end_time": "2020-09-08T03:16:06.709183",
          "exception": false,
          "start_time": "2020-09-08T03:16:06.679600",
          "status": "completed"
        },
        "tags": [],
        "id": "hIq_oJP-Wh_b"
      },
      "source": [
        "###### 3-2-4-self_employed"
      ]
    },
    {
      "cell_type": "code",
      "execution_count": null,
      "metadata": {
        "execution": {
          "iopub.execute_input": "2020-09-08T03:16:06.775569Z",
          "iopub.status.busy": "2020-09-08T03:16:06.774514Z",
          "iopub.status.idle": "2020-09-08T03:16:06.777409Z",
          "shell.execute_reply": "2020-09-08T03:16:06.777964Z"
        },
        "papermill": {
          "duration": 0.039598,
          "end_time": "2020-09-08T03:16:06.778140",
          "exception": false,
          "start_time": "2020-09-08T03:16:06.738542",
          "status": "completed"
        },
        "tags": [],
        "id": "8AgoSJzuWh_b"
      },
      "outputs": [],
      "source": [
        "model4=LabelEncoder()"
      ]
    },
    {
      "cell_type": "code",
      "execution_count": null,
      "metadata": {
        "execution": {
          "iopub.execute_input": "2020-09-08T03:16:06.846303Z",
          "iopub.status.busy": "2020-09-08T03:16:06.845098Z",
          "iopub.status.idle": "2020-09-08T03:16:06.850215Z",
          "shell.execute_reply": "2020-09-08T03:16:06.849498Z"
        },
        "papermill": {
          "duration": 0.042008,
          "end_time": "2020-09-08T03:16:06.850339",
          "exception": false,
          "start_time": "2020-09-08T03:16:06.808331",
          "status": "completed"
        },
        "tags": [],
        "id": "1F8TixZUWh_b"
      },
      "outputs": [],
      "source": [
        "model4.fit(df['self_employed'])"
      ]
    },
    {
      "cell_type": "code",
      "execution_count": null,
      "metadata": {
        "execution": {
          "iopub.execute_input": "2020-09-08T03:16:06.917673Z",
          "iopub.status.busy": "2020-09-08T03:16:06.916924Z",
          "iopub.status.idle": "2020-09-08T03:16:06.920588Z",
          "shell.execute_reply": "2020-09-08T03:16:06.919849Z"
        },
        "papermill": {
          "duration": 0.040144,
          "end_time": "2020-09-08T03:16:06.920711",
          "exception": false,
          "start_time": "2020-09-08T03:16:06.880567",
          "status": "completed"
        },
        "tags": [],
        "id": "kS8hqaNcWh_b"
      },
      "outputs": [],
      "source": [
        "df['self_employed']= model4.transform(df['self_employed'])"
      ]
    },
    {
      "cell_type": "markdown",
      "metadata": {
        "papermill": {
          "duration": 0.029232,
          "end_time": "2020-09-08T03:16:06.979610",
          "exception": false,
          "start_time": "2020-09-08T03:16:06.950378",
          "status": "completed"
        },
        "tags": [],
        "id": "RsSiY4KUWh_b"
      },
      "source": [
        "###### 3-2-5-property_area"
      ]
    },
    {
      "cell_type": "code",
      "execution_count": null,
      "metadata": {
        "execution": {
          "iopub.execute_input": "2020-09-08T03:16:07.049537Z",
          "iopub.status.busy": "2020-09-08T03:16:07.048731Z",
          "iopub.status.idle": "2020-09-08T03:16:07.052665Z",
          "shell.execute_reply": "2020-09-08T03:16:07.051866Z"
        },
        "papermill": {
          "duration": 0.040401,
          "end_time": "2020-09-08T03:16:07.052818",
          "exception": false,
          "start_time": "2020-09-08T03:16:07.012417",
          "status": "completed"
        },
        "tags": [],
        "id": "TPP6tmsYWh_b"
      },
      "outputs": [],
      "source": [
        "model5=LabelEncoder()"
      ]
    },
    {
      "cell_type": "code",
      "execution_count": null,
      "metadata": {
        "execution": {
          "iopub.execute_input": "2020-09-08T03:16:07.122699Z",
          "iopub.status.busy": "2020-09-08T03:16:07.121879Z",
          "iopub.status.idle": "2020-09-08T03:16:07.126525Z",
          "shell.execute_reply": "2020-09-08T03:16:07.125827Z"
        },
        "papermill": {
          "duration": 0.042427,
          "end_time": "2020-09-08T03:16:07.126658",
          "exception": false,
          "start_time": "2020-09-08T03:16:07.084231",
          "status": "completed"
        },
        "tags": [],
        "id": "qKeZ_1sPWh_c"
      },
      "outputs": [],
      "source": [
        "model5.fit(df['property_area'])"
      ]
    },
    {
      "cell_type": "code",
      "execution_count": null,
      "metadata": {
        "execution": {
          "iopub.execute_input": "2020-09-08T03:16:07.194181Z",
          "iopub.status.busy": "2020-09-08T03:16:07.193280Z",
          "iopub.status.idle": "2020-09-08T03:16:07.196891Z",
          "shell.execute_reply": "2020-09-08T03:16:07.196151Z"
        },
        "papermill": {
          "duration": 0.040125,
          "end_time": "2020-09-08T03:16:07.197050",
          "exception": false,
          "start_time": "2020-09-08T03:16:07.156925",
          "status": "completed"
        },
        "tags": [],
        "id": "txsaDwDUWh_c"
      },
      "outputs": [],
      "source": [
        "df['property_area']= model5.transform(df['property_area'])"
      ]
    },
    {
      "cell_type": "markdown",
      "metadata": {
        "papermill": {
          "duration": 0.030197,
          "end_time": "2020-09-08T03:16:07.259319",
          "exception": false,
          "start_time": "2020-09-08T03:16:07.229122",
          "status": "completed"
        },
        "tags": [],
        "id": "gWkGU1BVWh_c"
      },
      "source": [
        "###### 3-2-6-loan status"
      ]
    },
    {
      "cell_type": "code",
      "execution_count": null,
      "metadata": {
        "execution": {
          "iopub.execute_input": "2020-09-08T03:16:07.328214Z",
          "iopub.status.busy": "2020-09-08T03:16:07.327234Z",
          "iopub.status.idle": "2020-09-08T03:16:07.330547Z",
          "shell.execute_reply": "2020-09-08T03:16:07.329812Z"
        },
        "papermill": {
          "duration": 0.039562,
          "end_time": "2020-09-08T03:16:07.330672",
          "exception": false,
          "start_time": "2020-09-08T03:16:07.291110",
          "status": "completed"
        },
        "tags": [],
        "id": "UoD6iiOxWh_c"
      },
      "outputs": [],
      "source": [
        "model6=LabelEncoder()"
      ]
    },
    {
      "cell_type": "code",
      "execution_count": null,
      "metadata": {
        "execution": {
          "iopub.execute_input": "2020-09-08T03:16:07.399955Z",
          "iopub.status.busy": "2020-09-08T03:16:07.398962Z",
          "iopub.status.idle": "2020-09-08T03:16:07.403168Z",
          "shell.execute_reply": "2020-09-08T03:16:07.403831Z"
        },
        "papermill": {
          "duration": 0.043225,
          "end_time": "2020-09-08T03:16:07.403994",
          "exception": false,
          "start_time": "2020-09-08T03:16:07.360769",
          "status": "completed"
        },
        "tags": [],
        "id": "qvHxeYfuWh_c"
      },
      "outputs": [],
      "source": [
        "model6.fit(df['loan_status'])"
      ]
    },
    {
      "cell_type": "code",
      "execution_count": null,
      "metadata": {
        "execution": {
          "iopub.execute_input": "2020-09-08T03:16:07.474101Z",
          "iopub.status.busy": "2020-09-08T03:16:07.472978Z",
          "iopub.status.idle": "2020-09-08T03:16:07.476673Z",
          "shell.execute_reply": "2020-09-08T03:16:07.475890Z"
        },
        "papermill": {
          "duration": 0.042488,
          "end_time": "2020-09-08T03:16:07.476824",
          "exception": false,
          "start_time": "2020-09-08T03:16:07.434336",
          "status": "completed"
        },
        "tags": [],
        "id": "gvMCKeckWh_d"
      },
      "outputs": [],
      "source": [
        "df['loan_status']= model6.transform(df['loan_status'])"
      ]
    },
    {
      "cell_type": "code",
      "execution_count": null,
      "metadata": {
        "execution": {
          "iopub.execute_input": "2020-09-08T03:16:07.562874Z",
          "iopub.status.busy": "2020-09-08T03:16:07.561806Z",
          "iopub.status.idle": "2020-09-08T03:16:07.568836Z",
          "shell.execute_reply": "2020-09-08T03:16:07.568038Z"
        },
        "papermill": {
          "duration": 0.059515,
          "end_time": "2020-09-08T03:16:07.568966",
          "exception": false,
          "start_time": "2020-09-08T03:16:07.509451",
          "status": "completed"
        },
        "scrolled": true,
        "tags": [],
        "id": "b63nyjtIWh_d"
      },
      "outputs": [],
      "source": [
        "df.head()"
      ]
    },
    {
      "cell_type": "code",
      "execution_count": null,
      "metadata": {
        "execution": {
          "iopub.execute_input": "2020-09-08T03:16:07.647936Z",
          "iopub.status.busy": "2020-09-08T03:16:07.646703Z",
          "iopub.status.idle": "2020-09-08T03:16:08.549734Z",
          "shell.execute_reply": "2020-09-08T03:16:08.548510Z"
        },
        "papermill": {
          "duration": 0.949081,
          "end_time": "2020-09-08T03:16:08.549911",
          "exception": false,
          "start_time": "2020-09-08T03:16:07.600830",
          "status": "completed"
        },
        "tags": [],
        "id": "iLJPS_aNWh_d"
      },
      "outputs": [],
      "source": [
        "plt.figure(figsize=(12,8))\n",
        "\n",
        "corr = df.corr()  #L1\n",
        "mask = np.zeros_like(corr) #L2\n",
        "mask[np.triu_indices_from(mask)] = True #L3\n",
        "with sns.axes_style(\"white\"):\n",
        "    ax = sns.heatmap(corr, mask=mask, square=True,annot=True,linewidths=2, cmap='viridis')\n",
        "plt.title('Correlation Matrix for Loan Status')"
      ]
    },
    {
      "cell_type": "markdown",
      "source": [
        "Explain what the encoder does here\n",
        "\n",
        "Explain what this plot would do if it did not include L1, L2, L3"
      ],
      "metadata": {
        "id": "WIhUQEaje6o_"
      }
    },
    {
      "cell_type": "markdown",
      "metadata": {
        "papermill": {
          "duration": 0.03998,
          "end_time": "2020-09-08T03:16:08.627145",
          "exception": false,
          "start_time": "2020-09-08T03:16:08.587165",
          "status": "completed"
        },
        "tags": [],
        "id": "EmyNB18EWh_d"
      },
      "source": [
        "From the above figure, we can see that Credit_History (Independent Variable) has the maximum correlation with Loan_Status (Dependent Variable). Which denotes that the Loan_Status is heavily dependent on the Credit_History."
      ]
    },
    {
      "cell_type": "markdown",
      "metadata": {
        "papermill": {
          "duration": 0.033935,
          "end_time": "2020-09-08T03:16:08.695352",
          "exception": false,
          "start_time": "2020-09-08T03:16:08.661417",
          "status": "completed"
        },
        "tags": [],
        "id": "ImSz5aXGWh_d"
      },
      "source": [
        "### 4-Prediction"
      ]
    },
    {
      "cell_type": "markdown",
      "metadata": {
        "papermill": {
          "duration": 0.032031,
          "end_time": "2020-09-08T03:16:08.760801",
          "exception": false,
          "start_time": "2020-09-08T03:16:08.728770",
          "status": "completed"
        },
        "tags": [],
        "id": "YUO9jN7iWh_e"
      },
      "source": [
        "##### 4-1-LogisticRegression"
      ]
    },
    {
      "cell_type": "code",
      "source": [
        "# Set a variable equal to the dataframe that has dropped the columns loan_id, and loan_status\n",
        "# Hint: might want to control axis\n",
        "# set 2nd variable equal to the dataframe with a singular feature loan status"
      ],
      "metadata": {
        "id": "wJdp7YSJfcOo"
      },
      "execution_count": null,
      "outputs": []
    },
    {
      "cell_type": "code",
      "source": [
        "# Perform a train test split"
      ],
      "metadata": {
        "id": "F3MqlUf3f5QE"
      },
      "execution_count": null,
      "outputs": []
    },
    {
      "cell_type": "code",
      "source": [
        "# set a variable equal to a logistic regression model"
      ],
      "metadata": {
        "id": "shsSbqD-gTCQ"
      },
      "execution_count": null,
      "outputs": []
    },
    {
      "cell_type": "code",
      "source": [
        "# fit your model to the training set"
      ],
      "metadata": {
        "id": "2R-K-8FIgYpB"
      },
      "execution_count": null,
      "outputs": []
    },
    {
      "cell_type": "code",
      "source": [
        "# set a variable to the logistic regression prediction of the test set\n",
        "# basically if your variables were X and y the use logistic regression to predict X-test\n"
      ],
      "metadata": {
        "id": "sHTOJEQDggFP"
      },
      "execution_count": null,
      "outputs": []
    },
    {
      "cell_type": "code",
      "execution_count": null,
      "metadata": {
        "execution": {
          "iopub.execute_input": "2020-09-08T03:16:09.305929Z",
          "iopub.status.busy": "2020-09-08T03:16:09.304450Z",
          "iopub.status.idle": "2020-09-08T03:16:09.319854Z",
          "shell.execute_reply": "2020-09-08T03:16:09.321172Z"
        },
        "papermill": {
          "duration": 0.064783,
          "end_time": "2020-09-08T03:16:09.321445",
          "exception": false,
          "start_time": "2020-09-08T03:16:09.256662",
          "status": "completed"
        },
        "tags": [],
        "id": "xazJXdIZWh_f"
      },
      "outputs": [],
      "source": [
        "print(confusion_matrix(y_test,lr_prediction))\n",
        "\n",
        "# Explain confusion matrix\n",
        "\n",
        "\n",
        "print('\\n')\n",
        "print(classification_report(y_test,lr_prediction))\n",
        "\n",
        "# Explain classification report\n",
        "\n",
        "print('\\n')\n",
        "print('Logistic Regression accuracy: ', accuracy_score(y_test,lr_prediction))\n",
        "\n",
        "# Do you feel like this is an accurate model?"
      ]
    },
    {
      "cell_type": "markdown",
      "metadata": {
        "papermill": {
          "duration": 0.036852,
          "end_time": "2020-09-08T03:16:09.395570",
          "exception": false,
          "start_time": "2020-09-08T03:16:09.358718",
          "status": "completed"
        },
        "tags": [],
        "id": "NL8_5l4EWh_f"
      },
      "source": [
        "# 4-2-More models"
      ]
    },
    {
      "cell_type": "markdown",
      "source": [
        "### Decision Tree Classifier"
      ],
      "metadata": {
        "id": "HlLowN2ShVwa"
      }
    },
    {
      "cell_type": "code",
      "source": [
        "# Use this Decision Tree Classifier Model to complete the same thing on \n",
        "\n",
        "# Random Forest Classifier\n",
        "# K Nearest Neighbors\n",
        "# SVC\n"
      ],
      "metadata": {
        "id": "v5-2cKErhdiB"
      },
      "execution_count": null,
      "outputs": []
    },
    {
      "cell_type": "code",
      "execution_count": null,
      "metadata": {
        "execution": {
          "iopub.execute_input": "2020-09-08T03:16:09.472762Z",
          "iopub.status.busy": "2020-09-08T03:16:09.471994Z",
          "iopub.status.idle": "2020-09-08T03:16:09.475399Z",
          "shell.execute_reply": "2020-09-08T03:16:09.476025Z"
        },
        "papermill": {
          "duration": 0.045616,
          "end_time": "2020-09-08T03:16:09.476198",
          "exception": false,
          "start_time": "2020-09-08T03:16:09.430582",
          "status": "completed"
        },
        "tags": [],
        "id": "fWhqoibMWh_f"
      },
      "outputs": [],
      "source": [
        "dt=DecisionTreeClassifier()"
      ]
    },
    {
      "cell_type": "code",
      "execution_count": null,
      "metadata": {
        "execution": {
          "iopub.execute_input": "2020-09-08T03:16:09.554316Z",
          "iopub.status.busy": "2020-09-08T03:16:09.553517Z",
          "iopub.status.idle": "2020-09-08T03:16:09.562792Z",
          "shell.execute_reply": "2020-09-08T03:16:09.562036Z"
        },
        "papermill": {
          "duration": 0.051438,
          "end_time": "2020-09-08T03:16:09.562921",
          "exception": false,
          "start_time": "2020-09-08T03:16:09.511483",
          "status": "completed"
        },
        "tags": [],
        "id": "4hB9CPfIWh_f",
        "outputId": "91ce4c49-81e5-45b5-bb96-c72e7eababce"
      },
      "outputs": [
        {
          "data": {
            "text/plain": [
              "DecisionTreeClassifier()"
            ]
          },
          "execution_count": 56,
          "metadata": {},
          "output_type": "execute_result"
        }
      ],
      "source": [
        "dt.fit(X_train, y_train)"
      ]
    },
    {
      "cell_type": "code",
      "execution_count": null,
      "metadata": {
        "execution": {
          "iopub.execute_input": "2020-09-08T03:16:09.648972Z",
          "iopub.status.busy": "2020-09-08T03:16:09.647648Z",
          "iopub.status.idle": "2020-09-08T03:16:09.655685Z",
          "shell.execute_reply": "2020-09-08T03:16:09.654587Z"
        },
        "papermill": {
          "duration": 0.060434,
          "end_time": "2020-09-08T03:16:09.655936",
          "exception": false,
          "start_time": "2020-09-08T03:16:09.595502",
          "status": "completed"
        },
        "tags": [],
        "id": "Z6b2iA1PWh_f"
      },
      "outputs": [],
      "source": [
        "dt_prediction=dt.predict(X_test)"
      ]
    },
    {
      "cell_type": "code",
      "execution_count": null,
      "metadata": {
        "execution": {
          "iopub.execute_input": "2020-09-08T03:16:09.770198Z",
          "iopub.status.busy": "2020-09-08T03:16:09.768911Z",
          "iopub.status.idle": "2020-09-08T03:16:09.785597Z",
          "shell.execute_reply": "2020-09-08T03:16:09.786224Z"
        },
        "papermill": {
          "duration": 0.079809,
          "end_time": "2020-09-08T03:16:09.786410",
          "exception": false,
          "start_time": "2020-09-08T03:16:09.706601",
          "status": "completed"
        },
        "tags": [],
        "id": "sVwFA9cnWh_g",
        "outputId": "490d8c1f-0bce-43d9-c0bf-1c09d56aeea4"
      },
      "outputs": [
        {
          "name": "stdout",
          "output_type": "stream",
          "text": [
            "[[14 17]\n",
            " [15 63]]\n",
            "\n",
            "\n",
            "              precision    recall  f1-score   support\n",
            "\n",
            "           0       0.48      0.45      0.47        31\n",
            "           1       0.79      0.81      0.80        78\n",
            "\n",
            "    accuracy                           0.71       109\n",
            "   macro avg       0.64      0.63      0.63       109\n",
            "weighted avg       0.70      0.71      0.70       109\n",
            "\n",
            "\n",
            "\n",
            "Decision Tree Accuracy:  0.7064220183486238\n"
          ]
        }
      ],
      "source": [
        "# Confusion Matrix and Model Accuracy\n",
        "\n",
        "print(confusion_matrix(y_test,dt_prediction))\n",
        "print('\\n')\n",
        "print(classification_report(y_test,dt_prediction))\n",
        "print('\\n')\n",
        "print('Decision Tree Accuracy: ', accuracy_score(y_test,dt_prediction))"
      ]
    },
    {
      "cell_type": "markdown",
      "metadata": {
        "papermill": {
          "duration": 0.033503,
          "end_time": "2020-09-08T03:16:09.861581",
          "exception": false,
          "start_time": "2020-09-08T03:16:09.828078",
          "status": "completed"
        },
        "tags": [],
        "id": "5gAl__TcWh_g"
      },
      "source": [
        "##### 4-3-Random Forest"
      ]
    },
    {
      "cell_type": "code",
      "execution_count": null,
      "metadata": {
        "execution": {
          "iopub.execute_input": "2020-09-08T03:16:09.935180Z",
          "iopub.status.busy": "2020-09-08T03:16:09.934364Z",
          "iopub.status.idle": "2020-09-08T03:16:09.938296Z",
          "shell.execute_reply": "2020-09-08T03:16:09.937543Z"
        },
        "papermill": {
          "duration": 0.043446,
          "end_time": "2020-09-08T03:16:09.938436",
          "exception": false,
          "start_time": "2020-09-08T03:16:09.894990",
          "status": "completed"
        },
        "tags": [],
        "id": "EEvhIEZpWh_g"
      },
      "outputs": [],
      "source": [
        "# Box for model\n"
      ]
    },
    {
      "cell_type": "code",
      "execution_count": null,
      "metadata": {
        "execution": {
          "iopub.execute_input": "2020-09-08T03:16:10.023125Z",
          "iopub.status.busy": "2020-09-08T03:16:10.022288Z",
          "iopub.status.idle": "2020-09-08T03:16:10.553028Z",
          "shell.execute_reply": "2020-09-08T03:16:10.552196Z"
        },
        "papermill": {
          "duration": 0.581309,
          "end_time": "2020-09-08T03:16:10.553166",
          "exception": false,
          "start_time": "2020-09-08T03:16:09.971857",
          "status": "completed"
        },
        "tags": [],
        "id": "9z355toTWh_g"
      },
      "outputs": [],
      "source": [
        "# Box for fit\n",
        "\n"
      ]
    },
    {
      "cell_type": "code",
      "execution_count": null,
      "metadata": {
        "execution": {
          "iopub.execute_input": "2020-09-08T03:16:10.722199Z",
          "iopub.status.busy": "2020-09-08T03:16:10.721311Z",
          "iopub.status.idle": "2020-09-08T03:16:10.752617Z",
          "shell.execute_reply": "2020-09-08T03:16:10.751794Z"
        },
        "papermill": {
          "duration": 0.165155,
          "end_time": "2020-09-08T03:16:10.752749",
          "exception": false,
          "start_time": "2020-09-08T03:16:10.587594",
          "status": "completed"
        },
        "tags": [],
        "id": "qLtWxTx-Wh_g"
      },
      "outputs": [],
      "source": [
        "# Box for prediction\n",
        "\n",
        "\n"
      ]
    },
    {
      "cell_type": "code",
      "execution_count": null,
      "metadata": {
        "execution": {
          "iopub.execute_input": "2020-09-08T03:16:10.832579Z",
          "iopub.status.busy": "2020-09-08T03:16:10.831750Z",
          "iopub.status.idle": "2020-09-08T03:16:10.847098Z",
          "shell.execute_reply": "2020-09-08T03:16:10.846243Z"
        },
        "papermill": {
          "duration": 0.060092,
          "end_time": "2020-09-08T03:16:10.847243",
          "exception": false,
          "start_time": "2020-09-08T03:16:10.787151",
          "status": "completed"
        },
        "tags": [],
        "id": "znq3Hz8lWh_h"
      },
      "outputs": [],
      "source": [
        "# Box for Confusion Matrix and Model Accuracy\n",
        "\n"
      ]
    },
    {
      "cell_type": "markdown",
      "metadata": {
        "papermill": {
          "duration": 0.034116,
          "end_time": "2020-09-08T03:16:10.916017",
          "exception": false,
          "start_time": "2020-09-08T03:16:10.881901",
          "status": "completed"
        },
        "tags": [],
        "id": "nyEFYcZjWh_h"
      },
      "source": [
        "##### 4-4-KNearest Neighbors"
      ]
    },
    {
      "cell_type": "code",
      "execution_count": null,
      "metadata": {
        "execution": {
          "iopub.execute_input": "2020-09-08T03:16:10.999870Z",
          "iopub.status.busy": "2020-09-08T03:16:10.997521Z",
          "iopub.status.idle": "2020-09-08T03:16:11.536747Z",
          "shell.execute_reply": "2020-09-08T03:16:11.537673Z"
        },
        "papermill": {
          "duration": 0.5862,
          "end_time": "2020-09-08T03:16:11.537880",
          "exception": false,
          "start_time": "2020-09-08T03:16:10.951680",
          "status": "completed"
        },
        "tags": [],
        "id": "THPWeMAFWh_h",
        "outputId": "0a87a33c-7716-431f-e337-7851ee09d47c"
      },
      "outputs": [
        {
          "name": "stdout",
          "output_type": "stream",
          "text": [
            "[0.3853211009174312, 0.48623853211009177, 0.4036697247706422, 0.44954128440366975, 0.43119266055045874, 0.45871559633027525, 0.3486238532110092, 0.3669724770642202, 0.3302752293577982, 0.3302752293577982, 0.3119266055045872, 0.3394495412844037, 0.29357798165137616, 0.30275229357798167, 0.29357798165137616, 0.3119266055045872, 0.3211009174311927, 0.29357798165137616, 0.27522935779816515, 0.27522935779816515, 0.27522935779816515, 0.27522935779816515, 0.26605504587155965, 0.26605504587155965, 0.27522935779816515, 0.27522935779816515, 0.28440366972477066, 0.27522935779816515, 0.28440366972477066, 0.28440366972477066, 0.28440366972477066, 0.28440366972477066, 0.28440366972477066, 0.28440366972477066, 0.28440366972477066, 0.28440366972477066, 0.28440366972477066, 0.28440366972477066, 0.28440366972477066]\n"
          ]
        }
      ],
      "source": [
        "error_rate=[]\n",
        "for n in range(1,40):\n",
        "    knn=KNeighborsClassifier(n_neighbors=n)\n",
        "    knn.fit(X_train, y_train)\n",
        "    knn_prediction=knn.predict(X_test)\n",
        "    error_rate.append(np.mean(knn_prediction!=y_test))\n",
        "print(error_rate)"
      ]
    },
    {
      "cell_type": "code",
      "execution_count": null,
      "metadata": {
        "execution": {
          "iopub.execute_input": "2020-09-08T03:16:11.638085Z",
          "iopub.status.busy": "2020-09-08T03:16:11.636111Z",
          "iopub.status.idle": "2020-09-08T03:16:12.063158Z",
          "shell.execute_reply": "2020-09-08T03:16:12.063821Z"
        },
        "papermill": {
          "duration": 0.486515,
          "end_time": "2020-09-08T03:16:12.064009",
          "exception": false,
          "start_time": "2020-09-08T03:16:11.577494",
          "status": "completed"
        },
        "tags": [],
        "id": "Xds4kchxWh_h"
      },
      "outputs": [],
      "source": [
        "plt.figure(figsize=(8,6))\n",
        "sns.set_style('whitegrid')\n",
        "plt.plot(list(range(1,40)),error_rate,color='b', marker='o', linewidth=2, markersize=12, markerfacecolor='r', markeredgecolor='r')\n",
        "plt.xlabel('Number of Neighbors')\n",
        "plt.ylabel('Error Rate')\n",
        "plt.title('Elbow Method')"
      ]
    },
    {
      "cell_type": "code",
      "source": [
        "# Run the above two boxes to get the number of necessary nearest neighbors\n",
        "# Please look up what would tell you what number to use from this "
      ],
      "metadata": {
        "id": "eqezyCYMixqP"
      },
      "execution_count": null,
      "outputs": []
    },
    {
      "cell_type": "code",
      "execution_count": null,
      "metadata": {
        "execution": {
          "iopub.execute_input": "2020-09-08T03:16:12.147838Z",
          "iopub.status.busy": "2020-09-08T03:16:12.146539Z",
          "iopub.status.idle": "2020-09-08T03:16:12.150256Z",
          "shell.execute_reply": "2020-09-08T03:16:12.150944Z"
        },
        "papermill": {
          "duration": 0.048706,
          "end_time": "2020-09-08T03:16:12.151140",
          "exception": false,
          "start_time": "2020-09-08T03:16:12.102434",
          "status": "completed"
        },
        "tags": [],
        "id": "IqOqSr1KWh_h"
      },
      "outputs": [],
      "source": [
        "# Get Number from above cells\n",
        "\n",
        "knn=KNeighborsClassifier(n_neighbors=?)"
      ]
    },
    {
      "cell_type": "code",
      "execution_count": null,
      "metadata": {
        "execution": {
          "iopub.execute_input": "2020-09-08T03:16:12.242944Z",
          "iopub.status.busy": "2020-09-08T03:16:12.240283Z",
          "iopub.status.idle": "2020-09-08T03:16:12.247941Z",
          "shell.execute_reply": "2020-09-08T03:16:12.248518Z"
        },
        "papermill": {
          "duration": 0.058474,
          "end_time": "2020-09-08T03:16:12.248695",
          "exception": false,
          "start_time": "2020-09-08T03:16:12.190221",
          "status": "completed"
        },
        "tags": [],
        "id": "Z3Q2422BWh_i"
      },
      "outputs": [],
      "source": [
        "# Box for fitting \n"
      ]
    },
    {
      "cell_type": "code",
      "execution_count": null,
      "metadata": {
        "execution": {
          "iopub.execute_input": "2020-09-08T03:16:12.331602Z",
          "iopub.status.busy": "2020-09-08T03:16:12.330740Z",
          "iopub.status.idle": "2020-09-08T03:16:12.341936Z",
          "shell.execute_reply": "2020-09-08T03:16:12.341116Z"
        },
        "papermill": {
          "duration": 0.056219,
          "end_time": "2020-09-08T03:16:12.342067",
          "exception": false,
          "start_time": "2020-09-08T03:16:12.285848",
          "status": "completed"
        },
        "tags": [],
        "id": "iCwhr11hWh_i"
      },
      "outputs": [],
      "source": [
        "# Box for predictions\n"
      ]
    },
    {
      "cell_type": "code",
      "execution_count": null,
      "metadata": {
        "execution": {
          "iopub.execute_input": "2020-09-08T03:16:12.426316Z",
          "iopub.status.busy": "2020-09-08T03:16:12.425449Z",
          "iopub.status.idle": "2020-09-08T03:16:12.440260Z",
          "shell.execute_reply": "2020-09-08T03:16:12.439387Z"
        },
        "papermill": {
          "duration": 0.061825,
          "end_time": "2020-09-08T03:16:12.440401",
          "exception": false,
          "start_time": "2020-09-08T03:16:12.378576",
          "status": "completed"
        },
        "tags": [],
        "id": "QHH562lDWh_i"
      },
      "outputs": [],
      "source": [
        "# Box for Confusion Matrix and Model Accuracy\n",
        "\n"
      ]
    },
    {
      "cell_type": "markdown",
      "metadata": {
        "papermill": {
          "duration": 0.035892,
          "end_time": "2020-09-08T03:16:12.515080",
          "exception": false,
          "start_time": "2020-09-08T03:16:12.479188",
          "status": "completed"
        },
        "tags": [],
        "id": "KFEZaj-iWh_i"
      },
      "source": [
        "##### 4-5-SVC"
      ]
    },
    {
      "cell_type": "code",
      "execution_count": null,
      "metadata": {
        "execution": {
          "iopub.execute_input": "2020-09-08T03:16:12.592711Z",
          "iopub.status.busy": "2020-09-08T03:16:12.591334Z",
          "iopub.status.idle": "2020-09-08T03:16:12.595208Z",
          "shell.execute_reply": "2020-09-08T03:16:12.594346Z"
        },
        "papermill": {
          "duration": 0.04455,
          "end_time": "2020-09-08T03:16:12.595349",
          "exception": false,
          "start_time": "2020-09-08T03:16:12.550799",
          "status": "completed"
        },
        "tags": [],
        "id": "rXqFw5gyWh_i"
      },
      "outputs": [],
      "source": [
        "# Box for model\n",
        "\n"
      ]
    },
    {
      "cell_type": "code",
      "execution_count": null,
      "metadata": {
        "execution": {
          "iopub.execute_input": "2020-09-08T03:16:12.685046Z",
          "iopub.status.busy": "2020-09-08T03:16:12.684189Z",
          "iopub.status.idle": "2020-09-08T03:16:12.705415Z",
          "shell.execute_reply": "2020-09-08T03:16:12.704457Z"
        },
        "papermill": {
          "duration": 0.069879,
          "end_time": "2020-09-08T03:16:12.705596",
          "exception": false,
          "start_time": "2020-09-08T03:16:12.635717",
          "status": "completed"
        },
        "tags": [],
        "id": "oirFHKVGWh_i"
      },
      "outputs": [],
      "source": [
        "# Box for fitting \n",
        "\n"
      ]
    },
    {
      "cell_type": "code",
      "execution_count": null,
      "metadata": {
        "execution": {
          "iopub.execute_input": "2020-09-08T03:16:12.790520Z",
          "iopub.status.busy": "2020-09-08T03:16:12.789661Z",
          "iopub.status.idle": "2020-09-08T03:16:12.794409Z",
          "shell.execute_reply": "2020-09-08T03:16:12.795003Z"
        },
        "papermill": {
          "duration": 0.049784,
          "end_time": "2020-09-08T03:16:12.795179",
          "exception": false,
          "start_time": "2020-09-08T03:16:12.745395",
          "status": "completed"
        },
        "tags": [],
        "id": "fmOiZpeOWh_j"
      },
      "outputs": [],
      "source": [
        "# Box for predicting\n"
      ]
    },
    {
      "cell_type": "code",
      "execution_count": null,
      "metadata": {
        "execution": {
          "iopub.execute_input": "2020-09-08T03:16:12.881214Z",
          "iopub.status.busy": "2020-09-08T03:16:12.880041Z",
          "iopub.status.idle": "2020-09-08T03:16:12.892392Z",
          "shell.execute_reply": "2020-09-08T03:16:12.891618Z"
        },
        "papermill": {
          "duration": 0.057881,
          "end_time": "2020-09-08T03:16:12.892529",
          "exception": false,
          "start_time": "2020-09-08T03:16:12.834648",
          "status": "completed"
        },
        "tags": [],
        "id": "z9DeDDj_Wh_j"
      },
      "outputs": [],
      "source": [
        "# Box for Confusion Matrix and Model Accuracy"
      ]
    },
    {
      "cell_type": "code",
      "execution_count": null,
      "metadata": {
        "execution": {
          "iopub.execute_input": "2020-09-08T03:16:12.977135Z",
          "iopub.status.busy": "2020-09-08T03:16:12.975351Z",
          "iopub.status.idle": "2020-09-08T03:16:12.982336Z",
          "shell.execute_reply": "2020-09-08T03:16:12.980913Z"
        },
        "papermill": {
          "duration": 0.052385,
          "end_time": "2020-09-08T03:16:12.982521",
          "exception": false,
          "start_time": "2020-09-08T03:16:12.930136",
          "status": "completed"
        },
        "tags": [],
        "id": "b4O-BMvnWh_j"
      },
      "outputs": [],
      "source": [
        "# Using the example for logistic regression please print the accuracy scores for the 5 models you used.\n",
        "# Please Let me know you conclusions in the last box. \n",
        "# one about the data\n",
        "# the second about which model is best\n",
        "\n",
        "print('Logistic Regression Accuracy: ', accuracy_score(y_test,lr_prediction))\n"
      ]
    },
    {
      "cell_type": "markdown",
      "metadata": {
        "papermill": {
          "duration": 0.039901,
          "end_time": "2020-09-08T03:16:13.061982",
          "exception": false,
          "start_time": "2020-09-08T03:16:13.022081",
          "status": "completed"
        },
        "tags": [],
        "id": "iLClB79bWh_k"
      },
      "source": [
        "### CONCLUSION\n",
        "\n",
        "1. Tell me what you learned from the data\n",
        "\n",
        "2. Which model is best and why?:"
      ]
    }
  ],
  "metadata": {
    "kernelspec": {
      "display_name": "Python 3",
      "language": "python",
      "name": "python3"
    },
    "language_info": {
      "codemirror_mode": {
        "name": "ipython",
        "version": 3
      },
      "file_extension": ".py",
      "mimetype": "text/x-python",
      "name": "python",
      "nbconvert_exporter": "python",
      "pygments_lexer": "ipython3",
      "version": "3.7.6"
    },
    "papermill": {
      "duration": 23.464495,
      "end_time": "2020-09-08T03:16:13.213032",
      "environment_variables": {},
      "exception": null,
      "input_path": "__notebook__.ipynb",
      "output_path": "__notebook__.ipynb",
      "parameters": {},
      "start_time": "2020-09-08T03:15:49.748537",
      "version": "2.1.0"
    },
    "colab": {
      "name": "LoanRepayment_Assignment.ipynb",
      "provenance": []
    }
  },
  "nbformat": 4,
  "nbformat_minor": 0
}