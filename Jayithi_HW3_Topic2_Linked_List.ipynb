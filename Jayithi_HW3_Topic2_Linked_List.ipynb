{
  "cells": [
    {
      "cell_type": "markdown",
      "metadata": {
        "id": "af0fce85"
      },
      "source": [
        "# Jayithi Gavva - Linked List"
      ]
    },
    {
      "cell_type": "markdown",
      "metadata": {
        "id": "espI1YcjEM53"
      },
      "source": [
        "## Linked Lists\n",
        "\n",
        "Implementing operations on linked lists is a staple of programming classes and technical interviews.\n",
        "\n",
        "I resist them because it is unlikely that you will ever have to implement a linked list in your professional work. And if you do, someone has made a bad decision.\n",
        "\n",
        "However, they can be good études, that is, pieces that you practice in order to learn, but never perform."
      ]
    },
    {
      "cell_type": "markdown",
      "metadata": {
        "id": "_cZR5S1nEdKd"
      },
      "source": []
    },
    {
      "cell_type": "markdown",
      "metadata": {
        "id": "jmSUBo9RYRWO"
      },
      "source": [
        "**BEST DEFINITION:**\n",
        "\n",
        "\n",
        "A Python linked list is an abstract data type in Python that allows users to organize information in nodes, which then link to another node in the list. This makes it easier to insert and remove information without changing the index of other items in the list.  "
      ]
    },
    {
      "cell_type": "code",
      "execution_count": 4,
      "metadata": {
        "id": "375EBQ9eED7Q"
      },
      "outputs": [],
      "source": [
        "a = [1, 2, 3, 4, 5, 6]"
      ]
    },
    {
      "cell_type": "code",
      "execution_count": 5,
      "metadata": {
        "id": "9Y0N04QfEkuz"
      },
      "outputs": [
        {
          "name": "stdout",
          "output_type": "stream",
          "text": [
            "1\n",
            "4\n"
          ]
        }
      ],
      "source": [
        "#Examples of why linked lists are important\n",
        "\n",
        "print(a[0])\n",
        "\n",
        "print(a[3])\n",
        "a.remove(4) # removed and then it changed the index\n"
      ]
    },
    {
      "cell_type": "code",
      "execution_count": 6,
      "metadata": {
        "id": "OMHRcgaUEvVJ"
      },
      "outputs": [
        {
          "data": {
            "text/plain": [
              "5"
            ]
          },
          "execution_count": 6,
          "metadata": {},
          "output_type": "execute_result"
        }
      ],
      "source": [
        "a[3] # number returned is changed"
      ]
    },
    {
      "cell_type": "markdown",
      "metadata": {
        "id": "hE9JqVUzE9qg"
      },
      "source": [
        "As we consider alternatives, some of the factors to keep in mind are:\n",
        "\n",
        "* Performance in terms of time and space.\n",
        "\n",
        "* Readability and demonstrably correctness.\n",
        "\n",
        "In general, performance should be asymptotically efficient; for example, if there is a constant time solution, a linear solution would not be acceptable.\n",
        "But we might be willing to pay some overhead to achieve bulletproof correctness."
      ]
    },
    {
      "cell_type": "markdown",
      "metadata": {
        "id": "7aa7d3f6"
      },
      "source": [
        "Here's the class we'll use to represent the nodes in a list."
      ]
    },
    {
      "cell_type": "code",
      "execution_count": 7,
      "metadata": {
        "id": "c3eda892"
      },
      "outputs": [],
      "source": [
        "class Node:\n",
        "    def __init__(self, data, next=None):\n",
        "        self.data = data\n",
        "        self.next = next\n",
        "\n",
        "    def __repr__(self):\n",
        "        return f'Node({self.data}, {repr(self.next)})'"
      ]
    },
    {
      "cell_type": "markdown",
      "metadata": {
        "id": "bbf5ad6f"
      },
      "source": [
        "We can create nodes like this:"
      ]
    },
    {
      "cell_type": "code",
      "execution_count": 8,
      "metadata": {
        "colab": {
          "base_uri": "https://localhost:8080/"
        },
        "id": "3eb18535",
        "outputId": "39855b7b-2cbc-4c30-992d-ba85619598e0",
        "tags": []
      },
      "outputs": [
        {
          "data": {
            "text/plain": [
              "Node(1, None)"
            ]
          },
          "execution_count": 8,
          "metadata": {},
          "output_type": "execute_result"
        }
      ],
      "source": [
        "node1 = Node(1)\n",
        "node2 = Node(2)\n",
        "node3 = Node(3)\n",
        "\n",
        "node1"
      ]
    },
    {
      "cell_type": "markdown",
      "metadata": {
        "id": "fdfd0222"
      },
      "source": [
        "And then link them up, like this:"
      ]
    },
    {
      "cell_type": "code",
      "execution_count": 9,
      "metadata": {
        "id": "80748b5d",
        "tags": []
      },
      "outputs": [],
      "source": [
        "node1.next = node2\n",
        "node2.next = node3"
      ]
    },
    {
      "cell_type": "code",
      "execution_count": 10,
      "metadata": {
        "colab": {
          "base_uri": "https://localhost:8080/"
        },
        "id": "29a7ebcc",
        "outputId": "4bc284c1-a00f-439a-b0eb-84f051d3e880"
      },
      "outputs": [
        {
          "data": {
            "text/plain": [
              "Node(1, Node(2, Node(3, None)))"
            ]
          },
          "execution_count": 10,
          "metadata": {},
          "output_type": "execute_result"
        }
      ],
      "source": [
        "node1"
      ]
    },
    {
      "cell_type": "markdown",
      "metadata": {
        "id": "c0568a9b"
      },
      "source": [
        "There are two ways to think about what `node1` is:\n",
        "\n",
        "* It is \"just\" a node object, which happens to contain a link to another node.\n",
        "\n",
        "* It is the first node in a linked list of nodes.\n",
        "\n",
        "When we pass a node as a parameter, sometimes we think of it as a node and sometimes we think of it as the beginning of a list."
      ]
    },
    {
      "cell_type": "markdown",
      "metadata": {
        "id": "4udYc8vkOFxY"
      },
      "source": [
        "I know it is easy to look at node1 = 2 and think that it's all that it means but the data inside a node could be ANYTHING. It could be data frames it could be pictures. IT COULD BE ANYTHING. And most likely tou access linked lists everytime you are looking through a collection of images online."
      ]
    },
    {
      "cell_type": "markdown",
      "metadata": {
        "id": "f21575f6"
      },
      "source": [
        "## LinkedList objects\n",
        "\n",
        "For some operations, it will be convenient to have another object that represents the whole list (as opposed to one of its nodes).\n",
        "\n",
        "Here's the class definition."
      ]
    },
    {
      "cell_type": "code",
      "execution_count": 11,
      "metadata": {
        "id": "f1c32da2"
      },
      "outputs": [],
      "source": [
        "class LinkedList:\n",
        "    def __init__(self, head=None):\n",
        "        self.head = head\n",
        "\n",
        "    def __repr__(self):\n",
        "        return f'LinkedList({repr(self.head)})'"
      ]
    },
    {
      "cell_type": "markdown",
      "metadata": {
        "id": "c41fb536"
      },
      "source": [
        "If we create a `LinkedList` with a reference to `node1`, we can think of the result as a list with three elements."
      ]
    },
    {
      "cell_type": "code",
      "execution_count": 12,
      "metadata": {
        "colab": {
          "base_uri": "https://localhost:8080/"
        },
        "id": "f8def755",
        "outputId": "e9c92b33-d671-4eea-f4f9-eed34bb45db4",
        "tags": []
      },
      "outputs": [
        {
          "data": {
            "text/plain": [
              "LinkedList(Node(1, Node(2, Node(3, None))))"
            ]
          },
          "execution_count": 12,
          "metadata": {},
          "output_type": "execute_result"
        }
      ],
      "source": [
        "t = LinkedList(node1)\n",
        "t"
      ]
    },
    {
      "cell_type": "markdown",
      "metadata": {
        "id": "e38e3c31"
      },
      "source": [
        "## Search\n",
        "\n"
      ]
    },
    {
      "cell_type": "markdown",
      "metadata": {
        "id": "n5kcyaBVJEio"
      },
      "source": [
        "**Exercise 1:** Write a function called `find2` that takes a `LinkedList` and a target value; if the target value appears in the `LinkedList`, it should return the `Node` that contains it; otherwise it should return `None`. Try to do this without adding attributes to `Node` class"
      ]
    },
    {
      "cell_type": "code",
      "execution_count": 13,
      "metadata": {
        "id": "V0GTWlh5S0im"
      },
      "outputs": [],
      "source": [
        "# Exercise 1 answer\n",
        "\n",
        "def find2(linked_list, target):\n",
        "    current = linked_list.head\n",
        "    while current:\n",
        "        if current.data == target:\n",
        "            return current\n",
        "        current = current.next\n",
        "    return None\n",
        "\n"
      ]
    },
    {
      "cell_type": "code",
      "execution_count": 14,
      "metadata": {
        "id": "415369b0"
      },
      "outputs": [
        {
          "data": {
            "text/plain": [
              "Node(1, Node(2, Node(3, None)))"
            ]
          },
          "execution_count": 14,
          "metadata": {},
          "output_type": "execute_result"
        }
      ],
      "source": [
        "find2(t, 1)"
      ]
    },
    {
      "cell_type": "code",
      "execution_count": 15,
      "metadata": {
        "id": "320aa238"
      },
      "outputs": [
        {
          "data": {
            "text/plain": [
              "Node(3, None)"
            ]
          },
          "execution_count": 15,
          "metadata": {},
          "output_type": "execute_result"
        }
      ],
      "source": [
        "find2(t, 3)"
      ]
    },
    {
      "cell_type": "code",
      "execution_count": 16,
      "metadata": {
        "id": "70165057"
      },
      "outputs": [],
      "source": [
        "find2(t, 5)"
      ]
    },
    {
      "cell_type": "markdown",
      "metadata": {
        "id": "XhPsAfScHBk3"
      },
      "source": [
        "These websites will help you. In class I wasn't able to write a function (that was not an attribute of the linkedlist class). But I have used the links below and some good ole finger grease to write a function that does it. Usually it would be step one to find a function that does it and then include it as an attribute."
      ]
    },
    {
      "cell_type": "markdown",
      "metadata": {
        "id": "UNx2Ls2zG7rU"
      },
      "source": [
        "https://www.tutorialspoint.com/python_data_structure/python_linked_lists.htm#Links to an external site.\n",
        "\n",
        "https://towardsdatascience.com/python-linked-lists-c3622205da81Links to an external site.\n",
        "\n",
        "https://www.geeksforgeeks.org/python-program-for-searching-an-element-in-a-linked-list/Links to an external site.\n",
        "\n",
        "https://builtin.com/data-science/python-linked-listLinks to an external site.\n",
        "\n",
        "https://www.alphacodingskills.com/python/ds/python-linked-list-search-an-element.phpLinks to an external site.\n"
      ]
    },
    {
      "cell_type": "markdown",
      "metadata": {
        "id": "Eu-NuQ1gJF-P"
      },
      "source": [
        "**Exercise 2:** Add, as an attribute called `find` , the function you wrote to a class called  `LinkedList2` that includes the functionality of your class called `LinkedList` and does the same thing as your function above but acts as an attribute of your class. At this point you may add functionality to your `Node` class to make your code more simple.\n",
        "\n",
        "You can store a linkedlist in `t2` for clarity. This answer should be in more clearly in links above. You do not have to include all the functionalities listed under the Node or LinkedList Class at the moment."
      ]
    },
    {
      "cell_type": "code",
      "execution_count": 17,
      "metadata": {
        "id": "bY1aQ8KOOqj-"
      },
      "outputs": [
        {
          "name": "stdout",
          "output_type": "stream",
          "text": [
            "Node found with data: 2\n"
          ]
        }
      ],
      "source": [
        "class Node:\n",
        "    def __init__(self, data, next=None):\n",
        "        # I set the data for this node and link to the next node\n",
        "        self.data = data\n",
        "        self.next = next\n",
        "\n",
        "    def __repr__(self):\n",
        "        \n",
        "        return f'Node({self.data}, {repr(self.next)})'\n",
        "\n",
        "\n",
        "class LinkedList2:\n",
        "    def __init__(self, initial_node=None):\n",
        "        # I initialize the linked list with the head node, if provided\n",
        "        self.head = initial_node\n",
        "\n",
        "    def append(self, data):\n",
        "        # I add a new node with the given data to the end of the list\n",
        "        new_node = Node(data)\n",
        "        if not self.head:\n",
        "            # If the list is empty, the new node becomes the head\n",
        "            self.head = new_node\n",
        "        else:\n",
        "            # Otherwise, I traverse to the end and link the new node\n",
        "            current = self.head\n",
        "            while current.next:\n",
        "                current = current.next\n",
        "            current.next = new_node\n",
        "\n",
        "    def find(self, target):\n",
        "        # I search through the list for a node with the given data\n",
        "        current = self.head\n",
        "        while current:\n",
        "            if current.data == target:\n",
        "                # If I find the node, I return it\n",
        "                return current\n",
        "            current = current.next\n",
        "        # If I don't find the node, I return None\n",
        "        return None\n",
        "\n",
        "# Create some nodes for demonstration\n",
        "nodeA = Node(1)\n",
        "nodeB = Node(2)\n",
        "nodeC = Node(3)\n",
        "\n",
        "# Link the nodes\n",
        "nodeA.next = nodeB\n",
        "nodeB.next = nodeC\n",
        "\n",
        "# Initialize the linked list with the first node\n",
        "t2 = LinkedList2(nodeA)\n",
        "\n",
        "# Find a node with data 2\n",
        "node = t2.find(2)\n",
        "if node:\n",
        "    print(f\"Node found with data: {node.data}\")\n",
        "else:\n",
        "    print(\"Node not found\")\n"
      ]
    },
    {
      "cell_type": "code",
      "execution_count": 18,
      "metadata": {},
      "outputs": [],
      "source": [
        "t2 = LinkedList2(nodeA)"
      ]
    },
    {
      "cell_type": "code",
      "execution_count": 19,
      "metadata": {},
      "outputs": [
        {
          "data": {
            "text/plain": [
              "Node(1, Node(2, Node(3, None)))"
            ]
          },
          "execution_count": 19,
          "metadata": {},
          "output_type": "execute_result"
        }
      ],
      "source": [
        "t2.find(1)"
      ]
    },
    {
      "cell_type": "code",
      "execution_count": 20,
      "metadata": {
        "colab": {
          "base_uri": "https://localhost:8080/"
        },
        "id": "PbMkw5ipO7Jm",
        "outputId": "7d53a87c-1514-430c-9d2b-54eb0092c5d0"
      },
      "outputs": [
        {
          "data": {
            "text/plain": [
              "Node(1, None)"
            ]
          },
          "execution_count": 20,
          "metadata": {},
          "output_type": "execute_result"
        }
      ],
      "source": [
        "nodeA = Node(1)\n",
        "nodeB = Node(2)\n",
        "nodeC = Node(3)\n",
        "\n",
        "nodeA"
      ]
    },
    {
      "cell_type": "code",
      "execution_count": 21,
      "metadata": {
        "id": "TLYreJexPqw8"
      },
      "outputs": [],
      "source": [
        "nodeA.next = nodeB\n",
        "nodeB.next = nodeC"
      ]
    },
    {
      "cell_type": "code",
      "execution_count": 22,
      "metadata": {
        "colab": {
          "base_uri": "https://localhost:8080/"
        },
        "id": "USLajOwjKKa5",
        "outputId": "761844e2-240f-469b-e6c3-260dc6a6bd4e"
      },
      "outputs": [
        {
          "data": {
            "text/plain": [
              "Node(1, Node(2, Node(3, None)))"
            ]
          },
          "execution_count": 22,
          "metadata": {},
          "output_type": "execute_result"
        }
      ],
      "source": [
        "t2.find(1)"
      ]
    },
    {
      "cell_type": "code",
      "execution_count": 23,
      "metadata": {
        "colab": {
          "base_uri": "https://localhost:8080/"
        },
        "id": "7oOq5BfjKKa6",
        "outputId": "128939d6-c458-430f-a212-c87ee43151b3"
      },
      "outputs": [
        {
          "data": {
            "text/plain": [
              "Node(3, None)"
            ]
          },
          "execution_count": 23,
          "metadata": {},
          "output_type": "execute_result"
        }
      ],
      "source": [
        "t2.find(3)"
      ]
    },
    {
      "cell_type": "code",
      "execution_count": 24,
      "metadata": {
        "id": "89ccdQx7KKa6"
      },
      "outputs": [],
      "source": [
        "t2.find(5)"
      ]
    },
    {
      "cell_type": "code",
      "execution_count": 25,
      "metadata": {
        "id": "EmEO4MtYQ55w"
      },
      "outputs": [],
      "source": [
        "# Try your find2 function on your new type of node does it work the same way\n",
        "# you may especially if borrowing code from links have to be very careful about what you call your attributes\n",
        "\n",
        "find2(t2, 5)\n",
        "\n"
      ]
    },
    {
      "cell_type": "markdown",
      "metadata": {
        "id": "44af708a"
      },
      "source": [
        "## Push and Pop\n",
        "\n",
        "Adding and removing elements from the *left* side of a linked list is relatively easy:"
      ]
    },
    {
      "cell_type": "code",
      "execution_count": 26,
      "metadata": {
        "id": "ea6u-ETtLe89"
      },
      "outputs": [],
      "source": [
        "t3 = t2\n",
        "#Any modifications to t3 will affect t2 and vice versa, as they are essentially the same object."
      ]
    },
    {
      "cell_type": "code",
      "execution_count": 27,
      "metadata": {
        "id": "7b522c71",
        "tags": []
      },
      "outputs": [
        {
          "data": {
            "text/plain": [
              "'This function adds a new node with value to the front of the linked list t. It does so by creating\\na new Node with value and setting its next reference to the current head of the list. Then it updates \\nthe head of the list to this new node.'"
            ]
          },
          "execution_count": 27,
          "metadata": {},
          "output_type": "execute_result"
        }
      ],
      "source": [
        "def lpush(t, value):\n",
        "    t.head = Node(value, t.head)\n",
        "#This is what I understood, I think it is correct but idk. This topic is a bit confusing for me, though it seems simple.\n",
        "\"\"\"This function adds a new node with value to the front of the linked list t. It does so by creating\n",
        "a new Node with value and setting its next reference to the current head of the list. Then it updates \n",
        "the head of the list to this new node.\"\"\""
      ]
    },
    {
      "cell_type": "code",
      "execution_count": 28,
      "metadata": {
        "colab": {
          "base_uri": "https://localhost:8080/"
        },
        "id": "oehfu667Ujlk",
        "outputId": "37d6d8b0-efea-4361-ab5e-adaf42b50d2f"
      },
      "outputs": [
        {
          "data": {
            "text/plain": [
              "<__main__.LinkedList2 at 0x13b30f827d0>"
            ]
          },
          "execution_count": 28,
          "metadata": {},
          "output_type": "execute_result"
        }
      ],
      "source": [
        "t2"
      ]
    },
    {
      "cell_type": "code",
      "execution_count": 29,
      "metadata": {
        "colab": {
          "base_uri": "https://localhost:8080/"
        },
        "id": "iSAhZeB0Uoev",
        "outputId": "1e4c5b98-cc9c-472f-e889-34c9325e1b2a"
      },
      "outputs": [
        {
          "data": {
            "text/plain": [
              "<__main__.LinkedList2 at 0x13b30f827d0>"
            ]
          },
          "execution_count": 29,
          "metadata": {},
          "output_type": "execute_result"
        }
      ],
      "source": [
        "t3"
      ]
    },
    {
      "cell_type": "code",
      "execution_count": 30,
      "metadata": {
        "id": "9ee37b46",
        "tags": []
      },
      "outputs": [
        {
          "data": {
            "text/plain": [
              "<__main__.LinkedList2 at 0x13b30f827d0>"
            ]
          },
          "execution_count": 30,
          "metadata": {},
          "output_type": "execute_result"
        }
      ],
      "source": [
        "# Showing  you anything can go in linked lists\n",
        "\n",
        "lpush(t3, [1, 2, 3])\n",
        "lpush(t3, [3, 5, 7])\n",
        "lpush(t3, [7, 14, 21])\n",
        "\"\"\"Each lpush call adds a new node to the front of the linked list. The list will have [7, 14, 21] at the front, followed by [3, 5, 7], and then [1, 2, 3].\"\"\"\n",
        "t3"
      ]
    },
    {
      "cell_type": "code",
      "execution_count": 31,
      "metadata": {
        "id": "VorDjQTsY9A0"
      },
      "outputs": [
        {
          "data": {
            "text/plain": [
              "<__main__.LinkedList2 at 0x13b30f827d0>"
            ]
          },
          "execution_count": 31,
          "metadata": {},
          "output_type": "execute_result"
        }
      ],
      "source": [
        "# Remember that setting variables only links an object to a variable\n",
        "# so even though we are changing t3 it actually impacts the real object t2\n",
        "# this is different with dataframes\n",
        "#From what I understood, any change done to t3 will affect t2 because both are linked. But I think that's messed up, cuz we can't create a temporary linked list or something like that\n",
        "t2"
      ]
    },
    {
      "cell_type": "code",
      "execution_count": 32,
      "metadata": {
        "id": "541d2764",
        "tags": []
      },
      "outputs": [],
      "source": [
        "def lpop(t):\n",
        "    if t.head is None:\n",
        "        raise ValueError('Tried to pop from empty LinkedList')\n",
        "    node = t.head\n",
        "    t.head = node.next\n",
        "    return node.data"
      ]
    },
    {
      "cell_type": "code",
      "execution_count": 33,
      "metadata": {
        "id": "091cf27c",
        "tags": []
      },
      "outputs": [
        {
          "data": {
            "text/plain": [
              "([7, 14, 21], [3, 5, 7], [1, 2, 3])"
            ]
          },
          "execution_count": 33,
          "metadata": {},
          "output_type": "execute_result"
        }
      ],
      "source": [
        "lpop(t3), lpop(t3), lpop(t3)"
      ]
    },
    {
      "cell_type": "code",
      "execution_count": 34,
      "metadata": {
        "id": "1W_mNkcdV80c"
      },
      "outputs": [
        {
          "data": {
            "text/plain": [
              "(1, 2, 3)"
            ]
          },
          "execution_count": 34,
          "metadata": {},
          "output_type": "execute_result"
        }
      ],
      "source": [
        "lpop(t3), lpop(t3), lpop(t3)"
      ]
    },
    {
      "cell_type": "code",
      "execution_count": 35,
      "metadata": {
        "id": "orymUNgIVzSP"
      },
      "outputs": [
        {
          "data": {
            "text/plain": [
              "'Each lpop removed the front node of the list and returned its value. The values [7, 14, 21], [3, 5, 7], and [1, 2, 3] were removed in that order.\\nAfter removing all the nodes, the linked list was empty. So it is returning an error.'"
            ]
          },
          "execution_count": 35,
          "metadata": {},
          "output_type": "execute_result"
        }
      ],
      "source": [
        "# lpop(t3)\n",
        "\"\"\"Each lpop removed the front node of the list and returned its value. The values [7, 14, 21], [3, 5, 7], and [1, 2, 3] were removed in that order.\n",
        "After removing all the nodes, the linked list was empty. So it is returning an error.\"\"\""
      ]
    },
    {
      "cell_type": "code",
      "execution_count": 36,
      "metadata": {
        "id": "db0fiJGaY3VN"
      },
      "outputs": [
        {
          "data": {
            "text/plain": [
              "<__main__.LinkedList2 at 0x13b30f827d0>"
            ]
          },
          "execution_count": 36,
          "metadata": {},
          "output_type": "execute_result"
        }
      ],
      "source": [
        "t2"
      ]
    },
    {
      "cell_type": "markdown",
      "metadata": {
        "id": "82eaab11"
      },
      "source": [
        "\n",
        "\n",
        "**Exercise 3:** Write `rpush` and `rpop`. Adding and removing from the end right side take longer because we have to traverse the list. You may write this as a function. Or as an attribute of `LinkedList3`\n",
        "\n",
        "\n",
        "If you choose to add it as an attribute.\n",
        "You may need to add an attribute to LinkedList `__init__` called self.last_node to make this work.\n",
        "\n",
        "But it is possible to do it without it."
      ]
    },
    {
      "cell_type": "code",
      "execution_count": 37,
      "metadata": {
        "id": "PZhKhiO5a6MC"
      },
      "outputs": [],
      "source": [
        "class Node:\n",
        "    def __init__(self, data, next=None):\n",
        "        self.data = data\n",
        "        self.next = next\n",
        "\n",
        "class LinkedList3:\n",
        "    def __init__(self):\n",
        "        self.head = None\n",
        "\n",
        "    def rpush(self, value):\n",
        "        new_node = Node(value)\n",
        "        if self.head is None:\n",
        "            self.head = new_node\n",
        "            return\n",
        "        current = self.head\n",
        "        while current.next:\n",
        "            current = current.next\n",
        "        current.next = new_node\n",
        "\n",
        "    def rpop(self):\n",
        "        if self.head is None:\n",
        "            raise ValueError('Tried to pop from empty LinkedList')\n",
        "        if self.head.next is None:\n",
        "            data = self.head.data\n",
        "            self.head = None\n",
        "            return data\n",
        "        current = self.head\n",
        "        while current.next.next:\n",
        "            current = current.next\n",
        "        data = current.next.data\n",
        "        current.next = None\n",
        "        return data\n"
      ]
    },
    {
      "cell_type": "code",
      "execution_count": 38,
      "metadata": {
        "id": "XyvRVvdda6MD"
      },
      "outputs": [],
      "source": [
        "t4 = LinkedList3()"
      ]
    },
    {
      "cell_type": "code",
      "execution_count": 39,
      "metadata": {
        "id": "X_ZmErZoZ4Jd"
      },
      "outputs": [
        {
          "data": {
            "text/plain": [
              "<__main__.LinkedList3 at 0x13b30f96d90>"
            ]
          },
          "execution_count": 39,
          "metadata": {},
          "output_type": "execute_result"
        }
      ],
      "source": [
        "t4.rpush({1, 2, 3, 4})\n",
        "t4"
      ]
    },
    {
      "cell_type": "markdown",
      "metadata": {
        "id": "4c3b6a6c"
      },
      "source": [
        "## Reverse\n",
        "\n",
        "Reversing a linked list is a classic interview question, although at this point it is so classic you will probably never encounter it.\n",
        "\n",
        "But it is still a good exercise, in part because there are so many ways to do it. My solutions here are based on [this tutorial](https://www.geeksforgeeks.org/reverse-a-linked-list/)."
      ]
    },
    {
      "cell_type": "markdown",
      "metadata": {
        "id": "0c1dc751"
      },
      "source": [
        "If you are allowed to make a new list, you can traverse the old list and `lpush` the elements onto the new list:"
      ]
    },
    {
      "cell_type": "code",
      "execution_count": 40,
      "metadata": {
        "id": "8e09adea"
      },
      "outputs": [],
      "source": [
        "def reverse(t):\n",
        "    t2 = LinkedList()\n",
        "    node = t.head\n",
        "    while node:\n",
        "        lpush(t2, node.data)\n",
        "        node = node.next\n",
        "\n",
        "    return t2"
      ]
    },
    {
      "cell_type": "code",
      "execution_count": 41,
      "metadata": {
        "colab": {
          "base_uri": "https://localhost:8080/"
        },
        "id": "Frlc4Wraeajk",
        "outputId": "3c540922-8294-4f44-a653-231a26cde3b0"
      },
      "outputs": [
        {
          "data": {
            "text/plain": [
              "LinkedList(Node(1, Node(2, Node(3, None))))"
            ]
          },
          "execution_count": 41,
          "metadata": {},
          "output_type": "execute_result"
        }
      ],
      "source": [
        "t"
      ]
    },
    {
      "cell_type": "code",
      "execution_count": 42,
      "metadata": {
        "colab": {
          "base_uri": "https://localhost:8080/"
        },
        "id": "fd9fcc52",
        "outputId": "32975126-811b-44bd-aef9-e90464a4250f"
      },
      "outputs": [
        {
          "data": {
            "text/plain": [
              "LinkedList(<__main__.Node object at 0x0000013B30FAC810>)"
            ]
          },
          "execution_count": 42,
          "metadata": {},
          "output_type": "execute_result"
        }
      ],
      "source": [
        "t = LinkedList(Node(1, Node(2, Node(3, None))))\n",
        "reverse(t)"
      ]
    },
    {
      "cell_type": "markdown",
      "metadata": {
        "id": "650cd970"
      },
      "source": [
        "Here's a recursive version that doesn't allocate anything"
      ]
    },
    {
      "cell_type": "code",
      "execution_count": 43,
      "metadata": {
        "id": "39ecaac5"
      },
      "outputs": [],
      "source": [
        "def reverse(t):\n",
        "    t.head = reverse_rec(t.head)\n",
        "\n",
        "def reverse_rec(node):\n",
        "\n",
        "    # if there are 0 or 1 nodes\n",
        "    if node is None or node.next is None:\n",
        "        return node\n",
        "\n",
        "    # reverse the rest LinkedList\n",
        "    rest = reverse_rec(node.next)\n",
        "\n",
        "    # Put first element at the end\n",
        "    node.next.next = node\n",
        "    node.next = None\n",
        "\n",
        "    return rest"
      ]
    },
    {
      "cell_type": "code",
      "execution_count": 44,
      "metadata": {
        "colab": {
          "base_uri": "https://localhost:8080/"
        },
        "id": "a1b1c5b4",
        "outputId": "ee1b5573-ecbb-4701-f2bb-80ab049399d3"
      },
      "outputs": [
        {
          "data": {
            "text/plain": [
              "LinkedList(<__main__.Node object at 0x0000013B30E7BAD0>)"
            ]
          },
          "execution_count": 44,
          "metadata": {},
          "output_type": "execute_result"
        }
      ],
      "source": [
        "t = LinkedList(Node(\"a\", Node(\"p\", Node(3, None))))\n",
        "reverse(t)\n",
        "t"
      ]
    },
    {
      "cell_type": "markdown",
      "metadata": {
        "id": "24e735a0"
      },
      "source": [
        "And finally an iterative version that doesn't allocate anything."
      ]
    },
    {
      "cell_type": "code",
      "execution_count": 45,
      "metadata": {
        "id": "a99a76d9"
      },
      "outputs": [],
      "source": [
        "def reverse(t):\n",
        "    prev = None\n",
        "    current = t.head\n",
        "    while current :\n",
        "        next = current.next\n",
        "        current.next = prev\n",
        "        prev = current\n",
        "        current = next\n",
        "    t.head = prev"
      ]
    },
    {
      "cell_type": "code",
      "execution_count": 46,
      "metadata": {
        "colab": {
          "base_uri": "https://localhost:8080/"
        },
        "id": "bfe8841a",
        "outputId": "37e13a68-43ad-48fc-c6a9-da3ce1cd6c91"
      },
      "outputs": [
        {
          "data": {
            "text/plain": [
              "LinkedList(<__main__.Node object at 0x0000013B30E16150>)"
            ]
          },
          "execution_count": 46,
          "metadata": {},
          "output_type": "execute_result"
        }
      ],
      "source": [
        "t = LinkedList(Node(1, Node(2, Node(3, None))))\n",
        "reverse(t)\n",
        "t"
      ]
    },
    {
      "cell_type": "markdown",
      "metadata": {
        "id": "cf2e89ec"
      },
      "source": [
        "## Remove\n",
        "\n",
        "One of the advantages of a linked list (compared to an array list) is that we can add and remove elements from the middle of the list in constant time.\n",
        "\n",
        "For example, the following function takes a node and removes the node that follows it."
      ]
    },
    {
      "cell_type": "code",
      "execution_count": 47,
      "metadata": {
        "id": "9b7d0ef5"
      },
      "outputs": [],
      "source": [
        "def remove_after(node):\n",
        "    removed = node.next\n",
        "    node.next = node.next.next\n",
        "    return removed.data"
      ]
    },
    {
      "cell_type": "markdown",
      "metadata": {
        "id": "2e0f3d2b"
      },
      "source": [
        "Here's an example:"
      ]
    },
    {
      "cell_type": "code",
      "execution_count": 48,
      "metadata": {
        "id": "fbb1598d"
      },
      "outputs": [
        {
          "data": {
            "text/plain": [
              "LinkedList(<__main__.Node object at 0x0000013B30FAEED0>)"
            ]
          },
          "execution_count": 48,
          "metadata": {},
          "output_type": "execute_result"
        }
      ],
      "source": [
        "t = LinkedList(Node(1, Node(2, Node(3, None))))\n",
        "remove_after(t.head)\n",
        "t"
      ]
    },
    {
      "cell_type": "markdown",
      "metadata": {
        "id": "2208f44f"
      },
      "source": [
        "**Exercise 4:** Write a function called `remove_bykey` that takes a LinkedList and a target value. It should remove the first node that contains the value, or raise a `ValueError` if it is not found.\n",
        "\n",
        "Hint: This one is a little tricky.\n",
        "\n",
        "This is going to help you remove a value...but it won't helpy you raise the value error\n",
        "\n",
        "you can also try adding a normal remove function\n",
        "\n",
        "https://www.alphacodingskills.com/python/ds/python-delete-first-node-by-key-of-the-linked-list.php"
      ]
    },
    {
      "cell_type": "code",
      "execution_count": 49,
      "metadata": {
        "id": "rHTOoINJfHZy"
      },
      "outputs": [],
      "source": [
        "def remove_bykey(linked_list, key):\n",
        "    if linked_list.head is None:\n",
        "        raise ValueError('Tried to remove from empty LinkedList')\n",
        "\n",
        "    # Special case: the node to remove is the head\n",
        "    if linked_list.head.data == key:\n",
        "        linked_list.head = linked_list.head.next\n",
        "        if linked_list.head is None:  # If the list becomes empty\n",
        "            linked_list.last_node = None\n",
        "        return\n",
        "    \n",
        "    # Traverse the list to find the node to remove\n",
        "    current = linked_list.head\n",
        "    while current.next and current.next.data != key:\n",
        "        current = current.next\n",
        "\n",
        "    if current.next is None:\n",
        "        raise ValueError(f'Value {key} not found in the LinkedList')\n",
        "    \n",
        "    # Remove the node\n",
        "    current.next = current.next.next\n",
        "    if current.next is None:  # If the removed node was the last node\n",
        "        linked_list.last_node = current"
      ]
    },
    {
      "cell_type": "code",
      "execution_count": 50,
      "metadata": {
        "id": "caLEF80NfJ6D"
      },
      "outputs": [
        {
          "data": {
            "text/plain": [
              "<__main__.LinkedList2 at 0x13b30f827d0>"
            ]
          },
          "execution_count": 50,
          "metadata": {},
          "output_type": "execute_result"
        }
      ],
      "source": [
        "t3"
      ]
    },
    {
      "cell_type": "code",
      "execution_count": 51,
      "metadata": {
        "id": "wxiXNJc9fMxG"
      },
      "outputs": [],
      "source": [
        "# remove_bykey(t3, 3)\n",
        "# ValueError: Tried to remove from empty LinkedList"
      ]
    },
    {
      "cell_type": "code",
      "execution_count": 52,
      "metadata": {
        "id": "p6OG0MerfdJ5"
      },
      "outputs": [],
      "source": [
        "# remove_bykey(t3, [7,14, 21])\n",
        "# ValueError: Tried to remove from empty LinkedList"
      ]
    },
    {
      "cell_type": "code",
      "execution_count": 53,
      "metadata": {
        "id": "ZAA_X6hGfZY_"
      },
      "outputs": [
        {
          "data": {
            "text/plain": [
              "<__main__.LinkedList2 at 0x13b30f827d0>"
            ]
          },
          "execution_count": 53,
          "metadata": {},
          "output_type": "execute_result"
        }
      ],
      "source": [
        "t3"
      ]
    },
    {
      "cell_type": "markdown",
      "metadata": {
        "id": "ab7f0a6a"
      },
      "source": [
        "## Insert Sorted\n",
        "\n",
        "Similarly, you can insert an element into the middle of a linked list in constant time.\n",
        "\n",
        "The following function inserts `data` after the given node in a list."
      ]
    },
    {
      "cell_type": "code",
      "execution_count": 54,
      "metadata": {
        "id": "3e754808"
      },
      "outputs": [],
      "source": [
        "def insert_after(node, data):\n",
        "    node.next = Node(data, node.next)"
      ]
    },
    {
      "cell_type": "code",
      "execution_count": 55,
      "metadata": {
        "id": "c8022b07"
      },
      "outputs": [
        {
          "data": {
            "text/plain": [
              "LinkedList(<__main__.Node object at 0x0000013B30FC0990>)"
            ]
          },
          "execution_count": 55,
          "metadata": {},
          "output_type": "execute_result"
        }
      ],
      "source": [
        "t = LinkedList(Node(1, Node(2, Node(3, None))))\n",
        "insert_after(t.head, 5)\n",
        "t"
      ]
    },
    {
      "cell_type": "markdown",
      "metadata": {
        "id": "5f2a2a1c"
      },
      "source": [
        "**Exercise 5:** Add as an attribute a function called `insert_sorted` (also known as `insort`) that takes a linked list and a value and inserts the value in the list in the first place where it will be in increasing sorted order, that is, with the smallest element at the beginning.\n",
        "\n",
        "I would name this as a different named Linked List4 for clarity, also remember to include `self.next` as a functionality"
      ]
    },
    {
      "cell_type": "code",
      "execution_count": 56,
      "metadata": {
        "id": "5DOpSKqPlOVO"
      },
      "outputs": [],
      "source": [
        "class LinkedList4:\n",
        "\n",
        "    # Function to initialize head\n",
        "    def __init__(self):\n",
        "        self.head = None\n",
        "        self.next = None\n",
        "\n",
        "    def sortedInsert(self, new_node):\n",
        "\n",
        "        # Special case for the empty linked list\n",
        "        if self.head is None:\n",
        "            new_node.next = self.head\n",
        "            self.head = new_node\n",
        "\n",
        "        # Special case for head at end\n",
        "        elif self.head.data >= new_node.data:\n",
        "            new_node.next = self.head\n",
        "            self.head = new_node\n",
        "\n",
        "        else :\n",
        "\n",
        "            # Locate the node before the point of insertion\n",
        "            current = self.head\n",
        "            while(current.next is not None and\n",
        "                 current.next.data < new_node.data):\n",
        "                current = current.next\n",
        "\n",
        "            new_node.next = current.next\n",
        "            current.next = new_node\n",
        "\n",
        "    # Function to insert a new node at the beginning\n",
        "    def push(self, new_data):\n",
        "        new_node = Node(new_data)\n",
        "        new_node.next = self.head\n",
        "        self.head = new_node\n",
        "\n",
        "\n",
        "    def __repr__(self):\n",
        "        return f'LinkedList({repr(self.head)})'"
      ]
    },
    {
      "cell_type": "code",
      "execution_count": 57,
      "metadata": {
        "id": "IeseDEOeli4y"
      },
      "outputs": [],
      "source": [
        "t6 = LinkedList4()\n"
      ]
    },
    {
      "cell_type": "code",
      "execution_count": 58,
      "metadata": {
        "id": "0SuBThtHl1Qr"
      },
      "outputs": [
        {
          "data": {
            "text/plain": [
              "LinkedList(None)"
            ]
          },
          "execution_count": 58,
          "metadata": {},
          "output_type": "execute_result"
        }
      ],
      "source": [
        "t6"
      ]
    },
    {
      "cell_type": "code",
      "execution_count": 59,
      "metadata": {
        "id": "h2bS2FhVmGHo"
      },
      "outputs": [
        {
          "data": {
            "text/plain": [
              "LinkedList(<__main__.Node object at 0x0000013B30FC0510>)"
            ]
          },
          "execution_count": 59,
          "metadata": {},
          "output_type": "execute_result"
        }
      ],
      "source": [
        "t6.push(100)\n",
        "t6.push(120)\n",
        "t6.push(130)\n",
        "t6.push(175)\n",
        "t6.push(2000)\n",
        "t6"
      ]
    },
    {
      "cell_type": "code",
      "execution_count": 60,
      "metadata": {
        "id": "uuYIf7rV8hLe"
      },
      "outputs": [
        {
          "data": {
            "text/plain": [
              "LinkedList(<__main__.Node object at 0x0000013B30FC0510>)"
            ]
          },
          "execution_count": 60,
          "metadata": {},
          "output_type": "execute_result"
        }
      ],
      "source": [
        "new_node1= Node(2001)\n",
        "new_node2 = Node(2002)\n",
        "new_node3 = Node(125)\n",
        "new_node4 = Node(121)\n",
        "\n",
        "\n",
        "t6.sortedInsert(new_node1)\n",
        "t6"
      ]
    },
    {
      "cell_type": "code",
      "execution_count": 61,
      "metadata": {
        "id": "_ZuiM30wBNVk"
      },
      "outputs": [
        {
          "data": {
            "text/plain": [
              "LinkedList(<__main__.Node object at 0x0000013B30FC2110>)"
            ]
          },
          "execution_count": 61,
          "metadata": {},
          "output_type": "execute_result"
        }
      ],
      "source": [
        "t6.sortedInsert(new_node4)\n",
        "t6"
      ]
    },
    {
      "cell_type": "code",
      "execution_count": 62,
      "metadata": {
        "id": "6heAjql8Bp9P"
      },
      "outputs": [],
      "source": [
        "new_node5 = Node(3000)\n",
        "new_node6 = Node(176)"
      ]
    },
    {
      "cell_type": "code",
      "execution_count": 63,
      "metadata": {
        "id": "UeYNIzmWBvHX"
      },
      "outputs": [],
      "source": [
        "t6.sortedInsert(new_node5)"
      ]
    },
    {
      "cell_type": "code",
      "execution_count": 64,
      "metadata": {
        "id": "qNfLU52yB8yz"
      },
      "outputs": [],
      "source": [
        "t6.sortedInsert(new_node6)"
      ]
    },
    {
      "cell_type": "code",
      "execution_count": 65,
      "metadata": {
        "id": "XD6UBh6MCAFx"
      },
      "outputs": [
        {
          "data": {
            "text/plain": [
              "LinkedList(<__main__.Node object at 0x0000013B30FC2110>)"
            ]
          },
          "execution_count": 65,
          "metadata": {},
          "output_type": "execute_result"
        }
      ],
      "source": [
        "t6"
      ]
    },
    {
      "cell_type": "code",
      "execution_count": 66,
      "metadata": {
        "id": "ATinq5G6CDT4"
      },
      "outputs": [],
      "source": [
        "new_node7 = Node(178)\n",
        "t6.sortedInsert(new_node7)"
      ]
    },
    {
      "cell_type": "code",
      "execution_count": 67,
      "metadata": {
        "id": "v0fgWVACCMTr"
      },
      "outputs": [
        {
          "data": {
            "text/plain": [
              "LinkedList(<__main__.Node object at 0x0000013B30FC2110>)"
            ]
          },
          "execution_count": 67,
          "metadata": {},
          "output_type": "execute_result"
        }
      ],
      "source": [
        "t6"
      ]
    },
    {
      "cell_type": "code",
      "execution_count": 68,
      "metadata": {
        "id": "hKIqvhF8_NtH"
      },
      "outputs": [],
      "source": [
        "t3 = LinkedList4()"
      ]
    },
    {
      "cell_type": "code",
      "execution_count": 69,
      "metadata": {
        "id": "8O7uykt3_VVO"
      },
      "outputs": [],
      "source": [
        "t3.sortedInsert(new_node1)\n",
        "t3.sortedInsert(new_node3)"
      ]
    },
    {
      "cell_type": "code",
      "execution_count": 70,
      "metadata": {
        "id": "EAkdNQHgA6Ju"
      },
      "outputs": [
        {
          "data": {
            "text/plain": [
              "LinkedList(<__main__.Node object at 0x0000013B30FC0F10>)"
            ]
          },
          "execution_count": 70,
          "metadata": {},
          "output_type": "execute_result"
        }
      ],
      "source": [
        "t3"
      ]
    },
    {
      "cell_type": "code",
      "execution_count": 71,
      "metadata": {
        "id": "cOzzZqvEBEbl"
      },
      "outputs": [],
      "source": [
        "t3.sortedInsert(new_node2)"
      ]
    },
    {
      "cell_type": "code",
      "execution_count": 72,
      "metadata": {
        "id": "poqle4yTBIV-"
      },
      "outputs": [
        {
          "data": {
            "text/plain": [
              "LinkedList(<__main__.Node object at 0x0000013B30FC0F10>)"
            ]
          },
          "execution_count": 72,
          "metadata": {},
          "output_type": "execute_result"
        }
      ],
      "source": [
        "t3"
      ]
    },
    {
      "cell_type": "markdown",
      "metadata": {
        "id": "JzRtnLFXC5XD"
      },
      "source": [
        "## Make a complete Linked List\n",
        "\n",
        "**Exercise 6:** Make a `Node` class and a `LinkedList` class with the best and most functionality that you can. Please demonstrate the features. You can also include small explanations for why you included different pieces. Make sure to name your pieces correctly. A lot of the examples oscillate between data or val, or have different names for variables.\n",
        "\n",
        "For example: I think the `__repr__` methods are indispensable but other exmamples didn't include it."
      ]
    },
    {
      "cell_type": "markdown",
      "metadata": {},
      "source": [
        "- **Node Class**: Stores data and a reference to the next node. The `__repr__` method provides a clear representation of the node, which is helpful for debugging.\n",
        "- **LinkedList Class**:\n",
        "  - **`append`**: Adds a new node at the end of the list.\n",
        "  - **`prepend`**: Adds a new node at the beginning of the list.\n",
        "  - **`delete_with_value`**: Removes the first node with the specified value.\n",
        "  - **`find`**: Searches for a node with a specific value.\n",
        "  - **`__repr__`**: Provides a string representation of the entire list, which is useful for visualization."
      ]
    },
    {
      "cell_type": "code",
      "execution_count": 73,
      "metadata": {},
      "outputs": [],
      "source": [
        "class Node:\n",
        "    def __init__(self, data=None):\n",
        "        self.data = data  # Store the data for this node\n",
        "        self.next = None  # Reference to the next node in the list\n",
        "\n",
        "    def __repr__(self):\n",
        "        return f\"Node({self.data})\"\n",
        "#The `Node` class represents a single element in the linked list. It stores data and a reference to the next node in the list."
      ]
    },
    {
      "cell_type": "code",
      "execution_count": 74,
      "metadata": {},
      "outputs": [],
      "source": [
        "class LinkedList:\n",
        "    def __init__(self):\n",
        "        self.head = None  # Initialize the linked list with no nodes\n",
        "\n",
        "    def append(self, data):\n",
        "        new_node = Node(data)  # Create a new node\n",
        "        if not self.head:\n",
        "            self.head = new_node  # If list is empty, make new node the head\n",
        "            return\n",
        "        last_node = self.head\n",
        "        while last_node.next:\n",
        "            last_node = last_node.next  # Traverse to the end of the list\n",
        "        last_node.next = new_node  # Append new node at the end\n",
        "\n",
        "    def prepend(self, data):\n",
        "        new_node = Node(data)  # Create a new node\n",
        "        new_node.next = self.head  # Set the new node's next to the current head\n",
        "        self.head = new_node  # Update the head to the new node\n",
        "\n",
        "    def delete_with_value(self, data):\n",
        "        current_node = self.head\n",
        "        if current_node and current_node.data == data:\n",
        "            self.head = current_node.next  # Remove the head node\n",
        "            return\n",
        "        prev_node = None\n",
        "        while current_node and current_node.data != data:\n",
        "            prev_node = current_node\n",
        "            current_node = current_node.next\n",
        "        if current_node:\n",
        "            prev_node.next = current_node.next  # Remove the node\n",
        "\n",
        "    def find(self, data):\n",
        "        current_node = self.head\n",
        "        while current_node:\n",
        "            if current_node.data == data:\n",
        "                return current_node  # Return the node if found\n",
        "            current_node = current_node.next\n",
        "        return None  # Return None if the node was not found\n",
        "\n",
        "    def __repr__(self):\n",
        "        nodes = []\n",
        "        current_node = self.head\n",
        "        while current_node:\n",
        "            nodes.append(repr(current_node))\n",
        "            current_node = current_node.next\n",
        "        return \" -> \".join(nodes) if nodes else \"Empty List\""
      ]
    },
    {
      "cell_type": "code",
      "execution_count": 75,
      "metadata": {},
      "outputs": [
        {
          "name": "stdout",
          "output_type": "stream",
          "text": [
            "Linked List after appending and prepending:\n",
            "Node(0) -> Node(1) -> Node(2) -> Node(3)\n",
            "Found node: Node(2)\n",
            "Linked List after deleting node with value 2:\n",
            "Node(0) -> Node(1) -> Node(3)\n"
          ]
        }
      ],
      "source": [
        "# Create a linked list\n",
        "ll = LinkedList()\n",
        "\n",
        "# Append some nodes\n",
        "ll.append(1)\n",
        "ll.append(2)\n",
        "ll.append(3)\n",
        "\n",
        "# Prepend a node\n",
        "ll.prepend(0)\n",
        "\n",
        "print(\"Linked List after appending and prepending:\")\n",
        "print(ll)  # Output should be: Node(0) -> Node(1) -> Node(2) -> Node(3)\n",
        "\n",
        "# Find a node\n",
        "found_node = ll.find(2)\n",
        "print(\"Found node:\", found_node)  # Output should be: Node(2)\n",
        "\n",
        "# Delete a node\n",
        "ll.delete_with_value(2)\n",
        "\n",
        "print(\"Linked List after deleting node with value 2:\")\n",
        "print(ll)  # Output should be: Node(0) -> Node(1) -> Node(3)"
      ]
    }
  ],
  "metadata": {
    "colab": {
      "provenance": []
    },
    "kernelspec": {
      "display_name": "Python 3",
      "name": "python3"
    },
    "language_info": {
      "codemirror_mode": {
        "name": "ipython",
        "version": 3
      },
      "file_extension": ".py",
      "mimetype": "text/x-python",
      "name": "python",
      "nbconvert_exporter": "python",
      "pygments_lexer": "ipython3",
      "version": "3.11.7"
    }
  },
  "nbformat": 4,
  "nbformat_minor": 0
}
