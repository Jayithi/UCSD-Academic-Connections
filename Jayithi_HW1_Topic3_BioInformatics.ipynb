{
  "metadata": {
    "kernelspec": {
      "name": "python",
      "display_name": "Python (Pyodide)",
      "language": "python"
    },
    "language_info": {
      "codemirror_mode": {
        "name": "python",
        "version": 3
      },
      "file_extension": ".py",
      "mimetype": "text/x-python",
      "name": "python",
      "nbconvert_exporter": "python",
      "pygments_lexer": "ipython3",
      "version": "3.8"
    },
    "colab": {
      "provenance": []
    }
  },
  "nbformat_minor": 4,
  "nbformat": 4,
  "cells": [
    {
      "cell_type": "markdown",
      "source": "# Problem 1\n\n",
      "metadata": {
        "id": "u1MZIpwtDPzZ"
      }
    },
    {
      "cell_type": "markdown",
      "source": "Part 1\n\nWrite a function count_pairs(dna, pair) that\nreturns the number of occurrences of a pair of\ncharacters (pair) in a DNA string (dna). For\nexample, calling the function with dna as\n'ACTGCTATCCATT' and pair as 'AT' will return 2.",
      "metadata": {
        "id": "Xj2unJpADYyV"
      }
    },
    {
      "cell_type": "code",
      "source": "def count_pairs(dna, pair):\n    count = 0\n    pair_length = len(pair)\n    dna_length = len(dna)\n    \n    # Iterate through the DNA string\n    for i in range(dna_length - pair_length + 1):\n        # Check if the substring matches the pair\n        if dna[i:i+pair_length] == pair:\n            count += 1\n    \n    return count\n",
      "metadata": {
        "id": "K0aCswCoDbhx"
      },
      "outputs": [],
      "execution_count": 3
    },
    {
      "cell_type": "code",
      "source": "dna_sequence = 'ACTGCTATCCATT'\npair_to_find = 'AT'\nresult = count_pairs(dna_sequence, pair_to_find)\nprint(f\"Number of occurrences of '{pair_to_find}' in '{dna_sequence}': {result}\")  # Output: Number of occurrences of 'AT' in 'ACTGCTATCCATT': 2\n",
      "metadata": {},
      "outputs": [
        {
          "name": "stdout",
          "output_type": "stream",
          "text": [
            "Number of occurrences of 'AT' in 'ACTGCTATCCATT': 2\n"
          ]
        }
      ],
      "execution_count": 4
    },
    {
      "cell_type": "markdown",
      "source": "Part 2:\n\nThis is an extension of Exercise 1: Find pairs of\ncharacters: count how many times a certain string\nappears in another string. For example, the function\nreturns 3 when called with the DNA string\n'ACGTTACGGAACG' and the substring 'ACG'.\n\nHint. For each match of the ﬁrst character of the\nsubstring in the main string, check if the next n\ncharacters in the main string matches the substring,\nwhere n is the length of the substring. Use slices like\ns[3:9] to pick out a substring of s.\n\n",
      "metadata": {
        "id": "fkMpxX0UDbIZ"
      }
    },
    {
      "cell_type": "code",
      "source": "def count_substring(main_string, sub_string):\n    return main_string.count(sub_string)\n\nmain_string = 'ACGTTACGGAACG'\nsubstring = 'ACG'\nresult = count_substring(main_string, substring)\nprint(f\"Number of occurrences of '{substring}' in '{main_string}': {result}\")",
      "metadata": {
        "id": "3dpxMe5ADviA",
        "trusted": true
      },
      "outputs": [
        {
          "name": "stdout",
          "text": "Number of occurrences of 'ACG' in 'ACGTTACGGAACG': 3\n",
          "output_type": "stream"
        }
      ],
      "execution_count": 4
    },
    {
      "cell_type": "markdown",
      "source": "# Problem 2\n",
      "metadata": {
        "id": "ujLdWb09Dxak"
      }
    },
    {
      "cell_type": "markdown",
      "source": "Counting DNA Nucleotides\n\nA string is simply an ordered collection of symbols selected from some alphabet and formed into a word; the length of a string is the\nnumber of symbols that it contains.\n\nAn example of a length 21 DNA string (whose alphabet contains the symbols 'A', 'C', 'G', and 'T') is \"ATGCTTCAGAAAGGTCTTACG.\"\n\nGiven: A DNA string s of length at most 1000 nt.\n\nReturn: Four integers (separated by spaces) counting the respective number of times that the symbols 'A', 'C', 'G', and 'T' occur in s.\n\nSample Data Set:\nAGCTTTTCATTCTGACTGCAACGGGCAATATGTCTCTGTGTGGATTAAAAAAAGAGTGTCTGATAGCAGC\n\nSample Output:\n\n`20 12 17 21`\n\nVisit: http://rosalind.info/problems/dna/\n\nI have only given you one sample output here. But you need to make sure that your code works for all outputs.",
      "metadata": {
        "id": "_oWb006sD0ho"
      }
    },
    {
      "cell_type": "code",
      "source": "def count_nucleotides(s):\n    # Initialize counts for each nucleotide\n    count_A = 0\n    count_C = 0\n    count_G = 0\n    count_T = 0\n    \n    # Iterate through the DNA string\n    for nucleotide in s:\n        if nucleotide == 'A':\n            count_A += 1\n        elif nucleotide == 'C':\n            count_C += 1\n        elif nucleotide == 'G':\n            count_G += 1\n        elif nucleotide == 'T':\n            count_T += 1\n    \n    # Return the counts as a formatted string\n    return f\"{count_A} {count_C} {count_G} {count_T}\"\n\n# Example usage:\ndna_string = \"AGCTTTTCATTCTGACTGCAACGGGCAATATGTCTCTGTGTGGATTAAAAAAAGAGTGTCTGATAGCAGC\"\nresult = count_nucleotides(dna_string)\nprint(\"Counts of nucleotides 'A C G T' in the given DNA string:\")\nprint(result)  # Output is 20 12 17 21\n",
      "metadata": {
        "id": "sJgo5dAkEBG3"
      },
      "outputs": [
        {
          "name": "stdout",
          "output_type": "stream",
          "text": [
            "Counts of nucleotides 'A C G T' in the given DNA string:\n",
            "20 12 17 21\n"
          ]
        }
      ],
      "execution_count": 7
    },
    {
      "cell_type": "markdown",
      "source": "#Problem 3\n### Counting Point Mutations\n\n\n\n",
      "metadata": {
        "id": "I7GykgXOoS99"
      }
    },
    {
      "cell_type": "markdown",
      "source": "http://rosalind.info/problems/hamm/\n\nYou may read more about the problem set more here.\n\nGiven two strings s and t of equal length, the Hamming distance between s and t, denoted dH(s,t), is the number of corresponding symbols that differ in s and t. See Figure 2 [link image](http://rosalind.info/media/problems/hamm/Hamming_distance.png)\n\nSample Dataset\n\n```\nGAGCCTACTAACGGGAT\nCATCGTAATGACGGCCT\n```\n\nSample Output\n\n```\n7\n```",
      "metadata": {
        "id": "yhVOCp62EI-M"
      }
    },
    {
      "cell_type": "code",
      "source": "#Problem 3\n#HINT: Define a function that determines how many characters between the string are different\ndef hamming_distance(s, t):\n    # This is a counter used to count number of differing positions\n    count = 0\n    \n    # Iterate through each character in the strings\n    for i in range(len(s)):\n        # Compare characters at each position\n        if s[i] != t[i]:\n            count += 1\n    return count\n\n# Example usage:\ns = \"GAGCCTACTAACGGGAT\"\nt = \"CATCGTAATGACGGCCT\"\nresult = hamming_distance(s, t)\nprint(result)  # Output: 7\n",
      "metadata": {
        "id": "1xBofYBlmacz",
        "trusted": true
      },
      "outputs": [
        {
          "name": "stdout",
          "text": "7\n",
          "output_type": "stream"
        }
      ],
      "execution_count": 6
    },
    {
      "cell_type": "markdown",
      "source": "#Problem 4\n### Finding a Shared Motif\n\n",
      "metadata": {
        "id": "jkVzw31ztE49"
      }
    },
    {
      "cell_type": "markdown",
      "source": "This problem is EXTREMELY HARD. IF you cannot succeed it is OK!\n\nhttp://rosalind.info/problems/lcsm\n\nYou may read more about the problem set more here.\n\nA common substring of a collection of strings is a substring of every member of the collection. We say that a common substring is a longest common substring if there does not exist a longer common substring. For example, \"CG\" is a common substring of \"ACGTACGT\" and \"AACCGTATA\", but it is not as long as possible; in this case, \"CGTA\" is a longest common substring of \"ACGTACGT\" and \"AACCGTATA\".\n\nNote that the longest common substring is not necessarily unique; for a simple example, \"AA\" and \"CC\" are both longest common substrings of \"AACC\" and \"CCAA\".\n\nGiven: A collection of k (k≤100) DNA strings of length at most 1 kbp each in FASTA format.\n\nReturn: A longest common substring of the collection. (If multiple solutions exist, you may return any single solution.)\n\nSample Dataset\n\n```\n>Rosalind_1\nGATTACA\n>Rosalind_2\nTAGACCA\n>Rosalind_3\nATACA\n```\nSample Output\n\n\n```\nAC\n```k\n\n",
      "metadata": {
        "id": "kvRNar0eEOCG"
      }
    },
    {
      "cell_type": "code",
      "source": "# Problem 4\n# We are changing this problem to a longest common substring/sequence\n# Ignore how the DNA is given (treat them as strings)\n\ndef longest_common_substring(sequences):\n    if not sequences:\n        return \"\"\n\n    def is_common_substring(sub):\n        return all(sub in seq for seq in sequences)\n\n    shortest_seq = min(sequences, key=len)\n    max_len = len(shortest_seq)\n    \n    for length in range(max_len, 0, -1):\n        for start in range(max_len - length + 1):\n            substring = shortest_seq[start:start + length]\n            if is_common_substring(substring):\n                return substring\n    return \"\"\n\n# Example usage:\nsequences = [\"ACGTACGT\", \"AACCGTATA\",]\nresult = longest_common_substring(sequences)\nprint(f\"The longest common substring is: {result}\")\n\n",
      "metadata": {
        "id": "1w5LCgR5uUcN",
        "trusted": true
      },
      "outputs": [
        {
          "name": "stdout",
          "text": "The longest common substring is: CGTA\n",
          "output_type": "stream"
        }
      ],
      "execution_count": 10
    },
    {
      "cell_type": "markdown",
      "source": "#Problem 5\n### Transcribing DNA to RNA\n",
      "metadata": {
        "id": "X3G1g5hPvaOR"
      }
    },
    {
      "cell_type": "markdown",
      "source": "http://rosalind.info/problems/rna\n\nYou may read more about the problem set more here.\n\nAn RNA string is a string formed from the alphabet containing 'A', 'C', 'G', and 'U'.\n\nGiven a DNA string t corresponding to a coding strand, its transcribed RNA string u is formed by replacing all occurrences of 'T' in t with 'U' in u.\n\nGiven: A DNA string t having length at most 1000 nt.\n\nReturn: The transcribed RNA string of t.\n\n\nSample Dataset\n\n```\nGATGGAACTTGACTACGTAAATT\n```\nSample Output\n\n\n```\nGAUGGAACUUGACUACGUAAAUU\n```",
      "metadata": {
        "id": "p5t8n15nESrP"
      }
    },
    {
      "cell_type": "code",
      "source": "#Problem 5\ndef transcribe_dna_to_rna(dna):\n    rna = dna.replace('T', 'U')\n    return rna\n\n# Example usage:\ndna_string = \"GATGGAACTTGACTACGTAAATT\"\nrna_string = transcribe_dna_to_rna(dna_string)\nprint(rna_string)",
      "metadata": {
        "id": "6vE5HKiKvvTt",
        "trusted": true
      },
      "outputs": [
        {
          "name": "stdout",
          "text": "GAUGGAACUUGACUACGUAAAUU\n",
          "output_type": "stream"
        }
      ],
      "execution_count": 11
    },
    {
      "cell_type": "markdown",
      "source": "\n\n#Problem 6\n### Complementing a Strand of DNA\n",
      "metadata": {
        "id": "lwc8EwVWxMCH"
      }
    },
    {
      "cell_type": "markdown",
      "source": "http://rosalind.info/problems/revc\n\nIn DNA strings, symbols 'A' and 'T' are complements of each other, as are 'C' and 'G'.\n\nThe reverse complement of a DNA string s is the string sc formed by reversing the symbols of s, then taking the complement of each symbol (e.g., the reverse complement of \"GTCA\" is \"TGAC\").\n\nGiven: A DNA string s of length at most 1000 bp.\n\nReturn: The reverse complement s^c of s.\n\n\nSample Dataset\n\n```\nAAAACCCGGT\n```\nSample Output\n\n\n```\nACCGGGTTTT\n```",
      "metadata": {
        "id": "Bd-ntZCGEVsH"
      }
    },
    {
      "cell_type": "code",
      "source": "def reverse_complement(dna):\n    complement = {'A': 'T', 'T': 'A', 'C': 'G', 'G': 'C'}\n    reverse_dna = dna[::-1]\n    reverse_complement_dna = ''.join(complement[base] for base in reverse_dna)\n    return reverse_complement_dna\n\n# Example usage:\ndna_string = \"AAAACCCGGT\"\nreverse_complement_string = reverse_complement(dna_string)\nprint(reverse_complement_string)\n",
      "metadata": {
        "id": "n1IYUc39EWaa",
        "trusted": true
      },
      "outputs": [
        {
          "name": "stdout",
          "text": "ACCGGGTTTT\n",
          "output_type": "stream"
        }
      ],
      "execution_count": 12
    },
    {
      "cell_type": "markdown",
      "source": "#Problem 7\n### Processing an Input File\n\n\n",
      "metadata": {
        "id": "AT9P_LbXx76k"
      }
    },
    {
      "cell_type": "markdown",
      "source": "1. Download file dnainput.txt\n2. Upload that file to a google drive folder so you know where it is\n3. Run the code box for connecting colab to your google drive it should look like this when it is complete\n\n\n\n```\nGo to this URL in a browser: https://accounts.google.com/o/oauth2/auth?client_id=947318989803-6bn6qk8qdgf4n4g3pfee6491hc0brc4i.apps.googleusercontent.com&redirect_uri=urn%3Aietf%3Awg%3Aoauth%3A2.0%3Aoob&scope=email%20https%3A%2F%2Fwww.googleapis.com%2Fauth%2Fdocs.test%20https%3A%2F%2Fwww.googleapis.com%2Fauth%2Fdrive%20https%3A%2F%2Fwww.googleapis.com%2Fauth%2Fdrive.photos.readonly%20https%3A%2F%2Fwww.googleapis.com%2Fauth%2Fpeopleapi.readonly&response_type=code\n\nEnter your authorization code:\n··········\nMounted at /content/drive\n\n```\n4. Run your code box under that\n\nIn code box 1:\nSet a variable (call it data) open and read the dnainput.txt file.\nPrint your data\n\nIn code box 2:\nWrite a code box... you don't have to define a function. Just write python code that opens dnainput.txt. Then create an output file called dnaoutput.txt. Then in the file dnaoutput.txt write code that slices the first 13 characters off every line in the input file and writes that to the output file. This code should also print the length of the new string.\n\nIn code box 3:\nOpen, read, and print the information in dnaoutput.txt\n\n\n\nSample Output Box 1:\n\n```\nATTCGATTATAAGCTCGATCGATCGATCGATCGATCGATCGATCGATCGATCGATC\nATTCGATTATAAGCACTGATCGATCGATCGATCGATCGATGCTATCGTCGT\nATTCGATTATAAGCATCGATCACGATCTATCGTACGTATGCATATCGATATCGATCGTAGTC\nATTCGATTATAAGCACTATCGATGATCTAGCTACGATCGTAGCTGTA\nATTCGATTATAAGCACTAGCTAGTCTCGATGCATGATCAGCTTAGCTGATGATGCTATGCA\n```\nSample Output Box 2:\n\n```\n42\n37\n48\n33\n47\n```\n\nSample Output Box 3:\n\n```\n\nTCGATCGATCGATCGATCGATCGATCGATCGATCGATCGATC\nACTGATCGATCGATCGATCGATCGATGCTATCGTCGT\nATCGATCACGATCTATCGTACGTATGCATATCGATATCGATCGTAGTC\nACTATCGATGATCTAGCTACGATCGTAGCTGTA\nACTAGCTAGTCTCGATGCATGATCAGCTTAGCTGATGATGCTATGCA\n\n```\n",
      "metadata": {
        "id": "jd7sG1s1Eacx"
      }
    },
    {
      "cell_type": "code",
      "source": "#Code box for connecting colab to google drive\n#ensure code is compatible with both Python 2.7 and 3.5\n#follow the prompts to\nfrom __future__ import print_function, division\nfrom google.colab import drive\ndrive.mount('/content/drive')\n",
      "metadata": {
        "id": "t_OqYQqQ0UpU"
      },
      "outputs": [],
      "execution_count": null
    },
    {
      "cell_type": "code",
      "source": "#Problem 7 Box 1\nwith open('dnainput.txt', 'r') as file:\n    data = file.read()\n\n# Printing the data to confirm that the file is read\nprint(data)",
      "metadata": {
        "id": "eIPSWzZ1wzbu",
        "trusted": true
      },
      "outputs": [
        {
          "name": "stdout",
          "text": "GCTGCTTCTCGTTGTCTGTTTCGCAACCGGCGTTCCGACAGTGACCGCCTATCCTCCTACTATACGGCCTTATAGGTCGTGTTGTGATCTAGCGAGACAAAAGGATTCTCAAGCGGTGGCTGGC\nAACAGCGCGGCACGACCTCAGACTCGACGACTAGCGGTTTGGGCTGAGTTGTTGAGACCACGTGTTTTCTTCCCGCCCAGTAAGGTGGCATTTGGTTTTTACCGTCAACAATTTAGCCCGAAGA\nGGTTGAATAGGAATGCGTAGCCGTTCCCCCGTTGATGACCTTATTTTCGTTCGCTTTTGGTAATAAGCCACCATTCAATTAGGGACTTCATTTCACCCTATCGGCCAATCTTGGGGGAACCTCA\nATCGTCTAACTGATTCTGGGAAGATATGGTAAGACGCATTGAGAAATTCCAAACACGTTTAGGCCCATCTCTAAGGATCGCGCTATTGCGGCAGTAGTACGAGGGTACTTTGACATAGATCTTA\nGTAGCGATTGGAAGGACCCCTACGCAATAAAATCTGCGACAATTAGATACCTACCTTCTATAAAGTCCCCGAGCATAAGAGTCTTAGGACCTGGGCGTGAGTCCCCGAAAAGGCCACGTCTGCC\nATTCATAGACCCACAAGCGCACTGTGTCCGGGGGCGGTATATATGGGAATCCGACGGGTGTGACGTGTGGCGGAAATAACTGAGGCGGCCATATTCATATTAGATTAGATTCCGGGGTGTAGTG\nAATGGGTACCGCAAACAATGAATTGATTATGTGTTGGCCTGTGCAGTTTCATCCGAGCTCACAAAGAGGAGGTCCTTTAATACTTGGCAGACAGGCCGACACAGGTTTGAGCAAAATGCCTATC\nTCCCTTGAAGCGATTTGGGGGAGTCTCGTCGCGCGAGCTTACGTGCAGGACGTGTTTCGCGGTGAGTGCGC\n\n",
          "output_type": "stream"
        }
      ],
      "execution_count": 19
    },
    {
      "cell_type": "code",
      "source": "#Problem 7 Box 2\n# Code Box 2\n# Code Box 2\n# Open dnainput.txt and read its lines\nwith open('dnainput.txt', 'r') as infile:\n    lines = infile.readlines()\n\n# Create an output file called dnaoutput.txt\nwith open('dnaoutput.txt', 'w') as outfile:\n    for line in lines:\n        # Slice the first 13 characters off every line\n        new_line = line[13:]\n        # Write the new line to the output file\n        outfile.write(new_line)\n        # Print the length of the new string\n        print(len(new_line))\n\n\n'''I have used the with as statement as it is easier for me to code and then I believe that it also improves code\nreadability, I have also appended the code, as I have used the concept of lines in my code.'''\n",
      "metadata": {
        "id": "Q0p8y95y4bMY",
        "trusted": true
      },
      "outputs": [
        {
          "name": "stdout",
          "text": "112\n112\n112\n112\n112\n112\n112\n59\n",
          "output_type": "stream"
        },
        {
          "execution_count": 21,
          "output_type": "execute_result",
          "data": {
            "text/plain": "'I have used the with as statement as it is easier for me to code and then I believe that it also improves code\\nreadability, I have also appended the code, as I have used the concept of lines in my code.'"
          },
          "metadata": {}
        }
      ],
      "execution_count": 21
    },
    {
      "cell_type": "code",
      "source": "#Problem 7 Box 3\n# Code Box 3\n# Open and read the dnaoutput.txt file\nwith open('dnaoutput.txt', 'r') as outfile:\n    output_data = outfile.read()\n\n# Print the output data\nprint(output_data)\n\n",
      "metadata": {
        "id": "MSSLMq-J4bWL",
        "trusted": true
      },
      "outputs": [
        {
          "name": "stdout",
          "text": "GTCTGTTTCGCAACCGGCGTTCCGACAGTGACCGCCTATCCTCCTACTATACGGCCTTATAGGTCGTGTTGTGATCTAGCGAGACAAAAGGATTCTCAAGCGGTGGCTGGC\nGACCTCAGACTCGACGACTAGCGGTTTGGGCTGAGTTGTTGAGACCACGTGTTTTCTTCCCGCCCAGTAAGGTGGCATTTGGTTTTTACCGTCAACAATTTAGCCCGAAGA\nTGCGTAGCCGTTCCCCCGTTGATGACCTTATTTTCGTTCGCTTTTGGTAATAAGCCACCATTCAATTAGGGACTTCATTTCACCCTATCGGCCAATCTTGGGGGAACCTCA\nTTCTGGGAAGATATGGTAAGACGCATTGAGAAATTCCAAACACGTTTAGGCCCATCTCTAAGGATCGCGCTATTGCGGCAGTAGTACGAGGGTACTTTGACATAGATCTTA\nGGACCCCTACGCAATAAAATCTGCGACAATTAGATACCTACCTTCTATAAAGTCCCCGAGCATAAGAGTCTTAGGACCTGGGCGTGAGTCCCCGAAAAGGCCACGTCTGCC\nCAAGCGCACTGTGTCCGGGGGCGGTATATATGGGAATCCGACGGGTGTGACGTGTGGCGGAAATAACTGAGGCGGCCATATTCATATTAGATTAGATTCCGGGGTGTAGTG\nAACAATGAATTGATTATGTGTTGGCCTGTGCAGTTTCATCCGAGCTCACAAAGAGGAGGTCCTTTAATACTTGGCAGACAGGCCGACACAGGTTTGAGCAAAATGCCTATC\nTTTGGGGGAGTCTCGTCGCGCGAGCTTACGTGCAGGACGTGTTTCGCGGTGAGTGCGC\nAAAATGCCTATCTCCCTTGAAGCGATTTGGGGGAGTCTCGTCGCGCGAGCTTACGTGCAGGACGTGTTTCGCGGTGAGTGCGC\n\n",
          "output_type": "stream"
        }
      ],
      "execution_count": 22
    },
    {
      "cell_type": "markdown",
      "source": "Problem 7 EXTRA CREDIT\n\nProcess an Input File and Get the AC content of each line\n\n1. Download file dnainput.txt\n2. Upload that file to a google drive folder so you know where it is\n3. Run your code box under that\n\nIn code box 1:\nWrite a code box that (you may use function you have already written to help here) that reads the AC content of each line and prints that information to an outfile.\n",
      "metadata": {
        "id": "lKhiEHHC42fv"
      }
    },
    {
      "cell_type": "code",
      "source": "#Problem 7 Extra Credit\n# Function to calculate AC content as a percentage\ndef get_ac_content(line):\n    total_length = len(line)\n    if total_length == 0:\n        return 0  # Handle empty lines\n    ac_count = line.count('A') + line.count('C')\n    ac_content = (ac_count * 100) // total_length  # Integer division for percentage\n    return ac_content\n\n# Open the input file and create the output file\nwith open('dnainput.txt', 'r') as infile, open('output.txt', 'w') as outfile:\n    for line in infile:\n        line = line.strip()  # Remove extra spaces and newlines\n        ac_content = get_ac_content(line)\n        outfile.write(f\"{ac_content}\\n\")  # Write AC content as an integer percentage\n        print(f\"AC Content: {ac_content}%\")\n",
      "metadata": {
        "id": "pFyR5m8w47O2",
        "trusted": true
      },
      "outputs": [
        {
          "name": "stdout",
          "text": "AC Content: 45%\nAC Content: 47%\nAC Content: 46%\nAC Content: 48%\nAC Content: 56%\nAC Content: 42%\nAC Content: 50%\nAC Content: 36%\n",
          "output_type": "stream"
        }
      ],
      "execution_count": 24
    },
    {
      "cell_type": "code",
      "source": "",
      "metadata": {
        "trusted": true
      },
      "outputs": [],
      "execution_count": null
    }
  ]
}