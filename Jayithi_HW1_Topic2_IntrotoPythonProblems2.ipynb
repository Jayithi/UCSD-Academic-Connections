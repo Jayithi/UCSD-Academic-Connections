{
  "metadata": {
    "kernelspec": {
      "name": "python",
      "display_name": "Python (Pyodide)",
      "language": "python"
    },
    "language_info": {
      "codemirror_mode": {
        "name": "python",
        "version": 3
      },
      "file_extension": ".py",
      "mimetype": "text/x-python",
      "name": "python",
      "nbconvert_exporter": "python",
      "pygments_lexer": "ipython3",
      "version": "3.8"
    },
    "colab": {
      "provenance": []
    }
  },
  "nbformat_minor": 4,
  "nbformat": 4,
  "cells": [
    {
      "cell_type": "markdown",
      "source": "# Welcome to Intro to Python's Homework 1 Topic 1 Jayithi Gavva\n\nHello Students!! I hope this finds you well. I am trying to make these so it is easier for the students to upload and open the questions. It is also slightly easier than the powerpoints. You will be finding many more questions along the way and I hope I don't give you too many. But I believe in you. Good luck.\n",
      "metadata": {
        "id": "q7Nr3tnx5J5P"
      }
    },
    {
      "cell_type": "markdown",
      "source": "I am not able to access the IntroToPythonHW1_Topic2_MoreIntroProblems.ipynb file professor",
      "metadata": {}
    },
    {
      "cell_type": "code",
      "source": "# HW Problem 1 Part 1 Function 1\n# Make a function called silly_case\n# that takes a string  and returns a new string that is the same as the input string\n# but the first letter of each word is in lowercase\n# and all the other letters are uppercase.\n# Please do not use looping!!\ndef silly_case(string):\n      return ' '.join(word[0].lower() + word[1:].upper() for word in string.split())\npoem = \"It matters now how straight the gate, how charged with punishments the scroll. I am the master of my fate: I am the captain of my soul.\"\nx = \"This is a string\"\n\nsilly_case(poem) == \"iT mATTERS nOW hOW sTRAIGHT tHE gATE, hOW cHARGED wITH pUNISHMENTS tHE sCROLL. i aM tHE mASTER oF mY fATE: i aM tHE cAPTAIN oF mY sOUL.\"\nassert silly_case(x) == \"tHIS iS a sTRING\"\nprint(\"HW Problem 1 Function 1 is correct\")\n",
      "metadata": {
        "id": "DzYYZ7xl40d2",
        "trusted": true
      },
      "outputs": [
        {
          "name": "stdout",
          "text": "HW Problem 1 Function 1 is correct\n",
          "output_type": "stream"
        }
      ],
      "execution_count": 9
    },
    {
      "cell_type": "code",
      "source": "# # HW Problem 1 Part 1 Function 2\n\n# # Make a function called dash_stringify\n# # so that is takes a list of words (strings) and returns a string\n# # that contains all the words from the list with ‘-’ in between the words.\n# # No looping!!!\n\n\n\n\ndef dash_stringify(word_list):\n    return '-'.join(word_list)\n\n\nfruits = [\"Orange\", \"Lemon\", \"Lime\", \"Cherry\", \"Peach\", \"Apricot\"]\nnums = [\"1\", \"2\", \"3\"]\n\nprint(dash_stringify(fruits))\nprint(dash_stringify(nums)) \nassert dash_stringify(fruits) == \"Orange-Lemon-Lime-Cherry-Peach-Apricot\"\nassert dash_stringify(nums) == \"1-2-3\"\nprint(\"HW1 Function 2 is correct\")\n",
      "metadata": {
        "id": "Cr1nAses8mzE",
        "trusted": true
      },
      "outputs": [
        {
          "name": "stdout",
          "text": "Orange-Lemon-Lime-Cherry-Peach-Apricot\n1-2-3\nHW1 Function 2 is correct\n",
          "output_type": "stream"
        }
      ],
      "execution_count": 15
    },
    {
      "cell_type": "code",
      "source": "# HW Problem 1 Part 1 Function 3\n\n# This function is also probably a part of you 90 problems.\n\n\n# Make a function called is_perfect_square so that it takes a number as an input and returns True if the\n# given number is a perfect square, or False if it is not.\n# Please do not use looping!!\n\n# A perfect square is an integer number which is the square of an integer. For example 25 (5*5),  49\n# (7*7), and 81 (9*9) are all perfect squares\n\ndef is_perfect_squareno(n):\n    if(n==(n**0.5)**2):\n        return True\n    else:\n        return False\n#It was showing an assertion error so I made another function\ndef is_perfect_square(n):\n    if n < 0:\n        return False\n    return n == int(n**0.5) ** 2\n\n\n\nassert is_perfect_square(81) == True\nassert is_perfect_square(82) == False\nassert is_perfect_square(81) == True\nassert is_perfect_square(83) == False\nassert is_perfect_square(81) == True\nassert is_perfect_square(83) == False\n\nprint(\"HW1 Function 3 is correct\")\n",
      "metadata": {
        "id": "iupiEEWqv-_u",
        "trusted": true
      },
      "outputs": [
        {
          "name": "stdout",
          "text": "HW1 Function 3 is correct\n",
          "output_type": "stream"
        }
      ],
      "execution_count": 11
    },
    {
      "cell_type": "code",
      "source": "# HW Problem 1 Part 1 Function 4\n\n# Make a function called is_leap_year so that it takes a year\n# as a number input and returns True if the given number is a leap year\n# or False if it is not.\n\n\n# Leap years are years that are divisible by 4\n# Exception: Centennial years (years divided by 100) are not leap years\n# Exception to exception: years divisible by 400 are indeed leap years\ndef is_leap_year(year):\n    return (year % 4 == 0 and year % 100 != 0) or (year % 400 == 0)\n\n\nassert is_leap_year(1900) == False\nassert is_leap_year(2000) == True\nassert is_leap_year(2012) == True\nassert is_leap_year(2018) == False\n\nprint(\"HW1 Function 4 is correct\")\n\n\n",
      "metadata": {
        "id": "LkJMQVardWuZ",
        "trusted": true
      },
      "outputs": [
        {
          "name": "stdout",
          "text": "HW1 Function 4 is correct\n",
          "output_type": "stream"
        }
      ],
      "execution_count": 12
    },
    {
      "cell_type": "markdown",
      "source": "Please Copy Any code boxes you complete in",
      "metadata": {
        "id": "T851e4fbBjlu"
      }
    }
  ]
}